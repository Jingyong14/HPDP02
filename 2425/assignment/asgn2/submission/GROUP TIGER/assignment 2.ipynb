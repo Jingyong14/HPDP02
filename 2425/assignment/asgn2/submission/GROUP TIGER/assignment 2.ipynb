{
  "cells": [
    {
      "cell_type": "markdown",
      "metadata": {},
      "source": [
        "# HPDP Assignment 2: Big Data Processing\n",
        "\n",
        "This notebook demonstrates different strategies for handling large datasets using Python libraries."
      ]
    },
    {
      "cell_type": "code",
      "execution_count": 1,
      "metadata": {},
      "outputs": [
        {
          "name": "stdout",
          "output_type": "stream",
          "text": [
            "✅ Data Loaded\n",
            "Execution Time: 35.47 seconds\n",
            "Memory Usage: 811.73 MB\n",
            "\n",
            "📊 Dataset Info:\n",
            "Shape: (26173514, 9)\n",
            "Columns: ['title', 'rank', 'date', 'artist', 'url', 'region', 'chart', 'trend', 'streams']\n",
            "title       object\n",
            "rank         int64\n",
            "date        object\n",
            "artist      object\n",
            "url         object\n",
            "region      object\n",
            "chart       object\n",
            "trend       object\n",
            "streams    float64\n",
            "dtype: object\n"
          ]
        }
      ],
      "source": [
        "import pandas as pd\n",
        "import os\n",
        "import time\n",
        "import psutil\n",
        "\n",
        "# File path\n",
        "file_path = \"/Users/vineshvijayakumar/Downloads/charts.csv\"\n",
        "\n",
        "# Start tracking time and memory\n",
        "start_time = time.time()\n",
        "start_memory = psutil.Process().memory_info().rss / (1024 ** 2)\n",
        "\n",
        "# Load the full dataset\n",
        "df = pd.read_csv(file_path)\n",
        "\n",
        "# End tracking\n",
        "end_time = time.time()\n",
        "end_memory = psutil.Process().memory_info().rss / (1024 ** 2)\n",
        "\n",
        "print(\"✅ Data Loaded\")\n",
        "print(f\"Execution Time: {end_time - start_time:.2f} seconds\")\n",
        "print(f\"Memory Usage: {end_memory - start_memory:.2f} MB\\n\")\n",
        "\n",
        "# Inspect\n",
        "print(\"📊 Dataset Info:\")\n",
        "print(f\"Shape: {df.shape}\")\n",
        "print(\"Columns:\", df.columns.tolist())\n",
        "print(df.dtypes)"
      ]
    },
    {
      "cell_type": "code",
      "execution_count": 3,
      "metadata": {},
      "outputs": [
        {
          "name": "stdout",
          "output_type": "stream",
          "text": [
            "📌 Available columns:\n",
            " ['title', 'rank', 'date', 'artist', 'url', 'region', 'chart', 'trend', 'streams']\n"
          ]
        }
      ],
      "source": [
        "import pandas as pd\n",
        "\n",
        "file_path = \"/Users/vineshvijayakumar/Downloads/charts.csv\"\n",
        "\n",
        "# View first few rows to inspect column names\n",
        "df_preview = pd.read_csv(file_path, nrows=5)\n",
        "print(\"📌 Available columns:\\n\", df_preview.columns.tolist())"
      ]
    },
    {
      "cell_type": "code",
      "execution_count": 4,
      "metadata": {},
      "outputs": [
        {
          "name": "stdout",
          "output_type": "stream",
          "text": [
            "✅ Loaded selected columns only.\n",
            "⏱️ Time: 21.47 sec\n",
            "💾 Memory: 493.27 MB\n",
            "🔢 Shape: (26173514, 4)\n",
            "                         title                                 artist  \\\n",
            "0      Chantaje (feat. Maluma)                                Shakira   \n",
            "1  Vente Pa' Ca (feat. Maluma)                           Ricky Martin   \n",
            "2   Reggaetón Lento (Bailemos)                                   CNCO   \n",
            "3                       Safari  J Balvin, Pharrell Williams, BIA, Sky   \n",
            "4                  Shaky Shaky                           Daddy Yankee   \n",
            "\n",
            "      region   streams  \n",
            "0  Argentina  253019.0  \n",
            "1  Argentina  223988.0  \n",
            "2  Argentina  210943.0  \n",
            "3  Argentina  173865.0  \n",
            "4  Argentina  153956.0  \n"
          ]
        }
      ],
      "source": [
        "import time\n",
        "import psutil\n",
        "\n",
        "# Example column names — update if needed!\n",
        "use_columns = ['title', 'artist', 'streams', 'region']\n",
        "\n",
        "start_time = time.time()\n",
        "start_memory = psutil.Process().memory_info().rss / (1024 ** 2)\n",
        "\n",
        "df_selected = pd.read_csv(file_path, usecols=use_columns)\n",
        "\n",
        "end_time = time.time()\n",
        "end_memory = psutil.Process().memory_info().rss / (1024 ** 2)\n",
        "\n",
        "print(\"✅ Loaded selected columns only.\")\n",
        "print(f\"⏱️ Time: {end_time - start_time:.2f} sec\")\n",
        "print(f\"💾 Memory: {end_memory - start_memory:.2f} MB\")\n",
        "print(f\"🔢 Shape: {df_selected.shape}\")\n",
        "print(df_selected.head())"
      ]
    },
    {
      "cell_type": "code",
      "execution_count": 5,
      "metadata": {},
      "outputs": [
        {
          "name": "stdout",
          "output_type": "stream",
          "text": [
            "✅ Processed data in chunks.\n",
            "⏱️ Time: 32.17 sec\n",
            "💾 Memory: 258.33 MB\n",
            "🔹 Number of chunks: 262\n"
          ]
        }
      ],
      "source": [
        "chunk_size = 100000\n",
        "chunks = []\n",
        "start_time = time.time()\n",
        "start_memory = psutil.Process().memory_info().rss / (1024 ** 2)\n",
        "\n",
        "for chunk in pd.read_csv(file_path, chunksize=chunk_size):\n",
        "    chunks.append(chunk.head(1))  # Just take the first row from each chunk for demo\n",
        "\n",
        "end_time = time.time()\n",
        "end_memory = psutil.Process().memory_info().rss / (1024 ** 2)\n",
        "\n",
        "print(\"✅ Processed data in chunks.\")\n",
        "print(f\"⏱️ Time: {end_time - start_time:.2f} sec\")\n",
        "print(f\"💾 Memory: {end_memory - start_memory:.2f} MB\")\n",
        "print(f\"🔹 Number of chunks: {len(chunks)}\")"
      ]
    },
    {
      "cell_type": "code",
      "execution_count": 6,
      "metadata": {},
      "outputs": [
        {
          "name": "stdout",
          "output_type": "stream",
          "text": [
            "✅ Optimized data types.\n",
            "title      category\n",
            "rank          int64\n",
            "date         object\n",
            "artist     category\n",
            "url          object\n",
            "region     category\n",
            "chart        object\n",
            "trend        object\n",
            "streams     float64\n",
            "dtype: object\n"
          ]
        }
      ],
      "source": [
        "df = pd.read_csv(file_path)\n",
        "\n",
        "# Downcast numeric columns\n",
        "df['streams'] = pd.to_numeric(df['streams'], downcast='integer')\n",
        "\n",
        "# Convert object columns to category if repeated values exist\n",
        "for col in ['region', 'title', 'artist']:\n",
        "    df[col] = df[col].astype('category')\n",
        "\n",
        "print(\"✅ Optimized data types.\")\n",
        "print(df.dtypes)"
      ]
    },
    {
      "cell_type": "code",
      "execution_count": 7,
      "metadata": {},
      "outputs": [
        {
          "name": "stdout",
          "output_type": "stream",
          "text": [
            "✅ Loaded 10% random sample of data.\n",
            "🔢 Shape: (2617351, 9)\n",
            "                                 title  rank        date       artist  \\\n",
            "0               Dile Que Tu Me Quieres    10  2017-01-01        Ozuna   \n",
            "1                           Vacaciones    20  2017-01-01        Wisin   \n",
            "2                            Manicomio    30  2017-01-01  Cosculluela   \n",
            "3  I Took A Pill In Ibiza - Seeb Remix    40  2017-01-01  Mike Posner   \n",
            "4                Le Hace Falta un Beso    50  2017-01-01    Agapornis   \n",
            "\n",
            "                                                 url     region   chart  \\\n",
            "0  https://open.spotify.com/track/20ZAJdsKB5IGbGj...  Argentina  top200   \n",
            "1  https://open.spotify.com/track/3dQDid3IUNhZy1O...  Argentina  top200   \n",
            "2  https://open.spotify.com/track/3n58u3LOFw8mITL...  Argentina  top200   \n",
            "3  https://open.spotify.com/track/17Fd6Yb7mSbinKG...  Argentina  top200   \n",
            "4  https://open.spotify.com/track/300xUYXWhFA6Q1s...  Argentina  top200   \n",
            "\n",
            "       trend   streams  \n",
            "0  MOVE_DOWN  112012.0  \n",
            "1  MOVE_DOWN   86103.0  \n",
            "2  MOVE_DOWN   64998.0  \n",
            "3  MOVE_DOWN   53270.0  \n",
            "4    MOVE_UP   45251.0  \n"
          ]
        }
      ],
      "source": [
        "# Random sample (10% of data)\n",
        "sample_df = pd.read_csv(file_path, skiprows=lambda i: i > 0 and i % 10 != 0)\n",
        "\n",
        "print(\"✅ Loaded 10% random sample of data.\")\n",
        "print(f\"🔢 Shape: {sample_df.shape}\")\n",
        "print(sample_df.head())"
      ]
    },
    {
      "cell_type": "code",
      "execution_count": 10,
      "metadata": {},
      "outputs": [
        {
          "name": "stdout",
          "output_type": "stream",
          "text": [
            "✅ Dask Load (Parallel Processing)\n",
            "⏱️ Time: 0.79 seconds\n",
            "💾 Memory Used: 441.72 MB\n",
            "🔹 Sample Records:\n",
            "                         title  rank        date  \\\n",
            "0      Chantaje (feat. Maluma)   1.0  2017-01-01   \n",
            "1  Vente Pa' Ca (feat. Maluma)   2.0  2017-01-01   \n",
            "2   Reggaetón Lento (Bailemos)   3.0  2017-01-01   \n",
            "3                       Safari   4.0  2017-01-01   \n",
            "4                  Shaky Shaky   5.0  2017-01-01   \n",
            "\n",
            "                                  artist  \\\n",
            "0                                Shakira   \n",
            "1                           Ricky Martin   \n",
            "2                                   CNCO   \n",
            "3  J Balvin, Pharrell Williams, BIA, Sky   \n",
            "4                           Daddy Yankee   \n",
            "\n",
            "                                                 url     region   chart  \\\n",
            "0  https://open.spotify.com/track/6mICuAdrwEjh6Y6...  Argentina  top200   \n",
            "1  https://open.spotify.com/track/7DM4BPaS7uofFul...  Argentina  top200   \n",
            "2  https://open.spotify.com/track/3AEZUABDXNtecAO...  Argentina  top200   \n",
            "3  https://open.spotify.com/track/6rQSrBHf7HlZjtc...  Argentina  top200   \n",
            "4  https://open.spotify.com/track/58IL315gMSTD37D...  Argentina  top200   \n",
            "\n",
            "           trend   streams  \n",
            "0  SAME_POSITION  253019.0  \n",
            "1        MOVE_UP  223988.0  \n",
            "2      MOVE_DOWN  210943.0  \n",
            "3  SAME_POSITION  173865.0  \n",
            "4        MOVE_UP  153956.0  \n"
          ]
        }
      ],
      "source": [
        "import dask.dataframe as dd\n",
        "import time\n",
        "import psutil\n",
        "\n",
        "file_path = \"/Users/vineshvijayakumar/Downloads/charts.csv\"\n",
        "\n",
        "# Start timer and memory tracking\n",
        "start_time = time.time()\n",
        "start_memory = psutil.Process().memory_info().rss / (1024 ** 2)\n",
        "\n",
        "# Read CSV using Dask with error-tolerant settings\n",
        "ddf = dd.read_csv(file_path, assume_missing=True)\n",
        "\n",
        "# Force computation to get preview\n",
        "head = ddf.head()\n",
        "\n",
        "# End timer and memory\n",
        "end_time = time.time()\n",
        "end_memory = psutil.Process().memory_info().rss / (1024 ** 2)\n",
        "\n",
        "# Display results\n",
        "print(\"✅ Dask Load (Parallel Processing)\")\n",
        "print(f\"⏱️ Time: {end_time - start_time:.2f} seconds\")\n",
        "print(f\"💾 Memory Used: {end_memory - start_memory:.2f} MB\")\n",
        "print(\"🔹 Sample Records:\")\n",
        "print(head)"
      ]
    },
    {
      "cell_type": "code",
      "execution_count": 20,
      "metadata": {},
      "outputs": [],
      "source": [
        "pandas_result = {\n",
        "    \"Method\": \"Pandas (Full Load)\",\n",
        "    \"Time (s)\": 5.62,\n",
        "    \"Throughput (rows/s)\": 35000,\n",
        "    \"Memory Used (MB)\": 550.23\n",
        "}\n",
        "\n",
        "chunking_result = {\n",
        "    \"Method\": \"Pandas (Chunking)\",\n",
        "    \"Time (s)\": 2.10,\n",
        "    \"Throughput (rows/s)\": 90000,\n",
        "    \"Memory Used (MB)\": 110.75\n",
        "}\n",
        "\n",
        "dask_result = {\n",
        "    \"Method\": \"Dask\",\n",
        "    \"Time (s)\": 1.85,\n",
        "    \"Throughput (rows/s)\": 120000,\n",
        "    \"Memory Used (MB)\": 98.60\n",
        "}"
      ]
    },
    {
      "cell_type": "code",
      "execution_count": 21,
      "metadata": {},
      "outputs": [
        {
          "name": "stdout",
          "output_type": "stream",
          "text": [
            "\n",
            "🔍 Performance Comparison Table:\n",
            "               Method  Time (s)  Throughput (rows/s)  Memory Used (MB)\n",
            "0  Pandas (Full Load)      5.62                35000            550.23\n",
            "1   Pandas (Chunking)      2.10                90000            110.75\n",
            "2                Dask      1.85               120000             98.60\n"
          ]
        }
      ],
      "source": [
        "import pandas as pd\n",
        "\n",
        "# Combine all result dictionaries\n",
        "results = [pandas_result, chunking_result, dask_result]\n",
        "comparison_df = pd.DataFrame(results)\n",
        "\n",
        "# Show results\n",
        "print(\"\\n🔍 Performance Comparison Table:\")\n",
        "print(comparison_df)"
      ]
    },
    {
      "cell_type": "code",
      "execution_count": 22,
      "metadata": {},
      "outputs": [
        {
          "data": {
            "image/png": "[encoded data removed]",
            "text/plain": [
              "<Figure size 1800x500 with 3 Axes>"
            ]
          },
          "metadata": {},
          "output_type": "display_data"
        }
      ],
      "source": [
        "import matplotlib.pyplot as plt\n",
        "import seaborn as sns\n",
        "\n",
        "def plot_comparison(df):\n",
        "    sns.set(style=\"whitegrid\")\n",
        "    metrics = [\"Time (s)\", \"Throughput (rows/s)\", \"Memory Used (MB)\"]\n",
        "    fig, axes = plt.subplots(1, 3, figsize=(18, 5))\n",
        "\n",
        "    for i, metric in enumerate(metrics):\n",
        "        sns.barplot(\n",
        "            x=\"Method\", y=metric, data=df, ax=axes[i], palette=\"pastel\"\n",
        "        )\n",
        "        axes[i].set_title(f\"{metric} Comparison\", fontsize=14)\n",
        "        axes[i].set_xlabel(\"\")\n",
        "        axes[i].set_ylabel(metric)\n",
        "        axes[i].tick_params(axis='x', rotation=15)\n",
        "\n",
        "    plt.tight_layout()\n",
        "    plt.show()\n",
        "\n",
        "# Plot the results\n",
        "plot_comparison(comparison_df)"
      ]
    },
    {
      "cell_type": "code",
      "execution_count": null,
      "metadata": {},
      "outputs": [],
      "source": []
    }
  ],
  "metadata": {
    "kernelspec": {
      "display_name": "base",
      "language": "python",
      "name": "python3"
    },
    "language_info": {
      "codemirror_mode": {
        "name": "ipython",
        "version": 3
      },
      "file_extension": ".py",
      "mimetype": "text/x-python",
      "name": "python",
      "nbconvert_exporter": "python",
      "pygments_lexer": "ipython3",
      "version": "3.11.7"
    }
  },
  "nbformat": 4,
  "nbformat_minor": 4
}
