{
  "cells": [
    {
      "cell_type": "markdown",
      "source": [
        "**CONFIGURATION**"
      ],
      "metadata": {
        "id": "RZC5A6o2rUY5"
      }
    },
    {
      "cell_type": "code",
      "execution_count": 1,
      "metadata": {
        "colab": {
          "base_uri": "https://localhost:8080/"
        },
        "id": "Du6nWroBQCQT",
        "outputId": "b9f0f85b-e51c-4851-cb90-12981bff11b6"
      },
      "outputs": [
        {
          "output_type": "stream",
          "name": "stdout",
          "text": [
            "Requirement already satisfied: dask in /usr/local/lib/python3.11/dist-packages (2024.12.1)\n",
            "Requirement already satisfied: polars in /usr/local/lib/python3.11/dist-packages (1.21.0)\n",
            "Collecting memory-profiler\n",
            "  Downloading memory_profiler-0.61.0-py3-none-any.whl.metadata (20 kB)\n",
            "Requirement already satisfied: click>=8.1 in /usr/local/lib/python3.11/dist-packages (from dask) (8.2.1)\n",
            "Requirement already satisfied: cloudpickle>=3.0.0 in /usr/local/lib/python3.11/dist-packages (from dask) (3.1.1)\n",
            "Requirement already satisfied: fsspec>=2021.09.0 in /usr/local/lib/python3.11/dist-packages (from dask) (2025.3.2)\n",
            "Requirement already satisfied: packaging>=20.0 in /usr/local/lib/python3.11/dist-packages (from dask) (24.2)\n",
            "Requirement already satisfied: partd>=1.4.0 in /usr/local/lib/python3.11/dist-packages (from dask) (1.4.2)\n",
            "Requirement already satisfied: pyyaml>=5.3.1 in /usr/local/lib/python3.11/dist-packages (from dask) (6.0.2)\n",
            "Requirement already satisfied: toolz>=0.10.0 in /usr/local/lib/python3.11/dist-packages (from dask) (0.12.1)\n",
            "Requirement already satisfied: importlib_metadata>=4.13.0 in /usr/local/lib/python3.11/dist-packages (from dask) (8.7.0)\n",
            "Requirement already satisfied: psutil in /usr/local/lib/python3.11/dist-packages (from memory-profiler) (5.9.5)\n",
            "Requirement already satisfied: zipp>=3.20 in /usr/local/lib/python3.11/dist-packages (from importlib_metadata>=4.13.0->dask) (3.21.0)\n",
            "Requirement already satisfied: locket in /usr/local/lib/python3.11/dist-packages (from partd>=1.4.0->dask) (1.0.0)\n",
            "Downloading memory_profiler-0.61.0-py3-none-any.whl (31 kB)\n",
            "Installing collected packages: memory-profiler\n",
            "Successfully installed memory-profiler-0.61.0\n"
          ]
        }
      ],
      "source": [
        "!pip install dask polars memory-profiler"
      ]
    },
    {
      "cell_type": "code",
      "source": [
        "import pandas as pd\n",
        "import dask.dataframe as dd\n",
        "import polars as pl\n",
        "import time\n",
        "import psutil\n",
        "import os\n",
        "import matplotlib.pyplot as plt"
      ],
      "metadata": {
        "id": "eZvafByYlOQi"
      },
      "execution_count": 1,
      "outputs": []
    },
    {
      "cell_type": "code",
      "execution_count": 3,
      "metadata": {
        "colab": {
          "base_uri": "https://localhost:8080/",
          "height": 90
        },
        "id": "w2zNme_UVoPN",
        "outputId": "e1aacf07-a839-41cd-e6e0-03335ed1f3a5"
      },
      "outputs": [
        {
          "output_type": "display_data",
          "data": {
            "text/plain": [
              "<IPython.core.display.HTML object>"
            ],
            "text/html": [
              "\n",
              "     <input type=\"file\" id=\"files-5ac0be28-f8e4-41ac-ab0b-2b05902dd279\" name=\"files[]\" multiple disabled\n",
              "        style=\"border:none\" />\n",
              "     <output id=\"result-5ac0be28-f8e4-41ac-ab0b-2b05902dd279\">\n",
              "      Upload widget is only available when the cell has been executed in the\n",
              "      current browser session. Please rerun this cell to enable.\n",
              "      </output>\n",
              "      <script>// Copyright 2017 Google LLC\n",
              "//\n",
              "// Licensed under the Apache License, Version 2.0 (the \"License\");\n",
              "// you may not use this file except in compliance with the License.\n",
              "// You may obtain a copy of the License at\n",
              "//\n",
              "//      http://www.apache.org/licenses/LICENSE-2.0\n",
              "//\n",
              "// Unless required by applicable law or agreed to in writing, software\n",
              "// distributed under the License is distributed on an \"AS IS\" BASIS,\n",
              "// WITHOUT WARRANTIES OR CONDITIONS OF ANY KIND, either express or implied.\n",
              "// See the License for the specific language governing permissions and\n",
              "// limitations under the License.\n",
              "\n",
              "/**\n",
              " * @fileoverview Helpers for google.colab Python module.\n",
              " */\n",
              "(function(scope) {\n",
              "function span(text, styleAttributes = {}) {\n",
              "  const element = document.createElement('span');\n",
              "  element.textContent = text;\n",
              "  for (const key of Object.keys(styleAttributes)) {\n",
              "    element.style[key] = styleAttributes[key];\n",
              "  }\n",
              "  return element;\n",
              "}\n",
              "\n",
              "// Max number of bytes which will be uploaded at a time.\n",
              "const MAX_PAYLOAD_SIZE = 100 * 1024;\n",
              "\n",
              "function _uploadFiles(inputId, outputId) {\n",
              "  const steps = uploadFilesStep(inputId, outputId);\n",
              "  const outputElement = document.getElementById(outputId);\n",
              "  // Cache steps on the outputElement to make it available for the next call\n",
              "  // to uploadFilesContinue from Python.\n",
              "  outputElement.steps = steps;\n",
              "\n",
              "  return _uploadFilesContinue(outputId);\n",
              "}\n",
              "\n",
              "// This is roughly an async generator (not supported in the browser yet),\n",
              "// where there are multiple asynchronous steps and the Python side is going\n",
              "// to poll for completion of each step.\n",
              "// This uses a Promise to block the python side on completion of each step,\n",
              "// then passes the result of the previous step as the input to the next step.\n",
              "function _uploadFilesContinue(outputId) {\n",
              "  const outputElement = document.getElementById(outputId);\n",
              "  const steps = outputElement.steps;\n",
              "\n",
              "  const next = steps.next(outputElement.lastPromiseValue);\n",
              "  return Promise.resolve(next.value.promise).then((value) => {\n",
              "    // Cache the last promise value to make it available to the next\n",
              "    // step of the generator.\n",
              "    outputElement.lastPromiseValue = value;\n",
              "    return next.value.response;\n",
              "  });\n",
              "}\n",
              "\n",
              "/**\n",
              " * Generator function which is called between each async step of the upload\n",
              " * process.\n",
              " * @param {string} inputId Element ID of the input file picker element.\n",
              " * @param {string} outputId Element ID of the output display.\n",
              " * @return {!Iterable<!Object>} Iterable of next steps.\n",
              " */\n",
              "function* uploadFilesStep(inputId, outputId) {\n",
              "  const inputElement = document.getElementById(inputId);\n",
              "  inputElement.disabled = false;\n",
              "\n",
              "  const outputElement = document.getElementById(outputId);\n",
              "  outputElement.innerHTML = '';\n",
              "\n",
              "  const pickedPromise = new Promise((resolve) => {\n",
              "    inputElement.addEventListener('change', (e) => {\n",
              "      resolve(e.target.files);\n",
              "    });\n",
              "  });\n",
              "\n",
              "  const cancel = document.createElement('button');\n",
              "  inputElement.parentElement.appendChild(cancel);\n",
              "  cancel.textContent = 'Cancel upload';\n",
              "  const cancelPromise = new Promise((resolve) => {\n",
              "    cancel.onclick = () => {\n",
              "      resolve(null);\n",
              "    };\n",
              "  });\n",
              "\n",
              "  // Wait for the user to pick the files.\n",
              "  const files = yield {\n",
              "    promise: Promise.race([pickedPromise, cancelPromise]),\n",
              "    response: {\n",
              "      action: 'starting',\n",
              "    }\n",
              "  };\n",
              "\n",
              "  cancel.remove();\n",
              "\n",
              "  // Disable the input element since further picks are not allowed.\n",
              "  inputElement.disabled = true;\n",
              "\n",
              "  if (!files) {\n",
              "    return {\n",
              "      response: {\n",
              "        action: 'complete',\n",
              "      }\n",
              "    };\n",
              "  }\n",
              "\n",
              "  for (const file of files) {\n",
              "    const li = document.createElement('li');\n",
              "    li.append(span(file.name, {fontWeight: 'bold'}));\n",
              "    li.append(span(\n",
              "        `(${file.type || 'n/a'}) - ${file.size} bytes, ` +\n",
              "        `last modified: ${\n",
              "            file.lastModifiedDate ? file.lastModifiedDate.toLocaleDateString() :\n",
              "                                    'n/a'} - `));\n",
              "    const percent = span('0% done');\n",
              "    li.appendChild(percent);\n",
              "\n",
              "    outputElement.appendChild(li);\n",
              "\n",
              "    const fileDataPromise = new Promise((resolve) => {\n",
              "      const reader = new FileReader();\n",
              "      reader.onload = (e) => {\n",
              "        resolve(e.target.result);\n",
              "      };\n",
              "      reader.readAsArrayBuffer(file);\n",
              "    });\n",
              "    // Wait for the data to be ready.\n",
              "    let fileData = yield {\n",
              "      promise: fileDataPromise,\n",
              "      response: {\n",
              "        action: 'continue',\n",
              "      }\n",
              "    };\n",
              "\n",
              "    // Use a chunked sending to avoid message size limits. See b/62115660.\n",
              "    let position = 0;\n",
              "    do {\n",
              "      const length = Math.min(fileData.byteLength - position, MAX_PAYLOAD_SIZE);\n",
              "      const chunk = new Uint8Array(fileData, position, length);\n",
              "      position += length;\n",
              "\n",
              "      const base64 = btoa(String.fromCharCode.apply(null, chunk));\n",
              "      yield {\n",
              "        response: {\n",
              "          action: 'append',\n",
              "          file: file.name,\n",
              "          data: base64,\n",
              "        },\n",
              "      };\n",
              "\n",
              "      let percentDone = fileData.byteLength === 0 ?\n",
              "          100 :\n",
              "          Math.round((position / fileData.byteLength) * 100);\n",
              "      percent.textContent = `${percentDone}% done`;\n",
              "\n",
              "    } while (position < fileData.byteLength);\n",
              "  }\n",
              "\n",
              "  // All done.\n",
              "  yield {\n",
              "    response: {\n",
              "      action: 'complete',\n",
              "    }\n",
              "  };\n",
              "}\n",
              "\n",
              "scope.google = scope.google || {};\n",
              "scope.google.colab = scope.google.colab || {};\n",
              "scope.google.colab._files = {\n",
              "  _uploadFiles,\n",
              "  _uploadFilesContinue,\n",
              "};\n",
              "})(self);\n",
              "</script> "
            ]
          },
          "metadata": {}
        },
        {
          "output_type": "stream",
          "name": "stdout",
          "text": [
            "Saving kaggle.json to kaggle.json\n"
          ]
        },
        {
          "output_type": "execute_result",
          "data": {
            "text/plain": [
              "{'kaggle.json': b'{\"username\":\"luqunited\",\"key\":\"0d88fb511e0d66f36313f721a4975163\"}'}"
            ]
          },
          "metadata": {},
          "execution_count": 3
        }
      ],
      "source": [
        "# Step 1: Install necessary packages and authenticate Kaggle API\n",
        "from google.colab import files\n",
        "files.upload()  # Upload kaggle.json (your Kaggle API key)"
      ]
    },
    {
      "cell_type": "markdown",
      "source": [
        "**TASK 1 - DOWNLOAD THE DATASET**"
      ],
      "metadata": {
        "id": "h_ScIpNbreMQ"
      }
    },
    {
      "cell_type": "code",
      "execution_count": 4,
      "metadata": {
        "colab": {
          "base_uri": "https://localhost:8080/"
        },
        "id": "Od74szfOQJ9K",
        "outputId": "d8134232-126d-47b4-a3d2-61b2f7c9a86a"
      },
      "outputs": [
        {
          "output_type": "stream",
          "name": "stdout",
          "text": [
            "Dataset URL: https://www.kaggle.com/datasets/elemento/nyc-yellow-taxi-trip-data\n",
            "License(s): U.S. Government Works\n",
            "Downloading nyc-yellow-taxi-trip-data.zip to /content\n",
            " 99% 1.77G/1.78G [00:12<00:00, 124MB/s]\n",
            "100% 1.78G/1.78G [00:12<00:00, 153MB/s]\n"
          ]
        }
      ],
      "source": [
        "import os\n",
        "\n",
        "# Setup for Kaggle API\n",
        "os.makedirs(\"/root/.kaggle\", exist_ok=True)\n",
        "os.system(\"cp kaggle.json /root/.kaggle/\")\n",
        "os.system(\"chmod 600 /root/.kaggle/kaggle.json\")\n",
        "\n",
        "# Download dataset\n",
        "!kaggle datasets download -d elemento/nyc-yellow-taxi-trip-data\n",
        "!unzip -q nyc-yellow-taxi-trip-data.zip"
      ]
    },
    {
      "cell_type": "markdown",
      "source": [
        "**COMBINE THE DATASET**"
      ],
      "metadata": {
        "id": "WzNiHXbYrpPx"
      }
    },
    {
      "cell_type": "code",
      "execution_count": 5,
      "metadata": {
        "colab": {
          "base_uri": "https://localhost:8080/",
          "height": 226
        },
        "id": "LmwyvA9yyQ9Q",
        "outputId": "2d84c18b-a078-411b-dc78-6e1e0d3370d4"
      },
      "outputs": [
        {
          "output_type": "execute_result",
          "data": {
            "text/plain": [
              "   VendorID tpep_pickup_datetime tpep_dropoff_datetime  passenger_count  \\\n",
              "0         2  2015-01-15 19:05:39   2015-01-15 19:23:42                1   \n",
              "1         1  2015-01-10 20:33:38   2015-01-10 20:53:28                1   \n",
              "2         1  2015-01-10 20:33:38   2015-01-10 20:43:41                1   \n",
              "3         1  2015-01-10 20:33:39   2015-01-10 20:35:31                1   \n",
              "4         1  2015-01-10 20:33:39   2015-01-10 20:52:58                1   \n",
              "\n",
              "   trip_distance  pickup_longitude  pickup_latitude  RateCodeID  \\\n",
              "0           1.59        -73.993896        40.750111           1   \n",
              "1           3.30        -74.001648        40.724243           1   \n",
              "2           1.80        -73.963341        40.802788           1   \n",
              "3           0.50        -74.009087        40.713818           1   \n",
              "4           3.00        -73.971176        40.762428           1   \n",
              "\n",
              "  store_and_fwd_flag  dropoff_longitude  dropoff_latitude  payment_type  \\\n",
              "0                  N         -73.974785         40.750618             1   \n",
              "1                  N         -73.994415         40.759109             1   \n",
              "2                  N         -73.951820         40.824413             2   \n",
              "3                  N         -74.004326         40.719986             2   \n",
              "4                  N         -74.004181         40.742653             2   \n",
              "\n",
              "   fare_amount  extra  mta_tax  tip_amount  tolls_amount  \\\n",
              "0         12.0    1.0      0.5        3.25           0.0   \n",
              "1         14.5    0.5      0.5        2.00           0.0   \n",
              "2          9.5    0.5      0.5        0.00           0.0   \n",
              "3          3.5    0.5      0.5        0.00           0.0   \n",
              "4         15.0    0.5      0.5        0.00           0.0   \n",
              "\n",
              "   improvement_surcharge  total_amount  \n",
              "0                    0.3         17.05  \n",
              "1                    0.3         17.80  \n",
              "2                    0.3         10.80  \n",
              "3                    0.3          4.80  \n",
              "4                    0.3         16.30  "
            ],
            "text/html": [
              "\n",
              "  <div id=\"df-3e053a31-4f49-4037-9c45-8520ff731d23\" class=\"colab-df-container\">\n",
              "    <div>\n",
              "<style scoped>\n",
              "    .dataframe tbody tr th:only-of-type {\n",
              "        vertical-align: middle;\n",
              "    }\n",
              "\n",
              "    .dataframe tbody tr th {\n",
              "        vertical-align: top;\n",
              "    }\n",
              "\n",
              "    .dataframe thead th {\n",
              "        text-align: right;\n",
              "    }\n",
              "</style>\n",
              "<table border=\"1\" class=\"dataframe\">\n",
              "  <thead>\n",
              "    <tr style=\"text-align: right;\">\n",
              "      <th></th>\n",
              "      <th>VendorID</th>\n",
              "      <th>tpep_pickup_datetime</th>\n",
              "      <th>tpep_dropoff_datetime</th>\n",
              "      <th>passenger_count</th>\n",
              "      <th>trip_distance</th>\n",
              "      <th>pickup_longitude</th>\n",
              "      <th>pickup_latitude</th>\n",
              "      <th>RateCodeID</th>\n",
              "      <th>store_and_fwd_flag</th>\n",
              "      <th>dropoff_longitude</th>\n",
              "      <th>dropoff_latitude</th>\n",
              "      <th>payment_type</th>\n",
              "      <th>fare_amount</th>\n",
              "      <th>extra</th>\n",
              "      <th>mta_tax</th>\n",
              "      <th>tip_amount</th>\n",
              "      <th>tolls_amount</th>\n",
              "      <th>improvement_surcharge</th>\n",
              "      <th>total_amount</th>\n",
              "    </tr>\n",
              "  </thead>\n",
              "  <tbody>\n",
              "    <tr>\n",
              "      <th>0</th>\n",
              "      <td>2</td>\n",
              "      <td>2015-01-15 19:05:39</td>\n",
              "      <td>2015-01-15 19:23:42</td>\n",
              "      <td>1</td>\n",
              "      <td>1.59</td>\n",
              "      <td>-73.993896</td>\n",
              "      <td>40.750111</td>\n",
              "      <td>1</td>\n",
              "      <td>N</td>\n",
              "      <td>-73.974785</td>\n",
              "      <td>40.750618</td>\n",
              "      <td>1</td>\n",
              "      <td>12.0</td>\n",
              "      <td>1.0</td>\n",
              "      <td>0.5</td>\n",
              "      <td>3.25</td>\n",
              "      <td>0.0</td>\n",
              "      <td>0.3</td>\n",
              "      <td>17.05</td>\n",
              "    </tr>\n",
              "    <tr>\n",
              "      <th>1</th>\n",
              "      <td>1</td>\n",
              "      <td>2015-01-10 20:33:38</td>\n",
              "      <td>2015-01-10 20:53:28</td>\n",
              "      <td>1</td>\n",
              "      <td>3.30</td>\n",
              "      <td>-74.001648</td>\n",
              "      <td>40.724243</td>\n",
              "      <td>1</td>\n",
              "      <td>N</td>\n",
              "      <td>-73.994415</td>\n",
              "      <td>40.759109</td>\n",
              "      <td>1</td>\n",
              "      <td>14.5</td>\n",
              "      <td>0.5</td>\n",
              "      <td>0.5</td>\n",
              "      <td>2.00</td>\n",
              "      <td>0.0</td>\n",
              "      <td>0.3</td>\n",
              "      <td>17.80</td>\n",
              "    </tr>\n",
              "    <tr>\n",
              "      <th>2</th>\n",
              "      <td>1</td>\n",
              "      <td>2015-01-10 20:33:38</td>\n",
              "      <td>2015-01-10 20:43:41</td>\n",
              "      <td>1</td>\n",
              "      <td>1.80</td>\n",
              "      <td>-73.963341</td>\n",
              "      <td>40.802788</td>\n",
              "      <td>1</td>\n",
              "      <td>N</td>\n",
              "      <td>-73.951820</td>\n",
              "      <td>40.824413</td>\n",
              "      <td>2</td>\n",
              "      <td>9.5</td>\n",
              "      <td>0.5</td>\n",
              "      <td>0.5</td>\n",
              "      <td>0.00</td>\n",
              "      <td>0.0</td>\n",
              "      <td>0.3</td>\n",
              "      <td>10.80</td>\n",
              "    </tr>\n",
              "    <tr>\n",
              "      <th>3</th>\n",
              "      <td>1</td>\n",
              "      <td>2015-01-10 20:33:39</td>\n",
              "      <td>2015-01-10 20:35:31</td>\n",
              "      <td>1</td>\n",
              "      <td>0.50</td>\n",
              "      <td>-74.009087</td>\n",
              "      <td>40.713818</td>\n",
              "      <td>1</td>\n",
              "      <td>N</td>\n",
              "      <td>-74.004326</td>\n",
              "      <td>40.719986</td>\n",
              "      <td>2</td>\n",
              "      <td>3.5</td>\n",
              "      <td>0.5</td>\n",
              "      <td>0.5</td>\n",
              "      <td>0.00</td>\n",
              "      <td>0.0</td>\n",
              "      <td>0.3</td>\n",
              "      <td>4.80</td>\n",
              "    </tr>\n",
              "    <tr>\n",
              "      <th>4</th>\n",
              "      <td>1</td>\n",
              "      <td>2015-01-10 20:33:39</td>\n",
              "      <td>2015-01-10 20:52:58</td>\n",
              "      <td>1</td>\n",
              "      <td>3.00</td>\n",
              "      <td>-73.971176</td>\n",
              "      <td>40.762428</td>\n",
              "      <td>1</td>\n",
              "      <td>N</td>\n",
              "      <td>-74.004181</td>\n",
              "      <td>40.742653</td>\n",
              "      <td>2</td>\n",
              "      <td>15.0</td>\n",
              "      <td>0.5</td>\n",
              "      <td>0.5</td>\n",
              "      <td>0.00</td>\n",
              "      <td>0.0</td>\n",
              "      <td>0.3</td>\n",
              "      <td>16.30</td>\n",
              "    </tr>\n",
              "  </tbody>\n",
              "</table>\n",
              "</div>\n",
              "    <div class=\"colab-df-buttons\">\n",
              "\n",
              "  <div class=\"colab-df-container\">\n",
              "    <button class=\"colab-df-convert\" onclick=\"convertToInteractive('df-3e053a31-4f49-4037-9c45-8520ff731d23')\"\n",
              "            title=\"Convert this dataframe to an interactive table.\"\n",
              "            style=\"display:none;\">\n",
              "\n",
              "  <svg xmlns=\"http://www.w3.org/2000/svg\" height=\"24px\" viewBox=\"0 -960 960 960\">\n",
              "    <path d=\"M120-120v-720h720v720H120Zm60-500h600v-160H180v160Zm220 220h160v-160H400v160Zm0 220h160v-160H400v160ZM180-400h160v-160H180v160Zm440 0h160v-160H620v160ZM180-180h160v-160H180v160Zm440 0h160v-160H620v160Z\"/>\n",
              "  </svg>\n",
              "    </button>\n",
              "\n",
              "  <style>\n",
              "    .colab-df-container {\n",
              "      display:flex;\n",
              "      gap: 12px;\n",
              "    }\n",
              "\n",
              "    .colab-df-convert {\n",
              "      background-color: #E8F0FE;\n",
              "      border: none;\n",
              "      border-radius: 50%;\n",
              "      cursor: pointer;\n",
              "      display: none;\n",
              "      fill: #1967D2;\n",
              "      height: 32px;\n",
              "      padding: 0 0 0 0;\n",
              "      width: 32px;\n",
              "    }\n",
              "\n",
              "    .colab-df-convert:hover {\n",
              "      background-color: #E2EBFA;\n",
              "      box-shadow: 0px 1px 2px rgba(60, 64, 67, 0.3), 0px 1px 3px 1px rgba(60, 64, 67, 0.15);\n",
              "      fill: #174EA6;\n",
              "    }\n",
              "\n",
              "    .colab-df-buttons div {\n",
              "      margin-bottom: 4px;\n",
              "    }\n",
              "\n",
              "    [theme=dark] .colab-df-convert {\n",
              "      background-color: #3B4455;\n",
              "      fill: #D2E3FC;\n",
              "    }\n",
              "\n",
              "    [theme=dark] .colab-df-convert:hover {\n",
              "      background-color: #434B5C;\n",
              "      box-shadow: 0px 1px 3px 1px rgba(0, 0, 0, 0.15);\n",
              "      filter: drop-shadow(0px 1px 2px rgba(0, 0, 0, 0.3));\n",
              "      fill: #FFFFFF;\n",
              "    }\n",
              "  </style>\n",
              "\n",
              "    <script>\n",
              "      const buttonEl =\n",
              "        document.querySelector('#df-3e053a31-4f49-4037-9c45-8520ff731d23 button.colab-df-convert');\n",
              "      buttonEl.style.display =\n",
              "        google.colab.kernel.accessAllowed ? 'block' : 'none';\n",
              "\n",
              "      async function convertToInteractive(key) {\n",
              "        const element = document.querySelector('#df-3e053a31-4f49-4037-9c45-8520ff731d23');\n",
              "        const dataTable =\n",
              "          await google.colab.kernel.invokeFunction('convertToInteractive',\n",
              "                                                    [key], {});\n",
              "        if (!dataTable) return;\n",
              "\n",
              "        const docLinkHtml = 'Like what you see? Visit the ' +\n",
              "          '<a target=\"_blank\" href=https://colab.research.google.com/notebooks/data_table.ipynb>data table notebook</a>'\n",
              "          + ' to learn more about interactive tables.';\n",
              "        element.innerHTML = '';\n",
              "        dataTable['output_type'] = 'display_data';\n",
              "        await google.colab.output.renderOutput(dataTable, element);\n",
              "        const docLink = document.createElement('div');\n",
              "        docLink.innerHTML = docLinkHtml;\n",
              "        element.appendChild(docLink);\n",
              "      }\n",
              "    </script>\n",
              "  </div>\n",
              "\n",
              "\n",
              "    <div id=\"df-cb078383-92a3-4955-bbec-8caf9f6d6f12\">\n",
              "      <button class=\"colab-df-quickchart\" onclick=\"quickchart('df-cb078383-92a3-4955-bbec-8caf9f6d6f12')\"\n",
              "                title=\"Suggest charts\"\n",
              "                style=\"display:none;\">\n",
              "\n",
              "<svg xmlns=\"http://www.w3.org/2000/svg\" height=\"24px\"viewBox=\"0 0 24 24\"\n",
              "     width=\"24px\">\n",
              "    <g>\n",
              "        <path d=\"M19 3H5c-1.1 0-2 .9-2 2v14c0 1.1.9 2 2 2h14c1.1 0 2-.9 2-2V5c0-1.1-.9-2-2-2zM9 17H7v-7h2v7zm4 0h-2V7h2v10zm4 0h-2v-4h2v4z\"/>\n",
              "    </g>\n",
              "</svg>\n",
              "      </button>\n",
              "\n",
              "<style>\n",
              "  .colab-df-quickchart {\n",
              "      --bg-color: #E8F0FE;\n",
              "      --fill-color: #1967D2;\n",
              "      --hover-bg-color: #E2EBFA;\n",
              "      --hover-fill-color: #174EA6;\n",
              "      --disabled-fill-color: #AAA;\n",
              "      --disabled-bg-color: #DDD;\n",
              "  }\n",
              "\n",
              "  [theme=dark] .colab-df-quickchart {\n",
              "      --bg-color: #3B4455;\n",
              "      --fill-color: #D2E3FC;\n",
              "      --hover-bg-color: #434B5C;\n",
              "      --hover-fill-color: #FFFFFF;\n",
              "      --disabled-bg-color: #3B4455;\n",
              "      --disabled-fill-color: #666;\n",
              "  }\n",
              "\n",
              "  .colab-df-quickchart {\n",
              "    background-color: var(--bg-color);\n",
              "    border: none;\n",
              "    border-radius: 50%;\n",
              "    cursor: pointer;\n",
              "    display: none;\n",
              "    fill: var(--fill-color);\n",
              "    height: 32px;\n",
              "    padding: 0;\n",
              "    width: 32px;\n",
              "  }\n",
              "\n",
              "  .colab-df-quickchart:hover {\n",
              "    background-color: var(--hover-bg-color);\n",
              "    box-shadow: 0 1px 2px rgba(60, 64, 67, 0.3), 0 1px 3px 1px rgba(60, 64, 67, 0.15);\n",
              "    fill: var(--button-hover-fill-color);\n",
              "  }\n",
              "\n",
              "  .colab-df-quickchart-complete:disabled,\n",
              "  .colab-df-quickchart-complete:disabled:hover {\n",
              "    background-color: var(--disabled-bg-color);\n",
              "    fill: var(--disabled-fill-color);\n",
              "    box-shadow: none;\n",
              "  }\n",
              "\n",
              "  .colab-df-spinner {\n",
              "    border: 2px solid var(--fill-color);\n",
              "    border-color: transparent;\n",
              "    border-bottom-color: var(--fill-color);\n",
              "    animation:\n",
              "      spin 1s steps(1) infinite;\n",
              "  }\n",
              "\n",
              "  @keyframes spin {\n",
              "    0% {\n",
              "      border-color: transparent;\n",
              "      border-bottom-color: var(--fill-color);\n",
              "      border-left-color: var(--fill-color);\n",
              "    }\n",
              "    20% {\n",
              "      border-color: transparent;\n",
              "      border-left-color: var(--fill-color);\n",
              "      border-top-color: var(--fill-color);\n",
              "    }\n",
              "    30% {\n",
              "      border-color: transparent;\n",
              "      border-left-color: var(--fill-color);\n",
              "      border-top-color: var(--fill-color);\n",
              "      border-right-color: var(--fill-color);\n",
              "    }\n",
              "    40% {\n",
              "      border-color: transparent;\n",
              "      border-right-color: var(--fill-color);\n",
              "      border-top-color: var(--fill-color);\n",
              "    }\n",
              "    60% {\n",
              "      border-color: transparent;\n",
              "      border-right-color: var(--fill-color);\n",
              "    }\n",
              "    80% {\n",
              "      border-color: transparent;\n",
              "      border-right-color: var(--fill-color);\n",
              "      border-bottom-color: var(--fill-color);\n",
              "    }\n",
              "    90% {\n",
              "      border-color: transparent;\n",
              "      border-bottom-color: var(--fill-color);\n",
              "    }\n",
              "  }\n",
              "</style>\n",
              "\n",
              "      <script>\n",
              "        async function quickchart(key) {\n",
              "          const quickchartButtonEl =\n",
              "            document.querySelector('#' + key + ' button');\n",
              "          quickchartButtonEl.disabled = true;  // To prevent multiple clicks.\n",
              "          quickchartButtonEl.classList.add('colab-df-spinner');\n",
              "          try {\n",
              "            const charts = await google.colab.kernel.invokeFunction(\n",
              "                'suggestCharts', [key], {});\n",
              "          } catch (error) {\n",
              "            console.error('Error during call to suggestCharts:', error);\n",
              "          }\n",
              "          quickchartButtonEl.classList.remove('colab-df-spinner');\n",
              "          quickchartButtonEl.classList.add('colab-df-quickchart-complete');\n",
              "        }\n",
              "        (() => {\n",
              "          let quickchartButtonEl =\n",
              "            document.querySelector('#df-cb078383-92a3-4955-bbec-8caf9f6d6f12 button');\n",
              "          quickchartButtonEl.style.display =\n",
              "            google.colab.kernel.accessAllowed ? 'block' : 'none';\n",
              "        })();\n",
              "      </script>\n",
              "    </div>\n",
              "\n",
              "    </div>\n",
              "  </div>\n"
            ],
            "application/vnd.google.colaboratory.intrinsic+json": {
              "type": "dataframe",
              "summary": "{\n  \"name\": \"ddf_combined\",\n  \"rows\": 5,\n  \"fields\": [\n    {\n      \"column\": \"VendorID\",\n      \"properties\": {\n        \"dtype\": \"number\",\n        \"std\": 0,\n        \"min\": 1,\n        \"max\": 2,\n        \"num_unique_values\": 2,\n        \"samples\": [\n          1,\n          2\n        ],\n        \"semantic_type\": \"\",\n        \"description\": \"\"\n      }\n    },\n    {\n      \"column\": \"tpep_pickup_datetime\",\n      \"properties\": {\n        \"dtype\": \"string\",\n        \"num_unique_values\": 3,\n        \"samples\": [\n          \"2015-01-15 19:05:39\",\n          \"2015-01-10 20:33:38\"\n        ],\n        \"semantic_type\": \"\",\n        \"description\": \"\"\n      }\n    },\n    {\n      \"column\": \"tpep_dropoff_datetime\",\n      \"properties\": {\n        \"dtype\": \"string\",\n        \"num_unique_values\": 5,\n        \"samples\": [\n          \"2015-01-10 20:53:28\",\n          \"2015-01-10 20:52:58\"\n        ],\n        \"semantic_type\": \"\",\n        \"description\": \"\"\n      }\n    },\n    {\n      \"column\": \"passenger_count\",\n      \"properties\": {\n        \"dtype\": \"number\",\n        \"std\": 0,\n        \"min\": 1,\n        \"max\": 1,\n        \"num_unique_values\": 1,\n        \"samples\": [\n          1\n        ],\n        \"semantic_type\": \"\",\n        \"description\": \"\"\n      }\n    },\n    {\n      \"column\": \"trip_distance\",\n      \"properties\": {\n        \"dtype\": \"number\",\n        \"std\": 1.1336754385625543,\n        \"min\": 0.5,\n        \"max\": 3.3,\n        \"num_unique_values\": 5,\n        \"samples\": [\n          3.3\n        ],\n        \"semantic_type\": \"\",\n        \"description\": \"\"\n      }\n    },\n    {\n      \"column\": \"pickup_longitude\",\n      \"properties\": {\n        \"dtype\": \"number\",\n        \"std\": 0.019727234280122616,\n        \"min\": -74.00908660888672,\n        \"max\": -73.96334075927734,\n        \"num_unique_values\": 5,\n        \"samples\": [\n          -74.00164794921875\n        ],\n        \"semantic_type\": \"\",\n        \"description\": \"\"\n      }\n    },\n    {\n      \"column\": \"pickup_latitude\",\n      \"properties\": {\n        \"dtype\": \"number\",\n        \"std\": 0.035040370401673626,\n        \"min\": 40.71381759643555,\n        \"max\": 40.80278778076172,\n        \"num_unique_values\": 5,\n        \"samples\": [\n          40.7242431640625\n        ],\n        \"semantic_type\": \"\",\n        \"description\": \"\"\n      }\n    },\n    {\n      \"column\": \"RateCodeID\",\n      \"properties\": {\n        \"dtype\": \"number\",\n        \"std\": 0,\n        \"min\": 1,\n        \"max\": 1,\n        \"num_unique_values\": 1,\n        \"samples\": [\n          1\n        ],\n        \"semantic_type\": \"\",\n        \"description\": \"\"\n      }\n    },\n    {\n      \"column\": \"store_and_fwd_flag\",\n      \"properties\": {\n        \"dtype\": \"string\",\n        \"num_unique_values\": 1,\n        \"samples\": [\n          \"N\"\n        ],\n        \"semantic_type\": \"\",\n        \"description\": \"\"\n      }\n    },\n    {\n      \"column\": \"dropoff_longitude\",\n      \"properties\": {\n        \"dtype\": \"number\",\n        \"std\": 0.022534315738084197,\n        \"min\": -74.00432586669923,\n        \"max\": -73.95182037353516,\n        \"num_unique_values\": 5,\n        \"samples\": [\n          -73.99441528320312\n        ],\n        \"semantic_type\": \"\",\n        \"description\": \"\"\n      }\n    },\n    {\n      \"column\": \"dropoff_latitude\",\n      \"properties\": {\n        \"dtype\": \"number\",\n        \"std\": 0.039172246701898276,\n        \"min\": 40.71998596191406,\n        \"max\": 40.824413299560554,\n        \"num_unique_values\": 5,\n        \"samples\": [\n          40.75910949707031\n        ],\n        \"semantic_type\": \"\",\n        \"description\": \"\"\n      }\n    },\n    {\n      \"column\": \"payment_type\",\n      \"properties\": {\n        \"dtype\": \"number\",\n        \"std\": 0,\n        \"min\": 1,\n        \"max\": 2,\n        \"num_unique_values\": 2,\n        \"samples\": [\n          2\n        ],\n        \"semantic_type\": \"\",\n        \"description\": \"\"\n      }\n    },\n    {\n      \"column\": \"fare_amount\",\n      \"properties\": {\n        \"dtype\": \"number\",\n        \"std\": 4.682413907377263,\n        \"min\": 3.5,\n        \"max\": 15.0,\n        \"num_unique_values\": 5,\n        \"samples\": [\n          14.5\n        ],\n        \"semantic_type\": \"\",\n        \"description\": \"\"\n      }\n    },\n    {\n      \"column\": \"extra\",\n      \"properties\": {\n        \"dtype\": \"number\",\n        \"std\": 0.22360679774997902,\n        \"min\": 0.5,\n        \"max\": 1.0,\n        \"num_unique_values\": 2,\n        \"samples\": [\n          0.5\n        ],\n        \"semantic_type\": \"\",\n        \"description\": \"\"\n      }\n    },\n    {\n      \"column\": \"mta_tax\",\n      \"properties\": {\n        \"dtype\": \"number\",\n        \"std\": 0.0,\n        \"min\": 0.5,\n        \"max\": 0.5,\n        \"num_unique_values\": 1,\n        \"samples\": [\n          0.5\n        ],\n        \"semantic_type\": \"\",\n        \"description\": \"\"\n      }\n    },\n    {\n      \"column\": \"tip_amount\",\n      \"properties\": {\n        \"dtype\": \"number\",\n        \"std\": 1.5041608956491324,\n        \"min\": 0.0,\n        \"max\": 3.25,\n        \"num_unique_values\": 3,\n        \"samples\": [\n          3.25\n        ],\n        \"semantic_type\": \"\",\n        \"description\": \"\"\n      }\n    },\n    {\n      \"column\": \"tolls_amount\",\n      \"properties\": {\n        \"dtype\": \"number\",\n        \"std\": 0.0,\n        \"min\": 0.0,\n        \"max\": 0.0,\n        \"num_unique_values\": 1,\n        \"samples\": [\n          0.0\n        ],\n        \"semantic_type\": \"\",\n        \"description\": \"\"\n      }\n    },\n    {\n      \"column\": \"improvement_surcharge\",\n      \"properties\": {\n        \"dtype\": \"number\",\n        \"std\": 0.0,\n        \"min\": 0.3,\n        \"max\": 0.3,\n        \"num_unique_values\": 1,\n        \"samples\": [\n          0.3\n        ],\n        \"semantic_type\": \"\",\n        \"description\": \"\"\n      }\n    },\n    {\n      \"column\": \"total_amount\",\n      \"properties\": {\n        \"dtype\": \"number\",\n        \"std\": 5.5181518645285585,\n        \"min\": 4.8,\n        \"max\": 17.8,\n        \"num_unique_values\": 5,\n        \"samples\": [\n          17.8\n        ],\n        \"semantic_type\": \"\",\n        \"description\": \"\"\n      }\n    }\n  ]\n}"
            }
          },
          "metadata": {},
          "execution_count": 5
        }
      ],
      "source": [
        "import dask.dataframe as dd\n",
        "\n",
        "# List all exact file names\n",
        "file_list = [\n",
        "    \"yellow_tripdata_2015-01.csv\",\n",
        "    \"yellow_tripdata_2016-01.csv\",\n",
        "    \"yellow_tripdata_2016-02.csv\",\n",
        "    \"yellow_tripdata_2016-03.csv\"\n",
        "]\n",
        "\n",
        "# Read all into Dask DataFrame\n",
        "ddf_combined = dd.read_csv(file_list)\n",
        "\n",
        "# (Optional) Save combined output as single CSV\n",
        "ddf_combined.to_csv(\"combined_yellow_tripdata.csv\", single_file=True, index=False)\n",
        "\n",
        "# Preview\n",
        "ddf_combined.head()"
      ]
    },
    {
      "cell_type": "markdown",
      "source": [
        "**TASK 2 - LOAD AND INSPECT DATA**"
      ],
      "metadata": {
        "id": "3zYKEu4xrt2C"
      }
    },
    {
      "cell_type": "code",
      "execution_count": null,
      "metadata": {
        "colab": {
          "base_uri": "https://localhost:8080/"
        },
        "id": "75mQQrQxQSmE",
        "outputId": "c054fc45-e769-4949-f260-60ec631a9c99"
      },
      "outputs": [
        {
          "output_type": "stream",
          "name": "stdout",
          "text": [
            "Shape: (500000, 19)\n",
            "Columns: ['VendorID', 'tpep_pickup_datetime', 'tpep_dropoff_datetime', 'passenger_count', 'trip_distance', 'pickup_longitude', 'pickup_latitude', 'RateCodeID', 'store_and_fwd_flag', 'dropoff_longitude', 'dropoff_latitude', 'payment_type', 'fare_amount', 'extra', 'mta_tax', 'tip_amount', 'tolls_amount', 'improvement_surcharge', 'total_amount']\n",
            "Data Types:\n",
            " VendorID                   int64\n",
            "tpep_pickup_datetime      object\n",
            "tpep_dropoff_datetime     object\n",
            "passenger_count            int64\n",
            "trip_distance            float64\n",
            "pickup_longitude         float64\n",
            "pickup_latitude          float64\n",
            "RateCodeID                 int64\n",
            "store_and_fwd_flag        object\n",
            "dropoff_longitude        float64\n",
            "dropoff_latitude         float64\n",
            "payment_type               int64\n",
            "fare_amount              float64\n",
            "extra                    float64\n",
            "mta_tax                  float64\n",
            "tip_amount               float64\n",
            "tolls_amount             float64\n",
            "improvement_surcharge    float64\n",
            "total_amount             float64\n",
            "dtype: object\n"
          ]
        }
      ],
      "source": [
        "import pandas as pd\n",
        "\n",
        "df = pd.read_csv(\"combined_yellow_tripdata.csv\", nrows=500000)  # Initial sample\n",
        "print(\"Shape:\", df.shape)\n",
        "print(\"Columns:\", df.columns.tolist())\n",
        "print(\"Data Types:\\n\", df.dtypes)"
      ]
    },
    {
      "cell_type": "markdown",
      "source": [
        "**TASK 3.1 - LOAD LESS DATA**"
      ],
      "metadata": {
        "id": "tzMZQHqar1TS"
      }
    },
    {
      "cell_type": "code",
      "execution_count": null,
      "metadata": {
        "colab": {
          "base_uri": "https://localhost:8080/"
        },
        "id": "m4DVDQnLQ9SX",
        "outputId": "11f1298e-9828-4f15-c381-f69eef76aad9"
      },
      "outputs": [
        {
          "output_type": "stream",
          "name": "stdout",
          "text": [
            "  tpep_pickup_datetime tpep_dropoff_datetime  passenger_count  trip_distance  \\\n",
            "0  2015-01-15 19:05:39   2015-01-15 19:23:42                1           1.59   \n",
            "1  2015-01-10 20:33:38   2015-01-10 20:53:28                1           3.30   \n",
            "2  2015-01-10 20:33:38   2015-01-10 20:43:41                1           1.80   \n",
            "3  2015-01-10 20:33:39   2015-01-10 20:35:31                1           0.50   \n",
            "4  2015-01-10 20:33:39   2015-01-10 20:52:58                1           3.00   \n",
            "\n",
            "   fare_amount  \n",
            "0         12.0  \n",
            "1         14.5  \n",
            "2          9.5  \n",
            "3          3.5  \n",
            "4         15.0  \n"
          ]
        }
      ],
      "source": [
        "use_cols = ['tpep_pickup_datetime', 'tpep_dropoff_datetime', 'passenger_count', 'trip_distance', 'fare_amount']\n",
        "filtered_df = pd.read_csv(\"combined_yellow_tripdata.csv\", usecols=use_cols, nrows=100000)\n",
        "print(filtered_df.head())"
      ]
    },
    {
      "cell_type": "markdown",
      "source": [
        "**TASK 3.2 - CHUNKING**"
      ],
      "metadata": {
        "id": "WjRfUsA7r5oz"
      }
    },
    {
      "cell_type": "code",
      "execution_count": null,
      "metadata": {
        "colab": {
          "base_uri": "https://localhost:8080/"
        },
        "id": "SHTkohlGQ_Rd",
        "outputId": "23e40670-edfe-46d3-eb62-ba920b8fb495"
      },
      "outputs": [
        {
          "output_type": "stream",
          "name": "stdout",
          "text": [
            "  tpep_pickup_datetime tpep_dropoff_datetime  passenger_count  trip_distance\n",
            "0  2015-01-15 19:05:39   2015-01-15 19:23:42                1           1.59\n",
            "1  2015-01-10 20:33:38   2015-01-10 20:53:28                1           3.30\n",
            "2  2015-01-10 20:33:38   2015-01-10 20:43:41                1           1.80\n",
            "3  2015-01-10 20:33:39   2015-01-10 20:35:31                1           0.50\n",
            "4  2015-01-10 20:33:39   2015-01-10 20:52:58                1           3.00\n"
          ]
        }
      ],
      "source": [
        "chunks = pd.read_csv(\"combined_yellow_tripdata.csv\", chunksize=100000, usecols=use_cols)\n",
        "chunk_list = [chunk for chunk in chunks]\n",
        "print(chunk_list[0].head())"
      ]
    },
    {
      "cell_type": "markdown",
      "source": [
        "**TASK 3.3 - OPTIMIZE DATA TYPES**"
      ],
      "metadata": {
        "id": "r8eY48VLr9Uq"
      }
    },
    {
      "cell_type": "code",
      "execution_count": null,
      "metadata": {
        "colab": {
          "base_uri": "https://localhost:8080/"
        },
        "id": "fDA3ap0HRBUo",
        "outputId": "b8bcc073-7fa7-481c-c9dc-d80f13431b1d"
      },
      "outputs": [
        {
          "output_type": "stream",
          "name": "stdout",
          "text": [
            "VendorID                   int64\n",
            "tpep_pickup_datetime      object\n",
            "tpep_dropoff_datetime     object\n",
            "passenger_count            uint8\n",
            "trip_distance            float32\n",
            "pickup_longitude         float64\n",
            "pickup_latitude          float64\n",
            "RateCodeID                 int64\n",
            "store_and_fwd_flag        object\n",
            "dropoff_longitude        float64\n",
            "dropoff_latitude         float64\n",
            "payment_type               int64\n",
            "fare_amount              float32\n",
            "extra                    float64\n",
            "mta_tax                  float64\n",
            "tip_amount               float64\n",
            "tolls_amount             float64\n",
            "improvement_surcharge    float64\n",
            "total_amount             float64\n",
            "dtype: object\n"
          ]
        }
      ],
      "source": [
        "df_opt = df.copy()\n",
        "df_opt['passenger_count'] = df_opt['passenger_count'].astype('uint8')\n",
        "df_opt['trip_distance'] = df_opt['trip_distance'].astype('float32')\n",
        "df_opt['fare_amount'] = df_opt['fare_amount'].astype('float32')\n",
        "print(df_opt.dtypes)"
      ]
    },
    {
      "cell_type": "markdown",
      "source": [
        "**TASK 3.4 - SAMPLING**"
      ],
      "metadata": {
        "id": "QlntskxDsrj5"
      }
    },
    {
      "cell_type": "code",
      "execution_count": null,
      "metadata": {
        "colab": {
          "base_uri": "https://localhost:8080/"
        },
        "id": "SvMG84vcRDgT",
        "outputId": "13bf33f5-37b3-4568-b1d1-d78355c9f0c1"
      },
      "outputs": [
        {
          "output_type": "stream",
          "name": "stdout",
          "text": [
            "(50000, 19)\n"
          ]
        }
      ],
      "source": [
        "sample_df = df.sample(frac=0.1, random_state=1)\n",
        "print(sample_df.shape)"
      ]
    },
    {
      "cell_type": "markdown",
      "source": [
        "**TASK 3.5 - PARALLEL PROCESSING WITH DASK**"
      ],
      "metadata": {
        "id": "7U8y_IbJsvyz"
      }
    },
    {
      "cell_type": "code",
      "execution_count": null,
      "metadata": {
        "colab": {
          "base_uri": "https://localhost:8080/"
        },
        "id": "QiQZQriIRHLH",
        "outputId": "cae35468-42c3-4e48-96ad-b0ea983ef7c9"
      },
      "outputs": [
        {
          "output_type": "stream",
          "name": "stdout",
          "text": [
            "  tpep_pickup_datetime tpep_dropoff_datetime  passenger_count  trip_distance  \\\n",
            "0  2015-01-15 19:05:39   2015-01-15 19:23:42                1           1.59   \n",
            "1  2015-01-10 20:33:38   2015-01-10 20:53:28                1           3.30   \n",
            "2  2015-01-10 20:33:38   2015-01-10 20:43:41                1           1.80   \n",
            "3  2015-01-10 20:33:39   2015-01-10 20:35:31                1           0.50   \n",
            "4  2015-01-10 20:33:39   2015-01-10 20:52:58                1           3.00   \n",
            "\n",
            "   fare_amount  \n",
            "0         12.0  \n",
            "1         14.5  \n",
            "2          9.5  \n",
            "3          3.5  \n",
            "4         15.0  \n"
          ]
        }
      ],
      "source": [
        "import dask.dataframe as dd\n",
        "dask_df = dd.read_csv(\"combined_yellow_tripdata.csv\", usecols=use_cols, blocksize=\"25MB\")\n",
        "print(dask_df.head())"
      ]
    },
    {
      "cell_type": "markdown",
      "source": [
        "**TASK 4 - COMPARATIVE ANALYSIS**"
      ],
      "metadata": {
        "id": "aelGYloms5Q-"
      }
    },
    {
      "cell_type": "code",
      "execution_count": 2,
      "metadata": {
        "id": "6lg6ddcKnXLU"
      },
      "outputs": [],
      "source": [
        "import time\n",
        "import psutil\n",
        "import matplotlib.pyplot as plt\n",
        "import seaborn as sns\n",
        "\n",
        "def measure_perf(label, func):\n",
        "    process = psutil.Process()\n",
        "    start_mem = process.memory_info().rss / 1e6\n",
        "    start_time = time.time()\n",
        "    result = func()\n",
        "    end_time = time.time()\n",
        "    end_mem = process.memory_info().rss / 1e6\n",
        "    return {\n",
        "        'Method': label,\n",
        "        'Time (s)': round(end_time - start_time, 2),\n",
        "        'Memory (MB)': round(end_mem - start_mem, 2)\n",
        "    }\n",
        "\n",
        "results = []"
      ]
    },
    {
      "cell_type": "code",
      "source": [
        "results.append(measure_perf(\"Pandas\", lambda: pd.read_csv(\"combined_yellow_tripdata.csv\")))"
      ],
      "metadata": {
        "id": "qlfRBB0WARgd"
      },
      "execution_count": null,
      "outputs": []
    },
    {
      "cell_type": "code",
      "source": [
        "results.append(measure_perf(\"Polars\", lambda: pl.read_csv(\"combined_yellow_tripdata.csv\")))"
      ],
      "metadata": {
        "id": "2ntXlUCiAU69"
      },
      "execution_count": 3,
      "outputs": []
    },
    {
      "cell_type": "code",
      "source": [
        "results.append(measure_perf(\"Dask\", lambda: dd.read_csv(\"combined_yellow_tripdata.csv\", blocksize=\"25MB\")))"
      ],
      "metadata": {
        "id": "losWFgFPAW1S"
      },
      "execution_count": 4,
      "outputs": []
    },
    {
      "cell_type": "code",
      "source": [
        "perf_df = pd.DataFrame(results)"
      ],
      "metadata": {
        "id": "zj3TqRU2AYVu"
      },
      "execution_count": 5,
      "outputs": []
    },
    {
      "cell_type": "code",
      "execution_count": 6,
      "metadata": {
        "colab": {
          "base_uri": "https://localhost:8080/",
          "height": 659
        },
        "id": "WN8LkYNAoa2_",
        "outputId": "ca5051e4-cc2b-468b-c3ce-b9a4c12c44fc"
      },
      "outputs": [
        {
          "output_type": "stream",
          "name": "stdout",
          "text": [
            "   Method  Time (s)  Memory (MB)\n",
            "0  Polars     65.19     10118.38\n",
            "1    Dask      0.39       -56.74\n"
          ]
        },
        {
          "output_type": "display_data",
          "data": {
            "text/plain": [
              "<Figure size 1000x600 with 1 Axes>"
            ],
            "image/png": "[encoded data removed]"
          },
          "metadata": {}
        }
      ],
      "source": [
        "import matplotlib.pyplot as plt\n",
        "\n",
        "# Display performance table\n",
        "print(perf_df)\n",
        "\n",
        "# Bar chart\n",
        "fig, ax1 = plt.subplots(figsize=(10, 6))\n",
        "perf_df.set_index(\"Method\")[[\"Time (s)\", \"Memory (MB)\"]].plot(kind='bar', ax=ax1)\n",
        "plt.title(\"Performance Comparison: Pandas vs Polars vs Dask\")\n",
        "plt.ylabel(\"Value\")\n",
        "plt.xticks(rotation=0)\n",
        "plt.grid(True)\n",
        "plt.tight_layout()\n",
        "plt.show()"
      ]
    }
  ],
  "metadata": {
    "colab": {
      "provenance": []
    },
    "kernelspec": {
      "display_name": "Python 3",
      "name": "python3"
    },
    "language_info": {
      "name": "python"
    }
  },
  "nbformat": 4,
  "nbformat_minor": 0
}
