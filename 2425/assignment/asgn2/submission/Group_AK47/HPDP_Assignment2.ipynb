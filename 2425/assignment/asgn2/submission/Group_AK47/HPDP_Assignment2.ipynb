{
 "cells": [
  {
   "cell_type": "markdown",
   "id": "da2f538d",
   "metadata": {},
   "source": [
    "## **Group Members:**\n",
    "| Name                    | Matric Number |\n",
    "|-------------------------|---------------|\n",
    "| **GOH JING YANG** | A22EC0052     |\n",
    "| **LOO JIA CHANG**           | A22EC0074     | **bold text**"
   ]
  },
  {
   "cell_type": "markdown",
   "id": "1bd6d1d5",
   "metadata": {},
   "source": [
    "## Pandas"
   ]
  },
  {
   "cell_type": "code",
   "execution_count": 1,
   "id": "34ff066a",
   "metadata": {},
   "outputs": [
    {
     "name": "stdout",
     "output_type": "stream",
     "text": [
      "Defaulting to user installation because normal site-packages is not writeable\n",
      "Requirement already satisfied: pandas in c:\\programdata\\anaconda3\\lib\\site-packages (2.2.2)\n",
      "Requirement already satisfied: numpy>=1.26.0 in c:\\programdata\\anaconda3\\lib\\site-packages (from pandas) (1.26.4)\n",
      "Requirement already satisfied: python-dateutil>=2.8.2 in c:\\users\\honor\\appdata\\roaming\\python\\python312\\site-packages (from pandas) (2.9.0.post0)\n",
      "Requirement already satisfied: pytz>=2020.1 in c:\\programdata\\anaconda3\\lib\\site-packages (from pandas) (2024.1)\n",
      "Requirement already satisfied: tzdata>=2022.7 in c:\\programdata\\anaconda3\\lib\\site-packages (from pandas) (2023.3)\n",
      "Requirement already satisfied: six>=1.5 in c:\\users\\honor\\appdata\\roaming\\python\\python312\\site-packages (from python-dateutil>=2.8.2->pandas) (1.16.0)\n"
     ]
    }
   ],
   "source": [
    "#  Install Pandas (if not already installed)\n",
    "!pip install pandas\n"
   ]
  },
  {
   "cell_type": "code",
   "execution_count": 17,
   "id": "757ad25f",
   "metadata": {},
   "outputs": [
    {
     "name": "stdout",
     "output_type": "stream",
     "text": [
      " Dataset Shape: (7483766, 24)\n",
      " Column Names: ['transaction_id', 'customer_id', 'card_number', 'timestamp', 'merchant_category', 'merchant_type', 'merchant', 'amount', 'currency', 'country', 'city', 'city_size', 'card_type', 'card_present', 'device', 'channel', 'device_fingerprint', 'ip_address', 'distance_from_home', 'high_risk_merchant', 'transaction_hour', 'weekend_transaction', 'velocity_last_hour', 'is_fraud']\n",
      "\n",
      " Data Types:\n",
      " transaction_id          object\n",
      "customer_id             object\n",
      "card_number              int64\n",
      "timestamp               object\n",
      "merchant_category       object\n",
      "merchant_type           object\n",
      "merchant                object\n",
      "amount                 float64\n",
      "currency                object\n",
      "country                 object\n",
      "city                    object\n",
      "city_size               object\n",
      "card_type               object\n",
      "card_present              bool\n",
      "device                  object\n",
      "channel                 object\n",
      "device_fingerprint      object\n",
      "ip_address              object\n",
      "distance_from_home       int64\n",
      "high_risk_merchant        bool\n",
      "transaction_hour         int64\n",
      "weekend_transaction       bool\n",
      "velocity_last_hour      object\n",
      "is_fraud                  bool\n",
      "dtype: object\n"
     ]
    }
   ],
   "source": [
    "#  Import libraries\n",
    "import pandas as pd\n",
    "import time\n",
    "import psutil\n",
    "import os\n",
    "\n",
    "# Get process for memory tracking\n",
    "process = psutil.Process(os.getpid())\n",
    "mem_before = 0\n",
    "mem_before = process.memory_info().rss / 1024 ** 2\n",
    "start_time = time.time()\n",
    "\n",
    "\n",
    "#  STEP 1: Load Full Dataset (Unoptimized)\n",
    "df_pd = pd.read_csv(\"Transactions.csv\", low_memory=False)\n",
    "\n",
    "#  STEP 2: Inspect the Dataset Structure\n",
    "print(\" Dataset Shape:\", df_pd.shape)\n",
    "print(\" Column Names:\", df_pd.columns.tolist())\n",
    "print(\"\\n Data Types:\\n\", df_pd.dtypes)\n",
    "\n",
    "#  STEP 3: Basic Data Cleaning (No Optimization Applied)\n",
    "df_pd = df_pd.drop_duplicates()\n",
    "df_pd = df_pd.dropna()\n",
    "\n",
    "# Record memory usage after processing\n",
    "mem_after =0\n",
    "mem_after = process.memory_info().rss / 1024 ** 2\n",
    "# Record end time for execution measurement\n",
    "end_time = time.time()\n"
   ]
  },
  {
   "cell_type": "code",
   "execution_count": 7,
   "id": "1cf532e3",
   "metadata": {},
   "outputs": [
    {
     "name": "stdout",
     "output_type": "stream",
     "text": [
      "\n",
      " Data Preview:\n",
      "   transaction_id customer_id       card_number  \\\n",
      "0    TX_a0ad2a2a  CUST_72886  6646734767813109   \n",
      "1    TX_3599c101  CUST_70474   376800864692727   \n",
      "2    TX_a9461c6d  CUST_10715  5251909460951913   \n",
      "3    TX_7be21fc4  CUST_16193   376079286931183   \n",
      "4    TX_150f490b  CUST_87572  6172948052178810   \n",
      "\n",
      "                          timestamp merchant_category merchant_type  \\\n",
      "0  2024-09-30 00:00:01.034820+00:00        Restaurant     fast_food   \n",
      "1  2024-09-30 00:00:01.764464+00:00     Entertainment        gaming   \n",
      "2  2024-09-30 00:00:02.273762+00:00           Grocery      physical   \n",
      "3  2024-09-30 00:00:02.297466+00:00               Gas         major   \n",
      "4  2024-09-30 00:00:02.544063+00:00        Healthcare       medical   \n",
      "\n",
      "         merchant     amount currency    country  ...   device channel  \\\n",
      "0       Taco Bell     294.87      GBP         UK  ...  iOS App  mobile   \n",
      "1           Steam    3368.97      BRL     Brazil  ...     Edge     web   \n",
      "2     Whole Foods  102582.38      JPY      Japan  ...  Firefox     web   \n",
      "3           Exxon     630.60      AUD  Australia  ...  iOS App  mobile   \n",
      "4  Medical Center  724949.27      NGN    Nigeria  ...   Chrome     web   \n",
      "\n",
      "                 device_fingerprint       ip_address distance_from_home  \\\n",
      "0  e8e6160445c935fd0001501e4cbac8bc   197.153.60.199                  0   \n",
      "1  a73043a57091e775af37f252b3a32af9  208.123.221.203                  1   \n",
      "2  218864e94ceaa41577d216b149722261   10.194.159.204                  0   \n",
      "3  70423fa3a1e74d01203cf93b51b9631d   17.230.177.225                  0   \n",
      "4  9880776c7b6038f2af86bd4e18a1b1a4  136.241.219.151                  1   \n",
      "\n",
      "  high_risk_merchant transaction_hour weekend_transaction  \\\n",
      "0              False                0               False   \n",
      "1               True                0               False   \n",
      "2              False                0               False   \n",
      "3              False                0               False   \n",
      "4              False                0               False   \n",
      "\n",
      "                                  velocity_last_hour  is_fraud  \n",
      "0  {'num_transactions': 1197, 'total_amount': 334...     False  \n",
      "1  {'num_transactions': 509, 'total_amount': 2011...      True  \n",
      "2  {'num_transactions': 332, 'total_amount': 3916...     False  \n",
      "3  {'num_transactions': 764, 'total_amount': 2201...     False  \n",
      "4  {'num_transactions': 218, 'total_amount': 4827...      True  \n",
      "\n",
      "[5 rows x 24 columns]\n"
     ]
    }
   ],
   "source": [
    "# Print Preview Data\n",
    "print(\"\\n Data Preview:\\n\", df_pd.head())"
   ]
  },
  {
   "cell_type": "code",
   "execution_count": 19,
   "id": "7df59676",
   "metadata": {},
   "outputs": [
    {
     "name": "stdout",
     "output_type": "stream",
     "text": [
      "\n",
      " Performance Measurement\n",
      "Execution Time: 259.60 seconds\n",
      "Memory Used: 1564.06 MB\n"
     ]
    }
   ],
   "source": [
    "#  STEP 4: Display Performance Metrics\n",
    "print(\"\\n Performance Measurement\")\n",
    "print(f\"Execution Time: {end_time - start_time:.2f} seconds\")\n",
    "print(f\"Memory Used: {mem_after - mem_before:.2f} MB\")"
   ]
  },
  {
   "cell_type": "markdown",
   "id": "d75e2c27",
   "metadata": {},
   "source": [
    "## Dask"
   ]
  },
  {
   "cell_type": "code",
   "execution_count": 15,
   "id": "164ee844",
   "metadata": {},
   "outputs": [
    {
     "name": "stdout",
     "output_type": "stream",
     "text": [
      "Defaulting to user installation because normal site-packages is not writeable\n",
      "Requirement already satisfied: dask in c:\\programdata\\anaconda3\\lib\\site-packages (2024.5.0)\n",
      "Requirement already satisfied: click>=8.1 in c:\\programdata\\anaconda3\\lib\\site-packages (from dask) (8.1.7)\n",
      "Requirement already satisfied: cloudpickle>=1.5.0 in c:\\programdata\\anaconda3\\lib\\site-packages (from dask) (2.2.1)\n",
      "Requirement already satisfied: fsspec>=2021.09.0 in c:\\programdata\\anaconda3\\lib\\site-packages (from dask) (2024.3.1)\n",
      "Requirement already satisfied: packaging>=20.0 in c:\\users\\honor\\appdata\\roaming\\python\\python312\\site-packages (from dask) (24.0)\n",
      "Requirement already satisfied: partd>=1.2.0 in c:\\programdata\\anaconda3\\lib\\site-packages (from dask) (1.4.1)\n",
      "Requirement already satisfied: pyyaml>=5.3.1 in c:\\programdata\\anaconda3\\lib\\site-packages (from dask) (6.0.1)\n",
      "Requirement already satisfied: toolz>=0.10.0 in c:\\programdata\\anaconda3\\lib\\site-packages (from dask) (0.12.0)\n",
      "Requirement already satisfied: colorama in c:\\users\\honor\\appdata\\roaming\\python\\python312\\site-packages (from click>=8.1->dask) (0.4.6)\n",
      "Requirement already satisfied: locket in c:\\programdata\\anaconda3\\lib\\site-packages (from partd>=1.2.0->dask) (1.0.0)\n"
     ]
    }
   ],
   "source": [
    "#  Install Dask (if not already installed)\n",
    "!pip install dask"
   ]
  },
  {
   "cell_type": "code",
   "execution_count": 13,
   "id": "0c9cc31b",
   "metadata": {},
   "outputs": [
    {
     "name": "stdout",
     "output_type": "stream",
     "text": [
      " Dataset Shape: (<dask_expr.expr.Scalar: expr=ReadCSV(4e9269b).size() // 24, dtype=int32>, 24)\n",
      " Column Names: ['transaction_id', 'customer_id', 'card_number', 'timestamp', 'merchant_category', 'merchant_type', 'merchant', 'amount', 'currency', 'country', 'city', 'city_size', 'card_type', 'card_present', 'device', 'channel', 'device_fingerprint', 'ip_address', 'distance_from_home', 'high_risk_merchant', 'transaction_hour', 'weekend_transaction', 'velocity_last_hour', 'is_fraud']\n",
      "\n",
      " Data Types:\n",
      " transaction_id         string[pyarrow]\n",
      "customer_id            string[pyarrow]\n",
      "card_number                      int64\n",
      "timestamp              string[pyarrow]\n",
      "merchant_category      string[pyarrow]\n",
      "merchant_type          string[pyarrow]\n",
      "merchant               string[pyarrow]\n",
      "amount                         float64\n",
      "currency               string[pyarrow]\n",
      "country                string[pyarrow]\n",
      "city                   string[pyarrow]\n",
      "city_size              string[pyarrow]\n",
      "card_type              string[pyarrow]\n",
      "card_present                      bool\n",
      "device                 string[pyarrow]\n",
      "channel                string[pyarrow]\n",
      "device_fingerprint     string[pyarrow]\n",
      "ip_address             string[pyarrow]\n",
      "distance_from_home               int64\n",
      "high_risk_merchant                bool\n",
      "transaction_hour                 int64\n",
      "weekend_transaction               bool\n",
      "velocity_last_hour     string[pyarrow]\n",
      "is_fraud                          bool\n",
      "dtype: object\n"
     ]
    }
   ],
   "source": [
    "# Import libraries for Dask\n",
    "import dask.dataframe as dd\n",
    "import time\n",
    "import psutil\n",
    "import os\n",
    "\n",
    "# Get process for memory tracking\n",
    "process = psutil.Process(os.getpid())\n",
    "mem_after = 0\n",
    "mem_before = 0\n",
    "mem_before = process.memory_info().rss / 1024 ** 2\n",
    "start_time = time.time()\n",
    "\n",
    "#  STEP 1: Load Full Dataset (Unoptimized)\n",
    "df_dask = dd.read_csv(\"Transactions.csv\")\n",
    "\n",
    "#  STEP 2: Inspect the Dataset Structure\n",
    "print(\" Dataset Shape:\", df_dask.shape)\n",
    "print(\" Column Names:\", df_dask.columns.tolist())\n",
    "print(\"\\n Data Types:\\n\", df_dask.dtypes)\n",
    "\n",
    "#  STEP 3: Basic Data Cleaning (No Optimization Applied)\n",
    "df_dask = df_dask.drop_duplicates()\n",
    "df_dask = df_dask.dropna()\n",
    "\n",
    "# Record memory usage after processing\n",
    "mem_after = process.memory_info().rss / 1024 ** 2\n",
    "# Record end time for execution measurement\n",
    "end_time = time.time()\n",
    "\n"
   ]
  },
  {
   "cell_type": "code",
   "execution_count": 4,
   "id": "01d2ef05",
   "metadata": {},
   "outputs": [
    {
     "name": "stdout",
     "output_type": "stream",
     "text": [
      "\n",
      " Data Preview:\n",
      "     transaction_id customer_id       card_number  \\\n",
      "33     TX_eecf6c3b  CUST_67064  4906576640072944   \n",
      "137    TX_51382279  CUST_46140  6967470468010544   \n",
      "175    TX_b4c6e0f7  CUST_43225  4548386791699758   \n",
      "183    TX_370d1c1d  CUST_90686  4429407298003585   \n",
      "187    TX_3622e5c7  CUST_39337  6603000771670666   \n",
      "\n",
      "                            timestamp merchant_category merchant_type  \\\n",
      "33   2024-09-30 00:00:31.366348+00:00            Retail        online   \n",
      "137  2024-09-30 00:01:39.450152+00:00            Retail      physical   \n",
      "175  2024-09-30 00:02:04.032779+00:00         Education        online   \n",
      "183  2024-09-30 00:02:11.965451+00:00           Grocery      physical   \n",
      "187  2024-09-30 00:02:13.976261+00:00        Healthcare      pharmacy   \n",
      "\n",
      "        merchant     amount currency  country  ...       device channel  \\\n",
      "33          Etsy  113801.86      RUB   Russia  ...      Firefox     web   \n",
      "137       Target   49357.95      JPY    Japan  ...      iOS App  mobile   \n",
      "175  MasterClass    1323.92      BRL   Brazil  ...      iOS App  mobile   \n",
      "183      Safeway     134.35      EUR  Germany  ...       Chrome     web   \n",
      "187    Walgreens   24190.63      MXN   Mexico  ...  Chip Reader     pos   \n",
      "\n",
      "                   device_fingerprint     ip_address distance_from_home  \\\n",
      "33   bbd634d7212f40cd6be2394831e4cff5   52.35.83.239                  0   \n",
      "137  62696f13b6de097fb021bed152c21799  9.238.126.247                  0   \n",
      "175  962cfa5b6d41e93f7180e001401c7b3f  238.28.11.229                  0   \n",
      "183  0a5ccc49b10dd5739e1929bc8c3e6bb5   6.111.218.64                  0   \n",
      "187  89a2036693ba30b034e454e9a96878e6  240.6.154.238                  1   \n",
      "\n",
      "    high_risk_merchant transaction_hour weekend_transaction  \\\n",
      "33               False                0               False   \n",
      "137              False                0               False   \n",
      "175              False                0               False   \n",
      "183              False                0               False   \n",
      "187              False                0               False   \n",
      "\n",
      "                                    velocity_last_hour  is_fraud  \n",
      "33   {'num_transactions': 88, 'total_amount': 86826...     False  \n",
      "137  {'num_transactions': 430, 'total_amount': 2080...     False  \n",
      "175  {'num_transactions': 120, 'total_amount': 8714...     False  \n",
      "183  {'num_transactions': 14, 'total_amount': 10331...     False  \n",
      "187  {'num_transactions': 108, 'total_amount': 2397...      True  \n",
      "\n",
      "[5 rows x 24 columns]\n"
     ]
    }
   ],
   "source": [
    "# Print Preview Data using Dask\n",
    "df_dd = df_dask.compute()  # Convert Dask DataFrame to Pandas DataFrame for preview\n",
    "print(\"\\n Data Preview:\\n\", df_dd.head())"
   ]
  },
  {
   "cell_type": "code",
   "execution_count": 14,
   "id": "17159b10",
   "metadata": {},
   "outputs": [
    {
     "name": "stdout",
     "output_type": "stream",
     "text": [
      "\n",
      " Performance Measurement\n",
      "Execution Time: 0.36 seconds\n",
      "Memory Used: 14.33 MB\n"
     ]
    }
   ],
   "source": [
    "#  STEP 4: Display Memory Usage and Execution Time\n",
    "print(\"\\n Performance Measurement\")\n",
    "print(f\"Execution Time: {end_time - start_time:.2f} seconds\")\n",
    "print(f\"Memory Used: {mem_after - mem_before:.2f} MB\")"
   ]
  },
  {
   "cell_type": "markdown",
   "id": "a145f0f0",
   "metadata": {},
   "source": [
    "## Polars"
   ]
  },
  {
   "cell_type": "code",
   "execution_count": 16,
   "id": "06e77c59",
   "metadata": {},
   "outputs": [
    {
     "name": "stdout",
     "output_type": "stream",
     "text": [
      "Defaulting to user installation because normal site-packages is not writeable\n",
      "Requirement already satisfied: polars in c:\\users\\honor\\appdata\\roaming\\python\\python312\\site-packages (1.30.0)\n"
     ]
    }
   ],
   "source": [
    "#  Install Polars (if not already installed)\n",
    "!pip install polars"
   ]
  },
  {
   "cell_type": "code",
   "execution_count": 11,
   "id": "88253553",
   "metadata": {},
   "outputs": [
    {
     "name": "stdout",
     "output_type": "stream",
     "text": [
      " Dataset Shape: (7483766, 24)\n",
      " Column Names: ['transaction_id', 'customer_id', 'card_number', 'timestamp', 'merchant_category', 'merchant_type', 'merchant', 'amount', 'currency', 'country', 'city', 'city_size', 'card_type', 'card_present', 'device', 'channel', 'device_fingerprint', 'ip_address', 'distance_from_home', 'high_risk_merchant', 'transaction_hour', 'weekend_transaction', 'velocity_last_hour', 'is_fraud']\n",
      "\n",
      " Data Types:\n",
      " [String, String, Int64, String, String, String, String, Float64, String, String, String, String, String, Boolean, String, String, String, String, Int64, Boolean, Int64, Boolean, String, Boolean]\n"
     ]
    }
   ],
   "source": [
    "# Import libraries for Polars\n",
    "import polars as pl\n",
    "import time\n",
    "import psutil\n",
    "import os\n",
    "\n",
    "# Get process for memory tracking\n",
    "process = psutil.Process(os.getpid())\n",
    "mem_after = 0\n",
    "mem_before = 0\n",
    "mem_before = process.memory_info().rss / 1024 ** 2\n",
    "start_time = time.time()\n",
    "\n",
    "#  STEP 1: Load Full Dataset (Unoptimized)\n",
    "df_polars = pl.read_csv(\"Transactions.csv\")\n",
    "\n",
    "#  STEP 2: Inspect the Dataset Structure\n",
    "print(\" Dataset Shape:\", df_polars.shape)\n",
    "print(\" Column Names:\", df_polars.columns)\n",
    "print(\"\\n Data Types:\\n\", df_polars.dtypes)\n",
    "\n",
    "#  STEP 3: Basic Data Cleaning (No Optimization Applied)\n",
    "df_polars = df_polars.unique()\n",
    "df_polars = df_polars.drop_nulls()\n",
    "\n",
    "\n",
    "# Record memory usage after processing\n",
    "mem_after = process.memory_info().rss / 1024 ** 2\n",
    "# Record end time for execution measurement\n",
    "end_time = time.time()\n",
    "\n"
   ]
  },
  {
   "cell_type": "code",
   "execution_count": 8,
   "id": "a06c9896",
   "metadata": {},
   "outputs": [
    {
     "name": "stdout",
     "output_type": "stream",
     "text": [
      "\n",
      " Data Preview:\n",
      "   transaction_id customer_id       card_number  \\\n",
      "0    TX_f993773f  CUST_98781  5245346216496670   \n",
      "1    TX_3d24acf7  CUST_54011  4267605234812176   \n",
      "2    TX_f8e24f8c  CUST_87238  5319754915500406   \n",
      "3    TX_f3f2469c  CUST_75622  6916276702588118   \n",
      "4    TX_59143023  CUST_65612  6875383809591174   \n",
      "\n",
      "                          timestamp merchant_category merchant_type  \\\n",
      "0  2024-10-24 15:30:08.826102+00:00            Travel        hotels   \n",
      "1  2024-10-21 02:42:53.036124+00:00            Retail        online   \n",
      "2  2024-10-21 01:21:07.352312+00:00        Healthcare       medical   \n",
      "3  2024-10-25 02:45:59.886946+00:00           Grocery        online   \n",
      "4  2024-10-16 13:52:06.710465+00:00            Retail        online   \n",
      "\n",
      "          merchant   amount currency    country  ...       device channel  \\\n",
      "0         Sheraton   253.07      EUR     France  ...         Edge     web   \n",
      "1             eBay  7006.96      BRL     Brazil  ...  NFC Payment     pos   \n",
      "2   Local Hospital   485.77      AUD  Australia  ...       Safari     web   \n",
      "3  Walmart Grocery   526.57      CAD     Canada  ...         Edge     web   \n",
      "4             eBay   490.64      GBP         UK  ...      iOS App  mobile   \n",
      "\n",
      "                 device_fingerprint       ip_address distance_from_home  \\\n",
      "0  a80b53bdc1dcfa837f882ed8de5354f1  127.185.209.199                  0   \n",
      "1  ab8ef58705d187b494725d84fedec184    95.251.136.13                  1   \n",
      "2  e5e9b0b56fe620562a0540a7818d940e   10.243.207.209                  0   \n",
      "3  148b914ebe579527cc42a9c3d9dab916   102.19.138.176                  0   \n",
      "4  c9e49a700fc7018393e3dc1f0bc8c09b    95.121.58.203                  0   \n",
      "\n",
      "  high_risk_merchant transaction_hour weekend_transaction  \\\n",
      "0               True               15               False   \n",
      "1              False                2               False   \n",
      "2              False                1               False   \n",
      "3              False                2               False   \n",
      "4              False               13               False   \n",
      "\n",
      "                                  velocity_last_hour  is_fraud  \n",
      "0  {'num_transactions': 67, 'total_amount': 15974...     False  \n",
      "1  {'num_transactions': 470, 'total_amount': 1318...      True  \n",
      "2  {'num_transactions': 261, 'total_amount': 1418...     False  \n",
      "3  {'num_transactions': 234, 'total_amount': 1263...     False  \n",
      "4  {'num_transactions': 216, 'total_amount': 6844...     False  \n",
      "\n",
      "[5 rows x 24 columns]\n"
     ]
    }
   ],
   "source": [
    "# Print Preview Data using Polars\n",
    "df_polars = df_polars.to_pandas()  # Convert Polars DataFrame to Pandas DataFrame for preview\n",
    "print(\"\\n Data Preview:\\n\", df_polars.head())\n"
   ]
  },
  {
   "cell_type": "code",
   "execution_count": 12,
   "id": "face646a",
   "metadata": {},
   "outputs": [
    {
     "name": "stdout",
     "output_type": "stream",
     "text": [
      "\n",
      " Performance Measurement\n",
      "Execution Time: 19.42 seconds\n",
      "Memory Used: 637.48 MB\n"
     ]
    }
   ],
   "source": [
    "#  STEP 4: Display Memory Usage and Execution Time\n",
    "print(\"\\n Performance Measurement\")\n",
    "print(f\"Execution Time: {end_time - start_time:.2f} seconds\")\n",
    "print(f\"Memory Used: {mem_after - mem_before:.2f} MB\")"
   ]
  }
 ],
 "metadata": {
  "kernelspec": {
   "display_name": "Python 3",
   "language": "python",
   "name": "python3"
  },
  "language_info": {
   "codemirror_mode": {
    "name": "ipython",
    "version": 3
   },
   "file_extension": ".py",
   "mimetype": "text/x-python",
   "name": "python",
   "nbconvert_exporter": "python",
   "pygments_lexer": "ipython3",
   "version": "3.12.4"
  }
 },
 "nbformat": 4,
 "nbformat_minor": 5
}
