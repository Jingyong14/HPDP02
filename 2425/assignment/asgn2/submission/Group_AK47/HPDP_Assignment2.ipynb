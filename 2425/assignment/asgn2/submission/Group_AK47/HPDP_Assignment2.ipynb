{
 "cells": [
  {
   "cell_type": "markdown",
   "id": "da2f538d",
   "metadata": {},
   "source": [
    "## **Group Members:**\n",
    "| Name                    | Matric Number |\n",
    "|-------------------------|---------------|\n",
    "| **GOH JING YANG** | A22EC0052     |\n",
    "| **LOO JIA CHANG**           | A22EC0074     | **bold text**"
   ]
  },
  {
   "cell_type": "markdown",
   "id": "1bd6d1d5",
   "metadata": {},
   "source": [
    "## Pandas"
   ]
  },
  {
   "cell_type": "code",
   "execution_count": 1,
   "id": "34ff066a",
   "metadata": {},
   "outputs": [
    {
     "name": "stdout",
     "output_type": "stream",
     "text": [
      "Defaulting to user installation because normal site-packages is not writeable\n",
      "Requirement already satisfied: pandas in c:\\programdata\\anaconda3\\lib\\site-packages (2.2.2)\n",
      "Requirement already satisfied: numpy>=1.26.0 in c:\\programdata\\anaconda3\\lib\\site-packages (from pandas) (1.26.4)\n",
      "Requirement already satisfied: python-dateutil>=2.8.2 in c:\\users\\honor\\appdata\\roaming\\python\\python312\\site-packages (from pandas) (2.9.0.post0)\n",
      "Requirement already satisfied: pytz>=2020.1 in c:\\programdata\\anaconda3\\lib\\site-packages (from pandas) (2024.1)\n",
      "Requirement already satisfied: tzdata>=2022.7 in c:\\programdata\\anaconda3\\lib\\site-packages (from pandas) (2023.3)\n",
      "Requirement already satisfied: six>=1.5 in c:\\users\\honor\\appdata\\roaming\\python\\python312\\site-packages (from python-dateutil>=2.8.2->pandas) (1.16.0)\n"
     ]
    }
   ],
   "source": [
    "#  Install Pandas (if not already installed)\n",
    "!pip install pandas\n"
   ]
  },
  {
   "cell_type": "code",
   "execution_count": 17,
   "id": "757ad25f",
   "metadata": {},
   "outputs": [
    {
     "name": "stdout",
     "output_type": "stream",
     "text": [
      " Dataset Shape: (7483766, 24)\n",
      " Column Names: ['transaction_id', 'customer_id', 'card_number', 'timestamp', 'merchant_category', 'merchant_type', 'merchant', 'amount', 'currency', 'country', 'city', 'city_size', 'card_type', 'card_present', 'device', 'channel', 'device_fingerprint', 'ip_address', 'distance_from_home', 'high_risk_merchant', 'transaction_hour', 'weekend_transaction', 'velocity_last_hour', 'is_fraud']\n",
      "\n",
      " Data Types:\n",
      " transaction_id          object\n",
      "customer_id             object\n",
      "card_number              int64\n",
      "timestamp               object\n",
      "merchant_category       object\n",
      "merchant_type           object\n",
      "merchant                object\n",
      "amount                 float64\n",
      "currency                object\n",
      "country                 object\n",
      "city                    object\n",
      "city_size               object\n",
      "card_type               object\n",
      "card_present              bool\n",
      "device                  object\n",
      "channel                 object\n",
      "device_fingerprint      object\n",
      "ip_address              object\n",
      "distance_from_home       int64\n",
      "high_risk_merchant        bool\n",
      "transaction_hour         int64\n",
      "weekend_transaction       bool\n",
      "velocity_last_hour      object\n",
      "is_fraud                  bool\n",
      "dtype: object\n"
     ]
    }
   ],
   "source": [
    "#  Import libraries\n",
    "import pandas as pd\n",
    "import time\n",
    "import psutil\n",
    "import os\n",
    "\n",
    "# Get process for memory tracking\n",
    "process = psutil.Process(os.getpid())\n",
    "mem_before = 0\n",
    "mem_before = process.memory_info().rss / 1024 ** 2\n",
    "start_time = time.time()\n",
    "\n",
    "\n",
    "#  STEP 1: Load Full Dataset (Unoptimized)\n",
    "df_pd = pd.read_csv(\"Transactions.csv\", low_memory=False)\n",
    "\n",
    "#  STEP 2: Inspect the Dataset Structure\n",
    "print(\" Dataset Shape:\", df_pd.shape)\n",
    "print(\" Column Names:\", df_pd.columns.tolist())\n",
    "print(\"\\n Data Types:\\n\", df_pd.dtypes)\n",
    "\n",
    "#  STEP 3: Basic Data Cleaning (No Optimization Applied)\n",
    "df_pd = df_pd.drop_duplicates()\n",
    "df_pd = df_pd.dropna()\n",
    "\n",
    "# Record memory usage after processing\n",
    "mem_after =0\n",
    "mem_after = process.memory_info().rss / 1024 ** 2\n",
    "# Record end time for execution measurement\n",
    "end_time = time.time()\n"
   ]
  },
  {
   "cell_type": "code",
   "execution_count": 7,
   "id": "1cf532e3",
   "metadata": {},
   "outputs": [
    {
     "name": "stdout",
     "output_type": "stream",
     "text": [
      "\n",
      " Data Preview:\n",
      "   transaction_id customer_id       card_number  \\\n",
      "0    TX_a0ad2a2a  CUST_72886  6646734767813109   \n",
      "1    TX_3599c101  CUST_70474   376800864692727   \n",
      "2    TX_a9461c6d  CUST_10715  5251909460951913   \n",
      "3    TX_7be21fc4  CUST_16193   376079286931183   \n",
      "4    TX_150f490b  CUST_87572  6172948052178810   \n",
      "\n",
      "                          timestamp merchant_category merchant_type  \\\n",
      "0  2024-09-30 00:00:01.034820+00:00        Restaurant     fast_food   \n",
      "1  2024-09-30 00:00:01.764464+00:00     Entertainment        gaming   \n",
      "2  2024-09-30 00:00:02.273762+00:00           Grocery      physical   \n",
      "3  2024-09-30 00:00:02.297466+00:00               Gas         major   \n",
      "4  2024-09-30 00:00:02.544063+00:00        Healthcare       medical   \n",
      "\n",
      "         merchant     amount currency    country  ...   device channel  \\\n",
      "0       Taco Bell     294.87      GBP         UK  ...  iOS App  mobile   \n",
      "1           Steam    3368.97      BRL     Brazil  ...     Edge     web   \n",
      "2     Whole Foods  102582.38      JPY      Japan  ...  Firefox     web   \n",
      "3           Exxon     630.60      AUD  Australia  ...  iOS App  mobile   \n",
      "4  Medical Center  724949.27      NGN    Nigeria  ...   Chrome     web   \n",
      "\n",
      "                 device_fingerprint       ip_address distance_from_home  \\\n",
      "0  e8e6160445c935fd0001501e4cbac8bc   197.153.60.199                  0   \n",
      "1  a73043a57091e775af37f252b3a32af9  208.123.221.203                  1   \n",
      "2  218864e94ceaa41577d216b149722261   10.194.159.204                  0   \n",
      "3  70423fa3a1e74d01203cf93b51b9631d   17.230.177.225                  0   \n",
      "4  9880776c7b6038f2af86bd4e18a1b1a4  136.241.219.151                  1   \n",
      "\n",
      "  high_risk_merchant transaction_hour weekend_transaction  \\\n",
      "0              False                0               False   \n",
      "1               True                0               False   \n",
      "2              False                0               False   \n",
      "3              False                0               False   \n",
      "4              False                0               False   \n",
      "\n",
      "                                  velocity_last_hour  is_fraud  \n",
      "0  {'num_transactions': 1197, 'total_amount': 334...     False  \n",
      "1  {'num_transactions': 509, 'total_amount': 2011...      True  \n",
      "2  {'num_transactions': 332, 'total_amount': 3916...     False  \n",
      "3  {'num_transactions': 764, 'total_amount': 2201...     False  \n",
      "4  {'num_transactions': 218, 'total_amount': 4827...      True  \n",
      "\n",
      "[5 rows x 24 columns]\n"
     ]
    }
   ],
   "source": [
    "# Print Preview Data\n",
    "print(\"\\n Data Preview:\\n\", df_pd.head())"
   ]
  },
  {
   "cell_type": "code",
   "execution_count": 19,
   "id": "7df59676",
   "metadata": {},
   "outputs": [
    {
     "name": "stdout",
     "output_type": "stream",
     "text": [
      "\n",
      " Performance Measurement\n",
      "Execution Time: 259.60 seconds\n",
      "Memory Used: 1564.06 MB\n"
     ]
    }
   ],
   "source": [
    "#  STEP 4: Display Performance Metrics\n",
    "print(\"\\n Performance Measurement\")\n",
    "print(f\"Execution Time: {end_time - start_time:.2f} seconds\")\n",
    "print(f\"Memory Used: {mem_after - mem_before:.2f} MB\")"
   ]
  },
  {
   "cell_type": "markdown",
   "id": "d75e2c27",
   "metadata": {},
   "source": [
    "## Dask"
   ]
  },
  {
   "cell_type": "code",
   "execution_count": 15,
   "id": "164ee844",
   "metadata": {},
   "outputs": [
    {
     "name": "stdout",
     "output_type": "stream",
     "text": [
      "Defaulting to user installation because normal site-packages is not writeable\n",
      "Requirement already satisfied: dask in c:\\programdata\\anaconda3\\lib\\site-packages (2024.5.0)\n",
      "Requirement already satisfied: click>=8.1 in c:\\programdata\\anaconda3\\lib\\site-packages (from dask) (8.1.7)\n",
      "Requirement already satisfied: cloudpickle>=1.5.0 in c:\\programdata\\anaconda3\\lib\\site-packages (from dask) (2.2.1)\n",
      "Requirement already satisfied: fsspec>=2021.09.0 in c:\\programdata\\anaconda3\\lib\\site-packages (from dask) (2024.3.1)\n",
      "Requirement already satisfied: packaging>=20.0 in c:\\users\\honor\\appdata\\roaming\\python\\python312\\site-packages (from dask) (24.0)\n",
      "Requirement already satisfied: partd>=1.2.0 in c:\\programdata\\anaconda3\\lib\\site-packages (from dask) (1.4.1)\n",
      "Requirement already satisfied: pyyaml>=5.3.1 in c:\\programdata\\anaconda3\\lib\\site-packages (from dask) (6.0.1)\n",
      "Requirement already satisfied: toolz>=0.10.0 in c:\\programdata\\anaconda3\\lib\\site-packages (from dask) (0.12.0)\n",
      "Requirement already satisfied: colorama in c:\\users\\honor\\appdata\\roaming\\python\\python312\\site-packages (from click>=8.1->dask) (0.4.6)\n",
      "Requirement already satisfied: locket in c:\\programdata\\anaconda3\\lib\\site-packages (from partd>=1.2.0->dask) (1.0.0)\n"
     ]
    }
   ],
   "source": [
    "#  Install Dask (if not already installed)\n",
    "!pip install dask"
   ]
  },
  {
   "cell_type": "code",
   "execution_count": 1,
   "id": "0c9cc31b",
   "metadata": {},
   "outputs": [
    {
     "name": "stdout",
     "output_type": "stream",
     "text": [
      " Dataset Shape: (<dask_expr.expr.Scalar: expr=ReadCSV(accb4a7).size() // 9, dtype=int32>, 9)\n",
      " Column Names: ['transaction_id', 'customer_id', 'card_number', 'timestamp', 'merchant_category', 'merchant_type', 'merchant', 'amount', 'currency']\n",
      "\n",
      " Data Types:\n",
      " transaction_id       string[pyarrow]\n",
      "customer_id          string[pyarrow]\n",
      "card_number                    int64\n",
      "timestamp            string[pyarrow]\n",
      "merchant_category    string[pyarrow]\n",
      "merchant_type        string[pyarrow]\n",
      "merchant             string[pyarrow]\n",
      "amount                       float64\n",
      "currency             string[pyarrow]\n",
      "dtype: object\n"
     ]
    }
   ],
   "source": [
    "# Import libraries for Dask\n",
    "import dask.dataframe as dd\n",
    "import time\n",
    "import psutil\n",
    "import os\n",
    "\n",
    "# Get process for memory tracking\n",
    "process = psutil.Process(os.getpid())\n",
    "mem_after = 0\n",
    "mem_before = 0\n",
    "mem_before = process.memory_info().rss / 1024 ** 2\n",
    "start_time = time.time()\n",
    "\n",
    "#Define the required columns    \n",
    "required_columns = [\n",
    "    \"transaction_id\", \n",
    "    \"customer_id\", \n",
    "    \"card_number\", \n",
    "    \"timestamp\", \n",
    "    \"merchant_category\", \n",
    "    \"merchant_type\", \n",
    "    \"merchant\", \n",
    "    \"amount\", \n",
    "    \"currency\"\n",
    "]\n",
    "\n",
    "#  STEP 1: Load Full Dataset (Unoptimized)\n",
    "df_dask = dd.read_csv(\"Transactions.csv\" ,usecols=required_columns)\n",
    "\n",
    "#  STEP 2: Inspect the Dataset Structure\n",
    "print(\" Dataset Shape:\", df_dask.shape)\n",
    "print(\" Column Names:\", df_dask.columns.tolist())\n",
    "print(\"\\n Data Types:\\n\", df_dask.dtypes)\n",
    "\n",
    "# Optimize data types\n",
    "df_dask = df_dask.astype({\n",
    "    \"transaction_id\": \"int64\",\n",
    "    \"customer_id\": \"int64\",\n",
    "    \"card_number\": \"object\",\n",
    "    \"timestamp\": \"datetime64[ns]\",\n",
    "    \"merchant_category\": \"category\",\n",
    "    \"merchant_type\": \"category\",\n",
    "    \"merchant\": \"object\",\n",
    "    \"amount\": \"float64\",\n",
    "    \"currency\": \"category\"\n",
    "})\n",
    "\n",
    "#  STEP 3: Basic Data Cleaning (No Optimization Applied)\n",
    "df_dask = df_dask.drop_duplicates()\n",
    "df_dask = df_dask.dropna()\n",
    "\n",
    "# Record memory usage after processing\n",
    "mem_after = process.memory_info().rss / 1024 ** 2\n",
    "# Record end time for execution measurement\n",
    "end_time = time.time()\n",
    "\n"
   ]
  },
  {
   "cell_type": "code",
   "execution_count": 2,
   "id": "17159b10",
   "metadata": {},
   "outputs": [
    {
     "name": "stdout",
     "output_type": "stream",
     "text": [
      "\n",
      " Performance Measurement\n",
      "Execution Time: 2.29 seconds\n",
      "Memory Used: 16.00 MB\n"
     ]
    }
   ],
   "source": [
    "#  STEP 4: Display Memory Usage and Execution Time\n",
    "print(\"\\n Performance Measurement\")\n",
    "print(f\"Execution Time: {end_time - start_time:.2f} seconds\")\n",
    "print(f\"Memory Used: {mem_after - mem_before:.2f} MB\")"
   ]
  },
  {
   "cell_type": "markdown",
   "id": "a145f0f0",
   "metadata": {},
   "source": [
    "## Polars"
   ]
  },
  {
   "cell_type": "code",
   "execution_count": 16,
   "id": "06e77c59",
   "metadata": {},
   "outputs": [
    {
     "name": "stdout",
     "output_type": "stream",
     "text": [
      "Defaulting to user installation because normal site-packages is not writeable\n",
      "Requirement already satisfied: polars in c:\\users\\honor\\appdata\\roaming\\python\\python312\\site-packages (1.30.0)\n"
     ]
    }
   ],
   "source": [
    "#  Install Polars (if not already installed)\n",
    "!pip install polars"
   ]
  },
  {
   "cell_type": "code",
   "execution_count": 9,
   "id": "88253553",
   "metadata": {},
   "outputs": [
    {
     "name": "stdout",
     "output_type": "stream",
     "text": [
      " Dataset Shape: (7483766, 9)\n",
      " Column Names: ['transaction_id', 'customer_id', 'card_number', 'timestamp', 'merchant_category', 'merchant_type', 'merchant', 'amount', 'currency']\n",
      "\n",
      " Data Types:\n",
      " [String, String, Int64, String, String, String, String, Float64, String]\n"
     ]
    }
   ],
   "source": [
    "# Import libraries for Polars\n",
    "import polars as pl\n",
    "import time\n",
    "import psutil\n",
    "import os\n",
    "\n",
    "# Get process for memory tracking\n",
    "process = psutil.Process(os.getpid())\n",
    "mem_after = 0\n",
    "mem_before = 0\n",
    "mem_before = process.memory_info().rss / 1024 ** 2\n",
    "start_time = time.time()\n",
    "\n",
    "required_columns = [\n",
    "    \"transaction_id\", \n",
    "    \"customer_id\", \n",
    "    \"card_number\", \n",
    "    \"timestamp\", \n",
    "    \"merchant_category\", \n",
    "    \"merchant_type\", \n",
    "    \"merchant\", \n",
    "    \"amount\", \n",
    "    \"currency\"\n",
    "]\n",
    "\n",
    "#  STEP 1: Load Full Dataset (Unoptimized)\n",
    "df_polars = pl.read_csv(\"Transactions.csv\",columns=required_columns)\n",
    "\n",
    "#  STEP 2: Inspect the Dataset Structure\n",
    "print(\" Dataset Shape:\", df_polars.shape)\n",
    "print(\" Column Names:\", df_polars.columns)\n",
    "print(\"\\n Data Types:\\n\", df_polars.dtypes)\n",
    "\n",
    "# Optimize data types\n",
    "df_polars = df_polars.with_columns([\n",
    "    pl.col(\"transaction_id\").cast(pl.Utf8),  # Keep as string since it contains \"TX_\" prefix\n",
    "    pl.col(\"customer_id\").cast(pl.Utf8),     # Keep as string since it contains \"CUST_\" prefix\n",
    "    pl.col(\"card_number\").cast(pl.Utf8),\n",
    "    pl.col(\"timestamp\").str.replace(r\"\\+00:00$\", \"\").str.to_datetime(format=\"%Y-%m-%d %H:%M:%S%.f\"),  # Remove timezone and parse\n",
    "    pl.col(\"merchant_category\").cast(pl.Categorical),\n",
    "    pl.col(\"merchant_type\").cast(pl.Categorical),\n",
    "    pl.col(\"merchant\").cast(pl.Utf8),\n",
    "    pl.col(\"amount\").cast(pl.Float64),\n",
    "    pl.col(\"currency\").cast(pl.Categorical)\n",
    "])\n",
    "\n",
    "\n",
    "#  STEP 3: Basic Data Cleaning (No Optimization Applied)\n",
    "df_polars = df_polars.unique()\n",
    "df_polars = df_polars.drop_nulls()\n",
    "\n",
    "\n",
    "# Record memory usage after processing\n",
    "mem_after = process.memory_info().rss / 1024 ** 2\n",
    "# Record end time for execution measurement\n",
    "end_time = time.time()\n",
    "\n"
   ]
  },
  {
   "cell_type": "code",
   "execution_count": 11,
   "id": "face646a",
   "metadata": {},
   "outputs": [
    {
     "name": "stdout",
     "output_type": "stream",
     "text": [
      "\n",
      " Performance Measurement\n",
      "Execution Time: 17.87 seconds\n",
      "Memory Used: 2425.53 MB\n"
     ]
    }
   ],
   "source": [
    "#  STEP 4: Display Memory Usage and Execution Time\n",
    "print(\"\\n Performance Measurement\")\n",
    "print(f\"Execution Time: {end_time - start_time:.2f} seconds\")\n",
    "print(f\"Memory Used: {mem_after - mem_before:.2f} MB\")"
   ]
  }
 ],
 "metadata": {
  "kernelspec": {
   "display_name": "Python 3",
   "language": "python",
   "name": "python3"
  },
  "language_info": {
   "codemirror_mode": {
    "name": "ipython",
    "version": 3
   },
   "file_extension": ".py",
   "mimetype": "text/x-python",
   "name": "python",
   "nbconvert_exporter": "python",
   "pygments_lexer": "ipython3",
   "version": "3.12.4"
  }
 },
 "nbformat": 4,
 "nbformat_minor": 5
}
