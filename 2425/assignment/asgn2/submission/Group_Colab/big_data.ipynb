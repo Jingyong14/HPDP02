{
  "nbformat": 4,
  "nbformat_minor": 0,
  "metadata": {
    "colab": {
      "provenance": []
    },
    "kernelspec": {
      "name": "python3",
      "display_name": "Python 3"
    },
    "language_info": {
      "name": "python"
    }
  },
  "cells": [
    {
      "cell_type": "code",
      "execution_count": null,
      "metadata": {
        "colab": {
          "base_uri": "https://localhost:8080/"
        },
        "id": "0MavT7zZo4Pi",
        "outputId": "697ea769-8d60-4056-c5a2-5e3edf0b0932"
      },
      "outputs": [
        {
          "output_type": "stream",
          "name": "stdout",
          "text": [
            "Requirement already satisfied: kaggle in /usr/local/lib/python3.11/dist-packages (1.7.4.5)\n",
            "Requirement already satisfied: bleach in /usr/local/lib/python3.11/dist-packages (from kaggle) (6.2.0)\n",
            "Requirement already satisfied: certifi>=14.05.14 in /usr/local/lib/python3.11/dist-packages (from kaggle) (2025.4.26)\n",
            "Requirement already satisfied: charset-normalizer in /usr/local/lib/python3.11/dist-packages (from kaggle) (3.4.2)\n",
            "Requirement already satisfied: idna in /usr/local/lib/python3.11/dist-packages (from kaggle) (3.10)\n",
            "Requirement already satisfied: protobuf in /usr/local/lib/python3.11/dist-packages (from kaggle) (5.29.4)\n",
            "Requirement already satisfied: python-dateutil>=2.5.3 in /usr/local/lib/python3.11/dist-packages (from kaggle) (2.9.0.post0)\n",
            "Requirement already satisfied: python-slugify in /usr/local/lib/python3.11/dist-packages (from kaggle) (8.0.4)\n",
            "Requirement already satisfied: requests in /usr/local/lib/python3.11/dist-packages (from kaggle) (2.32.3)\n",
            "Requirement already satisfied: setuptools>=21.0.0 in /usr/local/lib/python3.11/dist-packages (from kaggle) (75.2.0)\n",
            "Requirement already satisfied: six>=1.10 in /usr/local/lib/python3.11/dist-packages (from kaggle) (1.17.0)\n",
            "Requirement already satisfied: text-unidecode in /usr/local/lib/python3.11/dist-packages (from kaggle) (1.3)\n",
            "Requirement already satisfied: tqdm in /usr/local/lib/python3.11/dist-packages (from kaggle) (4.67.1)\n",
            "Requirement already satisfied: urllib3>=1.15.1 in /usr/local/lib/python3.11/dist-packages (from kaggle) (2.4.0)\n",
            "Requirement already satisfied: webencodings in /usr/local/lib/python3.11/dist-packages (from kaggle) (0.5.1)\n"
          ]
        }
      ],
      "source": [
        "!pip install kaggle"
      ]
    },
    {
      "cell_type": "code",
      "source": [
        "import kagglehub\n",
        "import os\n",
        "import pandas as pd\n",
        "import time\n",
        "from sklearn.preprocessing import StandardScaler\n",
        "import numpy as np\n",
        "from concurrent.futures import ProcessPoolExecutor"
      ],
      "metadata": {
        "id": "ykDPsD-zsXoT"
      },
      "execution_count": null,
      "outputs": []
    },
    {
      "cell_type": "code",
      "source": [
        "# Download latest version of kaggle dataset\n",
        "path = kagglehub.dataset_download(\"devdope/900k-spotify\")\n",
        "\n",
        "print(\"Path to dataset files:\", path)"
      ],
      "metadata": {
        "colab": {
          "base_uri": "https://localhost:8080/"
        },
        "id": "rIqSM1turN-C",
        "outputId": "44b20adb-fa86-4717-ad8c-4d9780cf2a55"
      },
      "execution_count": null,
      "outputs": [
        {
          "output_type": "stream",
          "name": "stdout",
          "text": [
            "Downloading from https://www.kaggle.com/api/v1/datasets/download/devdope/900k-spotify?dataset_version_number=3...\n"
          ]
        },
        {
          "output_type": "stream",
          "name": "stderr",
          "text": [
            "100%|██████████| 1.00G/1.00G [00:09<00:00, 118MB/s]"
          ]
        },
        {
          "output_type": "stream",
          "name": "stdout",
          "text": [
            "Extracting files...\n"
          ]
        },
        {
          "output_type": "stream",
          "name": "stderr",
          "text": [
            "\n"
          ]
        },
        {
          "output_type": "stream",
          "name": "stdout",
          "text": [
            "Path to dataset files: /root/.cache/kagglehub/datasets/devdope/900k-spotify/versions/3\n"
          ]
        }
      ]
    },
    {
      "cell_type": "code",
      "source": [
        "# List files in the downloaded directory\n",
        "print(os.listdir(path))"
      ],
      "metadata": {
        "colab": {
          "base_uri": "https://localhost:8080/"
        },
        "id": "xh75vPuarPZ-",
        "outputId": "ab55fd2a-2e24-4acd-f4e0-9f89812257da"
      },
      "execution_count": null,
      "outputs": [
        {
          "output_type": "stream",
          "name": "stdout",
          "text": [
            "['final_milliondataset_BERT_500K_revised.json', 'spotify_dataset.csv', '900k Definitive Spotify Dataset.json']\n"
          ]
        }
      ]
    },
    {
      "cell_type": "code",
      "source": [
        "# Set CSV path\n",
        "csv_path = path + \"/spotify_dataset.csv\""
      ],
      "metadata": {
        "id": "mjkqjKfJrQxO"
      },
      "execution_count": null,
      "outputs": []
    },
    {
      "cell_type": "markdown",
      "source": [
        "## Part 1: Load and Inspect Data (Pandas)"
      ],
      "metadata": {
        "id": "__0qXI8jtNRd"
      }
    },
    {
      "cell_type": "code",
      "source": [
        "# Load dataset\n",
        "df= pd.read_csv(csv_path)\n",
        "\n",
        "# Display first 5 rows\n",
        "df.head()\n",
        "\n",
        "# Check shape\n",
        "print(\"Shape of dataset:\", df.shape)\n",
        "\n",
        "# List column names\n",
        "print(\"\\nColumn names:\")\n",
        "print(df.columns.tolist())\n",
        "\n",
        "# Show data types\n",
        "print(\"\\nData types:\")\n",
        "print(df.dtypes)\n",
        "\n",
        "# Check for missing values\n",
        "print(\"\\nMissing values per column:\")\n",
        "print(df.isnull().sum())"
      ],
      "metadata": {
        "colab": {
          "base_uri": "https://localhost:8080/"
        },
        "id": "lMmzHodosSvg",
        "outputId": "23c068f4-b2fd-4145-f00e-077afdc5c4a4"
      },
      "execution_count": null,
      "outputs": [
        {
          "output_type": "stream",
          "name": "stdout",
          "text": [
            "Shape of dataset: (551443, 39)\n",
            "\n",
            "Column names:\n",
            "['Artist(s)', 'song', 'text', 'Length', 'emotion', 'Genre', 'Album', 'Release Date', 'Key', 'Tempo', 'Loudness (db)', 'Time signature', 'Explicit', 'Popularity', 'Energy', 'Danceability', 'Positiveness', 'Speechiness', 'Liveness', 'Acousticness', 'Instrumentalness', 'Good for Party', 'Good for Work/Study', 'Good for Relaxation/Meditation', 'Good for Exercise', 'Good for Running', 'Good for Yoga/Stretching', 'Good for Driving', 'Good for Social Gatherings', 'Good for Morning Routine', 'Similar Artist 1', 'Similar Song 1', 'Similarity Score 1', 'Similar Artist 2', 'Similar Song 2', 'Similarity Score 2', 'Similar Artist 3', 'Similar Song 3', 'Similarity Score 3']\n",
            "\n",
            "Data types:\n",
            "Artist(s)                          object\n",
            "song                               object\n",
            "text                               object\n",
            "Length                             object\n",
            "emotion                            object\n",
            "Genre                              object\n",
            "Album                              object\n",
            "Release Date                       object\n",
            "Key                                object\n",
            "Tempo                               int64\n",
            "Loudness (db)                      object\n",
            "Time signature                     object\n",
            "Explicit                           object\n",
            "Popularity                          int64\n",
            "Energy                              int64\n",
            "Danceability                        int64\n",
            "Positiveness                        int64\n",
            "Speechiness                         int64\n",
            "Liveness                            int64\n",
            "Acousticness                        int64\n",
            "Instrumentalness                    int64\n",
            "Good for Party                      int64\n",
            "Good for Work/Study                 int64\n",
            "Good for Relaxation/Meditation      int64\n",
            "Good for Exercise                   int64\n",
            "Good for Running                    int64\n",
            "Good for Yoga/Stretching            int64\n",
            "Good for Driving                    int64\n",
            "Good for Social Gatherings          int64\n",
            "Good for Morning Routine            int64\n",
            "Similar Artist 1                   object\n",
            "Similar Song 1                     object\n",
            "Similarity Score 1                float64\n",
            "Similar Artist 2                   object\n",
            "Similar Song 2                     object\n",
            "Similarity Score 2                float64\n",
            "Similar Artist 3                   object\n",
            "Similar Song 3                     object\n",
            "Similarity Score 3                float64\n",
            "dtype: object\n",
            "\n",
            "Missing values per column:\n",
            "Artist(s)                          0\n",
            "song                              16\n",
            "text                               0\n",
            "Length                             0\n",
            "emotion                            0\n",
            "Genre                              0\n",
            "Album                             52\n",
            "Release Date                       0\n",
            "Key                                0\n",
            "Tempo                              0\n",
            "Loudness (db)                      0\n",
            "Time signature                     8\n",
            "Explicit                           0\n",
            "Popularity                         0\n",
            "Energy                             0\n",
            "Danceability                       0\n",
            "Positiveness                       0\n",
            "Speechiness                        0\n",
            "Liveness                           0\n",
            "Acousticness                       0\n",
            "Instrumentalness                   0\n",
            "Good for Party                     0\n",
            "Good for Work/Study                0\n",
            "Good for Relaxation/Meditation     0\n",
            "Good for Exercise                  0\n",
            "Good for Running                   0\n",
            "Good for Yoga/Stretching           0\n",
            "Good for Driving                   0\n",
            "Good for Social Gatherings         0\n",
            "Good for Morning Routine           0\n",
            "Similar Artist 1                   0\n",
            "Similar Song 1                    19\n",
            "Similarity Score 1                 0\n",
            "Similar Artist 2                   0\n",
            "Similar Song 2                    20\n",
            "Similarity Score 2                 0\n",
            "Similar Artist 3                   0\n",
            "Similar Song 3                     4\n",
            "Similarity Score 3                 0\n",
            "dtype: int64\n"
          ]
        }
      ]
    },
    {
      "cell_type": "markdown",
      "source": [
        "## Part  2: Applying Big Data Handling Strategies (Pandas)"
      ],
      "metadata": {
        "id": "lQtW16MYrUOe"
      }
    },
    {
      "cell_type": "code",
      "source": [
        "# ==============================\n",
        "# ✅ Step 1: Load Less Data\n",
        "# ==============================\n",
        "\n",
        "# 📌 Dynamically get all column names\n",
        "preview_df = pd.read_csv(csv_path, nrows=5)\n",
        "all_columns = preview_df.columns.tolist()\n",
        "\n",
        "# 📌 Define columns to exclude\n",
        "columns_to_exclude = [\n",
        "    'Similar Artist 2', 'Similar Song 2', 'Similarity Score 2',\n",
        "    'Similar Artist 3', 'Similar Song 3', 'Similarity Score 3'\n",
        "]\n",
        "\n",
        "# 📌 Build final list of columns to keep\n",
        "cols_to_use = [col for col in all_columns if col not in columns_to_exclude]\n",
        "\n",
        "# 📌 Load only selected columns\n",
        "start_load_optimized_lessdata = time.time()\n",
        "df_optimized_lessdata = pd.read_csv(csv_path, usecols=cols_to_use)\n",
        "end_load_optimized_lessdata = time.time()\n",
        "\n",
        "# 📌 Measure memory usage\n",
        "memory_usage_optimized_lessdata = df_optimized_lessdata.memory_usage(deep=True).sum() / (1024 * 1024)\n",
        "\n",
        "print(\"✅ Step 1: Load Less Data\")\n",
        "print(f\"📦 Memory usage: {memory_usage_optimized_lessdata:.2f} MB\")\n",
        "print(f\"⏱️ Load time: {end_load_optimized_lessdata - start_load_optimized_lessdata:.4f} sec\\n\")\n",
        "\n",
        "# ==============================\n",
        "# ✅ Step 2: Use Chunking\n",
        "# ==============================\n",
        "chunk_size = 50000  # Adjust as needed\n",
        "start_load_optimized_chunk = time.time()\n",
        "\n",
        "chunk_list = []\n",
        "for chunk in pd.read_csv(csv_path, chunksize=chunk_size):\n",
        "    chunk_list.append(chunk)\n",
        "\n",
        "df_optimized_chunk = pd.concat(chunk_list, ignore_index=True)\n",
        "end_load_optimized_chunk = time.time()\n",
        "\n",
        "memory_usage_optimized_chunk = df_optimized_chunk.memory_usage(deep=True).sum() / (1024 * 1024)\n",
        "\n",
        "print(\"✅ Step 2: Chunking - All Columns\")\n",
        "print(f\"📦 Memory usage: {memory_usage_optimized_chunk:.2f} MB\")\n",
        "print(f\"⏱️ Load time: {end_load_optimized_chunk - start_load_optimized_chunk:.4f} sec\\n\")\n",
        "\n",
        "# ==============================\n",
        "# ✅ Step 3: Optimize Data Types\n",
        "# ==============================\n",
        "start_load_optimized_dtype = time.time()\n",
        "df_optimized_dtype = pd.read_csv(csv_path)\n",
        "end_load_optimized_dtype = time.time()\n",
        "\n",
        "# 📌 Function to optimize data types\n",
        "def optimize_dtypes(df):\n",
        "    for col in df.columns:\n",
        "        col_type = df[col].dtype\n",
        "        if col_type == 'object':\n",
        "            num_unique_values = df[col].nunique()\n",
        "            num_total_values = len(df[col])\n",
        "            if num_unique_values / num_total_values < 0.5:\n",
        "                df[col] = df[col].astype('category')\n",
        "        elif col_type == 'int64':\n",
        "            df[col] = pd.to_numeric(df[col], downcast='integer')\n",
        "        elif col_type == 'float64':\n",
        "            df[col] = pd.to_numeric(df[col], downcast='float')\n",
        "    return df\n",
        "\n",
        "start_optimize_dtype = time.time()\n",
        "df_optimized_dtype = optimize_dtypes(df_optimized_dtype)\n",
        "end_optimize_dtype = time.time()\n",
        "\n",
        "memory_usage_optimized_dtype = df_optimized_dtype.memory_usage(deep=True).sum() / (1024 * 1024)\n",
        "\n",
        "print(\"✅ Step 3: Optimize Data Types - All Columns\")\n",
        "print(f\"📦 Memory usage: {memory_usage_optimized_dtype:.2f} MB\")\n",
        "print(f\"⏱️ Load time: {end_load_optimized_dtype - start_load_optimized_dtype:.4f} sec\")\n",
        "print(f\"⚙️ Optimization time: {end_optimize_dtype - start_optimize_dtype:.4f} sec\\n\")\n",
        "\n",
        "# ==============================\n",
        "# ✅ Step 4: Sampling\n",
        "# ==============================\n",
        "start_time_pandas_optimized_sampling = time.time()\n",
        "df_pandas = pd.read_csv(csv_path)\n",
        "end_time_pandas_load_pandas_optimized_sampling = time.time()\n",
        "\n",
        "start_time__pandas_optimized_sampling = time.time()\n",
        "df_sampled = df_pandas.sample(frac=0.1, random_state=42)  # 10% random sampling\n",
        "end_time_pandas_optimized_sampling = time.time()\n",
        "\n",
        "memory_usage__pandas_optimized_sampling = df_sampled.memory_usage(deep=True).sum() / (1024 * 1024)\n",
        "\n",
        "execution_time_pandas_load_optimized_sampling = end_time_pandas_load_pandas_optimized_sampling - start_time_pandas_optimized_sampling\n",
        "execution_time_pandas_optimized_sampling = end_time_pandas_optimized_sampling - start_time__pandas_optimized_sampling\n",
        "\n",
        "# Example processing: scaling 'Similarity Score 1' column\n",
        "start_time_processing_pandas_optimized_sampling = time.time()\n",
        "if 'Similarity Score 1' in df_sampled.columns:\n",
        "    df_sampled['Similarity Score 1'] = (df_sampled['Similarity Score 1'] - df_sampled['Similarity Score 1'].mean()) / df_sampled['Similarity Score 1'].std()\n",
        "end_time_processing_pandas_optimized_sampling = time.time()\n",
        "execution_time_processing_pandas_optimized_sampling = end_time_processing_pandas_optimized_sampling - start_time_processing_pandas_optimized_sampling\n",
        "\n",
        "print(\"✅ Step 4: Sampling\")\n",
        "print(f\"📦 Memory usage after sampling: {memory_usage__pandas_optimized_sampling:.2f} MB\")\n",
        "print(f\"⏱️ Load time (full dataset): {execution_time_pandas_load_optimized_sampling:.4f} sec\")\n",
        "print(f\"⏱️ Sampling time: {execution_time_pandas_optimized_sampling:.4f} sec\")\n",
        "print(f\"⚙️ Processing time (scaling Similarity Score 1): {execution_time_processing_pandas_optimized_sampling:.9f} sec\")"
      ],
      "metadata": {
        "colab": {
          "base_uri": "https://localhost:8080/"
        },
        "id": "lKTEY1wJPNcC",
        "outputId": "9633ba3c-507c-4380-9fbe-b508e68a7823"
      },
      "execution_count": null,
      "outputs": [
        {
          "output_type": "stream",
          "name": "stdout",
          "text": [
            "✅ Step 1: Load Less Data\n",
            "📦 Memory usage: 1790.17 MB\n",
            "⏱️ Load time: 21.1007 sec\n",
            "\n",
            "✅ Step 2: Chunking - All Columns\n",
            "📦 Memory usage: 1950.00 MB\n",
            "⏱️ Load time: 21.6816 sec\n",
            "\n",
            "✅ Step 3: Optimize Data Types - All Columns\n",
            "📦 Memory usage: 1766.80 MB\n",
            "⏱️ Load time: 21.6686 sec\n",
            "⚙️ Optimization time: 10.7711 sec\n",
            "\n",
            "✅ Step 4: Sampling\n",
            "📦 Memory usage after sampling: 195.08 MB\n",
            "⏱️ Load time (full dataset): 25.0614 sec\n",
            "⏱️ Sampling time: 0.5254 sec\n",
            "⚙️ Processing time (scaling Similarity Score 1): 0.001819372 sec\n"
          ]
        }
      ]
    },
    {
      "cell_type": "markdown",
      "source": [
        "## Part 3: Comparative Analysis between Pandas, Polars, and Dask for Full Dataset Loading"
      ],
      "metadata": {
        "id": "U-Q_QRbFtVZ2"
      }
    },
    {
      "cell_type": "markdown",
      "source": [
        "### 1. Pandas"
      ],
      "metadata": {
        "id": "tXGDkMVtu-NC"
      }
    },
    {
      "cell_type": "code",
      "source": [
        "# Start measuring execution time\n",
        "start_time_pandas = time.time()\n",
        "\n",
        "# Load dataset with Pandas\n",
        "df_pandas = pd.read_csv(csv_path)\n",
        "\n",
        "# Measure memory usage\n",
        "memory_usage_pandas = df_pandas.memory_usage(deep=True).sum()  # In bytes\n",
        "memory_usage_MB_pandas = memory_usage_pandas / (1024 * 1024)  # Convert bytes to MB\n",
        "\n",
        "# Stop timer and calculate execution time\n",
        "execution_time_pandas = time.time() - start_time_pandas\n",
        "\n",
        "# Display results\n",
        "print(f\"Memory usage of loading dataset using pandas: {memory_usage_MB_pandas:.2f} MB\")\n",
        "print(f\"Execution time for loading dataset using pandas: {execution_time_pandas:.2f} seconds\")"
      ],
      "metadata": {
        "colab": {
          "base_uri": "https://localhost:8080/"
        },
        "id": "FiSjtojOu9pH",
        "outputId": "8ed3a46d-f2ec-4fd2-bea2-2b721d0d9a80"
      },
      "execution_count": null,
      "outputs": [
        {
          "output_type": "stream",
          "name": "stdout",
          "text": [
            "Memory usage of loading dataset using pandas: 1950.00 MB\n",
            "Execution time for loading dataset using pandas: 18.54 seconds\n"
          ]
        }
      ]
    },
    {
      "cell_type": "markdown",
      "source": [
        "### 2. Polars"
      ],
      "metadata": {
        "id": "qo2RmusMwJBU"
      }
    },
    {
      "cell_type": "code",
      "source": [
        "import polars as pl\n",
        "import psutil\n",
        "\n",
        "# Start measuring time and memory\n",
        "process = psutil.Process(os.getpid())\n",
        "start_time_polars = time.time()\n",
        "start_mem_polars = process.memory_info().rss\n",
        "\n",
        "# Load dataset with Polars\n",
        "df_polars = pl.read_csv(csv_path)\n",
        "\n",
        "# End measuring\n",
        "end_time_polars = time.time()\n",
        "end_mem_polars = process.memory_info().rss\n",
        "\n",
        "# Calculate memory and time\n",
        "memory_usage_MB_polars = (end_mem_polars - start_mem_polars) / (1024 * 1024)\n",
        "execution_time_polars = end_time_polars - start_time_polars\n",
        "\n",
        "# Display results\n",
        "print(f\"Memory usage of loading dataset using Polars: {memory_usage_MB_polars:.2f} MB\")\n",
        "print(f\"Execution time for loading dataset using Polars: {execution_time_polars:.2f} seconds\")"
      ],
      "metadata": {
        "colab": {
          "base_uri": "https://localhost:8080/"
        },
        "id": "h9RZi1WOwBmQ",
        "outputId": "aca0fdd4-8198-4d3b-da66-897dd856ea7e"
      },
      "execution_count": null,
      "outputs": [
        {
          "output_type": "stream",
          "name": "stdout",
          "text": [
            "Memory usage of loading dataset using Polars: 1268.51 MB\n",
            "Execution time for loading dataset using Polars: 2.88 seconds\n"
          ]
        }
      ]
    },
    {
      "cell_type": "markdown",
      "source": [
        "### 3. Dask"
      ],
      "metadata": {
        "id": "y3x6pXHLwTfU"
      }
    },
    {
      "cell_type": "code",
      "source": [
        "import dask.dataframe as dd\n",
        "from dask.diagnostics import ProgressBar\n",
        "\n",
        "# Start measuring time and memory\n",
        "start_time_dask = time.time()\n",
        "start_mem_dask = process.memory_info().rss\n",
        "\n",
        "# Load dataset with Dask\n",
        "df_dask = dd.read_csv(csv_path)\n",
        "\n",
        "# Trigger computation to load metadata\n",
        "with ProgressBar():\n",
        "    df_dask.head(1)  # Light trigger to ensure it's read\n",
        "\n",
        "# End measuring\n",
        "end_time_dask = time.time()\n",
        "end_mem_dask = process.memory_info().rss\n",
        "\n",
        "# Calculate memory and time\n",
        "memory_usage_MB_dask = (end_mem_dask - start_mem_dask) / (1024 * 1024)\n",
        "execution_time_dask = end_time_dask - start_time_dask\n",
        "\n",
        "# Display results\n",
        "print(f\"Memory usage of loading dataset using Dask: {memory_usage_MB_dask:.2f} MB\")\n",
        "print(f\"Execution time for loading dataset using Dask: {execution_time_dask:.2f} seconds\")"
      ],
      "metadata": {
        "colab": {
          "base_uri": "https://localhost:8080/"
        },
        "id": "3r3qMvhZwVu8",
        "outputId": "930b2fba-c8b2-490a-a5b3-9af1e679fb58"
      },
      "execution_count": null,
      "outputs": [
        {
          "output_type": "stream",
          "name": "stdout",
          "text": [
            "[########################################] | 100% Completed | 1.29 s\n",
            "Memory usage of loading dataset using Dask: 112.71 MB\n",
            "Execution time for loading dataset using Dask: 2.88 seconds\n"
          ]
        }
      ]
    },
    {
      "cell_type": "markdown",
      "source": [
        "### 4. Comparison between 3 Libraries"
      ],
      "metadata": {
        "id": "u7divgkBw09I"
      }
    },
    {
      "cell_type": "code",
      "source": [
        "import matplotlib.pyplot as plt\n",
        "\n",
        "# Your data\n",
        "tools = ['Pandas', 'Polars', 'Dask']\n",
        "memory_usage = [memory_usage_MB_pandas, memory_usage_MB_polars, memory_usage_MB_dask]  # Memory in MB\n",
        "execution_time = [execution_time_pandas, execution_time_polars, execution_time_dask]    # Time in seconds\n",
        "\n",
        "# Custom colors\n",
        "colors_memory = ['skyblue', 'lightgreen', 'salmon']\n",
        "colors_time = ['orange', 'purple', 'teal']\n",
        "\n",
        "# Create side-by-side subplots\n",
        "fig, axes = plt.subplots(1, 2, figsize=(10, 6))\n",
        "\n",
        "# Memory Usage plot\n",
        "bars1 = axes[0].bar(tools, memory_usage, color=colors_memory, width=0.6)\n",
        "axes[0].set_ylabel('Memory Usage (MB)')\n",
        "axes[0].set_title('Memory Usage by Library')\n",
        "axes[0].bar_label(bars1, fmt='%.1f', padding=3)\n",
        "\n",
        "# Execution Time plot\n",
        "bars2 = axes[1].bar(tools, execution_time, color=colors_time, width=0.6)\n",
        "axes[1].set_ylabel('Execution Time (seconds)')\n",
        "axes[1].set_title('Execution Time by Library')\n",
        "axes[1].bar_label(bars2, fmt='%.2f', padding=3)\n",
        "\n",
        "# Adjust layout\n",
        "plt.tight_layout()\n",
        "plt.show()"
      ],
      "metadata": {
        "colab": {
          "base_uri": "https://localhost:8080/",
          "height": 607
        },
        "id": "OgSHWpEIybJr",
        "outputId": "7df09f3f-2694-422d-bd61-8d9cd75c81d1"
      },
      "execution_count": null,
      "outputs": [
        {
          "output_type": "display_data",
          "data": {
            "text/plain": [
              "<Figure size 1000x600 with 2 Axes>"
            ],
            "image/png": "[encoded data removed]"
          },
          "metadata": {}
        }
      ]
    }
  ]
}