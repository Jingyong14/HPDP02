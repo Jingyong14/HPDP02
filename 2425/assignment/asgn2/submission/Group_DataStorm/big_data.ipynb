{
  "cells": [
    {
      "cell_type": "markdown",
      "source": [
        "#**HPDP ASSIGNMENT 2**\n",
        "##**Mastering Big Data Handling**\n",
        "## Group - DataStorm\n",
        "| No. | Name                               | Matric Number |\n",
        "| --- | ---------------------------------- | ------------- |\n",
        "| 1   | NUR FARAH ADIBAH BINTI IDRIS     | A22EC0245     |\n",
        "| 2   | NUR ALEYSHA QURRATU'AINI BINTI MAT SALLEH  | A22EC0241    |\n",
        "\n"
      ],
      "metadata": {
        "id": "9I8uqz85kEHK"
      }
    },
    {
      "cell_type": "markdown",
      "source": [
        "### **Task 1: Dataset Selection**"
      ],
      "metadata": {
        "id": "P11t_TPMklKF"
      }
    },
    {
      "cell_type": "code",
      "execution_count": null,
      "metadata": {
        "colab": {
          "base_uri": "https://localhost:8080/",
          "height": 91
        },
        "id": "9oc38Qn4M2vt",
        "outputId": "00c33ab4-16b0-4b13-c6e0-fbacf33c6d42"
      },
      "outputs": [
        {
          "output_type": "display_data",
          "data": {
            "text/plain": [
              "<IPython.core.display.HTML object>"
            ],
            "text/html": [
              "\n",
              "     <input type=\"file\" id=\"files-604de096-fb84-4f59-b0dd-a14002613c43\" name=\"files[]\" multiple disabled\n",
              "        style=\"border:none\" />\n",
              "     <output id=\"result-604de096-fb84-4f59-b0dd-a14002613c43\">\n",
              "      Upload widget is only available when the cell has been executed in the\n",
              "      current browser session. Please rerun this cell to enable.\n",
              "      </output>\n",
              "      <script>// Copyright 2017 Google LLC\n",
              "//\n",
              "// Licensed under the Apache License, Version 2.0 (the \"License\");\n",
              "// you may not use this file except in compliance with the License.\n",
              "// You may obtain a copy of the License at\n",
              "//\n",
              "//      http://www.apache.org/licenses/LICENSE-2.0\n",
              "//\n",
              "// Unless required by applicable law or agreed to in writing, software\n",
              "// distributed under the License is distributed on an \"AS IS\" BASIS,\n",
              "// WITHOUT WARRANTIES OR CONDITIONS OF ANY KIND, either express or implied.\n",
              "// See the License for the specific language governing permissions and\n",
              "// limitations under the License.\n",
              "\n",
              "/**\n",
              " * @fileoverview Helpers for google.colab Python module.\n",
              " */\n",
              "(function(scope) {\n",
              "function span(text, styleAttributes = {}) {\n",
              "  const element = document.createElement('span');\n",
              "  element.textContent = text;\n",
              "  for (const key of Object.keys(styleAttributes)) {\n",
              "    element.style[key] = styleAttributes[key];\n",
              "  }\n",
              "  return element;\n",
              "}\n",
              "\n",
              "// Max number of bytes which will be uploaded at a time.\n",
              "const MAX_PAYLOAD_SIZE = 100 * 1024;\n",
              "\n",
              "function _uploadFiles(inputId, outputId) {\n",
              "  const steps = uploadFilesStep(inputId, outputId);\n",
              "  const outputElement = document.getElementById(outputId);\n",
              "  // Cache steps on the outputElement to make it available for the next call\n",
              "  // to uploadFilesContinue from Python.\n",
              "  outputElement.steps = steps;\n",
              "\n",
              "  return _uploadFilesContinue(outputId);\n",
              "}\n",
              "\n",
              "// This is roughly an async generator (not supported in the browser yet),\n",
              "// where there are multiple asynchronous steps and the Python side is going\n",
              "// to poll for completion of each step.\n",
              "// This uses a Promise to block the python side on completion of each step,\n",
              "// then passes the result of the previous step as the input to the next step.\n",
              "function _uploadFilesContinue(outputId) {\n",
              "  const outputElement = document.getElementById(outputId);\n",
              "  const steps = outputElement.steps;\n",
              "\n",
              "  const next = steps.next(outputElement.lastPromiseValue);\n",
              "  return Promise.resolve(next.value.promise).then((value) => {\n",
              "    // Cache the last promise value to make it available to the next\n",
              "    // step of the generator.\n",
              "    outputElement.lastPromiseValue = value;\n",
              "    return next.value.response;\n",
              "  });\n",
              "}\n",
              "\n",
              "/**\n",
              " * Generator function which is called between each async step of the upload\n",
              " * process.\n",
              " * @param {string} inputId Element ID of the input file picker element.\n",
              " * @param {string} outputId Element ID of the output display.\n",
              " * @return {!Iterable<!Object>} Iterable of next steps.\n",
              " */\n",
              "function* uploadFilesStep(inputId, outputId) {\n",
              "  const inputElement = document.getElementById(inputId);\n",
              "  inputElement.disabled = false;\n",
              "\n",
              "  const outputElement = document.getElementById(outputId);\n",
              "  outputElement.innerHTML = '';\n",
              "\n",
              "  const pickedPromise = new Promise((resolve) => {\n",
              "    inputElement.addEventListener('change', (e) => {\n",
              "      resolve(e.target.files);\n",
              "    });\n",
              "  });\n",
              "\n",
              "  const cancel = document.createElement('button');\n",
              "  inputElement.parentElement.appendChild(cancel);\n",
              "  cancel.textContent = 'Cancel upload';\n",
              "  const cancelPromise = new Promise((resolve) => {\n",
              "    cancel.onclick = () => {\n",
              "      resolve(null);\n",
              "    };\n",
              "  });\n",
              "\n",
              "  // Wait for the user to pick the files.\n",
              "  const files = yield {\n",
              "    promise: Promise.race([pickedPromise, cancelPromise]),\n",
              "    response: {\n",
              "      action: 'starting',\n",
              "    }\n",
              "  };\n",
              "\n",
              "  cancel.remove();\n",
              "\n",
              "  // Disable the input element since further picks are not allowed.\n",
              "  inputElement.disabled = true;\n",
              "\n",
              "  if (!files) {\n",
              "    return {\n",
              "      response: {\n",
              "        action: 'complete',\n",
              "      }\n",
              "    };\n",
              "  }\n",
              "\n",
              "  for (const file of files) {\n",
              "    const li = document.createElement('li');\n",
              "    li.append(span(file.name, {fontWeight: 'bold'}));\n",
              "    li.append(span(\n",
              "        `(${file.type || 'n/a'}) - ${file.size} bytes, ` +\n",
              "        `last modified: ${\n",
              "            file.lastModifiedDate ? file.lastModifiedDate.toLocaleDateString() :\n",
              "                                    'n/a'} - `));\n",
              "    const percent = span('0% done');\n",
              "    li.appendChild(percent);\n",
              "\n",
              "    outputElement.appendChild(li);\n",
              "\n",
              "    const fileDataPromise = new Promise((resolve) => {\n",
              "      const reader = new FileReader();\n",
              "      reader.onload = (e) => {\n",
              "        resolve(e.target.result);\n",
              "      };\n",
              "      reader.readAsArrayBuffer(file);\n",
              "    });\n",
              "    // Wait for the data to be ready.\n",
              "    let fileData = yield {\n",
              "      promise: fileDataPromise,\n",
              "      response: {\n",
              "        action: 'continue',\n",
              "      }\n",
              "    };\n",
              "\n",
              "    // Use a chunked sending to avoid message size limits. See b/62115660.\n",
              "    let position = 0;\n",
              "    do {\n",
              "      const length = Math.min(fileData.byteLength - position, MAX_PAYLOAD_SIZE);\n",
              "      const chunk = new Uint8Array(fileData, position, length);\n",
              "      position += length;\n",
              "\n",
              "      const base64 = btoa(String.fromCharCode.apply(null, chunk));\n",
              "      yield {\n",
              "        response: {\n",
              "          action: 'append',\n",
              "          file: file.name,\n",
              "          data: base64,\n",
              "        },\n",
              "      };\n",
              "\n",
              "      let percentDone = fileData.byteLength === 0 ?\n",
              "          100 :\n",
              "          Math.round((position / fileData.byteLength) * 100);\n",
              "      percent.textContent = `${percentDone}% done`;\n",
              "\n",
              "    } while (position < fileData.byteLength);\n",
              "  }\n",
              "\n",
              "  // All done.\n",
              "  yield {\n",
              "    response: {\n",
              "      action: 'complete',\n",
              "    }\n",
              "  };\n",
              "}\n",
              "\n",
              "scope.google = scope.google || {};\n",
              "scope.google.colab = scope.google.colab || {};\n",
              "scope.google.colab._files = {\n",
              "  _uploadFiles,\n",
              "  _uploadFilesContinue,\n",
              "};\n",
              "})(self);\n",
              "</script> "
            ]
          },
          "metadata": {}
        },
        {
          "output_type": "stream",
          "name": "stdout",
          "text": [
            "Saving kaggle.json to kaggle.json\n"
          ]
        },
        {
          "output_type": "execute_result",
          "data": {
            "text/plain": [
              "{'kaggle.json': b'{\"username\":\"nurfarahadibah\",\"key\":\"e76464558a1ee2ba4c8ddf19c84739c1\"}'}"
            ]
          },
          "metadata": {},
          "execution_count": 2
        }
      ],
      "source": [
        "from google.colab import files\n",
        "files.upload()"
      ]
    },
    {
      "cell_type": "code",
      "execution_count": null,
      "metadata": {
        "id": "PB-A2YG3PxZp"
      },
      "outputs": [],
      "source": [
        "!mkdir -p ~/.kaggle\n",
        "!mv kaggle.json ~/.kaggle/\n",
        "!chmod 600 ~/.kaggle/kaggle.json"
      ]
    },
    {
      "cell_type": "code",
      "execution_count": null,
      "metadata": {
        "id": "_Z77V0O1P-0A"
      },
      "outputs": [],
      "source": [
        "!pip install -q kaggle"
      ]
    },
    {
      "cell_type": "code",
      "execution_count": null,
      "metadata": {
        "colab": {
          "base_uri": "https://localhost:8080/"
        },
        "id": "ok9MAGZLQEQc",
        "outputId": "5a26a2e3-f549-4559-f9ef-25ca52ea017b"
      },
      "outputs": [
        {
          "output_type": "stream",
          "name": "stdout",
          "text": [
            "Dataset URL: https://www.kaggle.com/datasets/ismetsemedov/transactions\n",
            "License(s): apache-2.0\n",
            "transactions.zip: Skipping, found more recently modified local copy (use --force to force download)\n"
          ]
        }
      ],
      "source": [
        "!kaggle datasets download -d ismetsemedov/transactions"
      ]
    },
    {
      "cell_type": "code",
      "execution_count": null,
      "metadata": {
        "colab": {
          "base_uri": "https://localhost:8080/"
        },
        "id": "2jtYVLuKQH-1",
        "outputId": "c5d80ded-4d23-4587-b5c0-566b9447db91"
      },
      "outputs": [
        {
          "output_type": "stream",
          "name": "stdout",
          "text": [
            "Archive:  transactions.zip\n",
            "replace synthetic_fraud_data.csv? [y]es, [n]o, [A]ll, [N]one, [r]ename: Y\n",
            "  inflating: synthetic_fraud_data.csv  \n"
          ]
        }
      ],
      "source": [
        "!unzip transactions.zip"
      ]
    },
    {
      "cell_type": "markdown",
      "source": [
        "###**Task 2: Load and Inspect Data**"
      ],
      "metadata": {
        "id": "H3AvwVybk_BS"
      }
    },
    {
      "cell_type": "code",
      "source": [
        "import pandas as pd\n",
        "import time\n",
        "import psutil\n",
        "import os\n",
        "\n",
        "# Start memory usage and execution time\n",
        "process = psutil.Process(os.getpid())\n",
        "start_memory = process.memory_info().rss / (1024 ** 2) # in MB\n",
        "start_time = time.time()\n",
        "\n",
        "# Load dataset\n",
        "df = pd.read_csv(\"synthetic_fraud_data.csv\")\n",
        "\n",
        "# Basic inspection (shape, column names, datatypes)\n",
        "print(\"Shape:\", df.shape)\n",
        "print(\"\\nColumn Names:\", df.columns.tolist())\n",
        "print(\"\\nData Types:\\n\", df.dtypes)\n",
        "print(\"\\nSample Data:\\n\", df.head())\n",
        "\n",
        "# End execution time\n",
        "end_memory = process.memory_info().rss / (1024 ** 2) # in MB\n",
        "end_time = time.time()\n",
        "execution_time = end_time - start_time\n",
        "memory_used = end_memory - start_memory\n",
        "\n",
        "# Performance\n",
        "print(\"\\nPerformance Measurement with Pandas\")\n",
        "print(f\"Execution Time: {execution_time:.2f} seconds\")\n",
        "print(f\"Memory Used During Load: {memory_used:.2f} MB\")"
      ],
      "metadata": {
        "colab": {
          "base_uri": "https://localhost:8080/"
        },
        "id": "uB5uG32AlClz",
        "outputId": "b111eb50-f237-4bbc-f877-fe14e3071ac9"
      },
      "execution_count": null,
      "outputs": [
        {
          "output_type": "stream",
          "name": "stdout",
          "text": [
            "Shape: (7483766, 24)\n",
            "\n",
            "Column Names: ['transaction_id', 'customer_id', 'card_number', 'timestamp', 'merchant_category', 'merchant_type', 'merchant', 'amount', 'currency', 'country', 'city', 'city_size', 'card_type', 'card_present', 'device', 'channel', 'device_fingerprint', 'ip_address', 'distance_from_home', 'high_risk_merchant', 'transaction_hour', 'weekend_transaction', 'velocity_last_hour', 'is_fraud']\n",
            "\n",
            "Data Types:\n",
            " transaction_id          object\n",
            "customer_id             object\n",
            "card_number              int64\n",
            "timestamp               object\n",
            "merchant_category       object\n",
            "merchant_type           object\n",
            "merchant                object\n",
            "amount                 float64\n",
            "currency                object\n",
            "country                 object\n",
            "city                    object\n",
            "city_size               object\n",
            "card_type               object\n",
            "card_present              bool\n",
            "device                  object\n",
            "channel                 object\n",
            "device_fingerprint      object\n",
            "ip_address              object\n",
            "distance_from_home       int64\n",
            "high_risk_merchant        bool\n",
            "transaction_hour         int64\n",
            "weekend_transaction       bool\n",
            "velocity_last_hour      object\n",
            "is_fraud                  bool\n",
            "dtype: object\n",
            "\n",
            "Sample Data:\n",
            "   transaction_id customer_id       card_number  \\\n",
            "0    TX_a0ad2a2a  CUST_72886  6646734767813109   \n",
            "1    TX_3599c101  CUST_70474   376800864692727   \n",
            "2    TX_a9461c6d  CUST_10715  5251909460951913   \n",
            "3    TX_7be21fc4  CUST_16193   376079286931183   \n",
            "4    TX_150f490b  CUST_87572  6172948052178810   \n",
            "\n",
            "                          timestamp merchant_category merchant_type  \\\n",
            "0  2024-09-30 00:00:01.034820+00:00        Restaurant     fast_food   \n",
            "1  2024-09-30 00:00:01.764464+00:00     Entertainment        gaming   \n",
            "2  2024-09-30 00:00:02.273762+00:00           Grocery      physical   \n",
            "3  2024-09-30 00:00:02.297466+00:00               Gas         major   \n",
            "4  2024-09-30 00:00:02.544063+00:00        Healthcare       medical   \n",
            "\n",
            "         merchant     amount currency    country  ...   device channel  \\\n",
            "0       Taco Bell     294.87      GBP         UK  ...  iOS App  mobile   \n",
            "1           Steam    3368.97      BRL     Brazil  ...     Edge     web   \n",
            "2     Whole Foods  102582.38      JPY      Japan  ...  Firefox     web   \n",
            "3           Exxon     630.60      AUD  Australia  ...  iOS App  mobile   \n",
            "4  Medical Center  724949.27      NGN    Nigeria  ...   Chrome     web   \n",
            "\n",
            "                 device_fingerprint       ip_address distance_from_home  \\\n",
            "0  e8e6160445c935fd0001501e4cbac8bc   197.153.60.199                  0   \n",
            "1  a73043a57091e775af37f252b3a32af9  208.123.221.203                  1   \n",
            "2  218864e94ceaa41577d216b149722261   10.194.159.204                  0   \n",
            "3  70423fa3a1e74d01203cf93b51b9631d   17.230.177.225                  0   \n",
            "4  9880776c7b6038f2af86bd4e18a1b1a4  136.241.219.151                  1   \n",
            "\n",
            "  high_risk_merchant transaction_hour weekend_transaction  \\\n",
            "0              False                0               False   \n",
            "1               True                0               False   \n",
            "2              False                0               False   \n",
            "3              False                0               False   \n",
            "4              False                0               False   \n",
            "\n",
            "                                  velocity_last_hour  is_fraud  \n",
            "0  {'num_transactions': 1197, 'total_amount': 334...     False  \n",
            "1  {'num_transactions': 509, 'total_amount': 2011...      True  \n",
            "2  {'num_transactions': 332, 'total_amount': 3916...     False  \n",
            "3  {'num_transactions': 764, 'total_amount': 2201...     False  \n",
            "4  {'num_transactions': 218, 'total_amount': 4827...      True  \n",
            "\n",
            "[5 rows x 24 columns]\n",
            "\n",
            "Performance Measurement with Pandas\n",
            "Execution Time: 91.04 seconds\n",
            "Memory Used During Load: 4692.40 MB\n"
          ]
        }
      ]
    },
    {
      "cell_type": "markdown",
      "source": [
        "### **Task 3: Apply Big Data Handling Strategies**"
      ],
      "metadata": {
        "id": "8vx4qXUZlC4j"
      }
    },
    {
      "cell_type": "markdown",
      "source": [
        "#### Pandas"
      ],
      "metadata": {
        "id": "x-o2fECrlLFK"
      }
    },
    {
      "cell_type": "code",
      "source": [
        "import pandas as pd\n",
        "\n",
        "\n",
        "# Start memory and time tracking\n",
        "process = psutil.Process(os.getpid())\n",
        "start_memory = process.memory_info().rss / (1024 ** 2)\n",
        "start_time = time.time()\n",
        "\n",
        "# 1. Load Less Data: Load only selected useful columns once\n",
        "df = pd.read_csv(\n",
        "    \"synthetic_fraud_data.csv\",\n",
        "    usecols=[\"transaction_id\", \"customer_id\", \"amount\", \"country\", \"city\", \"card_type\"]\n",
        ")\n",
        "print(\"Load Less Data:\\n\", df.head(), \"\\n\")\n",
        "\n",
        "# 2. Chunking: Simulate processing in chunks (e.g., count rows with amount > 100)\n",
        "chunk_size = 100_000\n",
        "amount_over_100 = 0\n",
        "for chunk in pd.read_csv(\"synthetic_fraud_data.csv\", usecols=[\"amount\"], chunksize=chunk_size):\n",
        "    amount_over_100 += (chunk[\"amount\"] > 100).sum()\n",
        "print(\"Chunking (amount > 100):\", amount_over_100, \"\\n\")\n",
        "\n",
        "# 3. Optimize Data Types\n",
        "df_optimized = df.copy()\n",
        "df_optimized[\"customer_id\"] = df_optimized[\"customer_id\"].astype(\"category\")\n",
        "df_optimized[\"amount\"] = df_optimized[\"amount\"].astype(\"float32\")\n",
        "df_optimized[\"country\"] = df_optimized[\"country\"].astype(\"category\")\n",
        "df_optimized[\"city\"] = df_optimized[\"city\"].astype(\"category\")\n",
        "df_optimized[\"card_type\"] = df_optimized[\"card_type\"].astype(\"category\")\n",
        "print(\"Optimized Data Types:\\n\", df_optimized.dtypes, \"\\n\")\n",
        "\n",
        "# 4. Sampling: Random sample of 10,000 rows\n",
        "sampled_df = df_optimized.sample(n=10_000, random_state=42)\n",
        "print(\"Sampling:\\n\", sampled_df.head(), \"\\n\")\n",
        "\n",
        "# 5. Parallel Processing Simulation: Group by card_type and sum amount\n",
        "# Note: pandas itself is single-threaded but handles large operations efficiently.\n",
        "result_parallel = (\n",
        "    df_optimized.groupby(\"card_type\", observed=True)[\"amount\"]\n",
        "    .sum()\n",
        "    .round(2)\n",
        "    .reset_index()\n",
        ")\n",
        "# Format to two decimal places as string for consistent output\n",
        "result_parallel[\"amount\"] = result_parallel[\"amount\"].map(lambda x: f\"{x:.2f}\")\n",
        "print(\"Parallel Processing (Grouped Sum with 2 decimals):\\n\", result_parallel, \"\\n\")\n",
        "\n",
        "# End memory and time tracking\n",
        "end_memory = process.memory_info().rss / (1024 ** 2)\n",
        "end_time = time.time()\n",
        "execution_time_pandas = end_time - start_time\n",
        "memory_used_pandas = end_memory - start_memory\n",
        "\n",
        "# Performance Summary\n",
        "print(\"Performance Measurement with Pandas\")\n",
        "print(f\"Execution Time: {execution_time_pandas:.2f} seconds\")\n",
        "print(f\"Memory Used During Process: {memory_used_pandas:.2f} MB\")\n"
      ],
      "metadata": {
        "colab": {
          "base_uri": "https://localhost:8080/"
        },
        "id": "DlbYcO-QlJQ7",
        "outputId": "6dff4479-96ed-44b7-bc9f-69ef024d9a70"
      },
      "execution_count": null,
      "outputs": [
        {
          "output_type": "stream",
          "name": "stdout",
          "text": [
            "Load Less Data:\n",
            "   transaction_id customer_id     amount    country          city  \\\n",
            "0    TX_a0ad2a2a  CUST_72886     294.87         UK  Unknown City   \n",
            "1    TX_3599c101  CUST_70474    3368.97     Brazil  Unknown City   \n",
            "2    TX_a9461c6d  CUST_10715  102582.38      Japan  Unknown City   \n",
            "3    TX_7be21fc4  CUST_16193     630.60  Australia  Unknown City   \n",
            "4    TX_150f490b  CUST_87572  724949.27    Nigeria  Unknown City   \n",
            "\n",
            "         card_type  \n",
            "0  Platinum Credit  \n",
            "1  Platinum Credit  \n",
            "2  Platinum Credit  \n",
            "3    Premium Debit  \n",
            "4      Basic Debit   \n",
            "\n",
            "Chunking (amount > 100): 6981902 \n",
            "\n",
            "Optimized Data Types:\n",
            " transaction_id      object\n",
            "customer_id       category\n",
            "amount             float32\n",
            "country           category\n",
            "city              category\n",
            "card_type         category\n",
            "dtype: object \n",
            "\n",
            "Sampling:\n",
            "         transaction_id customer_id       amount country          city  \\\n",
            "543612     TX_8ab03451  CUST_45506   544.429993  Brazil  Unknown City   \n",
            "1940295    TX_9b278186  CUST_60434     1.460000  Canada  Unknown City   \n",
            "6913787    TX_7f80b3c4  CUST_47739   158.729996  Canada  Unknown City   \n",
            "869785     TX_7202f8a2  CUST_77691  1074.569946  Brazil  Unknown City   \n",
            "4680413    TX_75f107d6  CUST_86097  1399.640015  Mexico  Unknown City   \n",
            "\n",
            "            card_type  \n",
            "543612    Basic Debit  \n",
            "1940295  Basic Credit  \n",
            "6913787   Basic Debit  \n",
            "869785   Basic Credit  \n",
            "4680413   Basic Debit   \n",
            "\n",
            "Parallel Processing (Grouped Sum with 2 decimals):\n",
            "          card_type           amount\n",
            "0     Basic Credit   53555568640.00\n",
            "1      Basic Debit   50079768576.00\n",
            "2      Gold Credit   71421206528.00\n",
            "3  Platinum Credit  115483787264.00\n",
            "4    Premium Debit   68116795392.00 \n",
            "\n",
            "Performance Measurement with Pandas\n",
            "Execution Time: 65.20 seconds\n",
            "Memory Used During Process: 1175.30 MB\n"
          ]
        }
      ]
    },
    {
      "cell_type": "markdown",
      "source": [
        "####Dask"
      ],
      "metadata": {
        "id": "6gy-pOfolOj1"
      }
    },
    {
      "cell_type": "code",
      "execution_count": null,
      "metadata": {
        "colab": {
          "base_uri": "https://localhost:8080/"
        },
        "id": "934rnw9eTGj-",
        "outputId": "6c69a482-3055-43e6-a39b-9b82301a001b"
      },
      "outputs": [
        {
          "output_type": "stream",
          "name": "stdout",
          "text": [
            "Load Less Data:\n",
            "   transaction_id customer_id     amount    country          city  \\\n",
            "0    TX_a0ad2a2a  CUST_72886     294.87         UK  Unknown City   \n",
            "1    TX_3599c101  CUST_70474    3368.97     Brazil  Unknown City   \n",
            "2    TX_a9461c6d  CUST_10715  102582.38      Japan  Unknown City   \n",
            "3    TX_7be21fc4  CUST_16193     630.60  Australia  Unknown City   \n",
            "4    TX_150f490b  CUST_87572  724949.27    Nigeria  Unknown City   \n",
            "\n",
            "         card_type  \n",
            "0  Platinum Credit  \n",
            "1  Platinum Credit  \n",
            "2  Platinum Credit  \n",
            "3    Premium Debit  \n",
            "4      Basic Debit   \n",
            "\n",
            "Chunking Alternative (Lazy Evaluation):\n",
            "   transaction_id     amount\n",
            "0    TX_a0ad2a2a     294.87\n",
            "1    TX_3599c101    3368.97\n",
            "2    TX_a9461c6d  102582.38\n",
            "3    TX_7be21fc4     630.60\n",
            "4    TX_150f490b  724949.27 \n",
            "\n",
            "Optimize data dtypes:\n",
            "   transaction_id customer_id         amount    country          city  \\\n",
            "0    TX_a0ad2a2a  CUST_72886     294.869995         UK  Unknown City   \n",
            "1    TX_3599c101  CUST_70474    3368.969971     Brazil  Unknown City   \n",
            "2    TX_a9461c6d  CUST_10715  102582.382812      Japan  Unknown City   \n",
            "3    TX_7be21fc4  CUST_16193     630.599976  Australia  Unknown City   \n",
            "4    TX_150f490b  CUST_87572  724949.250000    Nigeria  Unknown City   \n",
            "\n",
            "         card_type  \n",
            "0  Platinum Credit  \n",
            "1  Platinum Credit  \n",
            "2  Platinum Credit  \n",
            "3    Premium Debit  \n",
            "4      Basic Debit   \n",
            "\n",
            "Sampling:\n",
            "        transaction_id customer_id       amount country          city  \\\n",
            "30002     TX_e5dd2829  CUST_22973   128.580002     USA        Dallas   \n",
            "62521     TX_83702fee  CUST_35247  3135.899902  Brazil  Unknown City   \n",
            "118144    TX_3670571f  CUST_23622   170.250000      UK  Unknown City   \n",
            "64051     TX_1e81a737  CUST_88731   792.869995  Canada  Unknown City   \n",
            "52325     TX_dd632e41  CUST_81349  1351.800049  Brazil  Unknown City   \n",
            "\n",
            "              card_type  \n",
            "30002       Gold Credit  \n",
            "62521   Platinum Credit  \n",
            "118144     Basic Credit  \n",
            "64051       Gold Credit  \n",
            "52325      Basic Credit   \n",
            "\n",
            "Parallel Processing (Grouped Sum):\n",
            "          card_type        amount      TotalAmount\n",
            "0  Platinum Credit  1.154838e+11  115483790941.73\n",
            "1      Gold Credit  7.142120e+10   71421203875.60\n",
            "2     Basic Credit  5.355557e+10   53555568491.95\n",
            "3    Premium Debit  6.811679e+10   68116793538.89\n",
            "4      Basic Debit  5.007977e+10   50079767813.62 \n",
            "\n",
            "Performance Measurement with Dask\n",
            "Execution Time: 43.99 seconds\n",
            "Memory Used During Load: 95.46 MB\n"
          ]
        }
      ],
      "source": [
        "import dask.dataframe as dd\n",
        "import time\n",
        "import psutil\n",
        "import os\n",
        "# Start memory usage and execution time\n",
        "process = psutil.Process(os.getpid())\n",
        "start_memory = process.memory_info().rss / (1024 ** 2)  # in MB\n",
        "start_time = time.time()\n",
        "\n",
        "# 1. Load dataset ONCE with selected columns (Load Less Data)\n",
        "df = dd.read_csv(\n",
        "    \"synthetic_fraud_data.csv\",\n",
        "    usecols=[\"transaction_id\", \"customer_id\", \"amount\", \"country\", \"city\", \"card_type\"]\n",
        ")\n",
        "print(\"Load Less Data:\\n\", df.head(), \"\\n\")\n",
        "\n",
        "# 2. Chunking Alternative - Dask does lazy evaluation by default\n",
        "filtered_lazy = df[df[\"amount\"] > 100][[\"transaction_id\", \"amount\"]]\n",
        "print(\"Chunking Alternative (Lazy Evaluation):\\n\", filtered_lazy.head(), \"\\n\")\n",
        "\n",
        "# 3. Optimize data types (manual cast for further memory savings)\n",
        "df_optimized = df.astype({\n",
        "    \"customer_id\": \"category\",\n",
        "    \"amount\": \"float32\",\n",
        "    \"country\": \"category\",\n",
        "    \"city\": \"category\",\n",
        "    \"card_type\": \"category\"\n",
        "})\n",
        "print(\"Optimize data dtypes:\\n\", df_optimized.head(), \"\\n\")\n",
        "\n",
        "# 4. Sampling (Dask does not support `.sample(n=...)` directly, so approximate)\n",
        "sampled_df = df_optimized.sample(frac=0.1, replace=False)  # Adjust frac as needed\n",
        "print(\"Sampling:\\n\", sampled_df.head(), \"\\n\")\n",
        "\n",
        "# 5. Parallel Processing (Group by card_type and sum amount)\n",
        "result_parallel = df.groupby(\"card_type\")[\"amount\"].sum().compute().reset_index()\n",
        "result_parallel[\"TotalAmount\"] = result_parallel[\"amount\"].map(lambda x: f\"{x:.2f}\")\n",
        "print(\"Parallel Processing (Grouped Sum):\\n\", result_parallel.head(), \"\\n\")\n",
        "\n",
        "# End execution time\n",
        "end_memory = process.memory_info().rss / (1024 ** 2)  # in MB\n",
        "end_time = time.time()\n",
        "execution_time_dask = end_time - start_time\n",
        "memory_used_dask = end_memory - start_memory\n",
        "\n",
        "# Performance\n",
        "print(\"Performance Measurement with Dask\")\n",
        "print(f\"Execution Time: {execution_time_dask:.2f} seconds\")\n",
        "print(f\"Memory Used During Load: {memory_used_dask:.2f} MB\")\n"
      ]
    },
    {
      "cell_type": "markdown",
      "source": [
        "####Polars"
      ],
      "metadata": {
        "id": "35ss8LZjlQyr"
      }
    },
    {
      "cell_type": "code",
      "source": [
        "import polars as pl\n",
        "\n",
        "# Start memory usage and execution time\n",
        "process = psutil.Process(os.getpid())\n",
        "start_memory = process.memory_info().rss / (1024 ** 2) # in MB\n",
        "start_time = time.time()\n",
        "\n",
        "# 1. Load dataset ONCE with selected columns (Load Less Data)\n",
        "df = pl.read_csv(\n",
        "    \"synthetic_fraud_data.csv\",\n",
        "    columns=[\"transaction_id\", \"customer_id\", \"amount\", \"country\", \"city\", \"card_type\"]\n",
        ")\n",
        "print(\"Load Less Data:\\n\", df.head(), \"\\n\")\n",
        "\n",
        "# 2. Lazy evaluation to simulate chunking / on-demand filtering (efficient alternative to pandas chunking)\n",
        "lazy_df = pl.scan_csv(\"synthetic_fraud_data.csv\")\n",
        "filtered_lazy = lazy_df.filter(pl.col(\"amount\") > 100).select([\"transaction_id\", \"amount\"]).collect()\n",
        "print(\"Chunking Alternative (Lazy Evaluation):\\n\", filtered_lazy.head(), \"\\n\")\n",
        "\n",
        "# 3. Optimize data types (manual cast for further memory savings)\n",
        "df_optimized = df.with_columns([\n",
        "    pl.col(\"customer_id\").cast(pl.Categorical),\n",
        "    pl.col(\"amount\").cast(pl.Float32),\n",
        "    pl.col(\"country\").cast(pl.Categorical),\n",
        "    pl.col(\"city\").cast(pl.Categorical),\n",
        "    pl.col(\"card_type\").cast(pl.Categorical)\n",
        "])\n",
        "print(\"Optimize data dtypes:\\n\", df_optimized.head(), \"\\n\")\n",
        "\n",
        "# 4. Sampling (Random Sample of 10,000 rows)\n",
        "sampled_df = df_optimized.sample(n=10_000, with_replacement=False)\n",
        "print(\"Sampling:\\n\", sampled_df.head(), \"\\n\")\n",
        "\n",
        "# 5. Parallel Processing (Group by card_type and sum amount)\n",
        "result_parallel = (\n",
        "    pl.scan_csv(\"synthetic_fraud_data.csv\")\n",
        "    .group_by(\"card_type\")\n",
        "    .agg(pl.col(\"amount\").sum().alias(\"TotalAmount\"))\n",
        "    .collect()\n",
        "    .with_columns([\n",
        "        pl.col(\"TotalAmount\").map_elements(lambda x: f\"{x:.2f}\").alias(\"TotalAmount\")\n",
        "    ])\n",
        ")\n",
        "print(\"Parallel Processing (Grouped Sum):\\n\", result_parallel.head())\n",
        "\n",
        "# End execution time\n",
        "end_memory = process.memory_info().rss / (1024 ** 2) # in MB\n",
        "end_time = time.time()\n",
        "execution_time_polars = end_time - start_time\n",
        "memory_used_polars = end_memory - start_memory\n",
        "\n",
        "# Performance\n",
        "print(\"\\nPerformance Measurement with Polars\")\n",
        "print(f\"Execution Time: {execution_time_polars:.2f} seconds\")\n",
        "print(f\"Memory Used During Load: {memory_used_polars:.2f} MB\")"
      ],
      "metadata": {
        "colab": {
          "base_uri": "https://localhost:8080/"
        },
        "id": "8yJosJhtljEF",
        "outputId": "bd0f3f2c-12b3-4dc0-c5af-7f49fd637448"
      },
      "execution_count": null,
      "outputs": [
        {
          "output_type": "stream",
          "name": "stdout",
          "text": [
            "Load Less Data:\n",
            " shape: (5, 6)\n",
            "┌────────────────┬─────────────┬───────────┬───────────┬──────────────┬─────────────────┐\n",
            "│ transaction_id ┆ customer_id ┆ amount    ┆ country   ┆ city         ┆ card_type       │\n",
            "│ ---            ┆ ---         ┆ ---       ┆ ---       ┆ ---          ┆ ---             │\n",
            "│ str            ┆ str         ┆ f64       ┆ str       ┆ str          ┆ str             │\n",
            "╞════════════════╪═════════════╪═══════════╪═══════════╪══════════════╪═════════════════╡\n",
            "│ TX_a0ad2a2a    ┆ CUST_72886  ┆ 294.87    ┆ UK        ┆ Unknown City ┆ Platinum Credit │\n",
            "│ TX_3599c101    ┆ CUST_70474  ┆ 3368.97   ┆ Brazil    ┆ Unknown City ┆ Platinum Credit │\n",
            "│ TX_a9461c6d    ┆ CUST_10715  ┆ 102582.38 ┆ Japan     ┆ Unknown City ┆ Platinum Credit │\n",
            "│ TX_7be21fc4    ┆ CUST_16193  ┆ 630.6     ┆ Australia ┆ Unknown City ┆ Premium Debit   │\n",
            "│ TX_150f490b    ┆ CUST_87572  ┆ 724949.27 ┆ Nigeria   ┆ Unknown City ┆ Basic Debit     │\n",
            "└────────────────┴─────────────┴───────────┴───────────┴──────────────┴─────────────────┘ \n",
            "\n",
            "Chunking Alternative (Lazy Evaluation):\n",
            " shape: (5, 2)\n",
            "┌────────────────┬───────────┐\n",
            "│ transaction_id ┆ amount    │\n",
            "│ ---            ┆ ---       │\n",
            "│ str            ┆ f64       │\n",
            "╞════════════════╪═══════════╡\n",
            "│ TX_a0ad2a2a    ┆ 294.87    │\n",
            "│ TX_3599c101    ┆ 3368.97   │\n",
            "│ TX_a9461c6d    ┆ 102582.38 │\n",
            "│ TX_7be21fc4    ┆ 630.6     │\n",
            "│ TX_150f490b    ┆ 724949.27 │\n",
            "└────────────────┴───────────┘ \n",
            "\n",
            "Optimize data dtypes:\n",
            " shape: (5, 6)\n",
            "┌────────────────┬─────────────┬───────────────┬───────────┬──────────────┬─────────────────┐\n",
            "│ transaction_id ┆ customer_id ┆ amount        ┆ country   ┆ city         ┆ card_type       │\n",
            "│ ---            ┆ ---         ┆ ---           ┆ ---       ┆ ---          ┆ ---             │\n",
            "│ str            ┆ cat         ┆ f32           ┆ cat       ┆ cat          ┆ cat             │\n",
            "╞════════════════╪═════════════╪═══════════════╪═══════════╪══════════════╪═════════════════╡\n",
            "│ TX_a0ad2a2a    ┆ CUST_72886  ┆ 294.869995    ┆ UK        ┆ Unknown City ┆ Platinum Credit │\n",
            "│ TX_3599c101    ┆ CUST_70474  ┆ 3368.969971   ┆ Brazil    ┆ Unknown City ┆ Platinum Credit │\n",
            "│ TX_a9461c6d    ┆ CUST_10715  ┆ 102582.382812 ┆ Japan     ┆ Unknown City ┆ Platinum Credit │\n",
            "│ TX_7be21fc4    ┆ CUST_16193  ┆ 630.599976    ┆ Australia ┆ Unknown City ┆ Premium Debit   │\n",
            "│ TX_150f490b    ┆ CUST_87572  ┆ 724949.25     ┆ Nigeria   ┆ Unknown City ┆ Basic Debit     │\n",
            "└────────────────┴─────────────┴───────────────┴───────────┴──────────────┴─────────────────┘ \n",
            "\n",
            "Sampling:\n",
            " shape: (5, 6)\n",
            "┌────────────────┬─────────────┬──────────────┬─────────┬──────────────┬─────────────────┐\n",
            "│ transaction_id ┆ customer_id ┆ amount       ┆ country ┆ city         ┆ card_type       │\n",
            "│ ---            ┆ ---         ┆ ---          ┆ ---     ┆ ---          ┆ ---             │\n",
            "│ str            ┆ cat         ┆ f32          ┆ cat     ┆ cat          ┆ cat             │\n",
            "╞════════════════╪═════════════╪══════════════╪═════════╪══════════════╪═════════════════╡\n",
            "│ TX_82882674    ┆ CUST_47331  ┆ 168.139999   ┆ USA     ┆ Los Angeles  ┆ Basic Credit    │\n",
            "│ TX_fa972a83    ┆ CUST_45993  ┆ 301.869995   ┆ Germany ┆ Unknown City ┆ Basic Credit    │\n",
            "│ TX_5c5e5cb7    ┆ CUST_32707  ┆ 273.369995   ┆ Germany ┆ Unknown City ┆ Premium Debit   │\n",
            "│ TX_9341fab6    ┆ CUST_57525  ┆ 15057.200195 ┆ Russia  ┆ Unknown City ┆ Platinum Credit │\n",
            "│ TX_b4997c86    ┆ CUST_15679  ┆ 846.210022   ┆ Brazil  ┆ Unknown City ┆ Gold Credit     │\n",
            "└────────────────┴─────────────┴──────────────┴─────────┴──────────────┴─────────────────┘ \n",
            "\n",
            "Parallel Processing (Grouped Sum):\n",
            " shape: (5, 2)\n",
            "┌─────────────────┬─────────────────┐\n",
            "│ card_type       ┆ TotalAmount     │\n",
            "│ ---             ┆ ---             │\n",
            "│ str             ┆ str             │\n",
            "╞═════════════════╪═════════════════╡\n",
            "│ Gold Credit     ┆ 71421203875.60  │\n",
            "│ Platinum Credit ┆ 115483790941.73 │\n",
            "│ Premium Debit   ┆ 68116793538.89  │\n",
            "│ Basic Credit    ┆ 53555568491.95  │\n",
            "│ Basic Debit     ┆ 50079767813.62  │\n",
            "└─────────────────┴─────────────────┘\n",
            "\n",
            "Performance Measurement with Polars\n",
            "Execution Time: 24.17 seconds\n",
            "Memory Used During Load: 16.23 MB\n"
          ]
        },
        {
          "output_type": "stream",
          "name": "stderr",
          "text": [
            "<ipython-input-13-dd4ef5d423fd>:40: MapWithoutReturnDtypeWarning: Calling `map_elements` without specifying `return_dtype` can lead to unpredictable results. Specify `return_dtype` to silence this warning.\n",
            "  .with_columns([\n"
          ]
        }
      ]
    },
    {
      "cell_type": "markdown",
      "source": [
        "###**Task 4: Comparative Analysis**"
      ],
      "metadata": {
        "id": "1afcs8vlmV3x"
      }
    },
    {
      "cell_type": "code",
      "execution_count": null,
      "metadata": {
        "id": "knuVvJ2_kpu5",
        "colab": {
          "base_uri": "https://localhost:8080/",
          "height": 634
        },
        "outputId": "02b401f1-2a2a-4669-9e98-6d76ea11ee28"
      },
      "outputs": [
        {
          "output_type": "display_data",
          "data": {
            "text/plain": [
              "<Figure size 1600x600 with 2 Axes>"
            ],
            "image/png": "[encoded data removed]"
          },
          "metadata": {}
        }
      ],
      "source": [
        "import matplotlib.pyplot as plt\n",
        "\n",
        "# Data\n",
        "libraries = ['Pandas', 'Dask', 'Polars']\n",
        "execution_time = [round(execution_time_pandas, 2) , round(execution_time_dask, 2), round(execution_time_polars, 2)]\n",
        "memory_usage = [round(memory_used_pandas,2), round(memory_used_dask,2), round(memory_used_polars,2)]\n",
        "\n",
        "\n",
        "fig, axs = plt.subplots(1, 2, figsize=(16, 6)) # Increase figure size for better readability\n",
        "\n",
        "# Colors for the bars\n",
        "colors_time = ['#4CAF50', '#FFC107', '#2196F3'] # Green, Amber, Blue\n",
        "colors_memory = ['#F44336', '#9C27B0', '#FF9800'] # Red, Purple, Orange\n",
        "\n",
        "# Execution Time\n",
        "axs[0].barh(libraries, execution_time, color=colors_time, height=0.6) # Adjust bar height\n",
        "axs[0].set_title('Execution Time (seconds)', fontsize=16, color='dimgray')\n",
        "axs[0].invert_yaxis()\n",
        "axs[0].set_xlabel('Time (seconds)', fontsize=12, color='gray')\n",
        "\n",
        "# Add value labels to bars\n",
        "for i, v in enumerate(execution_time):\n",
        "    axs[0].text(v + 1, i, str(v), color='black', va='center', fontsize=10) # Position and color\n",
        "\n",
        "# Memory Usage\n",
        "axs[1].barh(libraries, memory_usage, color=colors_memory, height=0.6) # Adjust bar height\n",
        "axs[1].set_title('Memory Usage (MB)', fontsize=16, color='dimgray')\n",
        "axs[1].invert_yaxis()\n",
        "axs[1].set_xlabel('Memory (MB)', fontsize=12, color='gray')\n",
        "\n",
        "# Add value labels\n",
        "for i, v in enumerate(memory_usage):\n",
        "    axs[1].text(v + 10, i, str(v), color='black', va='center', fontsize=10) # Position and color\n",
        "\n",
        "# Customization\n",
        "for ax in axs:\n",
        "    ax.tick_params(axis='x', colors='gray', labelsize=10)\n",
        "    ax.tick_params(axis='y', colors='gray', labelsize=10)\n",
        "    ax.spines['right'].set_visible(False)\n",
        "    ax.spines['top'].set_visible(False)\n",
        "    ax.spines['left'].set_color('gray')\n",
        "    ax.spines['bottom'].set_color('gray')\n",
        "    ax.grid(axis='x', linestyle='--', alpha=0.7)\n",
        "\n",
        "plt.suptitle('Performance Comparison of Data Processing between Libraries', fontsize=18, color='black', y=1.02) # Overall title\n",
        "plt.tight_layout(rect=[0, 0, 1, 0.98])\n",
        "plt.show()"
      ]
    },
    {
      "cell_type": "code",
      "source": [],
      "metadata": {
        "id": "kWut4TbM_K9C"
      },
      "execution_count": null,
      "outputs": []
    }
  ],
  "metadata": {
    "colab": {
      "provenance": []
    },
    "kernelspec": {
      "display_name": "Python 3",
      "name": "python3"
    },
    "language_info": {
      "name": "python"
    }
  },
  "nbformat": 4,
  "nbformat_minor": 0
}