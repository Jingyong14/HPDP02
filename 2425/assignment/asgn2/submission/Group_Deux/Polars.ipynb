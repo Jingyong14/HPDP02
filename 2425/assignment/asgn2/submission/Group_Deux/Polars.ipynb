{
  "cells": [
    {
      "cell_type": "markdown",
      "metadata": {
        "id": "7HJw2GUACPgR"
      },
      "source": [
        "# Importing Dataset from Kaggle"
      ]
    },
    {
      "cell_type": "code",
      "execution_count": null,
      "metadata": {
        "colab": {
          "base_uri": "https://localhost:8080/",
          "height": 89
        },
        "id": "qgKl32JFRn7h",
        "outputId": "c82e7aec-1a7c-4f97-bd8b-b6cc617baf62"
      },
      "outputs": [
        {
          "output_type": "display_data",
          "data": {
            "text/plain": [
              "<IPython.core.display.HTML object>"
            ],
            "text/html": [
              "\n",
              "     <input type=\"file\" id=\"files-4cc9d87f-02e3-4c82-8c71-40aedc4fecc0\" name=\"files[]\" multiple disabled\n",
              "        style=\"border:none\" />\n",
              "     <output id=\"result-4cc9d87f-02e3-4c82-8c71-40aedc4fecc0\">\n",
              "      Upload widget is only available when the cell has been executed in the\n",
              "      current browser session. Please rerun this cell to enable.\n",
              "      </output>\n",
              "      <script>// Copyright 2017 Google LLC\n",
              "//\n",
              "// Licensed under the Apache License, Version 2.0 (the \"License\");\n",
              "// you may not use this file except in compliance with the License.\n",
              "// You may obtain a copy of the License at\n",
              "//\n",
              "//      http://www.apache.org/licenses/LICENSE-2.0\n",
              "//\n",
              "// Unless required by applicable law or agreed to in writing, software\n",
              "// distributed under the License is distributed on an \"AS IS\" BASIS,\n",
              "// WITHOUT WARRANTIES OR CONDITIONS OF ANY KIND, either express or implied.\n",
              "// See the License for the specific language governing permissions and\n",
              "// limitations under the License.\n",
              "\n",
              "/**\n",
              " * @fileoverview Helpers for google.colab Python module.\n",
              " */\n",
              "(function(scope) {\n",
              "function span(text, styleAttributes = {}) {\n",
              "  const element = document.createElement('span');\n",
              "  element.textContent = text;\n",
              "  for (const key of Object.keys(styleAttributes)) {\n",
              "    element.style[key] = styleAttributes[key];\n",
              "  }\n",
              "  return element;\n",
              "}\n",
              "\n",
              "// Max number of bytes which will be uploaded at a time.\n",
              "const MAX_PAYLOAD_SIZE = 100 * 1024;\n",
              "\n",
              "function _uploadFiles(inputId, outputId) {\n",
              "  const steps = uploadFilesStep(inputId, outputId);\n",
              "  const outputElement = document.getElementById(outputId);\n",
              "  // Cache steps on the outputElement to make it available for the next call\n",
              "  // to uploadFilesContinue from Python.\n",
              "  outputElement.steps = steps;\n",
              "\n",
              "  return _uploadFilesContinue(outputId);\n",
              "}\n",
              "\n",
              "// This is roughly an async generator (not supported in the browser yet),\n",
              "// where there are multiple asynchronous steps and the Python side is going\n",
              "// to poll for completion of each step.\n",
              "// This uses a Promise to block the python side on completion of each step,\n",
              "// then passes the result of the previous step as the input to the next step.\n",
              "function _uploadFilesContinue(outputId) {\n",
              "  const outputElement = document.getElementById(outputId);\n",
              "  const steps = outputElement.steps;\n",
              "\n",
              "  const next = steps.next(outputElement.lastPromiseValue);\n",
              "  return Promise.resolve(next.value.promise).then((value) => {\n",
              "    // Cache the last promise value to make it available to the next\n",
              "    // step of the generator.\n",
              "    outputElement.lastPromiseValue = value;\n",
              "    return next.value.response;\n",
              "  });\n",
              "}\n",
              "\n",
              "/**\n",
              " * Generator function which is called between each async step of the upload\n",
              " * process.\n",
              " * @param {string} inputId Element ID of the input file picker element.\n",
              " * @param {string} outputId Element ID of the output display.\n",
              " * @return {!Iterable<!Object>} Iterable of next steps.\n",
              " */\n",
              "function* uploadFilesStep(inputId, outputId) {\n",
              "  const inputElement = document.getElementById(inputId);\n",
              "  inputElement.disabled = false;\n",
              "\n",
              "  const outputElement = document.getElementById(outputId);\n",
              "  outputElement.innerHTML = '';\n",
              "\n",
              "  const pickedPromise = new Promise((resolve) => {\n",
              "    inputElement.addEventListener('change', (e) => {\n",
              "      resolve(e.target.files);\n",
              "    });\n",
              "  });\n",
              "\n",
              "  const cancel = document.createElement('button');\n",
              "  inputElement.parentElement.appendChild(cancel);\n",
              "  cancel.textContent = 'Cancel upload';\n",
              "  const cancelPromise = new Promise((resolve) => {\n",
              "    cancel.onclick = () => {\n",
              "      resolve(null);\n",
              "    };\n",
              "  });\n",
              "\n",
              "  // Wait for the user to pick the files.\n",
              "  const files = yield {\n",
              "    promise: Promise.race([pickedPromise, cancelPromise]),\n",
              "    response: {\n",
              "      action: 'starting',\n",
              "    }\n",
              "  };\n",
              "\n",
              "  cancel.remove();\n",
              "\n",
              "  // Disable the input element since further picks are not allowed.\n",
              "  inputElement.disabled = true;\n",
              "\n",
              "  if (!files) {\n",
              "    return {\n",
              "      response: {\n",
              "        action: 'complete',\n",
              "      }\n",
              "    };\n",
              "  }\n",
              "\n",
              "  for (const file of files) {\n",
              "    const li = document.createElement('li');\n",
              "    li.append(span(file.name, {fontWeight: 'bold'}));\n",
              "    li.append(span(\n",
              "        `(${file.type || 'n/a'}) - ${file.size} bytes, ` +\n",
              "        `last modified: ${\n",
              "            file.lastModifiedDate ? file.lastModifiedDate.toLocaleDateString() :\n",
              "                                    'n/a'} - `));\n",
              "    const percent = span('0% done');\n",
              "    li.appendChild(percent);\n",
              "\n",
              "    outputElement.appendChild(li);\n",
              "\n",
              "    const fileDataPromise = new Promise((resolve) => {\n",
              "      const reader = new FileReader();\n",
              "      reader.onload = (e) => {\n",
              "        resolve(e.target.result);\n",
              "      };\n",
              "      reader.readAsArrayBuffer(file);\n",
              "    });\n",
              "    // Wait for the data to be ready.\n",
              "    let fileData = yield {\n",
              "      promise: fileDataPromise,\n",
              "      response: {\n",
              "        action: 'continue',\n",
              "      }\n",
              "    };\n",
              "\n",
              "    // Use a chunked sending to avoid message size limits. See b/62115660.\n",
              "    let position = 0;\n",
              "    do {\n",
              "      const length = Math.min(fileData.byteLength - position, MAX_PAYLOAD_SIZE);\n",
              "      const chunk = new Uint8Array(fileData, position, length);\n",
              "      position += length;\n",
              "\n",
              "      const base64 = btoa(String.fromCharCode.apply(null, chunk));\n",
              "      yield {\n",
              "        response: {\n",
              "          action: 'append',\n",
              "          file: file.name,\n",
              "          data: base64,\n",
              "        },\n",
              "      };\n",
              "\n",
              "      let percentDone = fileData.byteLength === 0 ?\n",
              "          100 :\n",
              "          Math.round((position / fileData.byteLength) * 100);\n",
              "      percent.textContent = `${percentDone}% done`;\n",
              "\n",
              "    } while (position < fileData.byteLength);\n",
              "  }\n",
              "\n",
              "  // All done.\n",
              "  yield {\n",
              "    response: {\n",
              "      action: 'complete',\n",
              "    }\n",
              "  };\n",
              "}\n",
              "\n",
              "scope.google = scope.google || {};\n",
              "scope.google.colab = scope.google.colab || {};\n",
              "scope.google.colab._files = {\n",
              "  _uploadFiles,\n",
              "  _uploadFilesContinue,\n",
              "};\n",
              "})(self);\n",
              "</script> "
            ]
          },
          "metadata": {}
        },
        {
          "output_type": "stream",
          "name": "stdout",
          "text": [
            "Saving kaggle.json to kaggle.json\n"
          ]
        },
        {
          "output_type": "execute_result",
          "data": {
            "text/plain": [
              "{'kaggle.json': b'{\"username\":\"nicolelimty\",\"key\":\"95d2d88da306148c6583aaa87fe6df73\"}'}"
            ]
          },
          "metadata": {},
          "execution_count": 1
        }
      ],
      "source": [
        "from google.colab import files\n",
        "files.upload()\n"
      ]
    },
    {
      "cell_type": "code",
      "execution_count": null,
      "metadata": {
        "id": "_wI1mTLhmoz3"
      },
      "outputs": [],
      "source": [
        "!mkdir -p ~/.kaggle\n",
        "!cp kaggle.json ~/.kaggle/\n",
        "!chmod 600 ~/.kaggle/kaggle.json\n"
      ]
    },
    {
      "cell_type": "code",
      "execution_count": null,
      "metadata": {
        "colab": {
          "base_uri": "https://localhost:8080/"
        },
        "id": "PWms9-xNqAMa",
        "outputId": "1c9f5303-7f92-46c2-b746-cd8cd803595d"
      },
      "outputs": [
        {
          "output_type": "stream",
          "name": "stdout",
          "text": [
            "Dataset URL: https://www.kaggle.com/datasets/ismetsemedov/transactions\n",
            "License(s): apache-2.0\n",
            "Downloading transactions.zip to /content\n",
            " 98% 739M/754M [00:02<00:00, 245MB/s]\n",
            "100% 754M/754M [00:02<00:00, 303MB/s]\n"
          ]
        }
      ],
      "source": [
        "!kaggle datasets download -d ismetsemedov/transactions\n"
      ]
    },
    {
      "cell_type": "code",
      "execution_count": null,
      "metadata": {
        "id": "aK32pajOqKV8"
      },
      "outputs": [],
      "source": [
        "import zipfile\n",
        "\n",
        "with zipfile.ZipFile(\"transactions.zip\", \"r\") as zip_ref:\n",
        "    zip_ref.extractall(\"transactions\")\n"
      ]
    },
    {
      "cell_type": "markdown",
      "metadata": {
        "id": "nOrZLd2JDVSg"
      },
      "source": [
        "# **Polars**"
      ]
    },
    {
      "cell_type": "code",
      "execution_count": null,
      "metadata": {
        "colab": {
          "base_uri": "https://localhost:8080/"
        },
        "id": "2LHwG7A_SeqA",
        "outputId": "a755feb2-7ecd-46b5-9a3c-66135c0f5843"
      },
      "outputs": [
        {
          "output_type": "stream",
          "name": "stdout",
          "text": [
            "Requirement already satisfied: polars in /usr/local/lib/python3.11/dist-packages (1.21.0)\n"
          ]
        }
      ],
      "source": [
        "pip install polars\n"
      ]
    },
    {
      "cell_type": "code",
      "execution_count": null,
      "metadata": {
        "id": "ag78DgrSDZOP"
      },
      "outputs": [],
      "source": [
        "import polars as pl\n",
        "import time\n",
        "\n",
        "# Replace with your actual file path if using Google Drive\n",
        "file_path = \"transactions/synthetic_fraud_data.csv\"\n"
      ]
    },
    {
      "cell_type": "code",
      "source": [
        "start_time = time.time()\n",
        "\n",
        "# Load the CSV file into a Polars DataFrame\n",
        "df_polars = pl.read_csv(file_path)\n",
        "\n",
        "end_time = time.time()\n",
        "\n",
        "print(\"Polars\")\n",
        "print(\"Time:\", end_time - start_time, \"seconds\")\n",
        "# Polars has a convenient estimated_size method\n",
        "print(\"Memory:\", df_polars.estimated_size('mb'), \"MB\")\n",
        "\n",
        "print(df_polars.head())"
      ],
      "metadata": {
        "colab": {
          "base_uri": "https://localhost:8080/"
        },
        "id": "ST_txXs-T8Ax",
        "outputId": "8ce2455b-834e-4fc4-a1b0-14fab1ab24b0"
      },
      "execution_count": null,
      "outputs": [
        {
          "output_type": "stream",
          "name": "stdout",
          "text": [
            "Polars\n",
            "Time: 11.984588861465454 seconds\n",
            "Memory: 2528.1607761383057 MB\n",
            "shape: (5, 24)\n",
            "┌───────────┬───────────┬───────────┬───────────┬───┬───────────┬───────────┬───────────┬──────────┐\n",
            "│ transacti ┆ customer_ ┆ card_numb ┆ timestamp ┆ … ┆ transacti ┆ weekend_t ┆ velocity_ ┆ is_fraud │\n",
            "│ on_id     ┆ id        ┆ er        ┆ ---       ┆   ┆ on_hour   ┆ ransactio ┆ last_hour ┆ ---      │\n",
            "│ ---       ┆ ---       ┆ ---       ┆ str       ┆   ┆ ---       ┆ n         ┆ ---       ┆ bool     │\n",
            "│ str       ┆ str       ┆ i64       ┆           ┆   ┆ i64       ┆ ---       ┆ str       ┆          │\n",
            "│           ┆           ┆           ┆           ┆   ┆           ┆ bool      ┆           ┆          │\n",
            "╞═══════════╪═══════════╪═══════════╪═══════════╪═══╪═══════════╪═══════════╪═══════════╪══════════╡\n",
            "│ TX_a0ad2a ┆ CUST_7288 ┆ 664673476 ┆ 2024-09-3 ┆ … ┆ 0         ┆ false     ┆ {'num_tra ┆ false    │\n",
            "│ 2a        ┆ 6         ┆ 7813109   ┆ 0 00:00:0 ┆   ┆           ┆           ┆ nsactions ┆          │\n",
            "│           ┆           ┆           ┆ 1.034820+ ┆   ┆           ┆           ┆ ': 1197,  ┆          │\n",
            "│           ┆           ┆           ┆ 00:…      ┆   ┆           ┆           ┆ 'to…      ┆          │\n",
            "│ TX_3599c1 ┆ CUST_7047 ┆ 376800864 ┆ 2024-09-3 ┆ … ┆ 0         ┆ false     ┆ {'num_tra ┆ true     │\n",
            "│ 01        ┆ 4         ┆ 692727    ┆ 0 00:00:0 ┆   ┆           ┆           ┆ nsactions ┆          │\n",
            "│           ┆           ┆           ┆ 1.764464+ ┆   ┆           ┆           ┆ ': 509,   ┆          │\n",
            "│           ┆           ┆           ┆ 00:…      ┆   ┆           ┆           ┆ 'tot…     ┆          │\n",
            "│ TX_a9461c ┆ CUST_1071 ┆ 525190946 ┆ 2024-09-3 ┆ … ┆ 0         ┆ false     ┆ {'num_tra ┆ false    │\n",
            "│ 6d        ┆ 5         ┆ 0951913   ┆ 0 00:00:0 ┆   ┆           ┆           ┆ nsactions ┆          │\n",
            "│           ┆           ┆           ┆ 2.273762+ ┆   ┆           ┆           ┆ ': 332,   ┆          │\n",
            "│           ┆           ┆           ┆ 00:…      ┆   ┆           ┆           ┆ 'tot…     ┆          │\n",
            "│ TX_7be21f ┆ CUST_1619 ┆ 376079286 ┆ 2024-09-3 ┆ … ┆ 0         ┆ false     ┆ {'num_tra ┆ false    │\n",
            "│ c4        ┆ 3         ┆ 931183    ┆ 0 00:00:0 ┆   ┆           ┆           ┆ nsactions ┆          │\n",
            "│           ┆           ┆           ┆ 2.297466+ ┆   ┆           ┆           ┆ ': 764,   ┆          │\n",
            "│           ┆           ┆           ┆ 00:…      ┆   ┆           ┆           ┆ 'tot…     ┆          │\n",
            "│ TX_150f49 ┆ CUST_8757 ┆ 617294805 ┆ 2024-09-3 ┆ … ┆ 0         ┆ false     ┆ {'num_tra ┆ true     │\n",
            "│ 0b        ┆ 2         ┆ 2178810   ┆ 0 00:00:0 ┆   ┆           ┆           ┆ nsactions ┆          │\n",
            "│           ┆           ┆           ┆ 2.544063+ ┆   ┆           ┆           ┆ ': 218,   ┆          │\n",
            "│           ┆           ┆           ┆ 00:…      ┆   ┆           ┆           ┆ 'tot…     ┆          │\n",
            "└───────────┴───────────┴───────────┴───────────┴───┴───────────┴───────────┴───────────┴──────────┘\n"
          ]
        }
      ]
    },
    {
      "cell_type": "markdown",
      "source": [
        "## Columns Selection"
      ],
      "metadata": {
        "id": "cwWTtqYA671E"
      }
    },
    {
      "cell_type": "code",
      "execution_count": null,
      "metadata": {
        "colab": {
          "base_uri": "https://localhost:8080/",
          "height": 307
        },
        "id": "LfxaaaJjDelp",
        "outputId": "c1e5b4f5-808e-45d9-867f-ad1029c9d5f4"
      },
      "outputs": [
        {
          "output_type": "stream",
          "name": "stdout",
          "text": [
            "Polars - Load Less Data\n",
            "Time: 6.203439474105835 seconds\n",
            "Memory: 494.2481870651245 MB\n"
          ]
        },
        {
          "output_type": "execute_result",
          "data": {
            "text/plain": [
              "shape: (5, 7)\n",
              "┌───────────────┬─────────────┬───────────────┬──────────────┬───────────┬──────────────┬──────────┐\n",
              "│ transaction_i ┆ customer_id ┆ timestamp     ┆ merchant_cat ┆ amount    ┆ high_risk_me ┆ is_fraud │\n",
              "│ d             ┆ ---         ┆ ---           ┆ egory        ┆ ---       ┆ rchant       ┆ ---      │\n",
              "│ ---           ┆ str         ┆ str           ┆ ---          ┆ f64       ┆ ---          ┆ bool     │\n",
              "│ str           ┆             ┆               ┆ str          ┆           ┆ bool         ┆          │\n",
              "╞═══════════════╪═════════════╪═══════════════╪══════════════╪═══════════╪══════════════╪══════════╡\n",
              "│ TX_a0ad2a2a   ┆ CUST_72886  ┆ 2024-09-30    ┆ Restaurant   ┆ 294.87    ┆ false        ┆ false    │\n",
              "│               ┆             ┆ 00:00:01.0348 ┆              ┆           ┆              ┆          │\n",
              "│               ┆             ┆ 20+00:…       ┆              ┆           ┆              ┆          │\n",
              "│ TX_3599c101   ┆ CUST_70474  ┆ 2024-09-30    ┆ Entertainmen ┆ 3368.97   ┆ true         ┆ true     │\n",
              "│               ┆             ┆ 00:00:01.7644 ┆ t            ┆           ┆              ┆          │\n",
              "│               ┆             ┆ 64+00:…       ┆              ┆           ┆              ┆          │\n",
              "│ TX_a9461c6d   ┆ CUST_10715  ┆ 2024-09-30    ┆ Grocery      ┆ 102582.38 ┆ false        ┆ false    │\n",
              "│               ┆             ┆ 00:00:02.2737 ┆              ┆           ┆              ┆          │\n",
              "│               ┆             ┆ 62+00:…       ┆              ┆           ┆              ┆          │\n",
              "│ TX_7be21fc4   ┆ CUST_16193  ┆ 2024-09-30    ┆ Gas          ┆ 630.6     ┆ false        ┆ false    │\n",
              "│               ┆             ┆ 00:00:02.2974 ┆              ┆           ┆              ┆          │\n",
              "│               ┆             ┆ 66+00:…       ┆              ┆           ┆              ┆          │\n",
              "│ TX_150f490b   ┆ CUST_87572  ┆ 2024-09-30    ┆ Healthcare   ┆ 724949.27 ┆ false        ┆ true     │\n",
              "│               ┆             ┆ 00:00:02.5440 ┆              ┆           ┆              ┆          │\n",
              "│               ┆             ┆ 63+00:…       ┆              ┆           ┆              ┆          │\n",
              "└───────────────┴─────────────┴───────────────┴──────────────┴───────────┴──────────────┴──────────┘"
            ],
            "text/html": [
              "<div><style>\n",
              ".dataframe > thead > tr,\n",
              ".dataframe > tbody > tr {\n",
              "  text-align: right;\n",
              "  white-space: pre-wrap;\n",
              "}\n",
              "</style>\n",
              "<small>shape: (5, 7)</small><table border=\"1\" class=\"dataframe\"><thead><tr><th>transaction_id</th><th>customer_id</th><th>timestamp</th><th>merchant_category</th><th>amount</th><th>high_risk_merchant</th><th>is_fraud</th></tr><tr><td>str</td><td>str</td><td>str</td><td>str</td><td>f64</td><td>bool</td><td>bool</td></tr></thead><tbody><tr><td>&quot;TX_a0ad2a2a&quot;</td><td>&quot;CUST_72886&quot;</td><td>&quot;2024-09-30 00:00:01.034820+00:…</td><td>&quot;Restaurant&quot;</td><td>294.87</td><td>false</td><td>false</td></tr><tr><td>&quot;TX_3599c101&quot;</td><td>&quot;CUST_70474&quot;</td><td>&quot;2024-09-30 00:00:01.764464+00:…</td><td>&quot;Entertainment&quot;</td><td>3368.97</td><td>true</td><td>true</td></tr><tr><td>&quot;TX_a9461c6d&quot;</td><td>&quot;CUST_10715&quot;</td><td>&quot;2024-09-30 00:00:02.273762+00:…</td><td>&quot;Grocery&quot;</td><td>102582.38</td><td>false</td><td>false</td></tr><tr><td>&quot;TX_7be21fc4&quot;</td><td>&quot;CUST_16193&quot;</td><td>&quot;2024-09-30 00:00:02.297466+00:…</td><td>&quot;Gas&quot;</td><td>630.6</td><td>false</td><td>false</td></tr><tr><td>&quot;TX_150f490b&quot;</td><td>&quot;CUST_87572&quot;</td><td>&quot;2024-09-30 00:00:02.544063+00:…</td><td>&quot;Healthcare&quot;</td><td>724949.27</td><td>false</td><td>true</td></tr></tbody></table></div>"
            ]
          },
          "metadata": {},
          "execution_count": 13
        }
      ],
      "source": [
        "start_time = time.time()\n",
        "\n",
        "df_less_data_polars = pl.read_csv(\n",
        "    file_path,\n",
        "    columns=['transaction_id', 'customer_id', 'timestamp', 'amount', 'high_risk_merchant', 'merchant_category', 'is_fraud']\n",
        ")\n",
        "\n",
        "end_time = time.time()\n",
        "\n",
        "print(\"Polars - Load Less Data\")\n",
        "print(\"Time:\", end_time - start_time, \"seconds\")\n",
        "print(\"Memory:\", df_less_data_polars.estimated_size('mb'), \"MB\")\n",
        "\n",
        "df_less_data_polars.head()"
      ]
    },
    {
      "cell_type": "markdown",
      "source": [
        "## Chunking"
      ],
      "metadata": {
        "id": "l3_SiGLw6-jo"
      }
    },
    {
      "cell_type": "code",
      "execution_count": null,
      "metadata": {
        "colab": {
          "base_uri": "https://localhost:8080/"
        },
        "id": "dIJ0fhAZIJjf",
        "outputId": "d580900c-6631-45d7-8799-9c8a279afac6"
      },
      "outputs": [
        {
          "name": "stdout",
          "output_type": "stream",
          "text": [
            "Polars - Simulated Chunking (First 50k rows)\n",
            "Time: 3.688019275665283 seconds\n",
            "Memory: 16.971336364746094 MB\n"
          ]
        }
      ],
      "source": [
        "start_time = time.time()\n",
        "\n",
        "# Simulating chunking by reading limited rows\n",
        "chunk = pl.read_csv(file_path, n_rows=50000)\n",
        "\n",
        "end_time = time.time()\n",
        "\n",
        "print(\"Polars - Simulated Chunking (First 50k rows)\")\n",
        "print(\"Time:\", end_time - start_time, \"seconds\")\n",
        "print(\"Memory:\", chunk.estimated_size('mb'), \"MB\")\n"
      ]
    },
    {
      "cell_type": "markdown",
      "source": [
        "## Optimize Data Type"
      ],
      "metadata": {
        "id": "ZLtBEcwa7Awn"
      }
    },
    {
      "cell_type": "code",
      "execution_count": null,
      "metadata": {
        "colab": {
          "base_uri": "https://localhost:8080/"
        },
        "id": "vnnsWXebIsXJ",
        "outputId": "030a7811-4ee8-4221-cb43-cf7172a9052a"
      },
      "outputs": [
        {
          "name": "stdout",
          "output_type": "stream",
          "text": [
            "Polars - Data Type Optimization\n",
            "Time: 14.409408569335938 seconds\n",
            "Memory: 2448.760739326477 MB\n"
          ]
        }
      ],
      "source": [
        "start_time = time.time()\n",
        "\n",
        "df_opt_polars = pl.read_csv(file_path).with_columns([\n",
        "    pl.col(\"amount\").cast(pl.Float32),\n",
        "    pl.col(\"distance_from_home\").cast(pl.Int32),\n",
        "    pl.col(\"transaction_hour\").cast(pl.Int8),\n",
        "    pl.col(\"is_fraud\").cast(pl.Categorical)\n",
        "])\n",
        "\n",
        "end_time = time.time()\n",
        "\n",
        "print(\"Polars - Data Type Optimization\")\n",
        "print(\"Time:\", end_time - start_time, \"seconds\")\n",
        "print(\"Memory:\", df_opt_polars.estimated_size('mb'), \"MB\")\n"
      ]
    },
    {
      "cell_type": "markdown",
      "source": [
        "## Sampling"
      ],
      "metadata": {
        "id": "cbuGp-BW7HmG"
      }
    },
    {
      "cell_type": "code",
      "execution_count": null,
      "metadata": {
        "colab": {
          "base_uri": "https://localhost:8080/"
        },
        "id": "ShQP75h9IuZi",
        "outputId": "783402e0-62c8-4f87-b293-1a402a90f82e"
      },
      "outputs": [
        {
          "name": "stdout",
          "output_type": "stream",
          "text": [
            "Polars - Stratified Sampling (Manual)\n",
            "Time: 17.19397258758545 seconds\n",
            "Sample Size: 748375\n",
            "Fraud Distribution:\n",
            " shape: (2, 2)\n",
            "┌──────────┬────────┐\n",
            "│ is_fraud ┆ count  │\n",
            "│ ---      ┆ ---    │\n",
            "│ bool     ┆ u32    │\n",
            "╞══════════╪════════╡\n",
            "│ false    ┆ 598904 │\n",
            "│ true     ┆ 149471 │\n",
            "└──────────┴────────┘\n",
            "Memory: 252.81647300720215 MB\n"
          ]
        }
      ],
      "source": [
        "start_time = time.time()\n",
        "\n",
        "df_sample_polars = pl.read_csv(file_path)\n",
        "# Group by is_fraud\n",
        "fraud_true = df_sample_polars.filter(pl.col(\"is_fraud\") == \"true\").sample(fraction=0.1, seed=42)\n",
        "fraud_false = df_sample_polars.filter(pl.col(\"is_fraud\") == \"false\").sample(fraction=0.1, seed=42)\n",
        "\n",
        "stratified_sample_polars = pl.concat([fraud_true, fraud_false])\n",
        "\n",
        "end_time = time.time()\n",
        "\n",
        "print(\"Polars - Stratified Sampling (Manual)\")\n",
        "print(\"Time:\", end_time - start_time, \"seconds\")\n",
        "print(\"Sample Size:\", stratified_sample_polars.height)\n",
        "print(\"Fraud Distribution:\\n\", stratified_sample_polars[\"is_fraud\"].value_counts())\n",
        "print(\"Memory:\", stratified_sample_polars.estimated_size('mb'), \"MB\")\n"
      ]
    }
  ],
  "metadata": {
    "colab": {
      "provenance": []
    },
    "kernelspec": {
      "display_name": "Python 3",
      "name": "python3"
    },
    "language_info": {
      "name": "python"
    }
  },
  "nbformat": 4,
  "nbformat_minor": 0
}