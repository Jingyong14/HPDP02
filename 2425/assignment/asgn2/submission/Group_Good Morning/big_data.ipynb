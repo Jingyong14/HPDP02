{
  "cells": [
    {
      "cell_type": "markdown",
      "source": [
        "# Group Good Morning\n",
        "\n",
        "## Team Members\n",
        "\n",
        "*   Neo Zheng Weng A22EC0093\n",
        "*   Wong Khai Shian Nicholas A22EC0292"
      ],
      "metadata": {
        "id": "DEM-AYBfQr6Y"
      }
    },
    {
      "cell_type": "markdown",
      "metadata": {
        "id": "Cx8Ef84m9rlb"
      },
      "source": [
        "# Task 1: Dataset Selection\n",
        "\n",
        "*   **Dataset Source:** [2019 Airline Delays and Cancellations on Kaggle](https://www.kaggle.com/datasets/threnjen/2019-airline-delays-and-cancellations?resource=download)\n",
        "*   Download dataset via KaggleHub\n",
        "\n"
      ]
    },
    {
      "cell_type": "code",
      "execution_count": null,
      "metadata": {
        "id": "eItivCHPXzP_"
      },
      "outputs": [],
      "source": [
        "!pip install -q kaggle"
      ]
    },
    {
      "cell_type": "code",
      "execution_count": null,
      "metadata": {
        "colab": {
          "base_uri": "https://localhost:8080/"
        },
        "id": "Snebogt-7fzH",
        "outputId": "f3c9ccb6-9d90-4b45-f468-91c7e5333d0f"
      },
      "outputs": [
        {
          "metadata": {
            "tags": null
          },
          "name": "stdout",
          "output_type": "stream",
          "text": [
            "Path to dataset files: /kaggle/input/2019-airline-delays-and-cancellations\n",
            "Dataset Size in Memory (MB): 2955.72\n",
            "Number of Records (rows): 6489062\n",
            "Number of Features (columns): 26\n"
          ]
        }
      ],
      "source": [
        "import os\n",
        "import pandas as pd\n",
        "import kagglehub\n",
        "\n",
        "# Download latest version\n",
        "path = kagglehub.dataset_download(\"threnjen/2019-airline-delays-and-cancellations\")\n",
        "\n",
        "print(\"Path to dataset files:\", path)\n",
        "\n",
        "# Load data\n",
        "csv_path = os.path.join(path, \"full_data_flightdelay.csv\")\n",
        "df = pd.read_csv(csv_path)\n",
        "\n",
        "# Basic info\n",
        "print(\"Dataset Size in Memory (MB):\", round(df.memory_usage(deep=True).sum() / (1024**2), 2))\n",
        "print(\"Number of Records (rows):\", df.shape[0])\n",
        "print(\"Number of Features (columns):\", df.shape[1])"
      ]
    },
    {
      "cell_type": "markdown",
      "metadata": {
        "id": "SJ3X4Z149xJU"
      },
      "source": [
        "# Task 2: Load and Inspect Data\n",
        "\n",
        "*   Pandas full loading without optimization\n",
        "*   Traditional data handling"
      ]
    },
    {
      "cell_type": "code",
      "execution_count": null,
      "metadata": {
        "id": "8zxXpZJ297GA",
        "colab": {
          "base_uri": "https://localhost:8080/"
        },
        "outputId": "11240a0a-6691-4e31-94ec-d2d0359c1583"
      },
      "outputs": [
        {
          "output_type": "stream",
          "name": "stdout",
          "text": [
            "✅ Pandas Full Loading (No Optimization) Performance\n",
            "Memory Usage: 2992.44 MB\n",
            "Execution Time: 57.97 seconds\n",
            "\n",
            "✅ Data Inspection\n",
            "Data Shape: (6460589, 26)\n",
            "Column Names: ['MONTH', 'DAY_OF_WEEK', 'DEP_DEL15', 'DEP_TIME_BLK', 'DISTANCE_GROUP', 'SEGMENT_NUMBER', 'CONCURRENT_FLIGHTS', 'NUMBER_OF_SEATS', 'CARRIER_NAME', 'AIRPORT_FLIGHTS_MONTH', 'AIRLINE_FLIGHTS_MONTH', 'AIRLINE_AIRPORT_FLIGHTS_MONTH', 'AVG_MONTHLY_PASS_AIRPORT', 'AVG_MONTHLY_PASS_AIRLINE', 'FLT_ATTENDANTS_PER_PASS', 'GROUND_SERV_PER_PASS', 'PLANE_AGE', 'DEPARTING_AIRPORT', 'LATITUDE', 'LONGITUDE', 'PREVIOUS_AIRPORT', 'PRCP', 'SNOW', 'SNWD', 'TMAX', 'AWND']\n",
            "\n",
            "Data Types:\n",
            "MONTH                              int64\n",
            "DAY_OF_WEEK                        int64\n",
            "DEP_DEL15                          int64\n",
            "DEP_TIME_BLK                      object\n",
            "DISTANCE_GROUP                     int64\n",
            "SEGMENT_NUMBER                     int64\n",
            "CONCURRENT_FLIGHTS                 int64\n",
            "NUMBER_OF_SEATS                    int64\n",
            "CARRIER_NAME                      object\n",
            "AIRPORT_FLIGHTS_MONTH              int64\n",
            "AIRLINE_FLIGHTS_MONTH              int64\n",
            "AIRLINE_AIRPORT_FLIGHTS_MONTH      int64\n",
            "AVG_MONTHLY_PASS_AIRPORT           int64\n",
            "AVG_MONTHLY_PASS_AIRLINE           int64\n",
            "FLT_ATTENDANTS_PER_PASS          float64\n",
            "GROUND_SERV_PER_PASS             float64\n",
            "PLANE_AGE                          int64\n",
            "DEPARTING_AIRPORT                 object\n",
            "LATITUDE                         float64\n",
            "LONGITUDE                        float64\n",
            "PREVIOUS_AIRPORT                  object\n",
            "PRCP                             float64\n",
            "SNOW                             float64\n",
            "SNWD                             float64\n",
            "TMAX                             float64\n",
            "AWND                             float64\n",
            "dtype: object\n",
            "\n",
            "✅ Preview Data:\n",
            "   MONTH  DAY_OF_WEEK  DEP_DEL15 DEP_TIME_BLK  DISTANCE_GROUP  SEGMENT_NUMBER  \\\n",
            "0      1            7          0    0800-0859               2               1   \n",
            "1      1            7          0    0700-0759               7               1   \n",
            "2      1            7          0    0600-0659               7               1   \n",
            "3      1            7          0    0600-0659               9               1   \n",
            "4      1            7          0    0001-0559               7               1   \n",
            "\n",
            "   CONCURRENT_FLIGHTS  NUMBER_OF_SEATS            CARRIER_NAME  \\\n",
            "0                  25              143  Southwest Airlines Co.   \n",
            "1                  29              191    Delta Air Lines Inc.   \n",
            "2                  27              199    Delta Air Lines Inc.   \n",
            "3                  27              180    Delta Air Lines Inc.   \n",
            "4                  10              182        Spirit Air Lines   \n",
            "\n",
            "   AIRPORT_FLIGHTS_MONTH  ...  PLANE_AGE       DEPARTING_AIRPORT  LATITUDE  \\\n",
            "0                  13056  ...          8  McCarran International     36.08   \n",
            "1                  13056  ...          3  McCarran International     36.08   \n",
            "2                  13056  ...         18  McCarran International     36.08   \n",
            "3                  13056  ...          2  McCarran International     36.08   \n",
            "4                  13056  ...          1  McCarran International     36.08   \n",
            "\n",
            "   LONGITUDE  PREVIOUS_AIRPORT  PRCP  SNOW SNWD  TMAX  AWND  \n",
            "0   -115.152              NONE   0.0   0.0  0.0  65.0  2.91  \n",
            "1   -115.152              NONE   0.0   0.0  0.0  65.0  2.91  \n",
            "2   -115.152              NONE   0.0   0.0  0.0  65.0  2.91  \n",
            "3   -115.152              NONE   0.0   0.0  0.0  65.0  2.91  \n",
            "4   -115.152              NONE   0.0   0.0  0.0  65.0  2.91  \n",
            "\n",
            "[5 rows x 26 columns]\n"
          ]
        }
      ],
      "source": [
        "import time\n",
        "import psutil\n",
        "import pandas as pd\n",
        "\n",
        "# Measure time before loading\n",
        "start_time = time.time()\n",
        "\n",
        "# Load the full dataset (no optimization)\n",
        "df_pd = pd.read_csv(csv_path)\n",
        "\n",
        "# Simple data cleaning\n",
        "df_pd = df_pd.dropna().drop_duplicates()\n",
        "\n",
        "end_time = time.time()\n",
        "\n",
        "# Calculate time taken and memory used by pandas\n",
        "pandas_without_opt_memory_used = df_pd.memory_usage(deep=True).sum() / 1024**2\n",
        "pandas_without_opt_execution_time = end_time - start_time\n",
        "\n",
        "# Performance results\n",
        "print(\"✅ Pandas Full Loading (No Optimization) Performance\")\n",
        "print(f\"Memory Usage: {pandas_without_opt_memory_used:.2f} MB\")\n",
        "print(f\"Execution Time: {pandas_without_opt_execution_time:.2f} seconds\")\n",
        "\n",
        "# Data inspection\n",
        "print(\"\\n✅ Data Inspection\")\n",
        "print(f\"Data Shape: {df_pd.shape}\")\n",
        "print(\"Column Names:\", df_pd.columns.tolist())\n",
        "print(\"\\nData Types:\")\n",
        "print(df_pd.dtypes)\n",
        "\n",
        "# Show first 5 rows\n",
        "print(\"\\n✅ Preview Data:\")\n",
        "print(df_pd.head())"
      ]
    },
    {
      "cell_type": "markdown",
      "metadata": {
        "id": "Tv1UItDOPDtS"
      },
      "source": [
        "# Task 3 : Apply Big Data Handling Strategies\n",
        "\n",
        "1. Load Less Data\n",
        "\n",
        "2. Use Chunking\n",
        "\n",
        "3. Optimize Data Types\n",
        "\n",
        "4. Sampling\n",
        "\n",
        "5. Parallel Processing with Dask"
      ]
    },
    {
      "cell_type": "markdown",
      "metadata": {
        "id": "lysBb8ZAPJNO"
      },
      "source": [
        "## Pandas"
      ]
    },
    {
      "cell_type": "code",
      "execution_count": 9,
      "metadata": {
        "id": "Rgbzn__QJESd",
        "colab": {
          "base_uri": "https://localhost:8080/"
        },
        "outputId": "a3d9c63d-6958-427e-c2e4-cdfb3f58bc23"
      },
      "outputs": [
        {
          "output_type": "stream",
          "name": "stdout",
          "text": [
            "✅ Pandas Optimization Performance\n",
            "Memory Usage: 44.86 MB\n",
            "Execution Time: 27.72 seconds\n",
            "\n",
            "✅ Data Inspection\n",
            "Data Shape: (472193, 9)\n",
            "Column Names: ['MONTH', 'DAY_OF_WEEK', 'DEP_DEL15', 'DEP_TIME_BLK', 'DISTANCE_GROUP', 'NUMBER_OF_SEATS', 'CARRIER_NAME', 'PLANE_AGE', 'DEPARTING_AIRPORT']\n",
            "\n",
            "Data Types:\n",
            "MONTH                    int8\n",
            "DAY_OF_WEEK              int8\n",
            "DEP_DEL15                int8\n",
            "DEP_TIME_BLK         category\n",
            "DISTANCE_GROUP           int8\n",
            "NUMBER_OF_SEATS         int16\n",
            "CARRIER_NAME         category\n",
            "PLANE_AGE               int16\n",
            "DEPARTING_AIRPORT      object\n",
            "dtype: object\n",
            "\n",
            "✅ Preview Data:\n",
            "         MONTH  DAY_OF_WEEK  DEP_DEL15 DEP_TIME_BLK  DISTANCE_GROUP  \\\n",
            "1356142      3            5          1    1000-1059               2   \n",
            "3035097      6            7          1    0600-0659               4   \n",
            "2024640      4            1          0    0001-0559               6   \n",
            "6325782     12            7          1    0700-0759               4   \n",
            "5366877     10            1          1    1300-1359               4   \n",
            "\n",
            "         NUMBER_OF_SEATS            CARRIER_NAME  PLANE_AGE  \\\n",
            "1356142               76   Midwest Airline, Inc.          3   \n",
            "3035097               76       Endeavor Air Inc.         11   \n",
            "2024640              143  Southwest Airlines Co.         16   \n",
            "6325782              160  American Airlines Inc.         18   \n",
            "5366877              181  American Airlines Inc.          2   \n",
            "\n",
            "                          DEPARTING_AIRPORT  \n",
            "1356142        Salt Lake City International  \n",
            "3035097                        McGhee Tyson  \n",
            "2024640  Metropolitan Oakland International  \n",
            "6325782          Dallas Fort Worth Regional  \n",
            "5366877                   Douglas Municipal  \n"
          ]
        }
      ],
      "source": [
        "import time\n",
        "import psutil\n",
        "import pandas as pd\n",
        "import os\n",
        "\n",
        "# Step 1: Load Less Data - only select meaningful columns\n",
        "usecols = [\n",
        "    'MONTH', 'DAY_OF_WEEK', 'DEP_DEL15', 'DEP_TIME_BLK', 'DISTANCE_GROUP',\n",
        "    'CARRIER_NAME', 'NUMBER_OF_SEATS', 'PLANE_AGE',\n",
        "    'DEPARTING_AIRPORT'\n",
        "]\n",
        "\n",
        "# Step 3: Optimize Data Types\n",
        "dtype_map = {\n",
        "    'MONTH': 'int8',\n",
        "    'DAY_OF_WEEK': 'int8',\n",
        "    'DEP_DEL15': 'int8',\n",
        "    'DEP_TIME_BLK': 'category',\n",
        "    'DISTANCE_GROUP': 'int8',\n",
        "    'CARRIER_NAME': 'category',\n",
        "    'NUMBER_OF_SEATS': 'int16',\n",
        "    'PLANE_AGE': 'int16',\n",
        "    'DEPARTING_AIRPORT': 'category',\n",
        "}\n",
        "\n",
        "# Step 2: Use Chunking (read small batches)\n",
        "chunk_size = 100_000\n",
        "cleaned_chunks = []\n",
        "\n",
        "start_time = time.time()\n",
        "\n",
        "# 1) Read each chunk, drop nulls (but do NOT drop duplicates yet)\n",
        "for chunk in pd.read_csv(csv_path, usecols=usecols, dtype=dtype_map, chunksize=chunk_size):\n",
        "    cleaned = chunk.dropna()\n",
        "    cleaned_chunks.append(cleaned)\n",
        "\n",
        "# 2) Concatenate all cleaned chunks into a single DataFrame\n",
        "df_all_clean = pd.concat(cleaned_chunks, ignore_index=True)\n",
        "\n",
        "# 3) Drop duplicates globally (across the entire DataFrame)\n",
        "df_all_clean = df_all_clean.drop_duplicates()\n",
        "\n",
        "# 4) Sampling - randomly take 10% of the fully cleaned+deduplicated DataFrame\n",
        "df_pd_opt = df_all_clean.sample(frac=0.1, random_state=42)\n",
        "\n",
        "end_time = time.time()\n",
        "\n",
        "# Memory usage and execution time\n",
        "pandas_opt_memory_usage = df_pd_opt.memory_usage(deep=True).sum() / 1024**2\n",
        "pandas_opt_execution_time = end_time - start_time\n",
        "\n",
        "# Performance results\n",
        "print(\"✅ Pandas Optimization Performance\")\n",
        "print(f\"Memory Usage: {pandas_opt_memory_usage:.2f} MB\")\n",
        "print(f\"Execution Time: {pandas_opt_execution_time:.2f} seconds\")\n",
        "\n",
        "# Data inspection\n",
        "print(\"\\n✅ Data Inspection\")\n",
        "print(f\"Data Shape: {df_pd_opt.shape}\")\n",
        "print(\"Column Names:\", df_pd_opt.columns.tolist())\n",
        "print(\"\\nData Types:\")\n",
        "print(df_pd_opt.dtypes)\n",
        "\n",
        "# Show first 5 rows\n",
        "print(\"\\n✅ Preview Data:\")\n",
        "print(df_pd_opt.head())"
      ]
    },
    {
      "cell_type": "markdown",
      "metadata": {
        "id": "UOPTF8TLjC8T"
      },
      "source": [
        "## Dask"
      ]
    },
    {
      "cell_type": "code",
      "execution_count": null,
      "metadata": {
        "id": "HufObJRWuzxU"
      },
      "outputs": [],
      "source": [
        "!pip install dask --quiet"
      ]
    },
    {
      "cell_type": "code",
      "execution_count": 10,
      "metadata": {
        "id": "XeTmA0a4oA-y",
        "colab": {
          "base_uri": "https://localhost:8080/"
        },
        "outputId": "e9809aed-8258-416c-fd4f-bcccff2db9a3"
      },
      "outputs": [
        {
          "output_type": "stream",
          "name": "stdout",
          "text": [
            "✅ Dask Optimization Performance\n",
            "Memory Usage: 8.57 MB\n",
            "Execution Time: 23.85 seconds\n",
            "\n",
            "✅ Data Inspection\n",
            "Data Shape: (472194, 9)\n",
            "Column Names: ['MONTH', 'DAY_OF_WEEK', 'DEP_DEL15', 'DEP_TIME_BLK', 'DISTANCE_GROUP', 'NUMBER_OF_SEATS', 'CARRIER_NAME', 'PLANE_AGE', 'DEPARTING_AIRPORT']\n",
            "\n",
            "Data Types:\n",
            "MONTH                    int8\n",
            "DAY_OF_WEEK              int8\n",
            "DEP_DEL15                int8\n",
            "DEP_TIME_BLK         category\n",
            "DISTANCE_GROUP           int8\n",
            "NUMBER_OF_SEATS         int16\n",
            "CARRIER_NAME         category\n",
            "PLANE_AGE               int16\n",
            "DEPARTING_AIRPORT    category\n",
            "dtype: object\n",
            "\n",
            "✅ Preview Data:\n",
            "        MONTH  DAY_OF_WEEK  DEP_DEL15 DEP_TIME_BLK  DISTANCE_GROUP  \\\n",
            "319298      9            7          0    1600-1659               1   \n",
            "74403      11            4          0    1100-1159               5   \n",
            "168807      1            7          0    1500-1559               3   \n",
            "307291      4            2          0    0600-0659               5   \n",
            "252640      8            4          0    0800-0859               2   \n",
            "\n",
            "        NUMBER_OF_SEATS            CARRIER_NAME  PLANE_AGE  \\\n",
            "319298              191    Delta Air Lines Inc.          3   \n",
            "74403               181  American Airlines Inc.          2   \n",
            "168807              143  Southwest Airlines Co.         11   \n",
            "307291              132    Delta Air Lines Inc.         16   \n",
            "252640              143  Southwest Airlines Co.         15   \n",
            "\n",
            "                              DEPARTING_AIRPORT  \n",
            "319298                   General Mitchell Field  \n",
            "74403   Fort Lauderdale-Hollywood International  \n",
            "168807                Los Angeles International  \n",
            "307291            John F. Kennedy International  \n",
            "252640             Chicago Midway International  \n"
          ]
        }
      ],
      "source": [
        "import time\n",
        "import psutil\n",
        "import dask.dataframe as dd\n",
        "\n",
        "# Step 1: Load Less Data - only select meaningful columns\n",
        "usecols = [\n",
        "    'MONTH', 'DAY_OF_WEEK', 'DEP_DEL15', 'DEP_TIME_BLK', 'DISTANCE_GROUP',\n",
        "    'CARRIER_NAME', 'NUMBER_OF_SEATS', 'PLANE_AGE',\n",
        "    'DEPARTING_AIRPORT'\n",
        "]\n",
        "\n",
        "# Step 3: Optimize Data Types\n",
        "dtype_map = {\n",
        "    'MONTH': 'int8',\n",
        "    'DAY_OF_WEEK': 'int8',\n",
        "    'DEP_DEL15': 'int8',\n",
        "    'DEP_TIME_BLK': 'category',\n",
        "    'DISTANCE_GROUP': 'int8',\n",
        "    'CARRIER_NAME': 'category',\n",
        "    'NUMBER_OF_SEATS': 'int16',\n",
        "    'PLANE_AGE': 'int16',\n",
        "    'DEPARTING_AIRPORT': 'category',\n",
        "}\n",
        "\n",
        "start_time = time.time()\n",
        "\n",
        "# Step 2 & 5: Load CSV using Dask DataFrame (chunking + parallel processing)\n",
        "dask_df = dd.read_csv(\n",
        "    csv_path,\n",
        "    blocksize=\"100MB\",\n",
        "    usecols=usecols,\n",
        "    dtype=dtype_map,\n",
        "    assume_missing=True  # safer when ints can have missing values\n",
        ")\n",
        "\n",
        "# Basic data cleaning\n",
        "dask_df = dask_df.dropna().drop_duplicates()\n",
        "\n",
        "# Step 4: Sample 10% of the data for faster prototyping\n",
        "dask_sampled = dask_df.sample(frac=0.1, random_state=42)\n",
        "\n",
        "# Trigger actual computation (Dask is lazy by default)\n",
        "sampled_df_dask = dask_sampled.compute()\n",
        "\n",
        "end_time = time.time()\n",
        "\n",
        "# Memory usage and execution time\n",
        "dask_memory_usage = sampled_df_dask.memory_usage(deep=True).sum() / 1024**2\n",
        "dask_execution_time = end_time - start_time\n",
        "\n",
        "# Performance results\n",
        "print(\"✅ Dask Optimization Performance\")\n",
        "print(f\"Memory Usage: {dask_memory_usage:.2f} MB\")\n",
        "print(f\"Execution Time: {dask_execution_time:.2f} seconds\")\n",
        "\n",
        "# Data Inspection\n",
        "print(\"\\n✅ Data Inspection\")\n",
        "print(f\"Data Shape: {sampled_df_dask.shape}\")\n",
        "print(\"Column Names:\", sampled_df_dask.columns.tolist())\n",
        "print(\"\\nData Types:\")\n",
        "print(sampled_df_dask.dtypes)\n",
        "\n",
        "# Show first 5 rows\n",
        "print(\"\\n✅ Preview Data:\")\n",
        "print(sampled_df_dask.head())"
      ]
    },
    {
      "cell_type": "markdown",
      "metadata": {
        "id": "sj39ds4xrB5p"
      },
      "source": [
        "## Polars"
      ]
    },
    {
      "cell_type": "code",
      "execution_count": null,
      "metadata": {
        "id": "WL1julo2u4Ya"
      },
      "outputs": [],
      "source": [
        "!pip install polars --quiet"
      ]
    },
    {
      "cell_type": "code",
      "execution_count": 12,
      "metadata": {
        "id": "EoEwU7CNp0EW",
        "colab": {
          "base_uri": "https://localhost:8080/"
        },
        "outputId": "e9c30789-dd9e-46e9-cf40-5b66a47a6acf"
      },
      "outputs": [
        {
          "output_type": "stream",
          "name": "stdout",
          "text": [
            "✅ Polars Optimization Performance\n",
            "Memory Usage: 9.01 MB\n",
            "Execution Time: 8.93 seconds\n",
            "\n",
            "✅ Data Inspection\n",
            "Data Shape: (472193, 9)\n",
            "Column Names: ['MONTH', 'DAY_OF_WEEK', 'DEP_DEL15', 'DEP_TIME_BLK', 'DISTANCE_GROUP', 'NUMBER_OF_SEATS', 'CARRIER_NAME', 'PLANE_AGE', 'DEPARTING_AIRPORT']\n",
            "\n",
            "Data Types:\n",
            "[Int8, Int8, Int8, Categorical(ordering='physical'), Int8, Int16, Categorical(ordering='physical'), Int16, Categorical(ordering='physical')]\n",
            "\n",
            "✅ Preview Data:\n",
            "shape: (5, 9)\n",
            "┌───────┬────────────┬───────────┬────────────┬───┬────────────┬───────────┬───────────┬───────────┐\n",
            "│ MONTH ┆ DAY_OF_WEE ┆ DEP_DEL15 ┆ DEP_TIME_B ┆ … ┆ NUMBER_OF_ ┆ CARRIER_N ┆ PLANE_AGE ┆ DEPARTING │\n",
            "│ ---   ┆ K          ┆ ---       ┆ LK         ┆   ┆ SEATS      ┆ AME       ┆ ---       ┆ _AIRPORT  │\n",
            "│ i8    ┆ ---        ┆ i8        ┆ ---        ┆   ┆ ---        ┆ ---       ┆ i16       ┆ ---       │\n",
            "│       ┆ i8         ┆           ┆ cat        ┆   ┆ i16        ┆ cat       ┆           ┆ cat       │\n",
            "╞═══════╪════════════╪═══════════╪════════════╪═══╪════════════╪═══════════╪═══════════╪═══════════╡\n",
            "│ 5     ┆ 6          ┆ 0         ┆ 2000-2059  ┆ … ┆ 66         ┆ SkyWest   ┆ 8         ┆ Salt Lake │\n",
            "│       ┆            ┆           ┆            ┆   ┆            ┆ Airlines  ┆           ┆ City Inte │\n",
            "│       ┆            ┆           ┆            ┆   ┆            ┆ Inc.      ┆           ┆ rnational │\n",
            "│ 11    ┆ 4          ┆ 1         ┆ 1800-1859  ┆ … ┆ 175        ┆ Southwest ┆ 3         ┆ Pittsburg │\n",
            "│       ┆            ┆           ┆            ┆   ┆            ┆ Airlines  ┆           ┆ h Interna │\n",
            "│       ┆            ┆           ┆            ┆   ┆            ┆ Co.       ┆           ┆ tional    │\n",
            "│ 8     ┆ 7          ┆ 0         ┆ 1700-1759  ┆ … ┆ 143        ┆ Southwest ┆ 14        ┆ McCarran  │\n",
            "│       ┆            ┆           ┆            ┆   ┆            ┆ Airlines  ┆           ┆ Internati │\n",
            "│       ┆            ┆           ┆            ┆   ┆            ┆ Co.       ┆           ┆ onal      │\n",
            "│ 7     ┆ 4          ┆ 1         ┆ 0700-0759  ┆ … ┆ 76         ┆ SkyWest   ┆ 3         ┆ San Jose  │\n",
            "│       ┆            ┆           ┆            ┆   ┆            ┆ Airlines  ┆           ┆ Internati │\n",
            "│       ┆            ┆           ┆            ┆   ┆            ┆ Inc.      ┆           ┆ onal      │\n",
            "│ 6     ┆ 7          ┆ 1         ┆ 1300-1359  ┆ … ┆ 50         ┆ SkyWest   ┆ 17        ┆ San       │\n",
            "│       ┆            ┆           ┆            ┆   ┆            ┆ Airlines  ┆           ┆ Francisco │\n",
            "│       ┆            ┆           ┆            ┆   ┆            ┆ Inc.      ┆           ┆ Internati │\n",
            "│       ┆            ┆           ┆            ┆   ┆            ┆           ┆           ┆ onal      │\n",
            "└───────┴────────────┴───────────┴────────────┴───┴────────────┴───────────┴───────────┴───────────┘\n"
          ]
        }
      ],
      "source": [
        "import time\n",
        "import psutil\n",
        "import polars as pl\n",
        "\n",
        "# Step 1: Define columns to load (Load Less Data)\n",
        "usecols = [\n",
        "    'MONTH', 'DAY_OF_WEEK', 'DEP_DEL15', 'DEP_TIME_BLK', 'DISTANCE_GROUP',\n",
        "    'CARRIER_NAME', 'NUMBER_OF_SEATS', 'PLANE_AGE', 'DEPARTING_AIRPORT'\n",
        "]\n",
        "\n",
        "# Step 2 & 3: Load CSV with Polars, specify dtypes for memory optimization\n",
        "dtype_map = {\n",
        "    'MONTH': pl.Int8,\n",
        "    'DAY_OF_WEEK': pl.Int8,\n",
        "    'DEP_DEL15': pl.Int8,\n",
        "    'DEP_TIME_BLK': pl.Categorical,\n",
        "    'DISTANCE_GROUP': pl.Int8,\n",
        "    'CARRIER_NAME': pl.Categorical,\n",
        "    'NUMBER_OF_SEATS': pl.Int16,\n",
        "    'PLANE_AGE': pl.Int16,\n",
        "    'DEPARTING_AIRPORT': pl.Categorical,\n",
        "}\n",
        "\n",
        "start_time = time.time()\n",
        "\n",
        "# Polars read_csv supports columns and dtypes specification\n",
        "polars_df = pl.read_csv(\n",
        "    csv_path,\n",
        "    columns=usecols,\n",
        "    schema_overrides=dtype_map,\n",
        "    null_values=[\"\", \"NA\", \"NaN\"]  # handle common null values\n",
        ")\n",
        "\n",
        "# Basic Data Cleaning\n",
        "polars_df = polars_df.drop_nulls().unique()\n",
        "\n",
        "# Step 4: Sample 10% of data for prototyping\n",
        "sampled_df_polars = polars_df.sample(fraction=0.1, seed=42)\n",
        "\n",
        "end_time = time.time()\n",
        "\n",
        "# Memory usage and execution time\n",
        "polars_memory_usage = sampled_df_polars.estimated_size() / 1024**2\n",
        "polars_execution_time = end_time - start_time\n",
        "\n",
        "# Performance results\n",
        "print(\"✅ Polars Optimization Performance\")\n",
        "print(f\"Memory Usage: {polars_memory_usage:.2f} MB\")\n",
        "print(f\"Execution Time: {polars_execution_time:.2f} seconds\")\n",
        "\n",
        "# Data Inspection\n",
        "print(\"\\n✅ Data Inspection\")\n",
        "print(f\"Data Shape: {sampled_df_polars.shape}\")\n",
        "print(\"Column Names:\", sampled_df_polars.columns)\n",
        "print(\"\\nData Types:\")\n",
        "print(sampled_df_polars.dtypes)\n",
        "\n",
        "# Show first 5 rows\n",
        "print(\"\\n✅ Preview Data:\")\n",
        "print(sampled_df_polars.head())"
      ]
    },
    {
      "cell_type": "markdown",
      "metadata": {
        "id": "D6gaVczpyIr0"
      },
      "source": [
        "# Task 4: Comparative Analysis\n",
        "\n",
        "*   Memory Usage (MB)\n",
        "*   Execution Time (seconds)\n",
        "\n"
      ]
    },
    {
      "cell_type": "code",
      "execution_count": 13,
      "metadata": {
        "id": "eMlQmIEOyPSF",
        "colab": {
          "base_uri": "https://localhost:8080/",
          "height": 607
        },
        "outputId": "11de2b70-4d46-4f0a-a349-366fb59a99b5"
      },
      "outputs": [
        {
          "output_type": "display_data",
          "data": {
            "text/plain": [
              "<Figure size 1400x600 with 2 Axes>"
            ],
            "image/png": "[encoded data removed]"
          },
          "metadata": {}
        }
      ],
      "source": [
        "import matplotlib.pyplot as plt\n",
        "import numpy as np\n",
        "\n",
        "# Define labels and values\n",
        "methods = ['Pandas\\n(No Opt)', 'Pandas\\n(Opt)', 'Dask', 'Polars']\n",
        "mem_values = [\n",
        "    pandas_without_opt_memory_used,\n",
        "    pandas_opt_memory_usage,\n",
        "    dask_memory_usage,\n",
        "    polars_memory_usage\n",
        "]\n",
        "time_values = [\n",
        "    pandas_without_opt_execution_time,\n",
        "    pandas_opt_execution_time,\n",
        "    dask_execution_time,\n",
        "    polars_execution_time\n",
        "]\n",
        "\n",
        "# Calculate max values for positioning labels\n",
        "max_mem = max(mem_values)\n",
        "max_time = max(time_values)\n",
        "\n",
        "# Hatch patterns for the bars\n",
        "hatches = ['/', '\\\\', 'o', 'x']\n",
        "\n",
        "plt.figure(figsize=(14, 6), facecolor='white')\n",
        "\n",
        "# Remove any predefined style\n",
        "plt.style.use('default')\n",
        "\n",
        "# Memory Usage Bar Chart\n",
        "plt.subplot(1, 2, 1)\n",
        "mem_bars = plt.bar(\n",
        "    methods,\n",
        "    mem_values,\n",
        "    color=['#ff7f7f', '#7fb8ff', '#7fff7f', '#ff7fff'],\n",
        "    width=0.6,\n",
        "    edgecolor='black',\n",
        "    linewidth=1\n",
        ")\n",
        "# Apply hatch patterns\n",
        "for bar, hatch in zip(mem_bars, hatches):\n",
        "    bar.set_hatch(hatch)\n",
        "\n",
        "plt.title('Memory Usage (MB)', fontsize=12, pad=15)\n",
        "plt.ylabel('Memory (MB)', fontsize=10)\n",
        "plt.grid(axis='y', linestyle='--', alpha=0.4)\n",
        "\n",
        "# Add value labels above memory bars\n",
        "for bar in mem_bars:\n",
        "    height = bar.get_height()\n",
        "    plt.text(\n",
        "        bar.get_x() + bar.get_width() / 2.0,\n",
        "        height + max_mem * 0.05,\n",
        "        f'{height:.1f}',\n",
        "        ha='center',\n",
        "        va='bottom',\n",
        "        color='black',\n",
        "        fontsize=10\n",
        "    )\n",
        "\n",
        "# Execution Time Bar Chart\n",
        "plt.subplot(1, 2, 2)\n",
        "time_bars = plt.bar(\n",
        "    methods,\n",
        "    time_values,\n",
        "    color=['#ff7f7f', '#7fb8ff', '#7fff7f', '#ff7fff'],\n",
        "    width=0.6,\n",
        "    edgecolor='black',\n",
        "    linewidth=1\n",
        ")\n",
        "# Apply hatch patterns to time bars\n",
        "for bar, hatch in zip(time_bars, hatches):\n",
        "    bar.set_hatch(hatch)\n",
        "\n",
        "plt.title('Execution Time (seconds)', fontsize=12, pad=15)\n",
        "plt.ylabel('Time (seconds)', fontsize=10)\n",
        "plt.grid(axis='y', linestyle='--', alpha=0.4)\n",
        "\n",
        "# Add value labels above time bars\n",
        "for bar in time_bars:\n",
        "    height = bar.get_height()\n",
        "    plt.text(\n",
        "        bar.get_x() + bar.get_width() / 2.0,\n",
        "        height + max_time * 0.05,\n",
        "        f'{height:.2f}',\n",
        "        ha='center',\n",
        "        va='bottom',\n",
        "        color='black',\n",
        "        fontsize=10\n",
        "    )\n",
        "\n",
        "plt.tight_layout()\n",
        "plt.show()"
      ]
    }
  ],
  "metadata": {
    "colab": {
      "provenance": []
    },
    "kernelspec": {
      "display_name": "Python 3",
      "name": "python3"
    },
    "language_info": {
      "name": "python"
    }
  },
  "nbformat": 4,
  "nbformat_minor": 0
}