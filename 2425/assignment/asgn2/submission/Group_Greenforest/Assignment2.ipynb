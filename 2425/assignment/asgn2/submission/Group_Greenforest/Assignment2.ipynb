{
  "cells": [
    {
      "cell_type": "markdown",
      "metadata": {
        "id": "7q-nB40JxNl5"
      },
      "source": [
        "#**HPDP Assignment 2**\n",
        "###**Group Members**\n",
        "| No. | Name                               | Matric Number |\n",
        "| --- | ---------------------------------- | ------------- |\n",
        "| 1   | Nurul Erina Binti Zainuddin        | A22EC0254     |\n",
        "| 2   | Nur Arini Fatihah Binti Mohd Sabir | A22EC0244     |\n",
        "\n",
        "<br>\n",
        "\n",
        "###**Table of Contents**\n",
        "| No. | Section                               |\n",
        "| --- | ------------------------------------- |\n",
        "| 1.0 | Setup Kaggle API and Download Dataset |\n",
        "| 2.0 | Upload Dataset to Google Drive        |\n",
        "| 3.0 | Pandas                                |\n",
        "| 4.0 | Dask                                  |\n",
        "| 5.0 | Polars                                |\n",
        "| 6.0 | Performance Comparison                |\n",
        "\n",
        "<br>"
      ]
    },
    {
      "cell_type": "code",
      "source": [
        "import pandas as pd"
      ],
      "metadata": {
        "id": "4c_Lb4mthkna"
      },
      "execution_count": null,
      "outputs": []
    },
    {
      "cell_type": "markdown",
      "metadata": {
        "id": "KImTlW2ypz9i"
      },
      "source": [
        "## **1.0 Setup Kaggle API and Download Dataset**"
      ]
    },
    {
      "cell_type": "code",
      "execution_count": null,
      "metadata": {
        "colab": {
          "base_uri": "https://localhost:8080/",
          "height": 90
        },
        "id": "vCnzLnwCv9Ep",
        "outputId": "4e09bf82-7cdf-41ac-94a3-7d745ac10159"
      },
      "outputs": [
        {
          "output_type": "display_data",
          "data": {
            "text/plain": [
              "<IPython.core.display.HTML object>"
            ],
            "text/html": [
              "\n",
              "     <input type=\"file\" id=\"files-fd769e31-7475-4c82-890f-287deab4f486\" name=\"files[]\" multiple disabled\n",
              "        style=\"border:none\" />\n",
              "     <output id=\"result-fd769e31-7475-4c82-890f-287deab4f486\">\n",
              "      Upload widget is only available when the cell has been executed in the\n",
              "      current browser session. Please rerun this cell to enable.\n",
              "      </output>\n",
              "      <script>// Copyright 2017 Google LLC\n",
              "//\n",
              "// Licensed under the Apache License, Version 2.0 (the \"License\");\n",
              "// you may not use this file except in compliance with the License.\n",
              "// You may obtain a copy of the License at\n",
              "//\n",
              "//      http://www.apache.org/licenses/LICENSE-2.0\n",
              "//\n",
              "// Unless required by applicable law or agreed to in writing, software\n",
              "// distributed under the License is distributed on an \"AS IS\" BASIS,\n",
              "// WITHOUT WARRANTIES OR CONDITIONS OF ANY KIND, either express or implied.\n",
              "// See the License for the specific language governing permissions and\n",
              "// limitations under the License.\n",
              "\n",
              "/**\n",
              " * @fileoverview Helpers for google.colab Python module.\n",
              " */\n",
              "(function(scope) {\n",
              "function span(text, styleAttributes = {}) {\n",
              "  const element = document.createElement('span');\n",
              "  element.textContent = text;\n",
              "  for (const key of Object.keys(styleAttributes)) {\n",
              "    element.style[key] = styleAttributes[key];\n",
              "  }\n",
              "  return element;\n",
              "}\n",
              "\n",
              "// Max number of bytes which will be uploaded at a time.\n",
              "const MAX_PAYLOAD_SIZE = 100 * 1024;\n",
              "\n",
              "function _uploadFiles(inputId, outputId) {\n",
              "  const steps = uploadFilesStep(inputId, outputId);\n",
              "  const outputElement = document.getElementById(outputId);\n",
              "  // Cache steps on the outputElement to make it available for the next call\n",
              "  // to uploadFilesContinue from Python.\n",
              "  outputElement.steps = steps;\n",
              "\n",
              "  return _uploadFilesContinue(outputId);\n",
              "}\n",
              "\n",
              "// This is roughly an async generator (not supported in the browser yet),\n",
              "// where there are multiple asynchronous steps and the Python side is going\n",
              "// to poll for completion of each step.\n",
              "// This uses a Promise to block the python side on completion of each step,\n",
              "// then passes the result of the previous step as the input to the next step.\n",
              "function _uploadFilesContinue(outputId) {\n",
              "  const outputElement = document.getElementById(outputId);\n",
              "  const steps = outputElement.steps;\n",
              "\n",
              "  const next = steps.next(outputElement.lastPromiseValue);\n",
              "  return Promise.resolve(next.value.promise).then((value) => {\n",
              "    // Cache the last promise value to make it available to the next\n",
              "    // step of the generator.\n",
              "    outputElement.lastPromiseValue = value;\n",
              "    return next.value.response;\n",
              "  });\n",
              "}\n",
              "\n",
              "/**\n",
              " * Generator function which is called between each async step of the upload\n",
              " * process.\n",
              " * @param {string} inputId Element ID of the input file picker element.\n",
              " * @param {string} outputId Element ID of the output display.\n",
              " * @return {!Iterable<!Object>} Iterable of next steps.\n",
              " */\n",
              "function* uploadFilesStep(inputId, outputId) {\n",
              "  const inputElement = document.getElementById(inputId);\n",
              "  inputElement.disabled = false;\n",
              "\n",
              "  const outputElement = document.getElementById(outputId);\n",
              "  outputElement.innerHTML = '';\n",
              "\n",
              "  const pickedPromise = new Promise((resolve) => {\n",
              "    inputElement.addEventListener('change', (e) => {\n",
              "      resolve(e.target.files);\n",
              "    });\n",
              "  });\n",
              "\n",
              "  const cancel = document.createElement('button');\n",
              "  inputElement.parentElement.appendChild(cancel);\n",
              "  cancel.textContent = 'Cancel upload';\n",
              "  const cancelPromise = new Promise((resolve) => {\n",
              "    cancel.onclick = () => {\n",
              "      resolve(null);\n",
              "    };\n",
              "  });\n",
              "\n",
              "  // Wait for the user to pick the files.\n",
              "  const files = yield {\n",
              "    promise: Promise.race([pickedPromise, cancelPromise]),\n",
              "    response: {\n",
              "      action: 'starting',\n",
              "    }\n",
              "  };\n",
              "\n",
              "  cancel.remove();\n",
              "\n",
              "  // Disable the input element since further picks are not allowed.\n",
              "  inputElement.disabled = true;\n",
              "\n",
              "  if (!files) {\n",
              "    return {\n",
              "      response: {\n",
              "        action: 'complete',\n",
              "      }\n",
              "    };\n",
              "  }\n",
              "\n",
              "  for (const file of files) {\n",
              "    const li = document.createElement('li');\n",
              "    li.append(span(file.name, {fontWeight: 'bold'}));\n",
              "    li.append(span(\n",
              "        `(${file.type || 'n/a'}) - ${file.size} bytes, ` +\n",
              "        `last modified: ${\n",
              "            file.lastModifiedDate ? file.lastModifiedDate.toLocaleDateString() :\n",
              "                                    'n/a'} - `));\n",
              "    const percent = span('0% done');\n",
              "    li.appendChild(percent);\n",
              "\n",
              "    outputElement.appendChild(li);\n",
              "\n",
              "    const fileDataPromise = new Promise((resolve) => {\n",
              "      const reader = new FileReader();\n",
              "      reader.onload = (e) => {\n",
              "        resolve(e.target.result);\n",
              "      };\n",
              "      reader.readAsArrayBuffer(file);\n",
              "    });\n",
              "    // Wait for the data to be ready.\n",
              "    let fileData = yield {\n",
              "      promise: fileDataPromise,\n",
              "      response: {\n",
              "        action: 'continue',\n",
              "      }\n",
              "    };\n",
              "\n",
              "    // Use a chunked sending to avoid message size limits. See b/62115660.\n",
              "    let position = 0;\n",
              "    do {\n",
              "      const length = Math.min(fileData.byteLength - position, MAX_PAYLOAD_SIZE);\n",
              "      const chunk = new Uint8Array(fileData, position, length);\n",
              "      position += length;\n",
              "\n",
              "      const base64 = btoa(String.fromCharCode.apply(null, chunk));\n",
              "      yield {\n",
              "        response: {\n",
              "          action: 'append',\n",
              "          file: file.name,\n",
              "          data: base64,\n",
              "        },\n",
              "      };\n",
              "\n",
              "      let percentDone = fileData.byteLength === 0 ?\n",
              "          100 :\n",
              "          Math.round((position / fileData.byteLength) * 100);\n",
              "      percent.textContent = `${percentDone}% done`;\n",
              "\n",
              "    } while (position < fileData.byteLength);\n",
              "  }\n",
              "\n",
              "  // All done.\n",
              "  yield {\n",
              "    response: {\n",
              "      action: 'complete',\n",
              "    }\n",
              "  };\n",
              "}\n",
              "\n",
              "scope.google = scope.google || {};\n",
              "scope.google.colab = scope.google.colab || {};\n",
              "scope.google.colab._files = {\n",
              "  _uploadFiles,\n",
              "  _uploadFilesContinue,\n",
              "};\n",
              "})(self);\n",
              "</script> "
            ]
          },
          "metadata": {}
        },
        {
          "output_type": "stream",
          "name": "stdout",
          "text": [
            "Saving kaggle.json to kaggle (1).json\n"
          ]
        },
        {
          "output_type": "execute_result",
          "data": {
            "text/plain": [
              "{'kaggle (1).json': b'{\"username\":\"nrulerina\",\"key\":\"0a0c5584b38ad14a93b34df9c03eda89\"}'}"
            ]
          },
          "metadata": {},
          "execution_count": 10
        }
      ],
      "source": [
        "from google.colab import files\n",
        "files.upload()  # Upload kaggle.json"
      ]
    },
    {
      "cell_type": "code",
      "source": [
        "from google.colab import drive\n",
        "drive.mount('/content/drive')"
      ],
      "metadata": {
        "id": "8PNnfvGWhajZ"
      },
      "execution_count": null,
      "outputs": []
    },
    {
      "cell_type": "code",
      "execution_count": null,
      "metadata": {
        "id": "4h3VuOHP8wSE"
      },
      "outputs": [],
      "source": [
        "# Set up Kaggle API access\n",
        "!mkdir -p ~/.kaggle\n",
        "!cp kaggle.json ~/.kaggle/\n",
        "!chmod 600 ~/.kaggle/kaggle.json\n",
        "!pip install -q kaggle"
      ]
    },
    {
      "cell_type": "code",
      "execution_count": null,
      "metadata": {
        "colab": {
          "base_uri": "https://localhost:8080/"
        },
        "id": "B0dzq2fp-7MP",
        "outputId": "83a98583-e4a6-4c7d-d330-e87918a31cb2"
      },
      "outputs": [
        {
          "output_type": "stream",
          "name": "stdout",
          "text": [
            "Dataset URL: https://www.kaggle.com/datasets/stoney71/new-york-city-transport-statistics\n",
            "License(s): unknown\n",
            "Downloading new-york-city-transport-statistics.zip to /content\n",
            " 99% 1.29G/1.30G [00:11<00:00, 39.4MB/s]\n",
            "100% 1.30G/1.30G [00:11<00:00, 120MB/s] \n"
          ]
        }
      ],
      "source": [
        "# Download the dataset from Kaggle\n",
        "!kaggle datasets download -d stoney71/new-york-city-transport-statistics"
      ]
    },
    {
      "cell_type": "code",
      "execution_count": null,
      "metadata": {
        "colab": {
          "base_uri": "https://localhost:8080/"
        },
        "id": "fOn6E8sW_t9z",
        "outputId": "3b4e6106-c5ea-4e71-e83a-4b2a8559843c"
      },
      "outputs": [
        {
          "output_type": "stream",
          "name": "stdout",
          "text": [
            "Archive:  new-york-city-transport-statistics.zip\n",
            "  inflating: ./nyc_transport/mta_1706.csv  \n",
            "  inflating: ./nyc_transport/mta_1708.csv  \n",
            "  inflating: ./nyc_transport/mta_1710.csv  \n",
            "  inflating: ./nyc_transport/mta_1712.csv  \n"
          ]
        }
      ],
      "source": [
        "# Step 4: Unzip the dataset\n",
        "!unzip -o new-york-city-transport-statistics.zip -d ./nyc_transport"
      ]
    },
    {
      "cell_type": "markdown",
      "metadata": {
        "id": "VAGQDkDfqOmA"
      },
      "source": [
        "## **2.0 Upload Dataset to Google Drive**"
      ]
    },
    {
      "cell_type": "code",
      "execution_count": null,
      "metadata": {
        "colab": {
          "base_uri": "https://localhost:8080/"
        },
        "id": "aOrtAr4_A6AL",
        "outputId": "028b9214-bc9c-453c-80c1-07977b98a60d"
      },
      "outputs": [
        {
          "output_type": "stream",
          "name": "stdout",
          "text": [
            "Drive already mounted at /content/drive; to attempt to forcibly remount, call drive.mount(\"/content/drive\", force_remount=True).\n"
          ]
        }
      ],
      "source": [
        "# Mount to drive to upload dataset\n",
        "from google.colab import drive\n",
        "drive.mount('/content/drive')\n",
        "\n",
        "# If error disconnect and delete runtime first"
      ]
    },
    {
      "cell_type": "code",
      "execution_count": null,
      "metadata": {
        "id": "HJe5f5RcBrZZ"
      },
      "outputs": [],
      "source": [
        "import os\n",
        "save_path = '/content/drive/MyDrive/Assign2/nyc_transport_data'\n",
        "os.makedirs(save_path, exist_ok=True)"
      ]
    },
    {
      "cell_type": "code",
      "execution_count": null,
      "metadata": {
        "colab": {
          "base_uri": "https://localhost:8080/"
        },
        "id": "fTk1d1AIB3YE",
        "outputId": "0f4760ca-da66-40f3-b91d-b1c0c5f653b6"
      },
      "outputs": [
        {
          "metadata": {
            "tags": null
          },
          "name": "stdout",
          "output_type": "stream",
          "text": [
            "✅ File successfully saved to: /content/drive/MyDrive/Assign2/nyc_transport_data/mta_1712.csv\n"
          ]
        }
      ],
      "source": [
        "# Define the full output file path\n",
        "output_file = os.path.join(save_path, 'mta_1712.csv')\n",
        "\n",
        "# Save the DataFrame in MyDrive\n",
        "file_path = '/content/nyc_transport/mta_1712.csv'\n",
        "df = pd.read_csv(file_path, on_bad_lines='skip')\n",
        "df.to_csv(output_file, index=False)\n",
        "\n",
        "print(f\"✅ File successfully saved to: {output_file}\")\n"
      ]
    },
    {
      "cell_type": "markdown",
      "metadata": {
        "id": "tsFmnqfuoS-2"
      },
      "source": [
        "## **3.0 Pandas**"
      ]
    },
    {
      "cell_type": "code",
      "execution_count": 1,
      "metadata": {
        "id": "kB-kgY05qvVU"
      },
      "outputs": [],
      "source": [
        "import pandas as pd\n",
        "import os\n",
        "import psutil\n",
        "import time"
      ]
    },
    {
      "cell_type": "code",
      "execution_count": 2,
      "metadata": {
        "colab": {
          "base_uri": "https://localhost:8080/"
        },
        "id": "ls3P4eagpQr9",
        "outputId": "f54ab95a-dbc3-4a2a-c157-808b97da60a0"
      },
      "outputs": [
        {
          "output_type": "stream",
          "name": "stdout",
          "text": [
            "Mounted at /content/drive\n"
          ]
        }
      ],
      "source": [
        "# Connect to drive to load dataset\n",
        "from google.colab import drive\n",
        "drive.mount('/content/drive')"
      ]
    },
    {
      "cell_type": "code",
      "execution_count": 3,
      "metadata": {
        "colab": {
          "base_uri": "https://localhost:8080/"
        },
        "id": "0-0261Jy_ukY",
        "outputId": "0bba96ed-0e85-4a1d-d691-3314c7fbf735"
      },
      "outputs": [
        {
          "output_type": "stream",
          "name": "stdout",
          "text": [
            "📂 Dataset Inspection Before Cleaning with Pandas\n",
            "✅ Shape of the dataset: (6461384, 17)\n",
            "\n",
            "📌 Column Names:\n",
            "RecordedAtTime, DirectionRef, PublishedLineName, OriginName, OriginLat, OriginLong, DestinationName, DestinationLat, DestinationLong\n",
            "VehicleRef, VehicleLocation.Latitude, VehicleLocation.Longitude, NextStopPointName, ArrivalProximityText, DistanceFromStop, ExpectedArrivalTime, ScheduledArrivalTime\n",
            "\n",
            "🧠 Data Types:\n",
            "RecordedAtTime                object\n",
            "DirectionRef                 float64\n",
            "PublishedLineName             object\n",
            "OriginName                    object\n",
            "OriginLat                    float64\n",
            "OriginLong                   float64\n",
            "DestinationName               object\n",
            "DestinationLat               float64\n",
            "DestinationLong              float64\n",
            "VehicleRef                    object\n",
            "VehicleLocation.Latitude     float64\n",
            "VehicleLocation.Longitude    float64\n",
            "NextStopPointName             object\n",
            "ArrivalProximityText          object\n",
            "DistanceFromStop             float64\n",
            "ExpectedArrivalTime           object\n",
            "ScheduledArrivalTime          object\n",
            "dtype: object\n",
            "\n",
            "🔁 Duplicate Rows: 26222\n",
            "\n",
            "❌ Missing Values (count per column):\n",
            "DirectionRef             301238\n",
            "OriginName               392687\n",
            "OriginLat                392687\n",
            "OriginLong               392687\n",
            "DestinationLat           316163\n",
            "DestinationLong          316163\n",
            "NextStopPointName        308081\n",
            "ArrivalProximityText       7093\n",
            "DistanceFromStop           7093\n",
            "ExpectedArrivalTime     1063142\n",
            "ScheduledArrivalTime     496374\n",
            "dtype: int64\n",
            "\n",
            "📊 Performance Before Optimization\n",
            "🔄 Memory Used: 1790.59 MB\n",
            "⏱️ Execution Time: 82.93 seconds\n"
          ]
        }
      ],
      "source": [
        "# Start Performance Tracking\n",
        "process = psutil.Process(os.getpid())\n",
        "mem_before = process.memory_info().rss / 1024 ** 2\n",
        "start_time = time.time()\n",
        "\n",
        "# Load the dataset from MyDrive\n",
        "file_path = '/content/drive/MyDrive/Assign2/nyc_transport_data/mta_1712.csv'\n",
        "df_pandas = pd.read_csv(file_path)\n",
        "\n",
        "# Brief Inspection Before Cleaning\n",
        "print(\"📂 Dataset Inspection Before Cleaning with Pandas\")\n",
        "print(\"✅ Shape of the dataset:\", df_pandas.shape)\n",
        "print(\"\\n📌 Column Names:\")\n",
        "cols = df_pandas.columns\n",
        "for i in range(0, len(cols), 9):\n",
        "    print(\", \".join(cols[i:i+9]))\n",
        "print(\"\\n🧠 Data Types:\")\n",
        "print(df_pandas.dtypes)\n",
        "\n",
        "duplicate_count = df_pandas.duplicated().sum()\n",
        "print(f\"\\n🔁 Duplicate Rows: {duplicate_count}\")\n",
        "\n",
        "missing_vals = df_pandas.isnull().sum()\n",
        "print(\"\\n❌ Missing Values (count per column):\")\n",
        "print(missing_vals[missing_vals > 0])\n",
        "\n",
        "# Remove duplicate rows\n",
        "df_pandas = df_pandas.drop_duplicates()\n",
        "\n",
        "# Drop rows with all Nans\n",
        "df_pandas = df_pandas.dropna(how='all')\n",
        "\n",
        "# Fill non-critical missing values (example: fill missing text with 'Unknown', coordinates with 0.0)\n",
        "df_pandas.loc[:,'DirectionRef'] = df_pandas['DirectionRef'].fillna(-1)\n",
        "df_pandas.loc[:,'OriginName'] = df_pandas['OriginName'].fillna('Unknown')\n",
        "df_pandas.loc[:,'OriginLat'] = df_pandas['OriginLat'].fillna(0.0)\n",
        "df_pandas.loc[:,'OriginLong'] = df_pandas['OriginLong'].fillna(0.0)\n",
        "df_pandas.loc[:,'DestinationLat'] = df_pandas['DestinationLat'].fillna(0.0)\n",
        "df_pandas.loc[:,'DestinationLong'] = df_pandas['DestinationLong'].fillna(0.0)\n",
        "df_pandas.loc[:,'NextStopPointName'] = df_pandas['NextStopPointName'].fillna('Unknown')\n",
        "df_pandas.loc[:,'ArrivalProximityText'] = df_pandas['ArrivalProximityText'].fillna('Unknown')\n",
        "df_pandas.loc[:,'DistanceFromStop'] = df_pandas['DistanceFromStop'].fillna(0.0)\n",
        "df_pandas.loc[:,'ExpectedArrivalTime'] = df_pandas['ExpectedArrivalTime'].fillna('Unknown')\n",
        "df_pandas.loc[:,'ScheduledArrivalTime'] = df_pandas['ScheduledArrivalTime'].fillna('Unknown')\n",
        "\n",
        "# End Performance tracking\n",
        "mem_after = process.memory_info().rss / 1024 ** 2\n",
        "end_time = time.time()\n",
        "\n",
        "# Calculate Performance\n",
        "pandas_mem_used = mem_after - mem_before\n",
        "pandas_exe_time = end_time - start_time\n",
        "\n",
        "print(\"\\n📊 Performance Before Optimization\")\n",
        "print(f\"🔄 Memory Used: {(pandas_mem_used ):.2f} MB\")\n",
        "print(f\"⏱️ Execution Time: {pandas_exe_time:.2f} seconds\")"
      ]
    },
    {
      "cell_type": "code",
      "execution_count": 4,
      "metadata": {
        "colab": {
          "base_uri": "https://localhost:8080/"
        },
        "id": "Y75vhjwGYEVn",
        "outputId": "179fed73-fa01-4c37-fece-78ca46a88186"
      },
      "outputs": [
        {
          "output_type": "stream",
          "name": "stdout",
          "text": [
            "📂 Dataset Inspection After Cleaning with Pandas\n",
            "✅ Shape of the dataset: (6435162, 17)\n",
            "\n",
            "🔁 Duplicate Rows: 0\n",
            "\n",
            "❌ Missing Values (count per column):\n",
            "Series([], dtype: int64)\n"
          ]
        }
      ],
      "source": [
        "# Brief Inspection After Cleaning\n",
        "print(\"📂 Dataset Inspection After Cleaning with Pandas\")\n",
        "print(\"✅ Shape of the dataset:\", df_pandas.shape)\n",
        "\n",
        "duplicate_count = df_pandas.duplicated().sum()\n",
        "print(f\"\\n🔁 Duplicate Rows: {duplicate_count}\")\n",
        "\n",
        "missing_vals = df_pandas.isnull().sum()\n",
        "print(\"\\n❌ Missing Values (count per column):\")\n",
        "print(missing_vals[missing_vals > 0])"
      ]
    },
    {
      "cell_type": "markdown",
      "metadata": {
        "id": "SGPt_yFBoCBe"
      },
      "source": [
        "##**4.0 Dask**"
      ]
    },
    {
      "cell_type": "code",
      "execution_count": 4,
      "metadata": {
        "colab": {
          "base_uri": "https://localhost:8080/"
        },
        "id": "zsmeGIy_oeb_",
        "outputId": "664188ad-5a9e-4454-dde8-71ace42c198f"
      },
      "outputs": [
        {
          "output_type": "stream",
          "name": "stdout",
          "text": [
            "Requirement already satisfied: dask in /usr/local/lib/python3.11/dist-packages (2024.12.1)\n",
            "Requirement already satisfied: click>=8.1 in /usr/local/lib/python3.11/dist-packages (from dask) (8.2.1)\n",
            "Requirement already satisfied: cloudpickle>=3.0.0 in /usr/local/lib/python3.11/dist-packages (from dask) (3.1.1)\n",
            "Requirement already satisfied: fsspec>=2021.09.0 in /usr/local/lib/python3.11/dist-packages (from dask) (2025.3.2)\n",
            "Requirement already satisfied: packaging>=20.0 in /usr/local/lib/python3.11/dist-packages (from dask) (24.2)\n",
            "Requirement already satisfied: partd>=1.4.0 in /usr/local/lib/python3.11/dist-packages (from dask) (1.4.2)\n",
            "Requirement already satisfied: pyyaml>=5.3.1 in /usr/local/lib/python3.11/dist-packages (from dask) (6.0.2)\n",
            "Requirement already satisfied: toolz>=0.10.0 in /usr/local/lib/python3.11/dist-packages (from dask) (0.12.1)\n",
            "Requirement already satisfied: importlib_metadata>=4.13.0 in /usr/local/lib/python3.11/dist-packages (from dask) (8.7.0)\n",
            "Requirement already satisfied: zipp>=3.20 in /usr/local/lib/python3.11/dist-packages (from importlib_metadata>=4.13.0->dask) (3.21.0)\n",
            "Requirement already satisfied: locket in /usr/local/lib/python3.11/dist-packages (from partd>=1.4.0->dask) (1.0.0)\n"
          ]
        }
      ],
      "source": [
        "!pip install dask"
      ]
    },
    {
      "cell_type": "code",
      "execution_count": 5,
      "metadata": {
        "id": "Fn5rfpa0o-DN"
      },
      "outputs": [],
      "source": [
        "import dask.dataframe as dd\n",
        "import pandas as pd\n",
        "import os\n",
        "import psutil\n",
        "import time"
      ]
    },
    {
      "cell_type": "code",
      "execution_count": 1,
      "metadata": {
        "colab": {
          "base_uri": "https://localhost:8080/"
        },
        "id": "NG_eMdk4pG63",
        "outputId": "580cf385-098b-498e-b4ff-7746bbb4db38"
      },
      "outputs": [
        {
          "output_type": "stream",
          "name": "stdout",
          "text": [
            "Mounted at /content/drive\n"
          ]
        }
      ],
      "source": [
        "# Connect to drive to load dataset\n",
        "from google.colab import drive\n",
        "drive.mount('/content/drive')"
      ]
    },
    {
      "cell_type": "code",
      "execution_count": 6,
      "metadata": {
        "colab": {
          "base_uri": "https://localhost:8080/"
        },
        "id": "CmEy9nmTpE8m",
        "outputId": "58336315-78df-4c1f-f685-8a8ba37fed1f"
      },
      "outputs": [
        {
          "output_type": "stream",
          "name": "stdout",
          "text": [
            "📂 Dataset Inspection Before Cleaning with Dask\n",
            "✅ Shape of the dataset: (64614, 7)\n",
            "\n",
            "📌 Column Names:\n",
            "RecordedAtTime, OriginName, DestinationName, VehicleRef, NextStopPointName, ExpectedArrivalTime, ScheduledArrivalTime\n",
            "\n",
            "🧠 Data Types:\n",
            "RecordedAtTime          string[pyarrow]\n",
            "OriginName                     category\n",
            "DestinationName                category\n",
            "VehicleRef                     category\n",
            "NextStopPointName              category\n",
            "ExpectedArrivalTime     string[pyarrow]\n",
            "ScheduledArrivalTime    string[pyarrow]\n",
            "dtype: object\n",
            "\n",
            "Dask partitions: 10\n",
            "\n",
            "📊 Performance With Optimization Using Dask\n",
            "🔄 Memory Used: 309.72 MB\n",
            "⏱️ Execution Time: 60.04 seconds\n"
          ]
        }
      ],
      "source": [
        "# Start Performance Tracking\n",
        "process = psutil.Process(os.getpid())\n",
        "mem_before = process.memory_info().rss / 1024 ** 2\n",
        "start_time = time.time()\n",
        "\n",
        "# Load less data\n",
        "usecols = ['RecordedAtTime','OriginName', 'DestinationName', 'VehicleRef','NextStopPointName',\n",
        "           'ExpectedArrivalTime', 'ScheduledArrivalTime']\n",
        "\n",
        "# Optimize data types\n",
        "dtype_map = {\n",
        "    'RecordedAtTime': 'object',\n",
        "    'OriginName': 'category',\n",
        "    'DestinationName': 'category',\n",
        "    'VehicleRef': 'category',\n",
        "    'NextStopPointName': 'category',\n",
        "    'ExpectedArrivalTime': 'object',\n",
        "    'ScheduledArrivalTime': 'object'\n",
        "}\n",
        "\n",
        "# Chunking, Dask Dataframe\n",
        "file_path = '/content/drive/MyDrive/Assign2/nyc_transport_data/mta_1712.csv'\n",
        "df_dask = dd.read_csv(file_path, usecols=usecols, assume_missing=True, dtype=dtype_map, blocksize=\"128MB\")\n",
        "\n",
        "# Sampling\n",
        "df_dask = df_dask.sample(frac=0.01, random_state=42)\n",
        "\n",
        "# Brief Inspection Before Cleaning\n",
        "print(\"📂 Dataset Inspection Before Cleaning with Dask\")\n",
        "print(\"✅ Shape of the dataset:\", (len(df_dask), len(df_dask.columns)))\n",
        "print(\"\\n📌 Column Names:\")\n",
        "print(\", \".join(df_dask.columns))\n",
        "print(\"\\n🧠 Data Types:\")\n",
        "print(df_dask.dtypes)\n",
        "\n",
        "# Apply category dtype to relevant columns\n",
        "categorical_cols = [col for col in dtype_map.keys() if dtype_map[col] == 'category']\n",
        "for col in categorical_cols:\n",
        "    if col in df_dask.columns:\n",
        "        df_dask[col] = df_dask[col].astype('category')\n",
        "        df_dask[col] = df_dask[col].map_partitions(lambda s: s.cat.add_categories('Unknown') if 'Unknown' not in\n",
        "                                                   s.cat.categories else s)\n",
        "\n",
        "# Fill missing values\n",
        "fill_values = {\n",
        "    'RecordedAtTime': 'Unknown',\n",
        "    'OriginName': 'Unknown',\n",
        "    'DestinationName': 'Unknown',\n",
        "    'VehicleRef': 'Unknown',\n",
        "    'NextStopPointName': 'Unknown',\n",
        "    'ExpectedArrivalTime': 'Unknown',\n",
        "    'ScheduledArrivalTime': 'Unknown'\n",
        "}\n",
        "\n",
        "print(\"\\nDask partitions:\", df_dask.npartitions)\n",
        "\n",
        "df_dask = df_dask.fillna(fill_values)\n",
        "df_dask = df_dask.drop_duplicates()\n",
        "df_dask = df_dask.compute()\n",
        "\n",
        "# End Performance tracking\n",
        "mem_after = process.memory_info().rss / 1024 ** 2\n",
        "end_time = time.time()\n",
        "\n",
        "# Calculate Performance\n",
        "dask_mem_used = mem_after - mem_before\n",
        "dask_exe_time = end_time - start_time\n",
        "\n",
        "print(\"\\n📊 Performance With Optimization Using Dask\")\n",
        "print(f\"🔄 Memory Used: {(dask_mem_used):.2f} MB\")\n",
        "print(f\"⏱️ Execution Time: {dask_exe_time:.2f} seconds\")"
      ]
    },
    {
      "cell_type": "code",
      "execution_count": null,
      "metadata": {
        "colab": {
          "base_uri": "https://localhost:8080/"
        },
        "id": "m-KrWThtv7hn",
        "outputId": "76d0b14a-34e7-409a-e99d-a190e6d92a30"
      },
      "outputs": [
        {
          "output_type": "stream",
          "name": "stdout",
          "text": [
            "📂 Dataset Inspection After Cleaning with Dask\n",
            "✅ Shape of the dataset: (64610, 7)\n",
            "\n",
            "🔁 Duplicate Rows: 0\n",
            "\n",
            "❌ Missing Values (count per column):\n",
            "Series([], dtype: int64)\n"
          ]
        }
      ],
      "source": [
        "# Brief Inspection After Cleaning\n",
        "\n",
        "print(\"📂 Dataset Inspection After Cleaning with Dask\")\n",
        "print(\"✅ Shape of the dataset:\", df_dask.shape)\n",
        "\n",
        "duplicate_count = df_dask.duplicated().sum()\n",
        "print(f\"\\n🔁 Duplicate Rows: {duplicate_count}\")\n",
        "\n",
        "# ❌ Missing Values (count per column)\n",
        "missing_vals = df_dask.isnull().sum()\n",
        "print(\"\\n❌ Missing Values (count per column):\")\n",
        "print(missing_vals[missing_vals > 0])"
      ]
    },
    {
      "cell_type": "markdown",
      "metadata": {
        "id": "1tQY2kLlrT4v"
      },
      "source": [
        "## **5. Polars**"
      ]
    },
    {
      "cell_type": "code",
      "source": [
        "!pip install polars"
      ],
      "metadata": {
        "colab": {
          "base_uri": "https://localhost:8080/"
        },
        "id": "_pf6vFtq5hmj",
        "outputId": "19071fb6-f5e1-4784-8002-7b293b231226"
      },
      "execution_count": 7,
      "outputs": [
        {
          "output_type": "stream",
          "name": "stdout",
          "text": [
            "Requirement already satisfied: polars in /usr/local/lib/python3.11/dist-packages (1.21.0)\n"
          ]
        }
      ]
    },
    {
      "cell_type": "code",
      "source": [
        "import polars as pl\n",
        "import os\n",
        "import time\n",
        "import psutil"
      ],
      "metadata": {
        "id": "BdsYIH9z6mvW"
      },
      "execution_count": 8,
      "outputs": []
    },
    {
      "cell_type": "code",
      "source": [
        "# Connect to drive to load dataset\n",
        "from google.colab import drive\n",
        "drive.mount('/content/drive')"
      ],
      "metadata": {
        "colab": {
          "base_uri": "https://localhost:8080/"
        },
        "id": "PPOLqThf9-cN",
        "outputId": "3f094849-2680-475c-b467-d623dc8ac39d"
      },
      "execution_count": 16,
      "outputs": [
        {
          "output_type": "stream",
          "name": "stdout",
          "text": [
            "Drive already mounted at /content/drive; to attempt to forcibly remount, call drive.mount(\"/content/drive\", force_remount=True).\n"
          ]
        }
      ]
    },
    {
      "cell_type": "code",
      "execution_count": 10,
      "metadata": {
        "id": "SxbfU4RErZqd",
        "colab": {
          "base_uri": "https://localhost:8080/"
        },
        "outputId": "ed792c10-5945-4912-b3e2-65ca0c1bbd3a"
      },
      "outputs": [
        {
          "output_type": "stream",
          "name": "stdout",
          "text": [
            "📂 Dataset Inspection Before Cleaning with Polars\n",
            "✅ Shape of the dataset: (6461384, 7)\n",
            "\n",
            "📌 Column Names:\n",
            "RecordedAtTime, OriginName, DestinationName, VehicleRef, NextStopPointName, ExpectedArrivalTime, ScheduledArrivalTime\n",
            "\n",
            "🧠 Data Types:\n",
            "RecordedAtTime: String\n",
            "OriginName: String\n",
            "DestinationName: String\n",
            "VehicleRef: String\n",
            "NextStopPointName: String\n",
            "ExpectedArrivalTime: String\n",
            "ScheduledArrivalTime: String\n",
            "\n",
            "📊 Performance With Optimization Using Polars Lazy\n",
            "🔄 Memory Used: 922.66 MB\n",
            "⏱️ Execution Time: 11.64 seconds\n"
          ]
        }
      ],
      "source": [
        "# Start Performance Tracking\n",
        "process = psutil.Process(os.getpid())\n",
        "mem_before = process.memory_info().rss / 1024 ** 2\n",
        "start_time = time.time()\n",
        "\n",
        "# Define file path\n",
        "file_path = '/content/drive/MyDrive/Assign2/nyc_transport_data/mta_1712.csv'\n",
        "\n",
        "# Define columns to use (for manual selection if desired)\n",
        "usecols = ['RecordedAtTime', 'OriginName', 'DestinationName', 'VehicleRef',\n",
        "           'NextStopPointName', 'ExpectedArrivalTime', 'ScheduledArrivalTime']\n",
        "\n",
        "fill_values = {\n",
        "    'RecordedAtTime': 'Unknown',\n",
        "    'OriginName': 'Unknown',\n",
        "    'DestinationName': 'Unknown',\n",
        "    'VehicleRef': 'Unknown',\n",
        "    'NextStopPointName': 'Unknown',\n",
        "    'ExpectedArrivalTime': 'Unknown',\n",
        "    'ScheduledArrivalTime': 'Unknown'\n",
        "}\n",
        "\n",
        "# Read as LazyFrame\n",
        "df_lazy = pl.read_csv(file_path, columns=usecols, low_memory=True).lazy()\n",
        "\n",
        "# Inspect schema\n",
        "schema = df_lazy.collect_schema()\n",
        "\n",
        "# Brief Inspection Before Cleaning\n",
        "print(\"📂 Dataset Inspection Before Cleaning with Polars\")\n",
        "row_count = df_lazy.select(pl.len()).collect().item()\n",
        "print(\"✅ Shape of the dataset:\", (row_count, len(schema)))\n",
        "print(\"\\n📌 Column Names:\")\n",
        "print(\", \".join(schema.keys()))\n",
        "print(\"\\n🧠 Data Types:\")\n",
        "for col, dtype in schema.items():\n",
        "    print(f\"{col}: {dtype}\")\n",
        "\n",
        "# Fill nulls and cast categoricals (build expressions)\n",
        "expressions = []\n",
        "for col, fill_val in fill_values.items():\n",
        "    expr = pl.col(col).fill_null(fill_val)\n",
        "    if col in ['OriginName', 'DestinationName', 'VehicleRef', 'NextStopPointName']:\n",
        "        expr = expr.cast(pl.Categorical)\n",
        "    expressions.append(expr.alias(col))\n",
        "\n",
        "df_polars = df_lazy.collect(streaming=True)\n",
        "df_polars = (df_polars.with_columns(expressions).unique())\n",
        "\n",
        "# End Performance Tracking\n",
        "mem_after = process.memory_info().rss / 1024 ** 2\n",
        "end_time = time.time()\n",
        "\n",
        "# Performance summary\n",
        "polars_mem_used = mem_after - mem_before\n",
        "polars_exe_time = end_time - start_time\n",
        "\n",
        "print(\"\\n📊 Performance With Optimization Using Polars Lazy\")\n",
        "print(f\"🔄 Memory Used: {polars_mem_used:.2f} MB\")\n",
        "print(f\"⏱️ Execution Time: {polars_exe_time:.2f} seconds\")"
      ]
    },
    {
      "cell_type": "code",
      "source": [
        "# Brief Inspection After Cleaning\n",
        "\n",
        "print(\"📂 Dataset Inspection After Cleaning with {Polars}\")\n",
        "print(\"✅ Shape of the dataset:\", (df_polars.shape))\n",
        "\n",
        "duplicate_count = df_polars.is_duplicated().sum()\n",
        "print(f\"\\n🔁 Duplicate Rows: {duplicate_count}\")\n",
        "\n",
        "# ❌ Missing Values (count per column)\n",
        "missing_vals = df_polars.select([\n",
        "    pl.col(col).is_null().sum().alias(col)\n",
        "    for col in df_polars.columns\n",
        "])\n",
        "\n",
        "# Filter only columns with missing values\n",
        "missing_vals_filtered = missing_vals.row(0)\n",
        "missing_with_values = {col: count for col, count in zip(df_polars.columns, missing_vals_filtered) if count > 0}\n",
        "\n",
        "print(\"\\n❌ Missing Values (count per column):\")\n",
        "if missing_with_values:\n",
        "    for col, count in missing_with_values.items():\n",
        "        print(f\"{col}: {count}\")\n",
        "else:\n",
        "    print(\"No missing values found.\")"
      ],
      "metadata": {
        "colab": {
          "base_uri": "https://localhost:8080/"
        },
        "id": "PSPJgrX-BYEe",
        "outputId": "228c758e-54ce-4bff-e566-7f081d426643"
      },
      "execution_count": 5,
      "outputs": [
        {
          "output_type": "stream",
          "name": "stdout",
          "text": [
            "📂 Dataset Inspection After Cleaning with {Polars}\n",
            "✅ Shape of the dataset: (6435162, 7)\n",
            "\n",
            "🔁 Duplicate Rows: 0\n",
            "\n",
            "❌ Missing Values (count per column):\n",
            "No missing values found.\n"
          ]
        }
      ]
    },
    {
      "cell_type": "markdown",
      "metadata": {
        "id": "z1sW8JxSt4Q6"
      },
      "source": [
        "## **6.0 Performance Comparison**"
      ]
    },
    {
      "cell_type": "code",
      "execution_count": 11,
      "metadata": {
        "id": "XsVpqcbXuNNj"
      },
      "outputs": [],
      "source": [
        "import pandas as pd\n",
        "import matplotlib.pyplot as plt"
      ]
    },
    {
      "cell_type": "code",
      "source": [
        "df = pd.DataFrame({\n",
        "    'Method': ['Pandas', 'Dask', 'Polars'],\n",
        "    'Memory Used (MB)': [pandas_mem_used, dask_mem_used, polars_mem_used],\n",
        "    'Execution Time (s)': [pandas_exe_time, dask_exe_time, polars_exe_time]\n",
        "})\n",
        "\n",
        "# Step 2: Set up colors and hatches for each method\n",
        "colors = ['#1f77b4', '#2ca02c', '#ff7f0e']   # Blue, Green, Orange\n",
        "hatches = ['///', '...', 'xxx']             # Unique patterns\n",
        "\n",
        "# Step 3: Create side-by-side bar plots\n",
        "fig, axes = plt.subplots(1, 2, figsize=(12, 5))\n",
        "\n",
        "# Memory Usage Plot\n",
        "bars1 = axes[0].bar(df['Method'], df['Memory Used (MB)'], color=colors)\n",
        "axes[0].set_title('Memory Usage Comparison')\n",
        "axes[0].set_ylabel('Memory Used (MB)')\n",
        "for bar, hatch in zip(bars1, hatches):\n",
        "    bar.set_hatch(hatch)\n",
        "\n",
        "# Execution Time Plot\n",
        "bars2 = axes[1].bar(df['Method'], df['Execution Time (s)'], color=colors)\n",
        "axes[1].set_title('Execution Time Comparison')\n",
        "axes[1].set_ylabel('Execution Time (s)')\n",
        "for bar, hatch in zip(bars2, hatches):\n",
        "    bar.set_hatch(hatch)\n",
        "\n",
        "# Final Layout\n",
        "plt.tight_layout()\n",
        "plt.show()"
      ],
      "metadata": {
        "colab": {
          "base_uri": "https://localhost:8080/",
          "height": 507
        },
        "id": "vY49OZtzi1eg",
        "outputId": "0aa675f0-ad80-4b15-b5b9-6cec1d45b398"
      },
      "execution_count": 12,
      "outputs": [
        {
          "output_type": "display_data",
          "data": {
            "text/plain": [
              "<Figure size 1200x500 with 2 Axes>"
            ],
            "image/png": "[encoded data removed]"
          },
          "metadata": {}
        }
      ]
    }
  ],
  "metadata": {
    "colab": {
      "provenance": []
    },
    "kernelspec": {
      "display_name": "Python 3",
      "name": "python3"
    },
    "language_info": {
      "name": "python"
    }
  },
  "nbformat": 4,
  "nbformat_minor": 0
}
