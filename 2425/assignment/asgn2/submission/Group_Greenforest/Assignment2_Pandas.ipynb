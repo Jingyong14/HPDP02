{
  "cells": [
    {
      "cell_type": "markdown",
      "source": [
        "##**HPDP Assignment 2 (Pandas)**\n",
        "###**Group Members**\n",
        "**1. NURUL ERINA BINTI ZAINUDDIN (A22EC0254)** <br>\n",
        "**2. NUR ARINI FATIHAH BINTI MOHD SABIR (A22EC0244)**"
      ],
      "metadata": {
        "id": "7q-nB40JxNl5"
      }
    },
    {
      "cell_type": "code",
      "source": [
        "# Import required libraries\n",
        "import pandas as pd\n",
        "import os\n",
        "import psutil\n",
        "import time"
      ],
      "metadata": {
        "id": "amrzwtdEBLgC"
      },
      "execution_count": 1,
      "outputs": []
    },
    {
      "cell_type": "code",
      "execution_count": 3,
      "metadata": {
        "colab": {
          "base_uri": "https://localhost:8080/",
          "height": 90
        },
        "id": "vCnzLnwCv9Ep",
        "outputId": "a3e11056-5448-4e5c-fb87-8a3b819fa6e2"
      },
      "outputs": [
        {
          "output_type": "display_data",
          "data": {
            "text/plain": [
              "<IPython.core.display.HTML object>"
            ],
            "text/html": [
              "\n",
              "     <input type=\"file\" id=\"files-5b50c3cd-5f79-4e6f-a0f1-93ffa9a2fcee\" name=\"files[]\" multiple disabled\n",
              "        style=\"border:none\" />\n",
              "     <output id=\"result-5b50c3cd-5f79-4e6f-a0f1-93ffa9a2fcee\">\n",
              "      Upload widget is only available when the cell has been executed in the\n",
              "      current browser session. Please rerun this cell to enable.\n",
              "      </output>\n",
              "      <script>// Copyright 2017 Google LLC\n",
              "//\n",
              "// Licensed under the Apache License, Version 2.0 (the \"License\");\n",
              "// you may not use this file except in compliance with the License.\n",
              "// You may obtain a copy of the License at\n",
              "//\n",
              "//      http://www.apache.org/licenses/LICENSE-2.0\n",
              "//\n",
              "// Unless required by applicable law or agreed to in writing, software\n",
              "// distributed under the License is distributed on an \"AS IS\" BASIS,\n",
              "// WITHOUT WARRANTIES OR CONDITIONS OF ANY KIND, either express or implied.\n",
              "// See the License for the specific language governing permissions and\n",
              "// limitations under the License.\n",
              "\n",
              "/**\n",
              " * @fileoverview Helpers for google.colab Python module.\n",
              " */\n",
              "(function(scope) {\n",
              "function span(text, styleAttributes = {}) {\n",
              "  const element = document.createElement('span');\n",
              "  element.textContent = text;\n",
              "  for (const key of Object.keys(styleAttributes)) {\n",
              "    element.style[key] = styleAttributes[key];\n",
              "  }\n",
              "  return element;\n",
              "}\n",
              "\n",
              "// Max number of bytes which will be uploaded at a time.\n",
              "const MAX_PAYLOAD_SIZE = 100 * 1024;\n",
              "\n",
              "function _uploadFiles(inputId, outputId) {\n",
              "  const steps = uploadFilesStep(inputId, outputId);\n",
              "  const outputElement = document.getElementById(outputId);\n",
              "  // Cache steps on the outputElement to make it available for the next call\n",
              "  // to uploadFilesContinue from Python.\n",
              "  outputElement.steps = steps;\n",
              "\n",
              "  return _uploadFilesContinue(outputId);\n",
              "}\n",
              "\n",
              "// This is roughly an async generator (not supported in the browser yet),\n",
              "// where there are multiple asynchronous steps and the Python side is going\n",
              "// to poll for completion of each step.\n",
              "// This uses a Promise to block the python side on completion of each step,\n",
              "// then passes the result of the previous step as the input to the next step.\n",
              "function _uploadFilesContinue(outputId) {\n",
              "  const outputElement = document.getElementById(outputId);\n",
              "  const steps = outputElement.steps;\n",
              "\n",
              "  const next = steps.next(outputElement.lastPromiseValue);\n",
              "  return Promise.resolve(next.value.promise).then((value) => {\n",
              "    // Cache the last promise value to make it available to the next\n",
              "    // step of the generator.\n",
              "    outputElement.lastPromiseValue = value;\n",
              "    return next.value.response;\n",
              "  });\n",
              "}\n",
              "\n",
              "/**\n",
              " * Generator function which is called between each async step of the upload\n",
              " * process.\n",
              " * @param {string} inputId Element ID of the input file picker element.\n",
              " * @param {string} outputId Element ID of the output display.\n",
              " * @return {!Iterable<!Object>} Iterable of next steps.\n",
              " */\n",
              "function* uploadFilesStep(inputId, outputId) {\n",
              "  const inputElement = document.getElementById(inputId);\n",
              "  inputElement.disabled = false;\n",
              "\n",
              "  const outputElement = document.getElementById(outputId);\n",
              "  outputElement.innerHTML = '';\n",
              "\n",
              "  const pickedPromise = new Promise((resolve) => {\n",
              "    inputElement.addEventListener('change', (e) => {\n",
              "      resolve(e.target.files);\n",
              "    });\n",
              "  });\n",
              "\n",
              "  const cancel = document.createElement('button');\n",
              "  inputElement.parentElement.appendChild(cancel);\n",
              "  cancel.textContent = 'Cancel upload';\n",
              "  const cancelPromise = new Promise((resolve) => {\n",
              "    cancel.onclick = () => {\n",
              "      resolve(null);\n",
              "    };\n",
              "  });\n",
              "\n",
              "  // Wait for the user to pick the files.\n",
              "  const files = yield {\n",
              "    promise: Promise.race([pickedPromise, cancelPromise]),\n",
              "    response: {\n",
              "      action: 'starting',\n",
              "    }\n",
              "  };\n",
              "\n",
              "  cancel.remove();\n",
              "\n",
              "  // Disable the input element since further picks are not allowed.\n",
              "  inputElement.disabled = true;\n",
              "\n",
              "  if (!files) {\n",
              "    return {\n",
              "      response: {\n",
              "        action: 'complete',\n",
              "      }\n",
              "    };\n",
              "  }\n",
              "\n",
              "  for (const file of files) {\n",
              "    const li = document.createElement('li');\n",
              "    li.append(span(file.name, {fontWeight: 'bold'}));\n",
              "    li.append(span(\n",
              "        `(${file.type || 'n/a'}) - ${file.size} bytes, ` +\n",
              "        `last modified: ${\n",
              "            file.lastModifiedDate ? file.lastModifiedDate.toLocaleDateString() :\n",
              "                                    'n/a'} - `));\n",
              "    const percent = span('0% done');\n",
              "    li.appendChild(percent);\n",
              "\n",
              "    outputElement.appendChild(li);\n",
              "\n",
              "    const fileDataPromise = new Promise((resolve) => {\n",
              "      const reader = new FileReader();\n",
              "      reader.onload = (e) => {\n",
              "        resolve(e.target.result);\n",
              "      };\n",
              "      reader.readAsArrayBuffer(file);\n",
              "    });\n",
              "    // Wait for the data to be ready.\n",
              "    let fileData = yield {\n",
              "      promise: fileDataPromise,\n",
              "      response: {\n",
              "        action: 'continue',\n",
              "      }\n",
              "    };\n",
              "\n",
              "    // Use a chunked sending to avoid message size limits. See b/62115660.\n",
              "    let position = 0;\n",
              "    do {\n",
              "      const length = Math.min(fileData.byteLength - position, MAX_PAYLOAD_SIZE);\n",
              "      const chunk = new Uint8Array(fileData, position, length);\n",
              "      position += length;\n",
              "\n",
              "      const base64 = btoa(String.fromCharCode.apply(null, chunk));\n",
              "      yield {\n",
              "        response: {\n",
              "          action: 'append',\n",
              "          file: file.name,\n",
              "          data: base64,\n",
              "        },\n",
              "      };\n",
              "\n",
              "      let percentDone = fileData.byteLength === 0 ?\n",
              "          100 :\n",
              "          Math.round((position / fileData.byteLength) * 100);\n",
              "      percent.textContent = `${percentDone}% done`;\n",
              "\n",
              "    } while (position < fileData.byteLength);\n",
              "  }\n",
              "\n",
              "  // All done.\n",
              "  yield {\n",
              "    response: {\n",
              "      action: 'complete',\n",
              "    }\n",
              "  };\n",
              "}\n",
              "\n",
              "scope.google = scope.google || {};\n",
              "scope.google.colab = scope.google.colab || {};\n",
              "scope.google.colab._files = {\n",
              "  _uploadFiles,\n",
              "  _uploadFilesContinue,\n",
              "};\n",
              "})(self);\n",
              "</script> "
            ]
          },
          "metadata": {}
        },
        {
          "output_type": "stream",
          "name": "stdout",
          "text": [
            "Saving kaggle.json to kaggle.json\n"
          ]
        },
        {
          "output_type": "execute_result",
          "data": {
            "text/plain": [
              "{'kaggle.json': b'{\"username\":\"nurarini\",\"key\":\"cc2f96c0317415a8979bfdd90183503c\"}'}"
            ]
          },
          "metadata": {},
          "execution_count": 3
        }
      ],
      "source": [
        "from google.colab import files\n",
        "files.upload()  # Upload kaggle.json"
      ]
    },
    {
      "cell_type": "code",
      "execution_count": 4,
      "metadata": {
        "id": "4h3VuOHP8wSE"
      },
      "outputs": [],
      "source": [
        "# Set up Kaggle API access\n",
        "!mkdir -p ~/.kaggle\n",
        "!cp kaggle.json ~/.kaggle/\n",
        "!chmod 600 ~/.kaggle/kaggle.json\n",
        "!pip install -q kaggle"
      ]
    },
    {
      "cell_type": "code",
      "execution_count": 5,
      "metadata": {
        "colab": {
          "base_uri": "https://localhost:8080/"
        },
        "id": "B0dzq2fp-7MP",
        "outputId": "814ddc24-618f-4d3d-ae3e-f02d95f5afbe"
      },
      "outputs": [
        {
          "output_type": "stream",
          "name": "stdout",
          "text": [
            "Dataset URL: https://www.kaggle.com/datasets/stoney71/new-york-city-transport-statistics\n",
            "License(s): unknown\n",
            "Downloading new-york-city-transport-statistics.zip to /content\n",
            "100% 1.30G/1.30G [00:20<00:00, 191MB/s]\n",
            "100% 1.30G/1.30G [00:20<00:00, 66.8MB/s]\n"
          ]
        }
      ],
      "source": [
        "# Download the dataset from Kaggle\n",
        "!kaggle datasets download -d stoney71/new-york-city-transport-statistics"
      ]
    },
    {
      "cell_type": "code",
      "execution_count": 6,
      "metadata": {
        "colab": {
          "base_uri": "https://localhost:8080/"
        },
        "id": "fOn6E8sW_t9z",
        "outputId": "ddd1f418-4a77-413b-a75a-07a6ee88ee9d"
      },
      "outputs": [
        {
          "output_type": "stream",
          "name": "stdout",
          "text": [
            "Archive:  new-york-city-transport-statistics.zip\n",
            "  inflating: ./nyc_transport/mta_1706.csv  \n",
            "  inflating: ./nyc_transport/mta_1708.csv  \n",
            "  inflating: ./nyc_transport/mta_1710.csv  \n",
            "  inflating: ./nyc_transport/mta_1712.csv  \n"
          ]
        }
      ],
      "source": [
        "# Step 4: Unzip the dataset\n",
        "!unzip -o new-york-city-transport-statistics.zip -d ./nyc_transport\n"
      ]
    },
    {
      "cell_type": "code",
      "execution_count": 2,
      "metadata": {
        "colab": {
          "base_uri": "https://localhost:8080/"
        },
        "id": "aOrtAr4_A6AL",
        "outputId": "e2007f1c-2e6c-4e95-c82e-265d986bfd3a"
      },
      "outputs": [
        {
          "output_type": "stream",
          "name": "stdout",
          "text": [
            "Mounted at /content/drive\n"
          ]
        }
      ],
      "source": [
        "# Disconnect and delete runtime if error here\n",
        "from google.colab import drive\n",
        "drive.mount('/content/drive')"
      ]
    },
    {
      "cell_type": "code",
      "execution_count": 8,
      "metadata": {
        "id": "HJe5f5RcBrZZ"
      },
      "outputs": [],
      "source": [
        "save_path = '/content/drive/MyDrive/Assign2/nyc_transport_data'\n",
        "os.makedirs(save_path, exist_ok=True)"
      ]
    },
    {
      "cell_type": "code",
      "execution_count": 55,
      "metadata": {
        "colab": {
          "base_uri": "https://localhost:8080/"
        },
        "id": "fTk1d1AIB3YE",
        "outputId": "d034d75a-7a90-453f-8ffe-c9eb77636c94"
      },
      "outputs": [
        {
          "output_type": "stream",
          "name": "stdout",
          "text": [
            "✅ File successfully saved to: /content/drive/MyDrive/Assign2/nyc_transport_data/mta_1712.csv\n"
          ]
        }
      ],
      "source": [
        "# Define the full output file path\n",
        "output_file = os.path.join(save_path, 'mta_1712.csv')\n",
        "\n",
        "# Save the DataFrame in MyDrive\n",
        "file_path = '/content/nyc_transport/mta_1712.csv'\n",
        "df = pd.read_csv(file_path, on_bad_lines='skip')\n",
        "df.to_csv(output_file, index=False)\n",
        "\n",
        "print(f\"✅ File successfully saved to: {output_file}\")\n"
      ]
    },
    {
      "cell_type": "code",
      "source": [
        "# Start Performance Tracking\n",
        "process = psutil.Process(os.getpid())\n",
        "mem_before = process.memory_info().rss / 1024 ** 2\n",
        "start_time = time.time()"
      ],
      "metadata": {
        "id": "qcEAnN6ZpxMh"
      },
      "execution_count": 3,
      "outputs": []
    },
    {
      "cell_type": "code",
      "execution_count": 4,
      "metadata": {
        "colab": {
          "base_uri": "https://localhost:8080/"
        },
        "id": "0-0261Jy_ukY",
        "outputId": "a50fbc78-af98-41e3-d9c5-3d8209cf3a26"
      },
      "outputs": [
        {
          "output_type": "stream",
          "name": "stdout",
          "text": [
            "📂 Dataset Inspection BEFORE Cleaning\n",
            "✅ Shape of the dataset: (6461384, 17)\n",
            "\n",
            "📌 Column Names:\n",
            "RecordedAtTime, DirectionRef, PublishedLineName, OriginName, OriginLat, OriginLong, DestinationName, DestinationLat, DestinationLong\n",
            "VehicleRef, VehicleLocation.Latitude, VehicleLocation.Longitude, NextStopPointName, ArrivalProximityText, DistanceFromStop, ExpectedArrivalTime, ScheduledArrivalTime\n",
            "\n",
            "🧠 Data Types:\n",
            "RecordedAtTime                object\n",
            "DirectionRef                 float64\n",
            "PublishedLineName             object\n",
            "OriginName                    object\n",
            "OriginLat                    float64\n",
            "OriginLong                   float64\n",
            "DestinationName               object\n",
            "DestinationLat               float64\n",
            "DestinationLong              float64\n",
            "VehicleRef                    object\n",
            "VehicleLocation.Latitude     float64\n",
            "VehicleLocation.Longitude    float64\n",
            "NextStopPointName             object\n",
            "ArrivalProximityText          object\n",
            "DistanceFromStop             float64\n",
            "ExpectedArrivalTime           object\n",
            "ScheduledArrivalTime          object\n",
            "dtype: object\n",
            "\n",
            "✅ Dataset Inspection AFTER Cleaning\n",
            "📏 Shape of the dataset: (5069001, 17)\n",
            "\n",
            "📊 Performance Before Optimization\n",
            "🔄 Memory Used: 1691.98 MB\n",
            "⏱️ Execution Time: 61.82 seconds\n"
          ]
        }
      ],
      "source": [
        "# Load the dataset from MyDrive\n",
        "file_path = '/content/drive/MyDrive/Assign2/nyc_transport_data/mta_1712.csv'\n",
        "df = pd.read_csv(file_path)\n",
        "\n",
        "# Before Cleaning\n",
        "print(\"📂 Dataset Inspection BEFORE Cleaning\")\n",
        "print(\"✅ Shape of the dataset:\", df.shape)\n",
        "print(\"\\n📌 Column Names:\")\n",
        "cols = df.columns.tolist()\n",
        "for i in range(0, len(cols), 9):  # 9 columns per line\n",
        "    print(\", \".join(cols[i:i+9]))\n",
        "print(\"\\n🧠 Data Types:\")\n",
        "print(df.dtypes)\n",
        "\n",
        "# Remove duplicate rows\n",
        "df = df.drop_duplicates().copy()\n",
        "\n",
        "# Drop rows with critical missing values (you may adjust this based on your focus)\n",
        "df = df.dropna(subset=['ExpectedArrivalTime', 'ScheduledArrivalTime']).copy()\n",
        "\n",
        "# Fill non-critical missing values (example: fill missing text with 'Unknown', coordinates with 0.0)\n",
        "df.loc[:,'DirectionRef'] = df['DirectionRef'].fillna(-1)\n",
        "df.loc[:,'OriginName'] = df['OriginName'].fillna('Unknown')\n",
        "df.loc[:,'OriginLat'] = df['OriginLat'].fillna(0.0)\n",
        "df.loc[:,'OriginLong'] = df['OriginLong'].fillna(0.0)\n",
        "df.loc[:,'DestinationLat'] = df['DestinationLat'].fillna(0.0)\n",
        "df.loc[:,'DestinationLong'] = df['DestinationLong'].fillna(0.0)\n",
        "df.loc[:,'NextStopPointName'] = df['NextStopPointName'].fillna('Unknown')\n",
        "df.loc[:,'ArrivalProximityText'] = df['ArrivalProximityText'].fillna('Unknown')\n",
        "df.loc[:,'DistanceFromStop'] = df['DistanceFromStop'].fillna(0.0)\n",
        "\n",
        "# After Cleaning\n",
        "print(\"\\n✅ Dataset Inspection AFTER Cleaning\")\n",
        "print(\"📏 Shape of the dataset:\", df.shape)\n",
        "\n",
        "# End Performance tracking\n",
        "mem_after = process.memory_info().rss / 1024 ** 2\n",
        "end_time = time.time()\n",
        "\n",
        "print(\"\\n📊 Performance Before Optimization\")\n",
        "print(f\"🔄 Memory Used: {(mem_after - mem_before):.2f} MB\")\n",
        "print(f\"⏱️ Execution Time: {end_time - start_time:.2f} seconds\")"
      ]
    }
  ],
  "metadata": {
    "colab": {
      "provenance": []
    },
    "kernelspec": {
      "display_name": "Python 3",
      "name": "python3"
    },
    "language_info": {
      "name": "python"
    }
  },
  "nbformat": 4,
  "nbformat_minor": 0
}