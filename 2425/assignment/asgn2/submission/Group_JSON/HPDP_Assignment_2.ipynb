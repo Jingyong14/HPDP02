{
  "cells": [
    {
      "cell_type": "markdown",
      "metadata": {},
      "source": [
        "# HPDP Assignment 2: Big Data Processing\n",
        "\n",
        "This notebook demonstrates different strategies for handling large datasets using Python libraries."
      ]
    },
    {
      "cell_type": "code",
      "execution_count": 1,
      "metadata": {},
      "outputs": [
        {
          "name": "stdout",
          "output_type": "stream",
          "text": [
            "Path to dataset files:\n",
            "File 1: Traffic and Weather Datasets/Traffic Datasets\\traffic_speed_PeMSD4.csv\n",
            "File 2: Traffic and Weather Datasets/Traffic Datasets\\traffic_speed_PeMSD7.csv\n"
          ]
        }
      ],
      "source": [
        "import os\n",
        "\n",
        "# Set the path to the dataset files\n",
        "dataset_path = \"Traffic and Weather Datasets/Traffic Datasets\"\n",
        "file_path4 = os.path.join(dataset_path, \"traffic_speed_PeMSD4.csv\")\n",
        "file_path7 = os.path.join(dataset_path, \"traffic_speed_PeMSD7.csv\")\n",
        "\n",
        "print(\"Path to dataset files:\")\n",
        "print(f\"File 1: {file_path4}\")\n",
        "print(f\"File 2: {file_path7}\")"
      ]
    },
    {
      "cell_type": "markdown",
      "metadata": {},
      "source": [
        "### Performance Metrics"
      ]
    },
    {
      "cell_type": "code",
      "execution_count": 2,
      "metadata": {},
      "outputs": [],
      "source": [
        "def track_performance(method_name, start_time, start_memory, df):\n",
        "    \"\"\"Track performance metrics for data cleaning operations.\"\"\"\n",
        "    end_time = time.time()\n",
        "    end_memory = psutil.Process().memory_info().rss / (1024 * 1024)  # MB\n",
        "\n",
        "    time_taken = end_time - start_time\n",
        "    throughput = len(df) / time_taken if time_taken > 0 else 0\n",
        "    memory_used = end_memory - start_memory  # in MB\n",
        "\n",
        "    return {\n",
        "        \"Method\": method_name,\n",
        "        \"Time (s)\": time_taken,\n",
        "        \"Throughput (rows/s)\": throughput,\n",
        "        \"Memory Used (MB)\": memory_used\n",
        "    }"
      ]
    },
    {
      "cell_type": "markdown",
      "metadata": {},
      "source": [
        "### Data Preprocessing with Pandas"
      ]
    },
    {
      "cell_type": "code",
      "execution_count": 3,
      "metadata": {},
      "outputs": [
        {
          "name": "stdout",
          "output_type": "stream",
          "text": [
            "{'Method': 'Pandas', 'Time (s)': 0.010805130004882812, 'Throughput (rows/s)': 925486.3195057369, 'Memory Used (MB)': 9.7421875}\n",
            "{'Method': 'Pandas', 'Time (s)': 0.02066969871520996, 'Throughput (rows/s)': 483799.98846530943, 'Memory Used (MB)': 15.140625}\n",
            "{'Method': 'Pandas', 'Time (s)': 0.03088831901550293, 'Throughput (rows/s)': 323746.9800470843, 'Memory Used (MB)': 11.94921875}\n",
            "{'Method': 'Pandas', 'Time (s)': 0.040723562240600586, 'Throughput (rows/s)': 245558.08602691928, 'Memory Used (MB)': 12.96484375}\n",
            "{'Method': 'Pandas', 'Time (s)': 0.050740718841552734, 'Throughput (rows/s)': 197080.37702869065, 'Memory Used (MB)': 12.66796875}\n",
            "First 5 records:\n",
            "                 timestamp  detector_id  speed_mph  volume  occupancy  \\\n",
            "40000  2023-05-19 21:20:00           75  49.433861      64   0.468589   \n",
            "40001  2023-05-19 21:25:00           86  54.054532      39   0.659053   \n",
            "40002  2023-05-19 21:30:00           73  35.139769      50   0.316528   \n",
            "40003  2023-05-19 21:35:00           29  39.607891      49   0.038755   \n",
            "40004  2023-05-19 21:40:00           43  65.385016      45   0.196390   \n",
            "\n",
            "       lane_number  \n",
            "40000            2  \n",
            "40001            1  \n",
            "40002            3  \n",
            "40003            3  \n",
            "40004            2  \n",
            "\n",
            "--- Dataset Description ---\n",
            "Shape of the dataset: (10000, 6)\n",
            "\n",
            "Data Types of Columns:\n",
            "timestamp       object\n",
            "detector_id      int64\n",
            "speed_mph      float64\n",
            "volume           int64\n",
            "occupancy      float64\n",
            "lane_number      int64\n",
            "dtype: object\n",
            "{'Method': 'Pandas', 'Time (s)': 0.05371284484863281, 'Throughput (rows/s)': 186175.20684634778, 'Memory Used (MB)': 12.89453125}\n"
          ]
        }
      ],
      "source": [
        "import pandas as pd\n",
        "import os\n",
        "import time\n",
        "import psutil\n",
        "\n",
        "start_time = time.time()\n",
        "start_memory = psutil.Process().memory_info().rss / (1024 * 1024)\n",
        "\n",
        "# Load the dataset using pandas directly with the local file path\n",
        "try:\n",
        "    chunk_size = 10000  # Process data in chunks of 10,000 rows\n",
        "    for df1 in pd.read_csv(file_path4, chunksize=chunk_size):\n",
        "       print(track_performance(\"Pandas\", start_time, start_memory, df1))\n",
        "\n",
        "    # Display the first few rows of the dataset\n",
        "    print(\"First 5 records:\")\n",
        "    print(df1.head())\n",
        "\n",
        "    # Describe the dataset\n",
        "    print(\"\\n--- Dataset Description ---\")\n",
        "    print(f\"Shape of the dataset: {df1.shape}\")\n",
        "    print(\"\\nData Types of Columns:\")\n",
        "    print(df1.dtypes)\n",
        "\n",
        "    pandas_result = track_performance(\"Pandas\", start_time, start_memory, df1)\n",
        "    print(pandas_result)\n",
        "\n",
        "except FileNotFoundError:\n",
        "    print(f\"Error: File not found at {file_path4} or {file_path7}\")\n",
        "    print(\"Please check the contents of the directory:\", os.listdir(dataset_path))\n",
        "except Exception as e:\n",
        "    print(f\"An error occurred: {e}\")"
      ]
    },
    {
      "cell_type": "markdown",
      "metadata": {},
      "source": [
        "### Data Preprocessing with Dask"
      ]
    },
    {
      "cell_type": "code",
      "execution_count": 4,
      "metadata": {},
      "outputs": [
        {
          "name": "stdout",
          "output_type": "stream",
          "text": [
            "\n",
            "Dask DataFrame for traffic_speed_PeMSD4:\n",
            "<class 'dask.dataframe.dask_expr.DataFrame'>\n",
            "Columns: 6 entries, timestamp to lane_number\n",
            "dtypes: float64(2), int64(3), string(1)None\n",
            "             timestamp  detector_id  speed_mph  volume  occupancy  lane_number\n",
            "0  2023-01-01 00:00:00           52  39.571379      54   0.257098            4\n",
            "1  2023-01-01 00:05:00           93  46.529010      37   0.171498            1\n",
            "2  2023-01-01 00:10:00           15  47.579711      58   0.850433            4\n",
            "3  2023-01-01 00:15:00           72  48.370518      55   0.591607            2\n",
            "4  2023-01-01 00:20:00           61  55.859297      49   0.249393            2\n",
            "\n",
            "Dask DataFrame for traffic_speed_PeMSD7:\n",
            "<class 'dask.dataframe.dask_expr.DataFrame'>\n",
            "Columns: 6 entries, timestamp to lane_number\n",
            "dtypes: float64(2), int64(3), string(1)None\n",
            "             timestamp  detector_id  speed_mph  volume  occupancy  lane_number\n",
            "0  2023-01-01 00:00:00           52  52.760889      52   0.541387            2\n",
            "1  2023-01-01 00:05:00           93  49.885523      41   0.424413            2\n",
            "2  2023-01-01 00:10:00           15  37.670724      42   0.971300            4\n",
            "3  2023-01-01 00:15:00           72  50.510971      44   0.681481            4\n",
            "4  2023-01-01 00:20:00           61  48.682936      48   0.575367            1\n",
            "{'Method': 'Dask', 'Time (s)': 0.40938520431518555, 'Throughput (rows/s)': 122134.36018929745, 'Memory Used (MB)': 36.95703125}\n",
            "             timestamp  detector_id  speed_mph  volume  occupancy  lane_number\n",
            "0  2023-01-01 00:00:00           52  39.571379      54   0.257098            4\n",
            "1  2023-01-01 00:05:00           93  46.529010      37   0.171498            1\n",
            "2  2023-01-01 00:10:00           15  47.579711      58   0.850433            4\n",
            "3  2023-01-01 00:15:00           72  48.370518      55   0.591607            2\n",
            "4  2023-01-01 00:20:00           61  55.859297      49   0.249393            2\n",
            "\n",
            "Dask DataFrame for traffic_speed_PeMSD7:\n",
            "<class 'dask.dataframe.dask_expr.DataFrame'>\n",
            "Columns: 6 entries, timestamp to lane_number\n",
            "dtypes: float64(2), int64(3), string(1)None\n",
            "             timestamp  detector_id  speed_mph  volume  occupancy  lane_number\n",
            "0  2023-01-01 00:00:00           52  52.760889      52   0.541387            2\n",
            "1  2023-01-01 00:05:00           93  49.885523      41   0.424413            2\n",
            "2  2023-01-01 00:10:00           15  37.670724      42   0.971300            4\n",
            "3  2023-01-01 00:15:00           72  50.510971      44   0.681481            4\n",
            "4  2023-01-01 00:20:00           61  48.682936      48   0.575367            1\n",
            "{'Method': 'Dask', 'Time (s)': 0.40938520431518555, 'Throughput (rows/s)': 122134.36018929745, 'Memory Used (MB)': 36.95703125}\n"
          ]
        }
      ],
      "source": [
        "import dask.dataframe as dd\n",
        "import pandas as pd\n",
        "import os\n",
        "import time\n",
        "import psutil\n",
        "\n",
        "try:\n",
        "    start_time = time.time()\n",
        "    start_memory = psutil.Process().memory_info().rss / (1024 * 1024)\n",
        "\n",
        "    # Read the CSV files into Dask DataFrames\n",
        "    ddf4 = dd.read_csv(file_path4)\n",
        "    ddf5 = dd.read_csv(file_path7)\n",
        "\n",
        "    print(\"\\nDask DataFrame for traffic_speed_PeMSD4:\")\n",
        "    print(ddf4.info())\n",
        "    print(ddf4.head())\n",
        "\n",
        "    print(\"\\nDask DataFrame for traffic_speed_PeMSD7:\")\n",
        "    print(ddf5.info())\n",
        "    print(ddf5.head())\n",
        "\n",
        "    dask_result = track_performance(\"Dask\", start_time, start_memory, ddf4)\n",
        "    print(dask_result)\n",
        "\n",
        "except FileNotFoundError as e:\n",
        "    print(f\"Error: One or more files not found: {e}\")\n",
        "    print(f\"Please ensure the following paths are correct:\")\n",
        "    print(f\"- {file_path4}\")\n",
        "    print(f\"- {file_path7}\")\n",
        "except Exception as e:\n",
        "    print(f\"An error occurred: {e}\")"
      ]
    },
    {
      "cell_type": "markdown",
      "metadata": {},
      "source": [
        "### Data Preprocessing with Polars"
      ]
    },
    {
      "cell_type": "code",
      "execution_count": 5,
      "metadata": {},
      "outputs": [
        {
          "name": "stdout",
          "output_type": "stream",
          "text": [
            "\n",
            "Inspecting traffic_speed_PeMSD4.csv using Polars:\n",
            "\n",
            "First 5 rows:\n",
            "shape: (5, 6)\n",
            "┌─────────────────────┬─────────────┬───────────┬────────┬───────────┬─────────────┐\n",
            "│ timestamp           ┆ detector_id ┆ speed_mph ┆ volume ┆ occupancy ┆ lane_number │\n",
            "│ ---                 ┆ ---         ┆ ---       ┆ ---    ┆ ---       ┆ ---         │\n",
            "│ str                 ┆ i64         ┆ f64       ┆ i64    ┆ f64       ┆ i64         │\n",
            "╞═════════════════════╪═════════════╪═══════════╪════════╪═══════════╪═════════════╡\n",
            "│ 2023-01-01 00:00:00 ┆ 52          ┆ 39.571379 ┆ 54     ┆ 0.257098  ┆ 4           │\n",
            "│ 2023-01-01 00:05:00 ┆ 93          ┆ 46.52901  ┆ 37     ┆ 0.171498  ┆ 1           │\n",
            "│ 2023-01-01 00:10:00 ┆ 15          ┆ 47.579711 ┆ 58     ┆ 0.850433  ┆ 4           │\n",
            "│ 2023-01-01 00:15:00 ┆ 72          ┆ 48.370518 ┆ 55     ┆ 0.591607  ┆ 2           │\n",
            "│ 2023-01-01 00:20:00 ┆ 61          ┆ 55.859297 ┆ 49     ┆ 0.249393  ┆ 2           │\n",
            "└─────────────────────┴─────────────┴───────────┴────────┴───────────┴─────────────┘\n",
            "\n",
            "Polars LazyFrame for traffic_speed_PeMSD4:\n",
            "naive plan: (run LazyFrame.explain(optimized=True) to see the optimized plan)\n",
            "\n",
            "Csv SCAN [Traffic and Weather Datasets/Traffic Datasets\\traffic_speed_PeMSD4.csv]\n",
            "PROJECT */6 COLUMNS\n",
            "\n",
            "Polars LazyFrame for traffic_speed_PeMSD7:\n",
            "naive plan: (run LazyFrame.explain(optimized=True) to see the optimized plan)\n",
            "\n",
            "Csv SCAN [Traffic and Weather Datasets/Traffic Datasets\\traffic_speed_PeMSD7.csv]\n",
            "PROJECT */6 COLUMNS\n",
            "{'Method': 'Polars', 'Time (s)': 0.02180004119873047, 'Throughput (rows/s)': 2293573.6471411698, 'Memory Used (MB)': 19.37890625}\n"
          ]
        }
      ],
      "source": [
        "import polars as pl\n",
        "import pandas as pd\n",
        "import os\n",
        "import time\n",
        "import psutil\n",
        "\n",
        "start_time = time.time()\n",
        "start_memory = psutil.Process().memory_info().rss / (1024 * 1024)\n",
        "\n",
        "try:\n",
        "    # Read the CSV files into Polars DataFrames\n",
        "    lf4 = pl.scan_csv(file_path4)\n",
        "    lf5 = pl.scan_csv(file_path7)\n",
        "\n",
        "    print(\"\\nInspecting traffic_speed_PeMSD4.csv using Polars:\")\n",
        "    # Get the first 5 rows\n",
        "    head4 = lf4.limit(5).collect()\n",
        "    print(\"\\nFirst 5 rows:\")\n",
        "    print(head4)\n",
        "\n",
        "    print(\"\\nPolars LazyFrame for traffic_speed_PeMSD4:\")\n",
        "    print(lf4)\n",
        "\n",
        "    print(\"\\nPolars LazyFrame for traffic_speed_PeMSD7:\")\n",
        "    print(lf5)\n",
        "\n",
        "    # Collect the LazyFrame to get a Polars DataFrame before getting its length\n",
        "    df4_collected = lf4.collect()\n",
        "    polar_result = track_performance(\"Polars\", start_time, start_memory, df4_collected)\n",
        "    print(polar_result)\n",
        "\n",
        "except FileNotFoundError as e:\n",
        "    print(f\"Error: One or more files not found: {e}\")\n",
        "    print(f\"Please ensure the following paths are correct:\")\n",
        "    print(f\"- {file_path4}\")\n",
        "    print(f\"- {file_path7}\")\n",
        "except Exception as e:\n",
        "    print(f\"An error occurred: {e}\")"
      ]
    },
    {
      "cell_type": "markdown",
      "metadata": {},
      "source": [
        "### Performance Comparison Plot"
      ]
    },
    {
      "cell_type": "code",
      "execution_count": 9,
      "metadata": {},
      "outputs": [
        {
          "data": {
            "image/png": "[encoded data removed]",
            "text/plain": [
              "<Figure size 1500x500 with 3 Axes>"
            ]
          },
          "metadata": {},
          "output_type": "display_data"
        }
      ],
      "source": [
        "import polars as pl\n",
        "import pandas as pd\n",
        "import matplotlib.pyplot as plt\n",
        "import seaborn as sns\n",
        "\n",
        "def plot_results(results):\n",
        "    \"\"\"Plot performance comparison results in 3 columns\"\"\"\n",
        "     # Convert results to pandas DataFrame for plotting\n",
        "    results_df = pl.DataFrame(results).to_pandas()\n",
        "\n",
        "    # Set plot style\n",
        "    sns.set(style=\"whitegrid\")\n",
        "\n",
        "    # Define metrics and color palette\n",
        "    metrics = [\"Time (s)\", \"Throughput (rows/s)\", \"Memory Used (MB)\"]\n",
        "    palette = sns.color_palette(\"pastel\", n_colors=len(results_df['Method'].unique()))\n",
        "\n",
        "    # Create a single row of 3 subplots\n",
        "    fig, axes = plt.subplots(1, 3, figsize=(15, 5))\n",
        "\n",
        "    for i, metric in enumerate(metrics):\n",
        "        ax = axes[i]\n",
        "        sns.barplot(\n",
        "            x=\"Method\", y=metric, hue=\"Method\", legend=False,\n",
        "            data=results_df, palette=palette, ax=ax\n",
        "        )\n",
        "\n",
        "        # Add values on top of the bars\n",
        "        for p in ax.patches:\n",
        "            ax.annotate(f'{p.get_height():.2f}',\n",
        "                        (p.get_x() + p.get_width() / 2., p.get_height()),\n",
        "                        ha='center', va='center', fontsize=10, color='black',\n",
        "                        xytext=(0, 5), textcoords='offset points')\n",
        "\n",
        "        ax.set_title(f\"{metric} Comparison\", fontsize=14)\n",
        "        ax.set_xlabel(\"\")\n",
        "        ax.set_ylabel(metric)\n",
        "\n",
        "    plt.tight_layout()\n",
        "    plt.show()\n",
        "\n",
        "\n",
        "# Collect all results - now including Dask performance\n",
        "results = [polar_result, pandas_result, dask_result]\n",
        "\n",
        "# Plot results\n",
        "plot_results(results)"
      ]
    }
  ],
  "metadata": {
    "kernelspec": {
      "display_name": "Python 3",
      "language": "python",
      "name": "python3"
    },
    "language_info": {
      "codemirror_mode": {
        "name": "ipython",
        "version": 3
      },
      "file_extension": ".py",
      "mimetype": "text/x-python",
      "name": "python",
      "nbconvert_exporter": "python",
      "pygments_lexer": "ipython3",
      "version": "3.8.0"
    }
  },
  "nbformat": 4,
  "nbformat_minor": 4
}
