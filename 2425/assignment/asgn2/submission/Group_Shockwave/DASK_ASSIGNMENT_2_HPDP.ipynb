{
  "cells": [
    {
      "cell_type": "markdown",
      "metadata": {
        "id": "4HsJtflQ0ttV"
      },
      "source": [
        "<H3>HPDP ASSIGNMENT 2<H3>\n",
        "<p>Members:<p>\n",
        "<p>LIM JING YONG A22EC0182</p>\n",
        "<p>LEE SOON DER A22EC0065</p>"
      ]
    },
    {
      "cell_type": "code",
      "execution_count": 11,
      "metadata": {
        "colab": {
          "base_uri": "https://localhost:8080/",
          "height": 56
        },
        "id": "rIwM8MZ_0pZO",
        "outputId": "9b266615-4bad-4d9b-8606-d44caad6124c"
      },
      "outputs": [
        {
          "output_type": "display_data",
          "data": {
            "text/plain": [
              "<IPython.core.display.HTML object>"
            ],
            "text/html": [
              "\n",
              "     <input type=\"file\" id=\"files-3d309812-5f5a-435f-8f14-1d0e2f6befaf\" name=\"files[]\" multiple disabled\n",
              "        style=\"border:none\" />\n",
              "     <output id=\"result-3d309812-5f5a-435f-8f14-1d0e2f6befaf\">\n",
              "      Upload widget is only available when the cell has been executed in the\n",
              "      current browser session. Please rerun this cell to enable.\n",
              "      </output>\n",
              "      <script>// Copyright 2017 Google LLC\n",
              "//\n",
              "// Licensed under the Apache License, Version 2.0 (the \"License\");\n",
              "// you may not use this file except in compliance with the License.\n",
              "// You may obtain a copy of the License at\n",
              "//\n",
              "//      http://www.apache.org/licenses/LICENSE-2.0\n",
              "//\n",
              "// Unless required by applicable law or agreed to in writing, software\n",
              "// distributed under the License is distributed on an \"AS IS\" BASIS,\n",
              "// WITHOUT WARRANTIES OR CONDITIONS OF ANY KIND, either express or implied.\n",
              "// See the License for the specific language governing permissions and\n",
              "// limitations under the License.\n",
              "\n",
              "/**\n",
              " * @fileoverview Helpers for google.colab Python module.\n",
              " */\n",
              "(function(scope) {\n",
              "function span(text, styleAttributes = {}) {\n",
              "  const element = document.createElement('span');\n",
              "  element.textContent = text;\n",
              "  for (const key of Object.keys(styleAttributes)) {\n",
              "    element.style[key] = styleAttributes[key];\n",
              "  }\n",
              "  return element;\n",
              "}\n",
              "\n",
              "// Max number of bytes which will be uploaded at a time.\n",
              "const MAX_PAYLOAD_SIZE = 100 * 1024;\n",
              "\n",
              "function _uploadFiles(inputId, outputId) {\n",
              "  const steps = uploadFilesStep(inputId, outputId);\n",
              "  const outputElement = document.getElementById(outputId);\n",
              "  // Cache steps on the outputElement to make it available for the next call\n",
              "  // to uploadFilesContinue from Python.\n",
              "  outputElement.steps = steps;\n",
              "\n",
              "  return _uploadFilesContinue(outputId);\n",
              "}\n",
              "\n",
              "// This is roughly an async generator (not supported in the browser yet),\n",
              "// where there are multiple asynchronous steps and the Python side is going\n",
              "// to poll for completion of each step.\n",
              "// This uses a Promise to block the python side on completion of each step,\n",
              "// then passes the result of the previous step as the input to the next step.\n",
              "function _uploadFilesContinue(outputId) {\n",
              "  const outputElement = document.getElementById(outputId);\n",
              "  const steps = outputElement.steps;\n",
              "\n",
              "  const next = steps.next(outputElement.lastPromiseValue);\n",
              "  return Promise.resolve(next.value.promise).then((value) => {\n",
              "    // Cache the last promise value to make it available to the next\n",
              "    // step of the generator.\n",
              "    outputElement.lastPromiseValue = value;\n",
              "    return next.value.response;\n",
              "  });\n",
              "}\n",
              "\n",
              "/**\n",
              " * Generator function which is called between each async step of the upload\n",
              " * process.\n",
              " * @param {string} inputId Element ID of the input file picker element.\n",
              " * @param {string} outputId Element ID of the output display.\n",
              " * @return {!Iterable<!Object>} Iterable of next steps.\n",
              " */\n",
              "function* uploadFilesStep(inputId, outputId) {\n",
              "  const inputElement = document.getElementById(inputId);\n",
              "  inputElement.disabled = false;\n",
              "\n",
              "  const outputElement = document.getElementById(outputId);\n",
              "  outputElement.innerHTML = '';\n",
              "\n",
              "  const pickedPromise = new Promise((resolve) => {\n",
              "    inputElement.addEventListener('change', (e) => {\n",
              "      resolve(e.target.files);\n",
              "    });\n",
              "  });\n",
              "\n",
              "  const cancel = document.createElement('button');\n",
              "  inputElement.parentElement.appendChild(cancel);\n",
              "  cancel.textContent = 'Cancel upload';\n",
              "  const cancelPromise = new Promise((resolve) => {\n",
              "    cancel.onclick = () => {\n",
              "      resolve(null);\n",
              "    };\n",
              "  });\n",
              "\n",
              "  // Wait for the user to pick the files.\n",
              "  const files = yield {\n",
              "    promise: Promise.race([pickedPromise, cancelPromise]),\n",
              "    response: {\n",
              "      action: 'starting',\n",
              "    }\n",
              "  };\n",
              "\n",
              "  cancel.remove();\n",
              "\n",
              "  // Disable the input element since further picks are not allowed.\n",
              "  inputElement.disabled = true;\n",
              "\n",
              "  if (!files) {\n",
              "    return {\n",
              "      response: {\n",
              "        action: 'complete',\n",
              "      }\n",
              "    };\n",
              "  }\n",
              "\n",
              "  for (const file of files) {\n",
              "    const li = document.createElement('li');\n",
              "    li.append(span(file.name, {fontWeight: 'bold'}));\n",
              "    li.append(span(\n",
              "        `(${file.type || 'n/a'}) - ${file.size} bytes, ` +\n",
              "        `last modified: ${\n",
              "            file.lastModifiedDate ? file.lastModifiedDate.toLocaleDateString() :\n",
              "                                    'n/a'} - `));\n",
              "    const percent = span('0% done');\n",
              "    li.appendChild(percent);\n",
              "\n",
              "    outputElement.appendChild(li);\n",
              "\n",
              "    const fileDataPromise = new Promise((resolve) => {\n",
              "      const reader = new FileReader();\n",
              "      reader.onload = (e) => {\n",
              "        resolve(e.target.result);\n",
              "      };\n",
              "      reader.readAsArrayBuffer(file);\n",
              "    });\n",
              "    // Wait for the data to be ready.\n",
              "    let fileData = yield {\n",
              "      promise: fileDataPromise,\n",
              "      response: {\n",
              "        action: 'continue',\n",
              "      }\n",
              "    };\n",
              "\n",
              "    // Use a chunked sending to avoid message size limits. See b/62115660.\n",
              "    let position = 0;\n",
              "    do {\n",
              "      const length = Math.min(fileData.byteLength - position, MAX_PAYLOAD_SIZE);\n",
              "      const chunk = new Uint8Array(fileData, position, length);\n",
              "      position += length;\n",
              "\n",
              "      const base64 = btoa(String.fromCharCode.apply(null, chunk));\n",
              "      yield {\n",
              "        response: {\n",
              "          action: 'append',\n",
              "          file: file.name,\n",
              "          data: base64,\n",
              "        },\n",
              "      };\n",
              "\n",
              "      let percentDone = fileData.byteLength === 0 ?\n",
              "          100 :\n",
              "          Math.round((position / fileData.byteLength) * 100);\n",
              "      percent.textContent = `${percentDone}% done`;\n",
              "\n",
              "    } while (position < fileData.byteLength);\n",
              "  }\n",
              "\n",
              "  // All done.\n",
              "  yield {\n",
              "    response: {\n",
              "      action: 'complete',\n",
              "    }\n",
              "  };\n",
              "}\n",
              "\n",
              "scope.google = scope.google || {};\n",
              "scope.google.colab = scope.google.colab || {};\n",
              "scope.google.colab._files = {\n",
              "  _uploadFiles,\n",
              "  _uploadFilesContinue,\n",
              "};\n",
              "})(self);\n",
              "</script> "
            ]
          },
          "metadata": {}
        },
        {
          "output_type": "execute_result",
          "data": {
            "text/plain": [
              "{}"
            ]
          },
          "metadata": {},
          "execution_count": 11
        }
      ],
      "source": [
        "from google.colab import files\n",
        "files.upload()"
      ]
    },
    {
      "cell_type": "code",
      "execution_count": null,
      "metadata": {
        "id": "MOo31Gyh5k0W"
      },
      "outputs": [],
      "source": [
        "import os\n",
        "import shutil\n",
        "\n",
        "# Create the Kaggle folder if it doesn't exist\n",
        "os.makedirs(\"/root/.kaggle\", exist_ok=True)\n",
        "\n",
        "# Move the uploaded kaggle.json to the right location\n",
        "shutil.move(\"kaggle.json\", \"/root/.kaggle/kaggle.json\")\n",
        "\n",
        "# Set the correct permissions\n",
        "os.chmod(\"/root/.kaggle/kaggle.json\", 600)"
      ]
    },
    {
      "cell_type": "code",
      "execution_count": null,
      "metadata": {
        "id": "dbPy2fUt5w_h"
      },
      "outputs": [],
      "source": [
        "!pip install -q kaggle"
      ]
    },
    {
      "cell_type": "code",
      "execution_count": null,
      "metadata": {
        "colab": {
          "base_uri": "https://localhost:8080/"
        },
        "id": "1Fnm8U1456mA",
        "outputId": "36e91e9c-6c45-48e0-be94-cbfefc968037"
      },
      "outputs": [
        {
          "name": "stdout",
          "output_type": "stream",
          "text": [
            "Dataset URL: https://www.kaggle.com/datasets/tavoglc/covid19-in-the-american-continent\n",
            "License(s): other\n",
            "Downloading covid19-in-the-american-continent.zip to /content\n",
            " 94% 499M/531M [00:01<00:00, 256MB/s]\n",
            "100% 531M/531M [00:01<00:00, 340MB/s]\n"
          ]
        }
      ],
      "source": [
        "# Download the dataset using Kaggle API\n",
        "!kaggle datasets download -d tavoglc/covid19-in-the-american-continent"
      ]
    },
    {
      "cell_type": "code",
      "execution_count": null,
      "metadata": {
        "id": "U2ISkR3t6Eld"
      },
      "outputs": [],
      "source": [
        "# Unzip the downloaded file\n",
        "!unzip -q covid19-in-the-american-continent.zip"
      ]
    },
    {
      "cell_type": "code",
      "execution_count": 1,
      "metadata": {
        "colab": {
          "base_uri": "https://localhost:8080/"
        },
        "id": "pDAsZZBx6PYu",
        "outputId": "41597ea5-003e-4968-8762-59cc4f9a0071"
      },
      "outputs": [
        {
          "output_type": "stream",
          "name": "stdout",
          "text": [
            "   Unnamed: 0.1  Unnamed: 0        date  cases country  \\\n",
            "0             0           0  2020-02-19    1.0  mexico   \n",
            "1             1           1  2020-02-22    1.0  mexico   \n",
            "2             2           2  2020-02-22    1.0  mexico   \n",
            "3             3           3  2020-02-23    1.0  mexico   \n",
            "4             4           4  2020-02-25    1.0  mexico   \n",
            "\n",
            "                                                 qry        lat       long  \\\n",
            "0                lat==19.5600234 & long==-99.1312722  19.560023 -99.131272   \n",
            "1                  lat==19.359004 & long==-99.092623  19.359004 -99.092623   \n",
            "2           lat==20.093813 & long==-98.7923761142857  20.093813 -98.792376   \n",
            "3                  lat==19.482945 & long==-99.113471  19.482945 -99.113471   \n",
            "4  lat==16.70864529166667 & long==-93.13649273214284  16.708645 -93.136493   \n",
            "\n",
            "   dayofyear  year  lengthofday     delta    delta2  normilized_cases  \n",
            "0         50  2020    12.274737  0.015820  0.000164               0.0  \n",
            "1         53  2020    12.328092  0.016097  0.000151               0.0  \n",
            "2         53  2020    12.309989  0.016798  0.000156               0.0  \n",
            "3         54  2020    12.341403  0.016363  0.000148               0.0  \n",
            "4         56  2020    12.434892  0.013997  0.000123               0.0  \n",
            "Performance Measurement without Optimization Techniques\n",
            "Execution Time: 18.71 seconds\n",
            "Memory Used: 1998.53 MB\n"
          ]
        }
      ],
      "source": [
        "import pandas as pd\n",
        "import time\n",
        "import psutil\n",
        "import os\n",
        "\n",
        "process = psutil.Process(os.getpid())\n",
        "mem_before = process.memory_info().rss / 1024 ** 2  # in MB\n",
        "\n",
        "start_time = time.time()\n",
        "\n",
        "# Load one of the CSV files\n",
        "df = pd.read_csv(\"continental2.csv\")\n",
        "\n",
        "mem_after = process.memory_info().rss / 1024 ** 2  # in MB\n",
        "end_time = time.time()\n",
        "\n",
        "# Preview the data\n",
        "print(df.head())\n",
        "\n",
        "print(\"Performance Measurement without Optimization Techniques\")\n",
        "print(f\"Execution Time: {end_time - start_time:.2f} seconds\")\n",
        "print(f\"Memory Used: {mem_after - mem_before:.2f} MB\")"
      ]
    },
    {
      "cell_type": "markdown",
      "metadata": {
        "id": "hsbFngMXG8yv"
      },
      "source": [
        "Big Data Handling Startegies with Dask(64MB):\n",
        "\n",
        "1. Load less dataset\n",
        "2. Optimize data types\n",
        "3. Chunking dataset with dask\n",
        "4. Sampling\n"
      ]
    },
    {
      "cell_type": "code",
      "execution_count": 2,
      "metadata": {
        "colab": {
          "base_uri": "https://localhost:8080/"
        },
        "id": "d8sCdjawGWU8",
        "outputId": "c298d80c-2c41-4a58-d96d-64284b8e23df"
      },
      "outputs": [
        {
          "output_type": "stream",
          "name": "stdout",
          "text": [
            "<class 'pandas.core.frame.DataFrame'>\n",
            "Index: 616489 entries, 327154 to 200459\n",
            "Data columns (total 5 columns):\n",
            " #   Column   Non-Null Count   Dtype         \n",
            "---  ------   --------------   -----         \n",
            " 0   date     616489 non-null  datetime64[ns]\n",
            " 1   cases    616489 non-null  float32       \n",
            " 2   country  616489 non-null  category      \n",
            " 3   lat      616489 non-null  float32       \n",
            " 4   long     616489 non-null  float32       \n",
            "dtypes: category(1), datetime64[ns](1), float32(3)\n",
            "memory usage: 17.1 MB\n",
            "None\n",
            "             date  cases country        lat        long\n",
            "327154 2021-09-08   42.0  mexico  19.318882 -103.775024\n",
            "111548 2020-10-08    1.0  mexico  20.665031  -89.660858\n",
            "120356 2020-10-23    1.0  mexico  20.661798  -99.892487\n",
            "170425 2021-01-07    6.0  mexico  17.031370  -96.696899\n",
            "129586 2020-11-08    1.0  mexico  20.232145  -98.545509\n",
            "Dask partitions: 16\n",
            "Performance Measurement with Big Data Handling Strategies\n",
            "Execution Time: 44.32 seconds\n",
            "Memory Used: 50.72 MB\n"
          ]
        }
      ],
      "source": [
        "import dask.dataframe as dd\n",
        "import time\n",
        "import psutil\n",
        "import os\n",
        "\n",
        "op_process = psutil.Process(os.getpid())\n",
        "op_mem_before = op_process.memory_info().rss / 1024 ** 2  # in MB\n",
        "op_start_time = time.time()\n",
        "\n",
        "#1 Load less dataset\n",
        "\n",
        "columns_to_use = ['date', 'cases', 'country', 'lat', 'long']\n",
        "\n",
        "#2 Optimize data types\n",
        "\n",
        "optimized_dtypes = {\n",
        "    'cases': 'float32',\n",
        "    'lat': 'float32',\n",
        "    'long': 'float32',\n",
        "    'country': 'category'\n",
        "}\n",
        "\n",
        "#3 Read CSV using dask with chunking\n",
        "df64_dask = dd.read_csv(\n",
        "    \"continental2.csv\",\n",
        "    usecols=columns_to_use,\n",
        "    dtype=optimized_dtypes,\n",
        "    parse_dates=['date'],\n",
        "    blocksize=\"64MB\"  #Controls chunk/partition size\n",
        ")\n",
        "\n",
        "#4 Sampling\n",
        "df64_dask_sampled = df64_dask.sample(frac=0.1, random_state=42)\n",
        "\n",
        "#Trigger Cmomputation\n",
        "df64_optimized = df64_dask_sampled.compute()\n",
        "\n",
        "op_mem_after = op_process.memory_info().rss / 1024 ** 2  # in MB\n",
        "op_end_time = time.time()\n",
        "\n",
        "# Inspect result\n",
        "print(df64_optimized.info())\n",
        "print(df64_optimized.head())\n",
        "\n",
        "print(\"Dask partitions:\", df64_dask.npartitions)\n",
        "\n",
        "print(\"Performance Measurement with Big Data Handling Strategies\")\n",
        "print(f\"Execution Time: {op_end_time - op_start_time:.2f} seconds\")\n",
        "print(f\"Memory Used: {op_mem_after - op_mem_before:.2f} MB\")"
      ]
    },
    {
      "cell_type": "markdown",
      "source": [
        "Big Data Handling Strategies with Dask (Optimization with 128MB)"
      ],
      "metadata": {
        "id": "qoWveftGT3r-"
      }
    },
    {
      "cell_type": "code",
      "source": [
        "import dask.dataframe as dd\n",
        "import time\n",
        "import psutil\n",
        "import os\n",
        "from dask.distributed import Client\n",
        "\n",
        "dop_process = psutil.Process(os.getpid())\n",
        "dop_mem_before = dop_process.memory_info().rss / 1024 ** 2  # in MB\n",
        "dop_start_time = time.time()\n",
        "\n",
        "# Optional: Start Dask distributed client (for diagnostics & speed)\n",
        "# client = Client(processes=True, n_workers=4, threads_per_worker=2)\n",
        "\n",
        "#1 Load less dataset\n",
        "\n",
        "columns_to_use = ['date', 'cases', 'country', 'lat', 'long']\n",
        "\n",
        "#2 Optimize data types\n",
        "\n",
        "optimized_dtypes = {\n",
        "    'cases': 'float32',\n",
        "    'lat': 'float32',\n",
        "    'long': 'float32',\n",
        "    'country': 'category'\n",
        "}\n",
        "\n",
        "#3 Read CSV using dask with chunking\n",
        "df128_dask = dd.read_csv(\n",
        "    \"continental2.csv\",\n",
        "    usecols=columns_to_use,\n",
        "    dtype=optimized_dtypes,\n",
        "    parse_dates=['date'],\n",
        "    blocksize=\"128MB\"  #Controls chunk/partition size\n",
        ")\n",
        "\n",
        "#4 Sampling\n",
        "df128_dask_sampled = df128_dask.sample(frac=0.1, random_state=42)\n",
        "\n",
        "# Persist in memory (reduces recomputation)\n",
        "# df_dask_sampled = df_dask_sampled.persist()\n",
        "\n",
        "#Trigger Cmomputation\n",
        "df128_optimized = df128_dask_sampled.compute()\n",
        "\n",
        "dop_mem_after = dop_process.memory_info().rss / 1024 ** 2  # in MB\n",
        "dop_end_time = time.time()\n",
        "\n",
        "# Inspect result\n",
        "print(df128_optimized.info())\n",
        "print(df128_optimized.head())\n",
        "\n",
        "print(\"Dask partitions:\", df128_dask.npartitions)\n",
        "\n",
        "print(\"Performance Measurement with Big Data Handling Strategies\")\n",
        "print(f\"Execution Time: {dop_end_time - dop_start_time:.2f} seconds\")\n",
        "print(f\"Memory Used: {dop_mem_after - dop_mem_before:.2f} MB\")"
      ],
      "metadata": {
        "colab": {
          "base_uri": "https://localhost:8080/"
        },
        "id": "W6akJXrrL4pR",
        "outputId": "fb5a30fe-7d2e-4878-eff6-49ff83fb0a09"
      },
      "execution_count": 4,
      "outputs": [
        {
          "output_type": "stream",
          "name": "stdout",
          "text": [
            "<class 'pandas.core.frame.DataFrame'>\n",
            "Index: 616489 entries, 333763 to 600551\n",
            "Data columns (total 5 columns):\n",
            " #   Column   Non-Null Count   Dtype         \n",
            "---  ------   --------------   -----         \n",
            " 0   date     616489 non-null  datetime64[ns]\n",
            " 1   cases    616489 non-null  float32       \n",
            " 2   country  616489 non-null  category      \n",
            " 3   lat      616489 non-null  float32       \n",
            " 4   long     616489 non-null  float32       \n",
            "dtypes: category(1), datetime64[ns](1), float32(3)\n",
            "memory usage: 17.1 MB\n",
            "None\n",
            "             date  cases country        lat        long\n",
            "333763 2021-09-15    6.0  mexico  23.221594 -102.972984\n",
            "687536 2022-04-07   12.0     usa  39.627544 -106.693367\n",
            "675906 2020-05-12   11.0     usa  40.093136 -105.354675\n",
            "613124 2021-02-14    1.0     usa  35.022018  -90.748283\n",
            "258990 2021-06-25    1.0  mexico  14.751727  -92.207458\n",
            "Dask partitions: 8\n",
            "Performance Measurement with Big Data Handling Strategies\n",
            "Execution Time: 42.55 seconds\n",
            "Memory Used: 13.61 MB\n"
          ]
        }
      ]
    },
    {
      "cell_type": "code",
      "source": [],
      "metadata": {
        "id": "-cK5r_65a83U"
      },
      "execution_count": 4,
      "outputs": []
    }
  ],
  "metadata": {
    "colab": {
      "provenance": []
    },
    "kernelspec": {
      "display_name": "Python 3",
      "name": "python3"
    },
    "language_info": {
      "name": "python"
    }
  },
  "nbformat": 4,
  "nbformat_minor": 0
}