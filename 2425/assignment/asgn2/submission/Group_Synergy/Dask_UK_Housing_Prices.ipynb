{
  "cells": [
    {
      "cell_type": "markdown",
      "metadata": {
        "id": "view-in-github",
        "colab_type": "text"
      },
      "source": [
        "<a href=\"https://colab.research.google.com/github/Jingyong14/HPDP02/blob/main/2425/assignment/asgn2/submission/Group_Synergy/Dask_UK_Housing_Prices.ipynb\" target=\"_parent\"><img src=\"https://colab.research.google.com/assets/colab-badge.svg\" alt=\"Open In Colab\"/></a>"
      ]
    },
    {
      "cell_type": "code",
      "execution_count": null,
      "metadata": {
        "colab": {
          "base_uri": "https://localhost:8080/",
          "height": 92
        },
        "id": "lXAdYx9nvHcD",
        "outputId": "70d31ae9-54b1-4a64-d6e4-20957d5396fc"
      },
      "outputs": [
        {
          "data": {
            "text/html": [
              "\n",
              "     <input type=\"file\" id=\"files-b45090ea-45dc-44ce-a9f5-9d0a5283befb\" name=\"files[]\" multiple disabled\n",
              "        style=\"border:none\" />\n",
              "     <output id=\"result-b45090ea-45dc-44ce-a9f5-9d0a5283befb\">\n",
              "      Upload widget is only available when the cell has been executed in the\n",
              "      current browser session. Please rerun this cell to enable.\n",
              "      </output>\n",
              "      <script>// Copyright 2017 Google LLC\n",
              "//\n",
              "// Licensed under the Apache License, Version 2.0 (the \"License\");\n",
              "// you may not use this file except in compliance with the License.\n",
              "// You may obtain a copy of the License at\n",
              "//\n",
              "//      http://www.apache.org/licenses/LICENSE-2.0\n",
              "//\n",
              "// Unless required by applicable law or agreed to in writing, software\n",
              "// distributed under the License is distributed on an \"AS IS\" BASIS,\n",
              "// WITHOUT WARRANTIES OR CONDITIONS OF ANY KIND, either express or implied.\n",
              "// See the License for the specific language governing permissions and\n",
              "// limitations under the License.\n",
              "\n",
              "/**\n",
              " * @fileoverview Helpers for google.colab Python module.\n",
              " */\n",
              "(function(scope) {\n",
              "function span(text, styleAttributes = {}) {\n",
              "  const element = document.createElement('span');\n",
              "  element.textContent = text;\n",
              "  for (const key of Object.keys(styleAttributes)) {\n",
              "    element.style[key] = styleAttributes[key];\n",
              "  }\n",
              "  return element;\n",
              "}\n",
              "\n",
              "// Max number of bytes which will be uploaded at a time.\n",
              "const MAX_PAYLOAD_SIZE = 100 * 1024;\n",
              "\n",
              "function _uploadFiles(inputId, outputId) {\n",
              "  const steps = uploadFilesStep(inputId, outputId);\n",
              "  const outputElement = document.getElementById(outputId);\n",
              "  // Cache steps on the outputElement to make it available for the next call\n",
              "  // to uploadFilesContinue from Python.\n",
              "  outputElement.steps = steps;\n",
              "\n",
              "  return _uploadFilesContinue(outputId);\n",
              "}\n",
              "\n",
              "// This is roughly an async generator (not supported in the browser yet),\n",
              "// where there are multiple asynchronous steps and the Python side is going\n",
              "// to poll for completion of each step.\n",
              "// This uses a Promise to block the python side on completion of each step,\n",
              "// then passes the result of the previous step as the input to the next step.\n",
              "function _uploadFilesContinue(outputId) {\n",
              "  const outputElement = document.getElementById(outputId);\n",
              "  const steps = outputElement.steps;\n",
              "\n",
              "  const next = steps.next(outputElement.lastPromiseValue);\n",
              "  return Promise.resolve(next.value.promise).then((value) => {\n",
              "    // Cache the last promise value to make it available to the next\n",
              "    // step of the generator.\n",
              "    outputElement.lastPromiseValue = value;\n",
              "    return next.value.response;\n",
              "  });\n",
              "}\n",
              "\n",
              "/**\n",
              " * Generator function which is called between each async step of the upload\n",
              " * process.\n",
              " * @param {string} inputId Element ID of the input file picker element.\n",
              " * @param {string} outputId Element ID of the output display.\n",
              " * @return {!Iterable<!Object>} Iterable of next steps.\n",
              " */\n",
              "function* uploadFilesStep(inputId, outputId) {\n",
              "  const inputElement = document.getElementById(inputId);\n",
              "  inputElement.disabled = false;\n",
              "\n",
              "  const outputElement = document.getElementById(outputId);\n",
              "  outputElement.innerHTML = '';\n",
              "\n",
              "  const pickedPromise = new Promise((resolve) => {\n",
              "    inputElement.addEventListener('change', (e) => {\n",
              "      resolve(e.target.files);\n",
              "    });\n",
              "  });\n",
              "\n",
              "  const cancel = document.createElement('button');\n",
              "  inputElement.parentElement.appendChild(cancel);\n",
              "  cancel.textContent = 'Cancel upload';\n",
              "  const cancelPromise = new Promise((resolve) => {\n",
              "    cancel.onclick = () => {\n",
              "      resolve(null);\n",
              "    };\n",
              "  });\n",
              "\n",
              "  // Wait for the user to pick the files.\n",
              "  const files = yield {\n",
              "    promise: Promise.race([pickedPromise, cancelPromise]),\n",
              "    response: {\n",
              "      action: 'starting',\n",
              "    }\n",
              "  };\n",
              "\n",
              "  cancel.remove();\n",
              "\n",
              "  // Disable the input element since further picks are not allowed.\n",
              "  inputElement.disabled = true;\n",
              "\n",
              "  if (!files) {\n",
              "    return {\n",
              "      response: {\n",
              "        action: 'complete',\n",
              "      }\n",
              "    };\n",
              "  }\n",
              "\n",
              "  for (const file of files) {\n",
              "    const li = document.createElement('li');\n",
              "    li.append(span(file.name, {fontWeight: 'bold'}));\n",
              "    li.append(span(\n",
              "        `(${file.type || 'n/a'}) - ${file.size} bytes, ` +\n",
              "        `last modified: ${\n",
              "            file.lastModifiedDate ? file.lastModifiedDate.toLocaleDateString() :\n",
              "                                    'n/a'} - `));\n",
              "    const percent = span('0% done');\n",
              "    li.appendChild(percent);\n",
              "\n",
              "    outputElement.appendChild(li);\n",
              "\n",
              "    const fileDataPromise = new Promise((resolve) => {\n",
              "      const reader = new FileReader();\n",
              "      reader.onload = (e) => {\n",
              "        resolve(e.target.result);\n",
              "      };\n",
              "      reader.readAsArrayBuffer(file);\n",
              "    });\n",
              "    // Wait for the data to be ready.\n",
              "    let fileData = yield {\n",
              "      promise: fileDataPromise,\n",
              "      response: {\n",
              "        action: 'continue',\n",
              "      }\n",
              "    };\n",
              "\n",
              "    // Use a chunked sending to avoid message size limits. See b/62115660.\n",
              "    let position = 0;\n",
              "    do {\n",
              "      const length = Math.min(fileData.byteLength - position, MAX_PAYLOAD_SIZE);\n",
              "      const chunk = new Uint8Array(fileData, position, length);\n",
              "      position += length;\n",
              "\n",
              "      const base64 = btoa(String.fromCharCode.apply(null, chunk));\n",
              "      yield {\n",
              "        response: {\n",
              "          action: 'append',\n",
              "          file: file.name,\n",
              "          data: base64,\n",
              "        },\n",
              "      };\n",
              "\n",
              "      let percentDone = fileData.byteLength === 0 ?\n",
              "          100 :\n",
              "          Math.round((position / fileData.byteLength) * 100);\n",
              "      percent.textContent = `${percentDone}% done`;\n",
              "\n",
              "    } while (position < fileData.byteLength);\n",
              "  }\n",
              "\n",
              "  // All done.\n",
              "  yield {\n",
              "    response: {\n",
              "      action: 'complete',\n",
              "    }\n",
              "  };\n",
              "}\n",
              "\n",
              "scope.google = scope.google || {};\n",
              "scope.google.colab = scope.google.colab || {};\n",
              "scope.google.colab._files = {\n",
              "  _uploadFiles,\n",
              "  _uploadFilesContinue,\n",
              "};\n",
              "})(self);\n",
              "</script> "
            ],
            "text/plain": [
              "<IPython.core.display.HTML object>"
            ]
          },
          "metadata": {},
          "output_type": "display_data"
        },
        {
          "name": "stdout",
          "output_type": "stream",
          "text": [
            "Saving kaggle.json to kaggle.json\n"
          ]
        },
        {
          "data": {
            "text/plain": [
              "{'kaggle.json': b'{\"username\":\"muhammadnurazhar\",\"key\":\"80725452fb736d0896b070f9687ca7a1\"}'}"
            ]
          },
          "execution_count": 1,
          "metadata": {},
          "output_type": "execute_result"
        }
      ],
      "source": [
        "from google.colab import files\n",
        "files.upload()  # Upload kaggle.json"
      ]
    },
    {
      "cell_type": "code",
      "execution_count": null,
      "metadata": {
        "id": "VZcEzj1GvVRU"
      },
      "outputs": [],
      "source": [
        "!mkdir -p ~/.kaggle\n",
        "!mv kaggle.json ~/.kaggle/\n",
        "!chmod 600 ~/.kaggle/kaggle.json"
      ]
    },
    {
      "cell_type": "markdown",
      "metadata": {
        "id": "Gv1B1WE-vZ2-"
      },
      "source": [
        "**Task 1: Dataset Selection (UK Housing Prices Paid\n",
        ")**"
      ]
    },
    {
      "cell_type": "code",
      "execution_count": null,
      "metadata": {
        "colab": {
          "base_uri": "https://localhost:8080/"
        },
        "id": "ka7cLW4dvcod",
        "outputId": "e4213b5a-06ae-4775-e5e9-023db83727e3"
      },
      "outputs": [
        {
          "name": "stdout",
          "output_type": "stream",
          "text": [
            "Dataset URL: https://www.kaggle.com/datasets/hm-land-registry/uk-housing-prices-paid\n",
            "License(s): other\n",
            "uk-housing-prices-paid.zip: Skipping, found more recently modified local copy (use --force to force download)\n"
          ]
        }
      ],
      "source": [
        "!kaggle datasets download -d hm-land-registry/uk-housing-prices-paid"
      ]
    },
    {
      "cell_type": "code",
      "execution_count": null,
      "metadata": {
        "colab": {
          "background_save": true
        },
        "id": "scwFG2ntviCv"
      },
      "outputs": [],
      "source": [
        "import zipfile\n",
        "import os\n",
        "\n",
        "with zipfile.ZipFile(\"uk-housing-prices-paid.zip\", 'r') as zip_ref:\n",
        "    zip_ref.extractall(\"uk_housing_data\")"
      ]
    },
    {
      "cell_type": "markdown",
      "metadata": {
        "id": "qXGyCHZyv5ih"
      },
      "source": [
        "## About Dataset\n",
        "\n",
        "The **Price Paid Data** includes information on all registered property sales in England and Wales that are sold for full market value.  \n",
        "> **Note:** Address details have been truncated to the **town/city** level.\n",
        "\n",
        "You might also find the HM Land Registry transaction records to be a useful supplement to this dataset:  \n",
        "🔗 [UK Land Registry Transactions on Kaggle](https://www.kaggle.com/hm-land-registry/uk-land-registry-transactions)\n",
        "\n",
        "---\n",
        "\n",
        "### 📋 Available Fields\n",
        "\n",
        "- **Transaction unique identifier**  \n",
        "  A reference number generated automatically for each published sale. This number is unique and changes each time a sale is recorded.\n",
        "\n",
        "- **Price**  \n",
        "  Sale price stated on the transfer deed.\n",
        "\n",
        "- **Date of Transfer**  \n",
        "  Date the sale was completed, as stated on the transfer deed.\n",
        "\n",
        "- **Property Type**  \n",
        "  - `D` = Detached  \n",
        "  - `S` = Semi-Detached  \n",
        "  - `T` = Terraced  \n",
        "  - `F` = Flats/Maisonettes  \n",
        "  - `O` = Other  \n",
        "\n",
        "  **Notes:**\n",
        "  - No separate identification for bungalows.\n",
        "  - End-of-terrace properties are included in the \"Terraced\" category.\n",
        "  - 'Other' applies to property types not covered by the categories above.\n",
        "\n",
        "- **Old/New**  \n",
        "  Indicates property age:\n",
        "  - `Y` = Newly built property  \n",
        "  - `N` = Established residential building\n",
        "\n",
        "- **Duration**  \n",
        "  Tenure type:\n",
        "  - `F` = Freehold  \n",
        "  - `L` = Leasehold  \n",
        "  > Note: Leases of 7 years or less are not recorded in the Price Paid Dataset.\n",
        "\n",
        "- **Town/City**\n",
        "\n",
        "- **District**\n",
        "\n",
        "- **County**\n",
        "\n",
        "- **PPD Category Type**\n",
        "  - `A` = Standard entry (single residential property sold for full market value)  \n",
        "  - `B` = Additional entries including:\n",
        "    - Power of sale/repossessions  \n",
        "    - Buy-to-lets (where identifiable via mortgage)  \n",
        "    - Transfers to non-private individuals  \n",
        "\n",
        "  **Note:** Category B does not explicitly identify the subtypes listed above.  \n",
        "  - Category A: available from **January 1995**  \n",
        "  - Category B: identified from **October 2013**\n",
        "\n",
        "- **Record Status (monthly file only)**  \n",
        "  Indicates changes to the record:\n",
        "  - `A` = Addition  \n",
        "  - `C` = Change  \n",
        "  - `D` = Delete\n",
        "\n",
        "  > When a transaction changes category type (e.g., due to misallocation), it is deleted from the original and added as a new transaction with a new identifier.\n",
        "\n",
        "---\n",
        "\n",
        "### 📄 Licensing\n",
        "\n",
        "This data is released by **HM Land Registry** under the **Open Government License v3.0**.\n",
        "\n",
        "> Data produced by HM Land Registry © Crown copyright 2017.\n"
      ]
    },
    {
      "cell_type": "markdown",
      "metadata": {
        "id": "kLhISd6cv_-v"
      },
      "source": [
        "**Task 2: Load and Inspect Data using Dask**"
      ]
    },
    {
      "cell_type": "code",
      "execution_count": null,
      "metadata": {
        "colab": {
          "background_save": true
        },
        "id": "57A9Cj4rwEpX"
      },
      "outputs": [],
      "source": [
        "!pip install dask[complete] --quiet"
      ]
    },
    {
      "cell_type": "code",
      "execution_count": null,
      "metadata": {
        "colab": {
          "background_save": true
        },
        "id": "iEc2TM8FwoGL",
        "outputId": "076aece8-40f8-49e0-f265-1c801b699e67"
      },
      "outputs": [
        {
          "name": "stdout",
          "output_type": "stream",
          "text": [
            "File size: 2294.24 MB\n"
          ]
        }
      ],
      "source": [
        "import dask.dataframe as dd\n",
        "import time\n",
        "import os\n",
        "\n",
        "file_path = \"/content/uk_housing_data/price_paid_records.csv\"\n",
        "file_size = os.path.getsize(file_path) / (1024 ** 2)  # in MB\n",
        "print(f\"File size: {file_size:.2f} MB\")"
      ]
    },
    {
      "cell_type": "code",
      "execution_count": null,
      "metadata": {
        "colab": {
          "background_save": true
        },
        "id": "PAb2DMmNwMce",
        "outputId": "c64b0166-d79b-449f-ca69-a0522b3b3e24"
      },
      "outputs": [
        {
          "name": "stdout",
          "output_type": "stream",
          "text": [
            "Dask DataFrame Preview:\n",
            "            Transaction unique identifier    Price  Date of Transfer  \\\n",
            "0  {81B82214-7FBC-4129-9F6B-4956B4A663AD}  25000.0  1995-08-18 00:00   \n",
            "1  {8046EC72-1466-42D6-A753-4956BF7CD8A2}  42500.0  1995-08-09 00:00   \n",
            "2  {278D581A-5BF3-4FCE-AF62-4956D87691E6}  45000.0  1995-06-30 00:00   \n",
            "3  {1D861C06-A416-4865-973C-4956DB12CD12}  43150.0  1995-11-24 00:00   \n",
            "4  {DD8645FD-A815-43A6-A7BA-4956E58F1874}  18899.0  1995-06-23 00:00   \n",
            "\n",
            "  Property Type Old/New Duration   Town/City            District  \\\n",
            "0             T       N        F      OLDHAM              OLDHAM   \n",
            "1             S       N        F       GRAYS            THURROCK   \n",
            "2             T       N        F  HIGHBRIDGE           SEDGEMOOR   \n",
            "3             T       N        F     BEDFORD  NORTH BEDFORDSHIRE   \n",
            "4             S       N        F   WAKEFIELD               LEEDS   \n",
            "\n",
            "               County PPDCategory Type Record Status - monthly file only  \n",
            "0  GREATER MANCHESTER                A                                 A  \n",
            "1            THURROCK                A                                 A  \n",
            "2            SOMERSET                A                                 A  \n",
            "3        BEDFORDSHIRE                A                                 A  \n",
            "4      WEST YORKSHIRE                A                                 A  \n",
            "\n",
            "Column Names:\n",
            "['Transaction unique identifier', 'Price', 'Date of Transfer', 'Property Type', 'Old/New', 'Duration', 'Town/City', 'District', 'County', 'PPDCategory Type', 'Record Status - monthly file only']\n",
            "\n",
            "Dask Shape (approx):\n",
            "Rows: 22489348, Columns: 11\n"
          ]
        }
      ],
      "source": [
        "# Dask reads in parallel, infers columns lazily\n",
        "df_dask = dd.read_csv(file_path, assume_missing=True)\n",
        "\n",
        "# Inspect\n",
        "print(\"Dask DataFrame Preview:\")\n",
        "print(df_dask.head())\n",
        "\n",
        "print(\"\\nColumn Names:\")\n",
        "print(df_dask.columns.tolist())\n",
        "\n",
        "print(\"\\nDask Shape (approx):\")\n",
        "print(f\"Rows: {df_dask.shape[0].compute()}, Columns: {df_dask.shape[1]}\")\n"
      ]
    },
    {
      "cell_type": "markdown",
      "metadata": {
        "id": "aXdDAAQ_w64G"
      },
      "source": [
        "**Task 3: Apply Big Data Handling Strategies using Dask**"
      ]
    },
    {
      "cell_type": "code",
      "execution_count": 15,
      "metadata": {
        "id": "tkxhuj58x0ly"
      },
      "outputs": [],
      "source": [
        "import time\n",
        "import os\n",
        "import psutil\n",
        "\n",
        "def print_metrics(strategy_name, start_time):\n",
        "    end_time = time.time()\n",
        "    mem_usage = psutil.Process(os.getpid()).memory_info().rss / (1024 ** 2)\n",
        "    print(f\"{strategy_name}\")\n",
        "    print(f\"Time: {round(end_time - start_time, 2)} seconds\")\n",
        "    print(f\"Memory: {round(mem_usage, 4)} MB\\n\")"
      ]
    },
    {
      "cell_type": "markdown",
      "metadata": {
        "id": "g2HesrVEyGLa"
      },
      "source": [
        "**Strategy 1: Load Less Data using Dask**"
      ]
    },
    {
      "cell_type": "code",
      "execution_count": 16,
      "metadata": {
        "colab": {
          "base_uri": "https://localhost:8080/"
        },
        "id": "QBIcs_K6w-6H",
        "outputId": "a28f4b70-c65f-42f3-841b-a1cbd6c8fd5e"
      },
      "outputs": [
        {
          "output_type": "stream",
          "name": "stdout",
          "text": [
            "   Price  Date of Transfer\n",
            "0  25000  1995-08-18 00:00\n",
            "1  42500  1995-08-09 00:00\n",
            "2  45000  1995-06-30 00:00\n",
            "3  43150  1995-11-24 00:00\n",
            "4  18899  1995-06-23 00:00\n",
            "\n",
            "Dask - Load Less Data\n",
            "Time: 0.69 seconds\n",
            "Memory: 1505.9258 MB\n",
            "\n"
          ]
        }
      ],
      "source": [
        "start_time = time.time()\n",
        "\n",
        "df_subset = dd.read_csv(file_path, usecols=[\"Price\", \"Date of Transfer\"])\n",
        "print(df_subset.head())  # triggers compute\n",
        "\n",
        "print_metrics(\"\\nDask - Load Less Data\", start_time)"
      ]
    },
    {
      "cell_type": "markdown",
      "metadata": {
        "id": "W2ATmmrjyMkr"
      },
      "source": [
        "**Strategy 2: Native Chunking (Partition Check Only)**"
      ]
    },
    {
      "cell_type": "code",
      "execution_count": 17,
      "metadata": {
        "colab": {
          "base_uri": "https://localhost:8080/"
        },
        "id": "2BmN1oBJx9Rl",
        "outputId": "f9fb6322-57c0-4ec2-8b87-4261d60bafc3"
      },
      "outputs": [
        {
          "output_type": "stream",
          "name": "stdout",
          "text": [
            "Dask - Native Chunking\n",
            "Time: 0.03 seconds\n",
            "Memory: 1505.9258 MB\n",
            "\n"
          ]
        }
      ],
      "source": [
        "start_time = time.time()\n",
        "\n",
        "df_chunked = dd.read_csv(file_path)\n",
        "_ = df_chunked.npartitions\n",
        "\n",
        "print_metrics(\"Dask - Native Chunking\", start_time)"
      ]
    },
    {
      "cell_type": "markdown",
      "metadata": {
        "id": "_FXbHZ54yd23"
      },
      "source": [
        "**Strategy 3: Optimize Data Types using Dask**"
      ]
    },
    {
      "cell_type": "code",
      "execution_count": 18,
      "metadata": {
        "colab": {
          "base_uri": "https://localhost:8080/"
        },
        "id": "sqvKvW1VyVlq",
        "outputId": "753566ae-89da-4e58-b505-9eec1194cd7a"
      },
      "outputs": [
        {
          "output_type": "stream",
          "name": "stdout",
          "text": [
            "Dask - Data Type Optimization\n",
            "Time: 1.55 seconds\n",
            "Memory: 1504.9688 MB\n",
            "\n"
          ]
        }
      ],
      "source": [
        "start_time = time.time()\n",
        "\n",
        "df_opt = dd.read_csv(file_path).astype({\n",
        "    \"Price\": \"float32\",\n",
        "    \"Property Type\": \"category\",\n",
        "    \"Old/New\": \"category\",\n",
        "    \"Duration\": \"category\",\n",
        "    \"PPDCategory Type\": \"category\"\n",
        "})\n",
        "df_opt.head()  # trigger compute\n",
        "\n",
        "print_metrics(\"Dask - Data Type Optimization\", start_time)"
      ]
    },
    {
      "cell_type": "markdown",
      "metadata": {
        "id": "P3SXZMbzy1om"
      },
      "source": [
        "**Strategy 4: Stratified Sampling using Dask**"
      ]
    },
    {
      "cell_type": "code",
      "execution_count": 19,
      "metadata": {
        "colab": {
          "base_uri": "https://localhost:8080/"
        },
        "id": "aqgnPAlby1I9",
        "outputId": "a0f82f3e-2e84-4eab-96b7-bc1054d419af"
      },
      "outputs": [
        {
          "output_type": "stream",
          "name": "stdout",
          "text": [
            "      Price\n",
            "0  120000.0\n",
            "0   43500.0\n",
            "1   42500.0\n",
            "1   41950.0\n",
            "1  105000.0\n",
            "Dask - Stratified Sampling\n",
            "Time: 65.52 seconds\n",
            "Memory: 1769.5781 MB\n",
            "\n"
          ]
        }
      ],
      "source": [
        "start_time = time.time()\n",
        "\n",
        "# Compute Dask to Pandas for stratified sampling\n",
        "df_sample = df_dask[[\"Property Type\", \"Price\"]].dropna().compute()\n",
        "\n",
        "sample_df = df_sample.groupby(\"Property Type\", group_keys=False).apply(\n",
        "    lambda x: x.sample(frac=0.05, random_state=42),\n",
        "    include_groups=False\n",
        ")\n",
        "\n",
        "# Convert back to Dask for consistency\n",
        "df_stratified = dd.from_pandas(sample_df, npartitions=4)\n",
        "\n",
        "print(df_stratified.head())  # Trigger computation\n",
        "\n",
        "print_metrics(\"Dask - Stratified Sampling\", start_time)"
      ]
    },
    {
      "cell_type": "markdown",
      "metadata": {
        "id": "xbQmpb3y2Row"
      },
      "source": [
        "**Strategy 5: Parallel Processing using Dask**"
      ]
    },
    {
      "cell_type": "code",
      "execution_count": 21,
      "metadata": {
        "id": "wBg-z6vuy_le",
        "colab": {
          "base_uri": "https://localhost:8080/"
        },
        "outputId": "044d3e2b-c2cb-4b73-8889-b4fdaf3ecae1"
      },
      "outputs": [
        {
          "output_type": "stream",
          "name": "stdout",
          "text": [
            "Dask - Parallel Processing\n",
            "Time: 30.35 seconds\n",
            "Memory: 1783.9609 MB\n",
            "\n",
            "Property Type\n",
            "D    2.500975e+05\n",
            "S    1.489675e+05\n",
            "O    1.295774e+06\n",
            "T    1.365340e+05\n",
            "F    1.749829e+05\n",
            "Name: Price, dtype: float64\n"
          ]
        }
      ],
      "source": [
        "import pandas as pd\n",
        "\n",
        "start_time = time.time()\n",
        "\n",
        "property_categories = [\"D\", \"S\", \"T\", \"F\", \"O\"]\n",
        "property_type_dtype = pd.api.types.CategoricalDtype(categories=property_categories)\n",
        "\n",
        "# Load and clean column\n",
        "df_opt = dd.read_csv(file_path, usecols=[\"Price\", \"Property Type\"]).astype({\"Price\": \"float32\"})\n",
        "\n",
        "# Clean whitespace and invalid values\n",
        "df_opt[\"Property Type\"] = df_opt[\"Property Type\"].str.strip().str.upper()\n",
        "\n",
        "# Apply consistent categorical dtype\n",
        "df_opt[\"Property Type\"] = df_opt[\"Property Type\"].astype(property_type_dtype)\n",
        "\n",
        "# Group again\n",
        "result = df_opt.groupby(\"Property Type\", observed=True)[\"Price\"].mean().compute()\n",
        "\n",
        "print_metrics(\"Dask - Parallel Processing\", start_time)\n",
        "print(result)"
      ]
    },
    {
      "cell_type": "code",
      "source": [
        "import matplotlib.pyplot as plt\n",
        "\n",
        "# Define Dask optimization strategies and performance metrics\n",
        "strategies = [\n",
        "    \"Load Less Data\",\n",
        "    \"Optimize DTypes\",\n",
        "    \"Stratified Sampling\",\n",
        "    \"Parallel Processing\"\n",
        "]\n",
        "\n",
        "# Update these values based on your actual benchmark results if they differ\n",
        "execution_times = [0.69, 0.03, 65.52, 30.35]  # in seconds\n",
        "memory_usage = [1505.9258, 1505.9258, 1769.5781, 1783.9609]     # in MB\n",
        "\n",
        "# Plotting\n",
        "plt.figure(figsize=(10, 4))\n",
        "\n",
        "# Execution Time Bar Chart\n",
        "plt.subplot(1, 2, 1)\n",
        "plt.barh(strategies, execution_times, color=\"steelblue\")\n",
        "plt.xlabel(\"Seconds\")\n",
        "plt.title(\"Dask Execution Time\")\n",
        "\n",
        "# Memory Usage Bar Chart\n",
        "plt.subplot(1, 2, 2)\n",
        "plt.barh(strategies, memory_usage, color=\"orange\")\n",
        "plt.xlabel(\"MB\")\n",
        "plt.title(\"Dask Memory Usage\")\n",
        "\n",
        "plt.tight_layout()\n",
        "plt.show()\n"
      ],
      "metadata": {
        "colab": {
          "base_uri": "https://localhost:8080/",
          "height": 407
        },
        "id": "RGMZN31u-2gH",
        "outputId": "4ccd5ab2-43ee-4fd7-8390-5077e369017c"
      },
      "execution_count": 23,
      "outputs": [
        {
          "output_type": "display_data",
          "data": {
            "text/plain": [
              "<Figure size 1000x400 with 2 Axes>"
            ],
            "image/png": "[encoded data removed]"
          },
          "metadata": {}
        }
      ]
    }
  ],
  "metadata": {
    "colab": {
      "provenance": [],
      "authorship_tag": "ABX9TyPJi12Od+D/k4qAu6qV69MS",
      "include_colab_link": true
    },
    "kernelspec": {
      "display_name": "Python 3",
      "name": "python3"
    },
    "language_info": {
      "name": "python"
    }
  },
  "nbformat": 4,
  "nbformat_minor": 0
}