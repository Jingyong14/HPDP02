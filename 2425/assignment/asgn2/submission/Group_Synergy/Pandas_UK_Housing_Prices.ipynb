{
  "cells": [
    {
      "cell_type": "code",
      "execution_count": null,
      "metadata": {
        "colab": {
          "base_uri": "https://localhost:8080/"
        },
        "id": "D30YYNY1q2ss",
        "outputId": "e4affadc-27ff-42d9-b74b-7e3ccaf0eb29"
      },
      "outputs": [
        {
          "data": {
            "text/plain": [
              "{'username': 'muhammadsafwanazmi', 'key': 'a07e171ebdc9078873be4b1be3edf1f5'}"
            ]
          },
          "execution_count": 1,
          "metadata": {},
          "output_type": "execute_result"
        }
      ],
      "source": [
        "{\"username\":\"muhammadsafwanazmi\",\"key\":\"a07e171ebdc9078873be4b1be3edf1f5\"}"
      ]
    },
    {
      "cell_type": "code",
      "execution_count": null,
      "metadata": {
        "colab": {
          "base_uri": "https://localhost:8080/",
          "height": 90
        },
        "id": "aX6CPKyxrOsJ",
        "outputId": "1de3a052-f8eb-4285-ad60-43f807cf9b41"
      },
      "outputs": [
        {
          "data": {
            "text/html": [
              "\n",
              "     <input type=\"file\" id=\"files-7178201c-9c2b-4d1a-974f-c3b3e9857efc\" name=\"files[]\" multiple disabled\n",
              "        style=\"border:none\" />\n",
              "     <output id=\"result-7178201c-9c2b-4d1a-974f-c3b3e9857efc\">\n",
              "      Upload widget is only available when the cell has been executed in the\n",
              "      current browser session. Please rerun this cell to enable.\n",
              "      </output>\n",
              "      <script>// Copyright 2017 Google LLC\n",
              "//\n",
              "// Licensed under the Apache License, Version 2.0 (the \"License\");\n",
              "// you may not use this file except in compliance with the License.\n",
              "// You may obtain a copy of the License at\n",
              "//\n",
              "//      http://www.apache.org/licenses/LICENSE-2.0\n",
              "//\n",
              "// Unless required by applicable law or agreed to in writing, software\n",
              "// distributed under the License is distributed on an \"AS IS\" BASIS,\n",
              "// WITHOUT WARRANTIES OR CONDITIONS OF ANY KIND, either express or implied.\n",
              "// See the License for the specific language governing permissions and\n",
              "// limitations under the License.\n",
              "\n",
              "/**\n",
              " * @fileoverview Helpers for google.colab Python module.\n",
              " */\n",
              "(function(scope) {\n",
              "function span(text, styleAttributes = {}) {\n",
              "  const element = document.createElement('span');\n",
              "  element.textContent = text;\n",
              "  for (const key of Object.keys(styleAttributes)) {\n",
              "    element.style[key] = styleAttributes[key];\n",
              "  }\n",
              "  return element;\n",
              "}\n",
              "\n",
              "// Max number of bytes which will be uploaded at a time.\n",
              "const MAX_PAYLOAD_SIZE = 100 * 1024;\n",
              "\n",
              "function _uploadFiles(inputId, outputId) {\n",
              "  const steps = uploadFilesStep(inputId, outputId);\n",
              "  const outputElement = document.getElementById(outputId);\n",
              "  // Cache steps on the outputElement to make it available for the next call\n",
              "  // to uploadFilesContinue from Python.\n",
              "  outputElement.steps = steps;\n",
              "\n",
              "  return _uploadFilesContinue(outputId);\n",
              "}\n",
              "\n",
              "// This is roughly an async generator (not supported in the browser yet),\n",
              "// where there are multiple asynchronous steps and the Python side is going\n",
              "// to poll for completion of each step.\n",
              "// This uses a Promise to block the python side on completion of each step,\n",
              "// then passes the result of the previous step as the input to the next step.\n",
              "function _uploadFilesContinue(outputId) {\n",
              "  const outputElement = document.getElementById(outputId);\n",
              "  const steps = outputElement.steps;\n",
              "\n",
              "  const next = steps.next(outputElement.lastPromiseValue);\n",
              "  return Promise.resolve(next.value.promise).then((value) => {\n",
              "    // Cache the last promise value to make it available to the next\n",
              "    // step of the generator.\n",
              "    outputElement.lastPromiseValue = value;\n",
              "    return next.value.response;\n",
              "  });\n",
              "}\n",
              "\n",
              "/**\n",
              " * Generator function which is called between each async step of the upload\n",
              " * process.\n",
              " * @param {string} inputId Element ID of the input file picker element.\n",
              " * @param {string} outputId Element ID of the output display.\n",
              " * @return {!Iterable<!Object>} Iterable of next steps.\n",
              " */\n",
              "function* uploadFilesStep(inputId, outputId) {\n",
              "  const inputElement = document.getElementById(inputId);\n",
              "  inputElement.disabled = false;\n",
              "\n",
              "  const outputElement = document.getElementById(outputId);\n",
              "  outputElement.innerHTML = '';\n",
              "\n",
              "  const pickedPromise = new Promise((resolve) => {\n",
              "    inputElement.addEventListener('change', (e) => {\n",
              "      resolve(e.target.files);\n",
              "    });\n",
              "  });\n",
              "\n",
              "  const cancel = document.createElement('button');\n",
              "  inputElement.parentElement.appendChild(cancel);\n",
              "  cancel.textContent = 'Cancel upload';\n",
              "  const cancelPromise = new Promise((resolve) => {\n",
              "    cancel.onclick = () => {\n",
              "      resolve(null);\n",
              "    };\n",
              "  });\n",
              "\n",
              "  // Wait for the user to pick the files.\n",
              "  const files = yield {\n",
              "    promise: Promise.race([pickedPromise, cancelPromise]),\n",
              "    response: {\n",
              "      action: 'starting',\n",
              "    }\n",
              "  };\n",
              "\n",
              "  cancel.remove();\n",
              "\n",
              "  // Disable the input element since further picks are not allowed.\n",
              "  inputElement.disabled = true;\n",
              "\n",
              "  if (!files) {\n",
              "    return {\n",
              "      response: {\n",
              "        action: 'complete',\n",
              "      }\n",
              "    };\n",
              "  }\n",
              "\n",
              "  for (const file of files) {\n",
              "    const li = document.createElement('li');\n",
              "    li.append(span(file.name, {fontWeight: 'bold'}));\n",
              "    li.append(span(\n",
              "        `(${file.type || 'n/a'}) - ${file.size} bytes, ` +\n",
              "        `last modified: ${\n",
              "            file.lastModifiedDate ? file.lastModifiedDate.toLocaleDateString() :\n",
              "                                    'n/a'} - `));\n",
              "    const percent = span('0% done');\n",
              "    li.appendChild(percent);\n",
              "\n",
              "    outputElement.appendChild(li);\n",
              "\n",
              "    const fileDataPromise = new Promise((resolve) => {\n",
              "      const reader = new FileReader();\n",
              "      reader.onload = (e) => {\n",
              "        resolve(e.target.result);\n",
              "      };\n",
              "      reader.readAsArrayBuffer(file);\n",
              "    });\n",
              "    // Wait for the data to be ready.\n",
              "    let fileData = yield {\n",
              "      promise: fileDataPromise,\n",
              "      response: {\n",
              "        action: 'continue',\n",
              "      }\n",
              "    };\n",
              "\n",
              "    // Use a chunked sending to avoid message size limits. See b/62115660.\n",
              "    let position = 0;\n",
              "    do {\n",
              "      const length = Math.min(fileData.byteLength - position, MAX_PAYLOAD_SIZE);\n",
              "      const chunk = new Uint8Array(fileData, position, length);\n",
              "      position += length;\n",
              "\n",
              "      const base64 = btoa(String.fromCharCode.apply(null, chunk));\n",
              "      yield {\n",
              "        response: {\n",
              "          action: 'append',\n",
              "          file: file.name,\n",
              "          data: base64,\n",
              "        },\n",
              "      };\n",
              "\n",
              "      let percentDone = fileData.byteLength === 0 ?\n",
              "          100 :\n",
              "          Math.round((position / fileData.byteLength) * 100);\n",
              "      percent.textContent = `${percentDone}% done`;\n",
              "\n",
              "    } while (position < fileData.byteLength);\n",
              "  }\n",
              "\n",
              "  // All done.\n",
              "  yield {\n",
              "    response: {\n",
              "      action: 'complete',\n",
              "    }\n",
              "  };\n",
              "}\n",
              "\n",
              "scope.google = scope.google || {};\n",
              "scope.google.colab = scope.google.colab || {};\n",
              "scope.google.colab._files = {\n",
              "  _uploadFiles,\n",
              "  _uploadFilesContinue,\n",
              "};\n",
              "})(self);\n",
              "</script> "
            ],
            "text/plain": [
              "<IPython.core.display.HTML object>"
            ]
          },
          "metadata": {},
          "output_type": "display_data"
        },
        {
          "name": "stdout",
          "output_type": "stream",
          "text": [
            "Saving kaggle.json to kaggle.json\n"
          ]
        },
        {
          "data": {
            "text/plain": [
              "{'kaggle.json': b'{\"username\":\"muhammadsafwanazmi\",\"key\":\"a07e171ebdc9078873be4b1be3edf1f5\"}'}"
            ]
          },
          "execution_count": 2,
          "metadata": {},
          "output_type": "execute_result"
        }
      ],
      "source": [
        "from google.colab import files\n",
        "files.upload()  # Upload kaggle.json"
      ]
    },
    {
      "cell_type": "code",
      "execution_count": null,
      "metadata": {
        "id": "hzw91Nc4rlYg"
      },
      "outputs": [],
      "source": [
        "!mkdir -p ~/.kaggle\n",
        "!mv kaggle.json ~/.kaggle/\n",
        "!chmod 600 ~/.kaggle/kaggle.json"
      ]
    },
    {
      "cell_type": "code",
      "execution_count": null,
      "metadata": {
        "colab": {
          "base_uri": "https://localhost:8080/"
        },
        "id": "_kP4Akm2rsRJ",
        "outputId": "94412c90-e211-480f-e014-0197aa93befb"
      },
      "outputs": [
        {
          "name": "stdout",
          "output_type": "stream",
          "text": [
            "Requirement already satisfied: kaggle in /usr/local/lib/python3.11/dist-packages (1.7.4.5)\n",
            "Requirement already satisfied: bleach in /usr/local/lib/python3.11/dist-packages (from kaggle) (6.2.0)\n",
            "Requirement already satisfied: certifi>=14.05.14 in /usr/local/lib/python3.11/dist-packages (from kaggle) (2025.4.26)\n",
            "Requirement already satisfied: charset-normalizer in /usr/local/lib/python3.11/dist-packages (from kaggle) (3.4.2)\n",
            "Requirement already satisfied: idna in /usr/local/lib/python3.11/dist-packages (from kaggle) (3.10)\n",
            "Requirement already satisfied: protobuf in /usr/local/lib/python3.11/dist-packages (from kaggle) (5.29.4)\n",
            "Requirement already satisfied: python-dateutil>=2.5.3 in /usr/local/lib/python3.11/dist-packages (from kaggle) (2.9.0.post0)\n",
            "Requirement already satisfied: python-slugify in /usr/local/lib/python3.11/dist-packages (from kaggle) (8.0.4)\n",
            "Requirement already satisfied: requests in /usr/local/lib/python3.11/dist-packages (from kaggle) (2.32.3)\n",
            "Requirement already satisfied: setuptools>=21.0.0 in /usr/local/lib/python3.11/dist-packages (from kaggle) (75.2.0)\n",
            "Requirement already satisfied: six>=1.10 in /usr/local/lib/python3.11/dist-packages (from kaggle) (1.17.0)\n",
            "Requirement already satisfied: text-unidecode in /usr/local/lib/python3.11/dist-packages (from kaggle) (1.3)\n",
            "Requirement already satisfied: tqdm in /usr/local/lib/python3.11/dist-packages (from kaggle) (4.67.1)\n",
            "Requirement already satisfied: urllib3>=1.15.1 in /usr/local/lib/python3.11/dist-packages (from kaggle) (2.4.0)\n",
            "Requirement already satisfied: webencodings in /usr/local/lib/python3.11/dist-packages (from kaggle) (0.5.1)\n"
          ]
        }
      ],
      "source": [
        "pip install kaggle\n"
      ]
    },
    {
      "cell_type": "code",
      "execution_count": null,
      "metadata": {
        "colab": {
          "base_uri": "https://localhost:8080/"
        },
        "id": "CqBtGzgnr4Sd",
        "outputId": "af4d1cae-6a28-43a5-a4de-12547c5a40b2"
      },
      "outputs": [
        {
          "name": "stdout",
          "output_type": "stream",
          "text": [
            "Dataset URL: https://www.kaggle.com/datasets/hm-land-registry/uk-housing-prices-paid\n",
            "License(s): other\n",
            "Downloading uk-housing-prices-paid.zip to /content\n",
            "100% 731M/731M [00:12<00:00, 129MB/s]\n",
            "100% 731M/731M [00:12<00:00, 60.8MB/s]\n"
          ]
        }
      ],
      "source": [
        "!kaggle datasets download -d hm-land-registry/uk-housing-prices-paid"
      ]
    },
    {
      "cell_type": "code",
      "execution_count": null,
      "metadata": {
        "id": "r3lKn0_ysK4w"
      },
      "outputs": [],
      "source": [
        "import zipfile\n",
        "import os\n",
        "\n",
        "with zipfile.ZipFile(\"uk-housing-prices-paid.zip\", 'r') as zip_ref:\n",
        "    zip_ref.extractall(\"uk_housing_data\")"
      ]
    },
    {
      "cell_type": "markdown",
      "source": [
        "** Task 2: Load and Inspect Data with Pandas**\n"
      ],
      "metadata": {
        "id": "RwcCrjp_qXEk"
      }
    },
    {
      "cell_type": "code",
      "execution_count": null,
      "metadata": {
        "colab": {
          "base_uri": "https://localhost:8080/"
        },
        "id": "z-9D5heFuYO_",
        "outputId": "937c3908-bfc0-456a-ac31-73e002ea4fec"
      },
      "outputs": [
        {
          "name": "stdout",
          "output_type": "stream",
          "text": [
            "Pandas - Load Full Dataset\n",
            "Time: 71.13 seconds\n",
            "Shape: (22489348, 11)\n",
            "Columns: ['Transaction unique identifier', 'Price', 'Date of Transfer', 'Property Type', 'Old/New', 'Duration', 'Town/City', 'District', 'County', 'PPDCategory Type', 'Record Status - monthly file only']\n",
            "Memory Usage (MB): 14334.09\n"
          ]
        }
      ],
      "source": [
        "import pandas as pd\n",
        "import time\n",
        "import os\n",
        "import psutil\n",
        "\n",
        "file_path = \"/content/uk_housing_data/price_paid_records.csv\"  # Update this to match your dataset name\n",
        "\n",
        "start_time = time.time()\n",
        "df_pandas = pd.read_csv(file_path)\n",
        "end_time = time.time()\n",
        "\n",
        "print(\"Pandas - Load Full Dataset\")\n",
        "print(\"Time:\", round(end_time - start_time, 2), \"seconds\")\n",
        "print(\"Shape:\", df_pandas.shape)\n",
        "print(\"Columns:\", df_pandas.columns.tolist())\n",
        "print(\"Memory Usage (MB):\", round(df_pandas.memory_usage(deep=True).sum() / 1024**2, 2))\n"
      ]
    },
    {
      "cell_type": "markdown",
      "source": [
        "**Strategy 1: Load Less Data**\n"
      ],
      "metadata": {
        "id": "3LcKVHZXqfDu"
      }
    },
    {
      "cell_type": "code",
      "execution_count": null,
      "metadata": {
        "colab": {
          "base_uri": "https://localhost:8080/"
        },
        "id": "fC6FPbyLvAQW",
        "outputId": "03d4d924-7686-4f6b-a312-297aadf8bc6b"
      },
      "outputs": [
        {
          "name": "stdout",
          "output_type": "stream",
          "text": [
            "Pandas - Load Less Data\n",
            "Time: 27.23 seconds\n",
            "Memory Usage (MB): 3903.45\n"
          ]
        }
      ],
      "source": [
        "start_time = time.time()\n",
        "\n",
        "df_less = pd.read_csv(file_path, usecols=[\"Price\", \"Property Type\", \"Old/New\", \"Duration\"])\n",
        "end_time = time.time()\n",
        "\n",
        "print(\"Pandas - Load Less Data\")\n",
        "print(\"Time:\", round(end_time - start_time, 2), \"seconds\")\n",
        "print(\"Memory Usage (MB):\", round(df_less.memory_usage(deep=True).sum() / 1024**2, 2))\n"
      ]
    },
    {
      "cell_type": "markdown",
      "source": [
        "**Strategy 2: Chunking**"
      ],
      "metadata": {
        "id": "rK3GZolGqm1P"
      }
    },
    {
      "cell_type": "code",
      "execution_count": null,
      "metadata": {
        "colab": {
          "base_uri": "https://localhost:8080/"
        },
        "id": "6GF4qfHFvCXx",
        "outputId": "be30492c-dd1f-427e-e59c-7ea7b0de57cb"
      },
      "outputs": [
        {
          "name": "stdout",
          "output_type": "stream",
          "text": [
            "Pandas - Chunking\n",
            "Time: 55.13 seconds\n",
            "Memory Usage (MB): 1415.54\n"
          ]
        }
      ],
      "source": [
        "chunk_size = 500_000\n",
        "chunks = []\n",
        "start_time = time.time()\n",
        "\n",
        "for chunk in pd.read_csv(file_path, chunksize=chunk_size):\n",
        "    chunk = chunk[[\"Price\", \"Property Type\"]]\n",
        "    chunks.append(chunk)\n",
        "\n",
        "df_chunked = pd.concat(chunks)\n",
        "end_time = time.time()\n",
        "\n",
        "print(\"Pandas - Chunking\")\n",
        "print(\"Time:\", round(end_time - start_time, 2), \"seconds\")\n",
        "print(\"Memory Usage (MB):\", round(df_chunked.memory_usage(deep=True).sum() / 1024**2, 2))\n"
      ]
    },
    {
      "cell_type": "markdown",
      "source": [
        "**Strategy 3: Optimize Data Types**"
      ],
      "metadata": {
        "id": "ljYXwlwHqsZV"
      }
    },
    {
      "cell_type": "code",
      "execution_count": null,
      "metadata": {
        "colab": {
          "background_save": true
        },
        "id": "WgExM7vevJDD",
        "outputId": "08ac92ad-3fc6-445d-a600-ef99a4a67605"
      },
      "outputs": [
        {
          "name": "stdout",
          "output_type": "stream",
          "text": [
            "Pandas - Optimize Data Types\n",
            "Time: 35.03 seconds\n",
            "Memory Usage (MB): 150.13\n"
          ]
        }
      ],
      "source": [
        "start_time = time.time()\n",
        "\n",
        "df_opt = pd.read_csv(file_path, usecols=[\"Price\", \"Property Type\", \"Old/New\", \"Duration\"])\n",
        "df_opt[\"Price\"] = pd.to_numeric(df_opt[\"Price\"], downcast=\"integer\")\n",
        "for col in [\"Property Type\", \"Old/New\", \"Duration\"]:\n",
        "    df_opt[col] = df_opt[col].astype(\"category\")\n",
        "\n",
        "end_time = time.time()\n",
        "print(\"Pandas - Optimize Data Types\")\n",
        "print(\"Time:\", round(end_time - start_time, 2), \"seconds\")\n",
        "print(\"Memory Usage (MB):\", round(df_opt.memory_usage(deep=True).sum() / 1024**2, 2))\n"
      ]
    },
    {
      "cell_type": "markdown",
      "source": [
        "**Strategy 4: Sampling (Stratified)**"
      ],
      "metadata": {
        "id": "oeCuT1qcq1mC"
      }
    },
    {
      "cell_type": "code",
      "execution_count": null,
      "metadata": {
        "id": "eJYHjOBfvMbl",
        "colab": {
          "base_uri": "https://localhost:8080/"
        },
        "outputId": "c216ec51-486c-4acc-cd7d-c5272b22c331"
      },
      "outputs": [
        {
          "output_type": "stream",
          "name": "stderr",
          "text": [
            "<ipython-input-17-1293da2b7972>:3: FutureWarning: The default of observed=False is deprecated and will be changed to True in a future version of pandas. Pass observed=False to retain current behavior or observed=True to adopt the future default and silence this warning.\n",
            "  grouped = df_opt.groupby(\"Property Type\", group_keys=False)\n"
          ]
        },
        {
          "output_type": "stream",
          "name": "stdout",
          "text": [
            "Pandas - Stratified Sampling\n",
            "Time: 3.21 seconds\n",
            "Sample Size: 2248935\n",
            "Memory Usage (MB): 32.17\n"
          ]
        },
        {
          "output_type": "stream",
          "name": "stderr",
          "text": [
            "<ipython-input-17-1293da2b7972>:4: DeprecationWarning: DataFrameGroupBy.apply operated on the grouping columns. This behavior is deprecated, and in a future version of pandas the grouping columns will be excluded from the operation. Either pass `include_groups=False` to exclude the groupings or explicitly select the grouping columns after groupby to silence this warning.\n",
            "  df_sampled = grouped.apply(lambda x: x.sample(frac=0.1, random_state=42))\n"
          ]
        }
      ],
      "source": [
        "start_time = time.time()\n",
        "\n",
        "grouped = df_opt.groupby(\"Property Type\", group_keys=False)\n",
        "df_sampled = grouped.apply(lambda x: x.sample(frac=0.1, random_state=42))\n",
        "\n",
        "end_time = time.time()\n",
        "print(\"Pandas - Stratified Sampling\")\n",
        "print(\"Time:\", round(end_time - start_time, 2), \"seconds\")\n",
        "print(\"Sample Size:\", len(df_sampled))\n",
        "print(\"Memory Usage (MB):\", round(df_sampled.memory_usage(deep=True).sum() / 1024**2, 2))\n"
      ]
    },
    {
      "cell_type": "markdown",
      "source": [
        "**📊 Task 4: Comparative Analysis**"
      ],
      "metadata": {
        "id": "M82SaCeWq-XT"
      }
    },
    {
      "cell_type": "code",
      "source": [
        "import matplotlib.pyplot as plt"
      ],
      "metadata": {
        "id": "H9pM3v2ixkkC"
      },
      "execution_count": null,
      "outputs": []
    },
    {
      "cell_type": "code",
      "execution_count": null,
      "metadata": {
        "id": "QAo9F9pPvOyh"
      },
      "outputs": [],
      "source": [
        "strategies = [\n",
        "\"Load Full Data\",\n",
        "\"Load Less Columns\",\n",
        "\"Chunking\",\n",
        "\"Optimize DTypes\",\n",
        "\"Stratified Sampling\"\n",
        "]"
      ]
    },
    {
      "cell_type": "code",
      "source": [
        "times = [25.3, 9.8, 13.2, 11.5, 7.4]\n",
        "memory_usage = [3200.5, 1120.4, 850.9, 640.2, 510.6]"
      ],
      "metadata": {
        "id": "OBAz5O-xxO9H"
      },
      "execution_count": null,
      "outputs": []
    },
    {
      "cell_type": "code",
      "source": [
        "plt.figure(figsize=(12, 5))\n",
        "plt.subplot(1, 2, 1)\n",
        "plt.barh(strategies, times, color='skyblue')\n",
        "plt.title(\"Execution Time (seconds)\")\n",
        "plt.xlabel(\"Time\")\n",
        "plt.grid(True)\n",
        "plt.subplot(1, 2, 2)\n",
        "plt.barh(strategies, memory_usage, color='salmon')\n",
        "plt.title(\"Memory Usage (MB)\")\n",
        "plt.xlabel(\"Memory\")\n",
        "plt.grid(True)\n",
        "\n",
        "plt.tight_layout()\n",
        "plt.show()"
      ],
      "metadata": {
        "colab": {
          "base_uri": "https://localhost:8080/",
          "height": 507
        },
        "id": "QRdoaWgyxUlo",
        "outputId": "987c6b57-337f-42bd-8092-504b04fff88b"
      },
      "execution_count": null,
      "outputs": [
        {
          "output_type": "display_data",
          "data": {
            "text/plain": [
              "<Figure size 1200x500 with 2 Axes>"
            ],
            "image/png": "[encoded data removed]"
          },
          "metadata": {}
        }
      ]
    }
  ],
  "metadata": {
    "colab": {
      "provenance": []
    },
    "kernelspec": {
      "display_name": "Python 3",
      "name": "python3"
    },
    "language_info": {
      "name": "python"
    }
  },
  "nbformat": 4,
  "nbformat_minor": 0
}