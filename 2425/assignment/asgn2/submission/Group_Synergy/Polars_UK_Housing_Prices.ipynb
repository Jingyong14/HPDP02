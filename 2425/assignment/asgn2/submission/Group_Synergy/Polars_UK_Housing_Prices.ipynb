{
  "nbformat": 4,
  "nbformat_minor": 0,
  "metadata": {
    "colab": {
      "provenance": [],
      "authorship_tag": "ABX9TyOlcG57t9P7abL28mRKqiBz",
      "include_colab_link": true
    },
    "kernelspec": {
      "name": "python3",
      "display_name": "Python 3"
    },
    "language_info": {
      "name": "python"
    }
  },
  "cells": [
    {
      "cell_type": "markdown",
      "metadata": {
        "id": "view-in-github",
        "colab_type": "text"
      },
      "source": [
        "<a href=\"https://colab.research.google.com/github/Jingyong14/HPDP02/blob/main/2425/assignment/asgn2/submission/Group_Synergy/Polars_UK_Housing_Prices.ipynb\" target=\"_parent\"><img src=\"https://colab.research.google.com/assets/colab-badge.svg\" alt=\"Open In Colab\"/></a>"
      ]
    },
    {
      "cell_type": "code",
      "execution_count": 1,
      "metadata": {
        "colab": {
          "base_uri": "https://localhost:8080/",
          "height": 110
        },
        "id": "i-OJNUjKMBUP",
        "outputId": "0312c233-9b74-4011-9ed8-8c24cd05b4ff"
      },
      "outputs": [
        {
          "output_type": "display_data",
          "data": {
            "text/plain": [
              "<IPython.core.display.HTML object>"
            ],
            "text/html": [
              "\n",
              "     <input type=\"file\" id=\"files-01938066-4876-459c-8a89-b5510da8caaa\" name=\"files[]\" multiple disabled\n",
              "        style=\"border:none\" />\n",
              "     <output id=\"result-01938066-4876-459c-8a89-b5510da8caaa\">\n",
              "      Upload widget is only available when the cell has been executed in the\n",
              "      current browser session. Please rerun this cell to enable.\n",
              "      </output>\n",
              "      <script>// Copyright 2017 Google LLC\n",
              "//\n",
              "// Licensed under the Apache License, Version 2.0 (the \"License\");\n",
              "// you may not use this file except in compliance with the License.\n",
              "// You may obtain a copy of the License at\n",
              "//\n",
              "//      http://www.apache.org/licenses/LICENSE-2.0\n",
              "//\n",
              "// Unless required by applicable law or agreed to in writing, software\n",
              "// distributed under the License is distributed on an \"AS IS\" BASIS,\n",
              "// WITHOUT WARRANTIES OR CONDITIONS OF ANY KIND, either express or implied.\n",
              "// See the License for the specific language governing permissions and\n",
              "// limitations under the License.\n",
              "\n",
              "/**\n",
              " * @fileoverview Helpers for google.colab Python module.\n",
              " */\n",
              "(function(scope) {\n",
              "function span(text, styleAttributes = {}) {\n",
              "  const element = document.createElement('span');\n",
              "  element.textContent = text;\n",
              "  for (const key of Object.keys(styleAttributes)) {\n",
              "    element.style[key] = styleAttributes[key];\n",
              "  }\n",
              "  return element;\n",
              "}\n",
              "\n",
              "// Max number of bytes which will be uploaded at a time.\n",
              "const MAX_PAYLOAD_SIZE = 100 * 1024;\n",
              "\n",
              "function _uploadFiles(inputId, outputId) {\n",
              "  const steps = uploadFilesStep(inputId, outputId);\n",
              "  const outputElement = document.getElementById(outputId);\n",
              "  // Cache steps on the outputElement to make it available for the next call\n",
              "  // to uploadFilesContinue from Python.\n",
              "  outputElement.steps = steps;\n",
              "\n",
              "  return _uploadFilesContinue(outputId);\n",
              "}\n",
              "\n",
              "// This is roughly an async generator (not supported in the browser yet),\n",
              "// where there are multiple asynchronous steps and the Python side is going\n",
              "// to poll for completion of each step.\n",
              "// This uses a Promise to block the python side on completion of each step,\n",
              "// then passes the result of the previous step as the input to the next step.\n",
              "function _uploadFilesContinue(outputId) {\n",
              "  const outputElement = document.getElementById(outputId);\n",
              "  const steps = outputElement.steps;\n",
              "\n",
              "  const next = steps.next(outputElement.lastPromiseValue);\n",
              "  return Promise.resolve(next.value.promise).then((value) => {\n",
              "    // Cache the last promise value to make it available to the next\n",
              "    // step of the generator.\n",
              "    outputElement.lastPromiseValue = value;\n",
              "    return next.value.response;\n",
              "  });\n",
              "}\n",
              "\n",
              "/**\n",
              " * Generator function which is called between each async step of the upload\n",
              " * process.\n",
              " * @param {string} inputId Element ID of the input file picker element.\n",
              " * @param {string} outputId Element ID of the output display.\n",
              " * @return {!Iterable<!Object>} Iterable of next steps.\n",
              " */\n",
              "function* uploadFilesStep(inputId, outputId) {\n",
              "  const inputElement = document.getElementById(inputId);\n",
              "  inputElement.disabled = false;\n",
              "\n",
              "  const outputElement = document.getElementById(outputId);\n",
              "  outputElement.innerHTML = '';\n",
              "\n",
              "  const pickedPromise = new Promise((resolve) => {\n",
              "    inputElement.addEventListener('change', (e) => {\n",
              "      resolve(e.target.files);\n",
              "    });\n",
              "  });\n",
              "\n",
              "  const cancel = document.createElement('button');\n",
              "  inputElement.parentElement.appendChild(cancel);\n",
              "  cancel.textContent = 'Cancel upload';\n",
              "  const cancelPromise = new Promise((resolve) => {\n",
              "    cancel.onclick = () => {\n",
              "      resolve(null);\n",
              "    };\n",
              "  });\n",
              "\n",
              "  // Wait for the user to pick the files.\n",
              "  const files = yield {\n",
              "    promise: Promise.race([pickedPromise, cancelPromise]),\n",
              "    response: {\n",
              "      action: 'starting',\n",
              "    }\n",
              "  };\n",
              "\n",
              "  cancel.remove();\n",
              "\n",
              "  // Disable the input element since further picks are not allowed.\n",
              "  inputElement.disabled = true;\n",
              "\n",
              "  if (!files) {\n",
              "    return {\n",
              "      response: {\n",
              "        action: 'complete',\n",
              "      }\n",
              "    };\n",
              "  }\n",
              "\n",
              "  for (const file of files) {\n",
              "    const li = document.createElement('li');\n",
              "    li.append(span(file.name, {fontWeight: 'bold'}));\n",
              "    li.append(span(\n",
              "        `(${file.type || 'n/a'}) - ${file.size} bytes, ` +\n",
              "        `last modified: ${\n",
              "            file.lastModifiedDate ? file.lastModifiedDate.toLocaleDateString() :\n",
              "                                    'n/a'} - `));\n",
              "    const percent = span('0% done');\n",
              "    li.appendChild(percent);\n",
              "\n",
              "    outputElement.appendChild(li);\n",
              "\n",
              "    const fileDataPromise = new Promise((resolve) => {\n",
              "      const reader = new FileReader();\n",
              "      reader.onload = (e) => {\n",
              "        resolve(e.target.result);\n",
              "      };\n",
              "      reader.readAsArrayBuffer(file);\n",
              "    });\n",
              "    // Wait for the data to be ready.\n",
              "    let fileData = yield {\n",
              "      promise: fileDataPromise,\n",
              "      response: {\n",
              "        action: 'continue',\n",
              "      }\n",
              "    };\n",
              "\n",
              "    // Use a chunked sending to avoid message size limits. See b/62115660.\n",
              "    let position = 0;\n",
              "    do {\n",
              "      const length = Math.min(fileData.byteLength - position, MAX_PAYLOAD_SIZE);\n",
              "      const chunk = new Uint8Array(fileData, position, length);\n",
              "      position += length;\n",
              "\n",
              "      const base64 = btoa(String.fromCharCode.apply(null, chunk));\n",
              "      yield {\n",
              "        response: {\n",
              "          action: 'append',\n",
              "          file: file.name,\n",
              "          data: base64,\n",
              "        },\n",
              "      };\n",
              "\n",
              "      let percentDone = fileData.byteLength === 0 ?\n",
              "          100 :\n",
              "          Math.round((position / fileData.byteLength) * 100);\n",
              "      percent.textContent = `${percentDone}% done`;\n",
              "\n",
              "    } while (position < fileData.byteLength);\n",
              "  }\n",
              "\n",
              "  // All done.\n",
              "  yield {\n",
              "    response: {\n",
              "      action: 'complete',\n",
              "    }\n",
              "  };\n",
              "}\n",
              "\n",
              "scope.google = scope.google || {};\n",
              "scope.google.colab = scope.google.colab || {};\n",
              "scope.google.colab._files = {\n",
              "  _uploadFiles,\n",
              "  _uploadFilesContinue,\n",
              "};\n",
              "})(self);\n",
              "</script> "
            ]
          },
          "metadata": {}
        },
        {
          "output_type": "stream",
          "name": "stdout",
          "text": [
            "Saving kaggle.json to kaggle.json\n"
          ]
        },
        {
          "output_type": "execute_result",
          "data": {
            "text/plain": [
              "{'kaggle.json': b'{\"username\":\"muhammadnurazhar\",\"key\":\"80725452fb736d0896b070f9687ca7a1\"}'}"
            ]
          },
          "metadata": {},
          "execution_count": 1
        }
      ],
      "source": [
        "from google.colab import files\n",
        "files.upload()  # Upload kaggle.json"
      ]
    },
    {
      "cell_type": "code",
      "source": [
        "!mkdir -p ~/.kaggle\n",
        "!mv kaggle.json ~/.kaggle/\n",
        "!chmod 600 ~/.kaggle/kaggle.json"
      ],
      "metadata": {
        "id": "4pE_pBzQMsag"
      },
      "execution_count": 2,
      "outputs": []
    },
    {
      "cell_type": "markdown",
      "source": [
        "**Task 1: Dataset Selection (UK Housing Prices Paid\n",
        ")**"
      ],
      "metadata": {
        "id": "U38y48ikTQka"
      }
    },
    {
      "cell_type": "code",
      "source": [
        "!kaggle datasets download -d hm-land-registry/uk-housing-prices-paid"
      ],
      "metadata": {
        "colab": {
          "base_uri": "https://localhost:8080/"
        },
        "id": "u-5deL_3O7Ft",
        "outputId": "d0ea2c19-7e12-4450-cabe-412bcf8654c4"
      },
      "execution_count": 3,
      "outputs": [
        {
          "output_type": "stream",
          "name": "stdout",
          "text": [
            "Dataset URL: https://www.kaggle.com/datasets/hm-land-registry/uk-housing-prices-paid\n",
            "License(s): other\n",
            "uk-housing-prices-paid.zip: Skipping, found more recently modified local copy (use --force to force download)\n"
          ]
        }
      ]
    },
    {
      "cell_type": "code",
      "source": [
        "import zipfile\n",
        "import os\n",
        "\n",
        "with zipfile.ZipFile(\"uk-housing-prices-paid.zip\", 'r') as zip_ref:\n",
        "    zip_ref.extractall(\"uk_housing_data\")"
      ],
      "metadata": {
        "id": "k4luZ7nuPY-2"
      },
      "execution_count": 4,
      "outputs": []
    },
    {
      "cell_type": "markdown",
      "source": [
        "## About Dataset\n",
        "\n",
        "The **Price Paid Data** includes information on all registered property sales in England and Wales that are sold for full market value.  \n",
        "> **Note:** Address details have been truncated to the **town/city** level.\n",
        "\n",
        "You might also find the HM Land Registry transaction records to be a useful supplement to this dataset:  \n",
        "🔗 [UK Land Registry Transactions on Kaggle](https://www.kaggle.com/hm-land-registry/uk-land-registry-transactions)\n",
        "\n",
        "---\n",
        "\n",
        "### 📋 Available Fields\n",
        "\n",
        "- **Transaction unique identifier**  \n",
        "  A reference number generated automatically for each published sale. This number is unique and changes each time a sale is recorded.\n",
        "\n",
        "- **Price**  \n",
        "  Sale price stated on the transfer deed.\n",
        "\n",
        "- **Date of Transfer**  \n",
        "  Date the sale was completed, as stated on the transfer deed.\n",
        "\n",
        "- **Property Type**  \n",
        "  - `D` = Detached  \n",
        "  - `S` = Semi-Detached  \n",
        "  - `T` = Terraced  \n",
        "  - `F` = Flats/Maisonettes  \n",
        "  - `O` = Other  \n",
        "\n",
        "  **Notes:**\n",
        "  - No separate identification for bungalows.\n",
        "  - End-of-terrace properties are included in the \"Terraced\" category.\n",
        "  - 'Other' applies to property types not covered by the categories above.\n",
        "\n",
        "- **Old/New**  \n",
        "  Indicates property age:\n",
        "  - `Y` = Newly built property  \n",
        "  - `N` = Established residential building\n",
        "\n",
        "- **Duration**  \n",
        "  Tenure type:\n",
        "  - `F` = Freehold  \n",
        "  - `L` = Leasehold  \n",
        "  > Note: Leases of 7 years or less are not recorded in the Price Paid Dataset.\n",
        "\n",
        "- **Town/City**\n",
        "\n",
        "- **District**\n",
        "\n",
        "- **County**\n",
        "\n",
        "- **PPD Category Type**\n",
        "  - `A` = Standard entry (single residential property sold for full market value)  \n",
        "  - `B` = Additional entries including:\n",
        "    - Power of sale/repossessions  \n",
        "    - Buy-to-lets (where identifiable via mortgage)  \n",
        "    - Transfers to non-private individuals  \n",
        "\n",
        "  **Note:** Category B does not explicitly identify the subtypes listed above.  \n",
        "  - Category A: available from **January 1995**  \n",
        "  - Category B: identified from **October 2013**\n",
        "\n",
        "- **Record Status (monthly file only)**  \n",
        "  Indicates changes to the record:\n",
        "  - `A` = Addition  \n",
        "  - `C` = Change  \n",
        "  - `D` = Delete\n",
        "\n",
        "  > When a transaction changes category type (e.g., due to misallocation), it is deleted from the original and added as a new transaction with a new identifier.\n",
        "\n",
        "---\n",
        "\n",
        "### 📄 Licensing\n",
        "\n",
        "This data is released by **HM Land Registry** under the **Open Government License v3.0**.\n",
        "\n",
        "> Data produced by HM Land Registry © Crown copyright 2017.\n"
      ],
      "metadata": {
        "id": "6FirGX4PtP6Z"
      }
    },
    {
      "cell_type": "markdown",
      "source": [
        "**Task 2: Load and Inspect Data using Polars**"
      ],
      "metadata": {
        "id": "W_T54TWRTno2"
      }
    },
    {
      "cell_type": "code",
      "source": [
        "!pip install polars"
      ],
      "metadata": {
        "colab": {
          "base_uri": "https://localhost:8080/"
        },
        "id": "-05cKlIFPwPk",
        "outputId": "bbaae685-dd9d-4a6a-bc04-e216363f82a4"
      },
      "execution_count": 8,
      "outputs": [
        {
          "output_type": "stream",
          "name": "stdout",
          "text": [
            "Requirement already satisfied: polars in /usr/local/lib/python3.11/dist-packages (1.21.0)\n"
          ]
        }
      ]
    },
    {
      "cell_type": "code",
      "source": [
        "import polars as pl\n",
        "import time\n",
        "import os\n",
        "\n",
        "file_path = \"/content/uk_housing_data/price_paid_records.csv\"\n",
        "file_size = os.path.getsize(file_path) / (1024 ** 2)  # in MB\n",
        "print(f\"File size: {file_size:.2f} MB\")\n"
      ],
      "metadata": {
        "colab": {
          "base_uri": "https://localhost:8080/"
        },
        "id": "inxuWRMaQGQZ",
        "outputId": "3dad32b7-83ad-4978-bc8a-51a19f7ebf93"
      },
      "execution_count": 1,
      "outputs": [
        {
          "output_type": "stream",
          "name": "stdout",
          "text": [
            "File size: 2294.24 MB\n"
          ]
        }
      ]
    },
    {
      "cell_type": "markdown",
      "source": [
        "**Task 3: Apply Big Data Handling Strategies with Polars**"
      ],
      "metadata": {
        "id": "cEgPRTGlkfEu"
      }
    },
    {
      "cell_type": "markdown",
      "source": [
        "**Strategy 1: Load Less Data using Polars**"
      ],
      "metadata": {
        "id": "qdhUQZm2jxMW"
      }
    },
    {
      "cell_type": "code",
      "source": [
        "start_time = time.time()\n",
        "\n",
        "df_less_data_polars = pl.read_csv(\n",
        "    file_path,\n",
        "    columns=['Transaction unique identifier',\n",
        " 'Price',\n",
        " 'Date of Transfer',\n",
        " 'Property Type',\n",
        " 'Old/New',\n",
        " 'Duration',\n",
        " 'Town/City',\n",
        " 'District',\n",
        " 'County',\n",
        " 'PPDCategory Type',\n",
        " 'Record Status - monthly file only']\n",
        ")\n",
        "\n",
        "end_time = time.time()\n",
        "\n",
        "print(\"Polars - Load Less Data\")\n",
        "print(\"Time:\", round(end_time - start_time, 2), \"seconds\")\n",
        "print(\"Memory:\", round(df_less_data_polars.estimated_size('mb'), 4), \"MB\")\n",
        "\n",
        "df_less_data_polars.head()"
      ],
      "metadata": {
        "colab": {
          "base_uri": "https://localhost:8080/",
          "height": 676
        },
        "id": "FQ4_lT-hjowY",
        "outputId": "6d83a16b-cd96-4c1a-86ee-4f39efddd9ac"
      },
      "execution_count": 2,
      "outputs": [
        {
          "output_type": "stream",
          "name": "stdout",
          "text": [
            "Polars - Load Less Data\n",
            "Time: 10.85 seconds\n",
            "Memory: 2109.0099 MB\n"
          ]
        },
        {
          "output_type": "execute_result",
          "data": {
            "text/plain": [
              "shape: (5, 11)\n",
              "┌────────────┬───────┬────────────┬────────────┬───┬───────────┬───────────┬───────────┬───────────┐\n",
              "│ Transactio ┆ Price ┆ Date of    ┆ Property   ┆ … ┆ District  ┆ County    ┆ PPDCatego ┆ Record    │\n",
              "│ n unique   ┆ ---   ┆ Transfer   ┆ Type       ┆   ┆ ---       ┆ ---       ┆ ry Type   ┆ Status -  │\n",
              "│ identifier ┆ i64   ┆ ---        ┆ ---        ┆   ┆ str       ┆ str       ┆ ---       ┆ monthly   │\n",
              "│ ---        ┆       ┆ str        ┆ str        ┆   ┆           ┆           ┆ str       ┆ file o…   │\n",
              "│ str        ┆       ┆            ┆            ┆   ┆           ┆           ┆           ┆ ---       │\n",
              "│            ┆       ┆            ┆            ┆   ┆           ┆           ┆           ┆ str       │\n",
              "╞════════════╪═══════╪════════════╪════════════╪═══╪═══════════╪═══════════╪═══════════╪═══════════╡\n",
              "│ {81B82214- ┆ 25000 ┆ 1995-08-18 ┆ T          ┆ … ┆ OLDHAM    ┆ GREATER   ┆ A         ┆ A         │\n",
              "│ 7FBC-4129- ┆       ┆ 00:00      ┆            ┆   ┆           ┆ MANCHESTE ┆           ┆           │\n",
              "│ 9F6B-4956B ┆       ┆            ┆            ┆   ┆           ┆ R         ┆           ┆           │\n",
              "│ …          ┆       ┆            ┆            ┆   ┆           ┆           ┆           ┆           │\n",
              "│ {8046EC72- ┆ 42500 ┆ 1995-08-09 ┆ S          ┆ … ┆ THURROCK  ┆ THURROCK  ┆ A         ┆ A         │\n",
              "│ 1466-42D6- ┆       ┆ 00:00      ┆            ┆   ┆           ┆           ┆           ┆           │\n",
              "│ A753-4956B ┆       ┆            ┆            ┆   ┆           ┆           ┆           ┆           │\n",
              "│ …          ┆       ┆            ┆            ┆   ┆           ┆           ┆           ┆           │\n",
              "│ {278D581A- ┆ 45000 ┆ 1995-06-30 ┆ T          ┆ … ┆ SEDGEMOOR ┆ SOMERSET  ┆ A         ┆ A         │\n",
              "│ 5BF3-4FCE- ┆       ┆ 00:00      ┆            ┆   ┆           ┆           ┆           ┆           │\n",
              "│ AF62-4956D ┆       ┆            ┆            ┆   ┆           ┆           ┆           ┆           │\n",
              "│ …          ┆       ┆            ┆            ┆   ┆           ┆           ┆           ┆           │\n",
              "│ {1D861C06- ┆ 43150 ┆ 1995-11-24 ┆ T          ┆ … ┆ NORTH BED ┆ BEDFORDSH ┆ A         ┆ A         │\n",
              "│ A416-4865- ┆       ┆ 00:00      ┆            ┆   ┆ FORDSHIRE ┆ IRE       ┆           ┆           │\n",
              "│ 973C-4956D ┆       ┆            ┆            ┆   ┆           ┆           ┆           ┆           │\n",
              "│ …          ┆       ┆            ┆            ┆   ┆           ┆           ┆           ┆           │\n",
              "│ {DD8645FD- ┆ 18899 ┆ 1995-06-23 ┆ S          ┆ … ┆ LEEDS     ┆ WEST      ┆ A         ┆ A         │\n",
              "│ A815-43A6- ┆       ┆ 00:00      ┆            ┆   ┆           ┆ YORKSHIRE ┆           ┆           │\n",
              "│ A7BA-4956E ┆       ┆            ┆            ┆   ┆           ┆           ┆           ┆           │\n",
              "│ …          ┆       ┆            ┆            ┆   ┆           ┆           ┆           ┆           │\n",
              "└────────────┴───────┴────────────┴────────────┴───┴───────────┴───────────┴───────────┴───────────┘"
            ],
            "text/html": [
              "<div><style>\n",
              ".dataframe > thead > tr,\n",
              ".dataframe > tbody > tr {\n",
              "  text-align: right;\n",
              "  white-space: pre-wrap;\n",
              "}\n",
              "</style>\n",
              "<small>shape: (5, 11)</small><table border=\"1\" class=\"dataframe\"><thead><tr><th>Transaction unique identifier</th><th>Price</th><th>Date of Transfer</th><th>Property Type</th><th>Old/New</th><th>Duration</th><th>Town/City</th><th>District</th><th>County</th><th>PPDCategory Type</th><th>Record Status - monthly file only</th></tr><tr><td>str</td><td>i64</td><td>str</td><td>str</td><td>str</td><td>str</td><td>str</td><td>str</td><td>str</td><td>str</td><td>str</td></tr></thead><tbody><tr><td>&quot;{81B82214-7FBC-4129-9F6B-4956B…</td><td>25000</td><td>&quot;1995-08-18 00:00&quot;</td><td>&quot;T&quot;</td><td>&quot;N&quot;</td><td>&quot;F&quot;</td><td>&quot;OLDHAM&quot;</td><td>&quot;OLDHAM&quot;</td><td>&quot;GREATER MANCHESTER&quot;</td><td>&quot;A&quot;</td><td>&quot;A&quot;</td></tr><tr><td>&quot;{8046EC72-1466-42D6-A753-4956B…</td><td>42500</td><td>&quot;1995-08-09 00:00&quot;</td><td>&quot;S&quot;</td><td>&quot;N&quot;</td><td>&quot;F&quot;</td><td>&quot;GRAYS&quot;</td><td>&quot;THURROCK&quot;</td><td>&quot;THURROCK&quot;</td><td>&quot;A&quot;</td><td>&quot;A&quot;</td></tr><tr><td>&quot;{278D581A-5BF3-4FCE-AF62-4956D…</td><td>45000</td><td>&quot;1995-06-30 00:00&quot;</td><td>&quot;T&quot;</td><td>&quot;N&quot;</td><td>&quot;F&quot;</td><td>&quot;HIGHBRIDGE&quot;</td><td>&quot;SEDGEMOOR&quot;</td><td>&quot;SOMERSET&quot;</td><td>&quot;A&quot;</td><td>&quot;A&quot;</td></tr><tr><td>&quot;{1D861C06-A416-4865-973C-4956D…</td><td>43150</td><td>&quot;1995-11-24 00:00&quot;</td><td>&quot;T&quot;</td><td>&quot;N&quot;</td><td>&quot;F&quot;</td><td>&quot;BEDFORD&quot;</td><td>&quot;NORTH BEDFORDSHIRE&quot;</td><td>&quot;BEDFORDSHIRE&quot;</td><td>&quot;A&quot;</td><td>&quot;A&quot;</td></tr><tr><td>&quot;{DD8645FD-A815-43A6-A7BA-4956E…</td><td>18899</td><td>&quot;1995-06-23 00:00&quot;</td><td>&quot;S&quot;</td><td>&quot;N&quot;</td><td>&quot;F&quot;</td><td>&quot;WAKEFIELD&quot;</td><td>&quot;LEEDS&quot;</td><td>&quot;WEST YORKSHIRE&quot;</td><td>&quot;A&quot;</td><td>&quot;A&quot;</td></tr></tbody></table></div>"
            ]
          },
          "metadata": {},
          "execution_count": 2
        }
      ]
    },
    {
      "cell_type": "markdown",
      "source": [
        "**Strategy 2: Simulate Chunking using Polars**"
      ],
      "metadata": {
        "id": "2LF7jRLDj7Ll"
      }
    },
    {
      "cell_type": "code",
      "source": [
        "start_time = time.time()\n",
        "\n",
        "# Simulating chunking by reading limited rows\n",
        "chunk = pl.read_csv(file_path, n_rows=1000000)\n",
        "\n",
        "end_time = time.time()\n",
        "\n",
        "print(\"Polars - Simulated Chunking (First 1M rows)\")\n",
        "print(\"Time:\", round(end_time - start_time, 2), \"seconds\")\n",
        "print(\"Memory:\", round(chunk.estimated_size('mb'), 4), \"MB\")\n"
      ],
      "metadata": {
        "colab": {
          "base_uri": "https://localhost:8080/"
        },
        "id": "yosn7QRrZAwu",
        "outputId": "a16e599a-fd16-470b-ee27-d756b36c14db"
      },
      "execution_count": 3,
      "outputs": [
        {
          "output_type": "stream",
          "name": "stdout",
          "text": [
            "Polars - Simulated Chunking (First 1M rows)\n",
            "Time: 12.47 seconds\n",
            "Memory: 92.808 MB\n"
          ]
        }
      ]
    },
    {
      "cell_type": "markdown",
      "source": [
        "**Strategy 3: Data Type Optimization using Polars**"
      ],
      "metadata": {
        "id": "0Thc8IgZkJDi"
      }
    },
    {
      "cell_type": "code",
      "source": [
        "start_time = time.time()\n",
        "\n",
        "df_opt_polars = pl.read_csv(file_path).with_columns([\n",
        "    pl.col(\"Price\").cast(pl.Int32),\n",
        "    pl.col(\"Property Type\").cast(pl.Categorical),\n",
        "    pl.col(\"Duration\").cast(pl.Categorical),\n",
        "    pl.col(\"Record Status - monthly file only\").cast(pl.Categorical)\n",
        "])\n",
        "\n",
        "end_time = time.time()\n",
        "\n",
        "print(\"Polars - Data Type Optimization\")\n",
        "print(\"Time:\", round(end_time - start_time, 2), \"seconds\")\n",
        "print(\"Memory:\", round(df_opt_polars.estimated_size('mb'), 4), \"MB\")\n"
      ],
      "metadata": {
        "colab": {
          "base_uri": "https://localhost:8080/"
        },
        "id": "DTXF6h-MZNca",
        "outputId": "7375a358-444c-48a4-9deb-44081c0c388e"
      },
      "execution_count": 4,
      "outputs": [
        {
          "output_type": "stream",
          "name": "stdout",
          "text": [
            "Polars - Data Type Optimization\n",
            "Time: 15.1 seconds\n",
            "Memory: 2216.2474 MB\n"
          ]
        }
      ]
    },
    {
      "cell_type": "markdown",
      "source": [
        "**Strategy 4: Eager Stratified Sampling using Polars**"
      ],
      "metadata": {
        "id": "4MWsJ-jfkSEt"
      }
    },
    {
      "cell_type": "code",
      "source": [
        "start_time = time.time()\n",
        "\n",
        "# Load only necessary columns\n",
        "df = pl.read_csv(\n",
        "    file_path,\n",
        "    columns=[\"Property Type\", \"Price\", \"Old/New\", \"Duration\"]\n",
        ")\n",
        "\n",
        "# Optional: cast columns to reduce memory\n",
        "df = df.with_columns([\n",
        "    pl.col(\"Property Type\").cast(pl.Categorical),\n",
        "    pl.col(\"Old/New\").cast(pl.Categorical),\n",
        "    pl.col(\"Duration\").cast(pl.Categorical),\n",
        "])\n",
        "\n",
        "# Define property types\n",
        "property_types = [\"D\", \"S\", \"T\", \"F\", \"O\"]\n",
        "fraction = 0.1\n",
        "samples = []\n",
        "\n",
        "# Stratified sampling per property type\n",
        "for p_type in property_types:\n",
        "    sample = df.filter(pl.col(\"Property Type\") == p_type).sample(fraction=fraction, seed=42)\n",
        "    samples.append(sample)\n",
        "\n",
        "# Concatenate all samples\n",
        "stratified_sample = pl.concat(samples)\n",
        "\n",
        "end_time = time.time()\n",
        "\n",
        "print(\"Polars - Eager Stratified Sampling by Property Type\")\n",
        "print(\"Time:\", round(end_time - start_time, 2), \"seconds\")\n",
        "print(\"Sample Size:\", stratified_sample.height)\n",
        "print(\"Distribution:\\n\", stratified_sample[\"Property Type\"].value_counts())\n",
        "print(\"Memory:\", round(stratified_sample.estimated_size('mb'), 4), \"MB\")"
      ],
      "metadata": {
        "colab": {
          "base_uri": "https://localhost:8080/"
        },
        "id": "EG7KRy3ydynr",
        "outputId": "abdff805-4da1-40a0-c9b4-0fca55cf3b1a"
      },
      "execution_count": 5,
      "outputs": [
        {
          "output_type": "stream",
          "name": "stdout",
          "text": [
            "Polars - Eager Stratified Sampling by Property Type\n",
            "Time: 19.77 seconds\n",
            "Sample Size: 2248932\n",
            "Distribution:\n",
            " shape: (5, 2)\n",
            "┌───────────────┬────────┐\n",
            "│ Property Type ┆ count  │\n",
            "│ ---           ┆ ---    │\n",
            "│ cat           ┆ u32    │\n",
            "╞═══════════════╪════════╡\n",
            "│ T             ┆ 691881 │\n",
            "│ S             ┆ 621621 │\n",
            "│ F             ┆ 408342 │\n",
            "│ O             ┆ 10056  │\n",
            "│ D             ┆ 517032 │\n",
            "└───────────────┴────────┘\n",
            "Memory: 42.895 MB\n"
          ]
        }
      ]
    },
    {
      "cell_type": "markdown",
      "source": [
        "**Strategy 5: Parallel Processing with Lazy API**"
      ],
      "metadata": {
        "id": "H7m-tGejk9HT"
      }
    },
    {
      "cell_type": "code",
      "source": [
        "start_time = time.time()\n",
        "\n",
        "lazy_df = pl.read_csv(\n",
        "    file_path,\n",
        "    columns=[\"Property Type\", \"Price\", \"Old/New\"],\n",
        "    has_header=True\n",
        ").lazy()\n",
        "\n",
        "# Lazy transformation pipeline\n",
        "result = (\n",
        "    lazy_df\n",
        "    .with_columns([\n",
        "        pl.col(\"Property Type\").cast(pl.Categorical),\n",
        "        pl.col(\"Old/New\").cast(pl.Categorical)\n",
        "    ])\n",
        "    .group_by(\"Property Type\")\n",
        "    .agg([\n",
        "        pl.len().alias(\"Count\"),\n",
        "        pl.col(\"Price\").mean().alias(\"Average Price\")\n",
        "    ])\n",
        ")\n",
        "\n",
        "# Trigger execution\n",
        "final_df = result.collect()\n",
        "\n",
        "end_time = time.time()\n",
        "\n",
        "print(\"LazyFrame - Parallel Processing\")\n",
        "print(\"Time:\", round(end_time - start_time, 2), \"seconds\")\n",
        "print(\"Memory:\", round(final_df.estimated_size('mb'), 4), \"MB\")\n",
        "print(final_df)"
      ],
      "metadata": {
        "colab": {
          "base_uri": "https://localhost:8080/"
        },
        "id": "JXDNEWQLk-3n",
        "outputId": "e35770ea-e1e3-40bb-c84a-b363b90fc0d7"
      },
      "execution_count": 6,
      "outputs": [
        {
          "output_type": "stream",
          "name": "stdout",
          "text": [
            "LazyFrame - Parallel Processing\n",
            "Time: 18.12 seconds\n",
            "Memory: 0.0001 MB\n",
            "shape: (5, 3)\n",
            "┌───────────────┬─────────┬───────────────┐\n",
            "│ Property Type ┆ Count   ┆ Average Price │\n",
            "│ ---           ┆ ---     ┆ ---           │\n",
            "│ cat           ┆ u32     ┆ f64           │\n",
            "╞═══════════════╪═════════╪═══════════════╡\n",
            "│ O             ┆ 100568  ┆ 1.2958e6      │\n",
            "│ F             ┆ 4083424 ┆ 174982.896577 │\n",
            "│ D             ┆ 5170327 ┆ 250097.467175 │\n",
            "│ S             ┆ 6216218 ┆ 148967.523731 │\n",
            "│ T             ┆ 6918811 ┆ 136534.021599 │\n",
            "└───────────────┴─────────┴───────────────┘\n"
          ]
        }
      ]
    },
    {
      "cell_type": "code",
      "source": [
        "import matplotlib.pyplot as plt\n",
        "\n",
        "strategies = [\"Load Less\", \"Chunking\", \"Optimize DTypes\", \"Sampling\", \"Lazy Load\"]\n",
        "times = [10.85, 12.47, 15.1, 19.77, 18.12]\n",
        "memory = [2109.0099, 92.808, 2216.2474, 42.895, 0.0001]\n",
        "\n",
        "plt.figure(figsize=(10, 4))\n",
        "plt.subplot(1, 2, 1)\n",
        "plt.barh(strategies, times, color=\"steelblue\")\n",
        "plt.title(\"Execution Time (sec)\")\n",
        "\n",
        "plt.subplot(1, 2, 2)\n",
        "plt.barh(strategies, memory, color=\"orange\")\n",
        "plt.title(\"Memory Usage (MB)\")\n",
        "plt.tight_layout()\n",
        "plt.show()\n"
      ],
      "metadata": {
        "colab": {
          "base_uri": "https://localhost:8080/",
          "height": 271
        },
        "id": "lJ-d_IhZo79e",
        "outputId": "ac4da05e-0e1f-4b74-b1b5-e7f477fc952f"
      },
      "execution_count": 7,
      "outputs": [
        {
          "output_type": "display_data",
          "data": {
            "text/plain": [
              "<Figure size 1000x400 with 2 Axes>"
            ],
            "image/png": "[encoded data removed]"
          },
          "metadata": {}
        }
      ]
    }
  ]
}