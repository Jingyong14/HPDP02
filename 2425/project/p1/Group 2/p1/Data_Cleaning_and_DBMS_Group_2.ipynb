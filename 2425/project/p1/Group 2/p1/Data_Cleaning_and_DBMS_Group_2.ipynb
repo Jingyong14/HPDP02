{
  "nbformat": 4,
  "nbformat_minor": 0,
  "metadata": {
    "colab": {
      "provenance": []
    },
    "kernelspec": {
      "name": "python3",
      "display_name": "Python 3"
    },
    "language_info": {
      "name": "python"
    }
  },
  "cells": [
    {
      "cell_type": "markdown",
      "source": [
        "Install sqlite and import original datatset"
      ],
      "metadata": {
        "id": "8gPr3Nf82geS"
      }
    },
    {
      "cell_type": "code",
      "execution_count": null,
      "metadata": {
        "colab": {
          "base_uri": "https://localhost:8080/"
        },
        "id": "alfYmPrguUeX",
        "outputId": "09452357-b3fc-4f18-92d1-24ad5ce218f9"
      },
      "outputs": [
        {
          "output_type": "execute_result",
          "data": {
            "text/plain": [
              "163537"
            ]
          },
          "metadata": {},
          "execution_count": 16
        }
      ],
      "source": [
        "import sqlite3\n",
        "import pandas as pd\n",
        "import polars as pl\n",
        "\n",
        "raw_df = pl.read_csv(\"new_iproperty_dataset.csv\")\n",
        "\n",
        "raw_pd_df = raw_df.to_pandas()\n",
        "\n",
        "conn = sqlite3.connect(\"iproperty.db\")\n",
        "\n",
        "raw_pd_df.to_sql(\"raw_data\", conn, if_exists=\"replace\", index=False)\n"
      ]
    },
    {
      "cell_type": "markdown",
      "source": [
        "Data cleaning Process"
      ],
      "metadata": {
        "id": "kcux4n3z2c3J"
      }
    },
    {
      "cell_type": "code",
      "source": [
        "import pandas as pd\n",
        "import polars as pl\n",
        "import numpy as np\n",
        "import re\n",
        "\n",
        "# ---------------------- Clean Data ----------------------\n",
        "\n",
        "df = pd.read_csv('new_iproperty_dataset.csv')\n",
        "\n",
        "# Rename Area to Area Code\n",
        "df.rename(columns={'Area': 'Area Code'}, inplace=True)\n",
        "\n",
        "# Clean Property Title\n",
        "df['Property Title'] = df['Property Title'].str.split(',').str[0]\n",
        "df['Property Title'] = df['Property Title'].str.title()\n",
        "\n",
        "# Clean Property Price\n",
        "df['Property Price'] = df['Property Price'].str.replace('RM', '', regex=False)\n",
        "df['Property Price'] = df['Property Price'].str.replace(',', '', regex=False)\n",
        "df['Property Price'] = pd.to_numeric(df['Property Price'], errors='coerce')\n",
        "df.rename(columns={'Property Price': 'Property Price (RM)'}, inplace=True)\n",
        "\n",
        "# Clean Property Location\n",
        "split_cols = df['Property Location'].str.split(', ', expand=True)\n",
        "split_cols.columns = ['Property Location (City)', 'Property Location (State)']\n",
        "df.drop(columns=['Property Location'], inplace=True)\n",
        "df.insert(2, 'Property Location (City)', split_cols['Property Location (City)'])\n",
        "df.insert(3, 'Property Location (State)', split_cols['Property Location (State)'])\n",
        "\n",
        "def parse_property_details(detail):\n",
        "    if pd.isnull(detail):\n",
        "        return pd.Series([None, None, None])\n",
        "\n",
        "    # clean messy code（eg: Â â€¢Â ）\n",
        "    clean_detail = re.sub(r'[^\\x00-\\x7F]+', ' ', str(detail))\n",
        "\n",
        "    # extract Type（all character before Built-up）\n",
        "    type_match = re.search(r\"^(.*?)Built-up\", clean_detail, re.IGNORECASE)\n",
        "    if type_match:\n",
        "        raw_type = type_match.group(1).strip()\n",
        "        property_type = re.split(r'\\s*\\|\\s*', raw_type)[0]\n",
        "    else:\n",
        "        property_type = None\n",
        "\n",
        "    # extract Area\n",
        "    area_match = re.search(r'Built[-\\s]*up[^0-9]*([\\d,]+)\\s*sq\\.?\\s*ft', clean_detail, re.IGNORECASE)\n",
        "    area = area_match.group(1).replace(',', '') if area_match else None\n",
        "\n",
        "    # extract Furnishing status\n",
        "    furnishing = \"Unknown\"\n",
        "    if re.search(r'\\bUnfurnished\\b', clean_detail, re.IGNORECASE):\n",
        "        furnishing = 'Unfurnished'\n",
        "    elif re.search(r'\\bPartially Furnished\\b', clean_detail, re.IGNORECASE):\n",
        "        furnishing = 'Partially Furnished'\n",
        "    elif re.search(r'\\bFully Furnished\\b', clean_detail, re.IGNORECASE):\n",
        "        furnishing = 'Fully Furnished'\n",
        "    elif re.search(r'\\bFurnished\\b', clean_detail, re.IGNORECASE):\n",
        "        furnishing = 'Furnished'\n",
        "\n",
        "    return pd.Series([\n",
        "        property_type.strip() if property_type else None,\n",
        "        float(area) if area else None,\n",
        "        furnishing\n",
        "    ])\n",
        "\n",
        "df[['Property Type', 'Property Size (sqft)', 'Property Furnishing Status']] = df['Property Details'].apply(parse_property_details)\n",
        "\n",
        "# Delete Property Details\n",
        "df = df.drop(columns=['Property Details'])\n",
        "\n",
        "# Clean Property Agent\n",
        "df['Property Agent'] = df['Property Agent'].str.title()\n",
        "df['Property Agent'] = df['Property Agent'].apply(\n",
        "    lambda x: None if re.search(r'\\bsdn\\.?\\s*bhd\\.?\\b', str(x), re.IGNORECASE) else x\n",
        ")\n",
        "\n",
        "# Drop NaNs in price and Null in property type\n",
        "df.dropna(subset=['Property Price (RM)'], inplace=True)\n",
        "df.dropna(subset=['Property Type'], inplace=True)\n",
        "\n",
        "# Drop illogical property size (lower than 70 sqft)\n",
        "df = df[df['Property Size (sqft)'] >= 70]\n",
        "\n",
        "# Drop duplicates\n",
        "df.drop_duplicates(inplace=True)\n",
        "\n",
        "# Print sample result\n",
        "print(df.head())"
      ],
      "metadata": {
        "colab": {
          "base_uri": "https://localhost:8080/"
        },
        "id": "vESAbHxw2HBr",
        "outputId": "b4cd0547-9610-401d-b717-a9dc95af0792"
      },
      "execution_count": null,
      "outputs": [
        {
          "output_type": "stream",
          "name": "stdout",
          "text": [
            "      Area Code                                 Property Title  \\\n",
            "0  perlis-zop7y  Semi D 2 Tingkat - Taman Jaya Diri - Seriab -   \n",
            "1  perlis-zop7y    Semi D 1 Tingkat - Taman Nyu Indah 2 - Arau   \n",
            "2  perlis-zop7y                           Taman Seri Manis Dua   \n",
            "3  perlis-zop7y   Teres 1 Tingkat - Bandar Baharu Putra Height   \n",
            "4  perlis-zop7y   Teres 1 Tingkat - Bandar Baharu Putra Height   \n",
            "\n",
            "  Property Location (City) Property Location (State)  Property Price (RM)  \\\n",
            "0                   Kangar                    Perlis             775776.0   \n",
            "1                     Arau                    Perlis             398000.0   \n",
            "2                   Kangar                    Perlis             306000.0   \n",
            "3                     Arau                    Perlis             185000.0   \n",
            "4                     Arau                    Perlis             210000.0   \n",
            "\n",
            "  Property Agent                                         Source URL  \\\n",
            "0         Haneef  https://www.iproperty.com.my/sale/perlis-zop7y...   \n",
            "1         Haneef  https://www.iproperty.com.my/sale/perlis-zop7y...   \n",
            "2     Joyce Chan  https://www.iproperty.com.my/sale/perlis-zop7y...   \n",
            "3         Haneef  https://www.iproperty.com.my/sale/perlis-zop7y...   \n",
            "4         Haneef  https://www.iproperty.com.my/sale/perlis-zop7y...   \n",
            "\n",
            "              Property Type  Property Size (sqft) Property Furnishing Status  \n",
            "0       Semi-detached House                1943.0                Unfurnished  \n",
            "1       Semi-detached House                1021.0                Unfurnished  \n",
            "2       Semi-detached House                1938.0                    Unknown  \n",
            "3  1-sty Terrace/Link House                 880.0                Unfurnished  \n",
            "4  1-sty Terrace/Link House                 880.0                Unfurnished  \n"
          ]
        }
      ]
    },
    {
      "cell_type": "markdown",
      "source": [
        "Import cleaned dataset to sqlite db"
      ],
      "metadata": {
        "id": "VhSV1b-a2m79"
      }
    },
    {
      "cell_type": "code",
      "source": [
        "cleaned_pd_df = df.copy()\n",
        "\n",
        "cleaned_pd_df.to_sql(\"cleaned_data\", conn, if_exists=\"replace\", index=False)\n"
      ],
      "metadata": {
        "colab": {
          "base_uri": "https://localhost:8080/"
        },
        "id": "zRXfC0mk2Nlj",
        "outputId": "12efeace-7ca5-42d0-cb46-2d5f7208af74"
      },
      "execution_count": null,
      "outputs": [
        {
          "output_type": "execute_result",
          "data": {
            "text/plain": [
              "144214"
            ]
          },
          "metadata": {},
          "execution_count": 22
        }
      ]
    },
    {
      "cell_type": "markdown",
      "source": [
        "Upload Database to google drive"
      ],
      "metadata": {
        "id": "JoQ_wP4S7QP4"
      }
    },
    {
      "cell_type": "code",
      "source": [
        "from google.colab import files\n",
        "files.download(\"iproperty.db\")"
      ],
      "metadata": {
        "colab": {
          "base_uri": "https://localhost:8080/",
          "height": 17
        },
        "id": "JwYWxyov7OzK",
        "outputId": "e7b984af-2ee5-43f3-83d7-bf2b0265f674"
      },
      "execution_count": null,
      "outputs": [
        {
          "output_type": "display_data",
          "data": {
            "text/plain": [
              "<IPython.core.display.Javascript object>"
            ],
            "application/javascript": [
              "\n",
              "    async function download(id, filename, size) {\n",
              "      if (!google.colab.kernel.accessAllowed) {\n",
              "        return;\n",
              "      }\n",
              "      const div = document.createElement('div');\n",
              "      const label = document.createElement('label');\n",
              "      label.textContent = `Downloading \"${filename}\": `;\n",
              "      div.appendChild(label);\n",
              "      const progress = document.createElement('progress');\n",
              "      progress.max = size;\n",
              "      div.appendChild(progress);\n",
              "      document.body.appendChild(div);\n",
              "\n",
              "      const buffers = [];\n",
              "      let downloaded = 0;\n",
              "\n",
              "      const channel = await google.colab.kernel.comms.open(id);\n",
              "      // Send a message to notify the kernel that we're ready.\n",
              "      channel.send({})\n",
              "\n",
              "      for await (const message of channel.messages) {\n",
              "        // Send a message to notify the kernel that we're ready.\n",
              "        channel.send({})\n",
              "        if (message.buffers) {\n",
              "          for (const buffer of message.buffers) {\n",
              "            buffers.push(buffer);\n",
              "            downloaded += buffer.byteLength;\n",
              "            progress.value = downloaded;\n",
              "          }\n",
              "        }\n",
              "      }\n",
              "      const blob = new Blob(buffers, {type: 'application/binary'});\n",
              "      const a = document.createElement('a');\n",
              "      a.href = window.URL.createObjectURL(blob);\n",
              "      a.download = filename;\n",
              "      div.appendChild(a);\n",
              "      a.click();\n",
              "      div.remove();\n",
              "    }\n",
              "  "
            ]
          },
          "metadata": {}
        },
        {
          "output_type": "display_data",
          "data": {
            "text/plain": [
              "<IPython.core.display.Javascript object>"
            ],
            "application/javascript": [
              "download(\"download_acc5e201-b953-453b-b72a-d351f8d65474\", \"iproperty.db\", 69435392)"
            ]
          },
          "metadata": {}
        }
      ]
    },
    {
      "cell_type": "markdown",
      "source": [
        "Apply SQL query"
      ],
      "metadata": {
        "id": "zwfu9_w746De"
      }
    },
    {
      "cell_type": "code",
      "source": [
        "#SELECT can be used wihtout cursor (optional)\n",
        "\n",
        "sample = pd.read_sql_query(\"SELECT * FROM cleaned_data LIMIT 5;\", conn)\n",
        "print(sample)\n"
      ],
      "metadata": {
        "colab": {
          "base_uri": "https://localhost:8080/"
        },
        "id": "1wEz6n-42yv3",
        "outputId": "3887bd75-458e-4e5a-e172-c86e1431c617"
      },
      "execution_count": null,
      "outputs": [
        {
          "output_type": "stream",
          "name": "stdout",
          "text": [
            "           Area                                 Property Title  \\\n",
            "0  perlis-zop7y  Semi D 2 Tingkat - Taman Jaya Diri - Seriab -   \n",
            "1  perlis-zop7y    Semi D 1 Tingkat - Taman Nyu Indah 2 - Arau   \n",
            "2  perlis-zop7y                           Taman Seri Manis Dua   \n",
            "3  perlis-zop7y   Teres 1 Tingkat - Bandar Baharu Putra Height   \n",
            "4  perlis-zop7y   Teres 1 Tingkat - Bandar Baharu Putra Height   \n",
            "\n",
            "  Property Location (City) Property Location (State)  Property Price (RM)  \\\n",
            "0                   Kangar                    Perlis             775776.0   \n",
            "1                     Arau                    Perlis             398000.0   \n",
            "2                   Kangar                    Perlis             306000.0   \n",
            "3                     Arau                    Perlis             185000.0   \n",
            "4                     Arau                    Perlis             210000.0   \n",
            "\n",
            "  Property Agent                                         Source URL  \\\n",
            "0         Haneef  https://www.iproperty.com.my/sale/perlis-zop7y...   \n",
            "1         Haneef  https://www.iproperty.com.my/sale/perlis-zop7y...   \n",
            "2     Joyce Chan  https://www.iproperty.com.my/sale/perlis-zop7y...   \n",
            "3         Haneef  https://www.iproperty.com.my/sale/perlis-zop7y...   \n",
            "4         Haneef  https://www.iproperty.com.my/sale/perlis-zop7y...   \n",
            "\n",
            "                             Property Type  Property Size (sqft)  \\\n",
            "0       Semi-detached House | Intermediate                1943.0   \n",
            "1                      Semi-detached House                1021.0   \n",
            "2                      Semi-detached House                1938.0   \n",
            "3  1-sty Terrace/Link House | Intermediate                 880.0   \n",
            "4  1-sty Terrace/Link House | Intermediate                 880.0   \n",
            "\n",
            "  Property Furnishing Status  \n",
            "0                Unfurnished  \n",
            "1                Unfurnished  \n",
            "2                       None  \n",
            "3                Unfurnished  \n",
            "4                Unfurnished  \n"
          ]
        }
      ]
    },
    {
      "cell_type": "code",
      "source": [
        "#Create a cursor for executing sql query\n",
        "\n",
        "cursor = conn.cursor()\n",
        "cursor.execute(\"SELECT COUNT(*) FROM cleaned_data\")\n",
        "print(\"Rows in raw_listings:\", cursor.fetchone()[0])\n",
        "\n",
        "cursor.execute(\"SELECT COUNT(*) FROM raw_data\")\n",
        "print(\"Rows in raw_listings:\", cursor.fetchone()[0])\n",
        "\n",
        "cursor.execute(\"SELECT name FROM sqlite_master WHERE type='table'\")\n",
        "print(\"Tables:\", cursor.fetchall())"
      ],
      "metadata": {
        "colab": {
          "base_uri": "https://localhost:8080/"
        },
        "id": "MclkcGe44KLp",
        "outputId": "88e67a3a-d312-4a29-e14f-3a04d06932f3"
      },
      "execution_count": null,
      "outputs": [
        {
          "output_type": "stream",
          "name": "stdout",
          "text": [
            "Rows in raw_listings: 150195\n",
            "Rows in raw_listings: 163537\n",
            "Tables: [('raw_data',), ('cleaned_data',)]\n"
          ]
        }
      ]
    },
    {
      "cell_type": "markdown",
      "source": [
        "Delete empty value from property type"
      ],
      "metadata": {
        "id": "9aOaRKQ9xfcQ"
      }
    },
    {
      "cell_type": "code",
      "source": [
        "query = '''\n",
        "DELETE FROM cleaned_data\n",
        "WHERE \"Property Type\" IS NULL;\n",
        "'''\n",
        "\n",
        "cursor.execute(query)\n",
        "results = cursor.fetchall()\n",
        "\n",
        "for row in results:\n",
        "    print(row)"
      ],
      "metadata": {
        "id": "gHx_NZ0bxcXS"
      },
      "execution_count": null,
      "outputs": []
    },
    {
      "cell_type": "markdown",
      "source": [
        "Average property price in each state\n"
      ],
      "metadata": {
        "id": "wPVPR_xIx0np"
      }
    },
    {
      "cell_type": "code",
      "source": [
        "query = '''\n",
        "SELECT \"Property Location (State)\" AS State,\n",
        "ROUND(AVG(\"Property Price (RM)\"), 2) AS AveragePrice\n",
        "FROM cleaned_data\n",
        "GROUP BY \"Property Location (State)\"\n",
        "ORDER BY AveragePrice DESC;\n",
        "'''\n",
        "\n",
        "\"\"\"\n",
        "Using pandas directly\n",
        "\n",
        "result = pd.read_sql_query(query, conn)\n",
        "print(result)\n",
        "\"\"\"\n",
        "\n",
        "cursor.execute(query)\n",
        "results = cursor.fetchall()\n",
        "\n",
        "for row in results:\n",
        "    print(row)\n",
        "\n",
        "conn.close()"
      ],
      "metadata": {
        "colab": {
          "base_uri": "https://localhost:8080/"
        },
        "id": "Yfiyq4l750rZ",
        "outputId": "48ac117c-b630-4a2f-c315-fef1750e7097"
      },
      "execution_count": null,
      "outputs": [
        {
          "output_type": "stream",
          "name": "stdout",
          "text": [
            "('Perak', 7335656.79)\n",
            "('Putrajaya', 3026249.66)\n",
            "('Kuala Lumpur', 2154244.93)\n",
            "('Penang', 2086969.23)\n",
            "('Selangor', 1543564.15)\n",
            "('Sabah', 1141184.59)\n",
            "('Johor', 997651.26)\n",
            "('Sarawak', 982912.26)\n",
            "('Pahang', 798681.59)\n",
            "('Negeri Sembilan', 710603.88)\n",
            "('Terengganu', 666883.17)\n",
            "('Kedah', 639914.98)\n",
            "('Melaka', 622933.8)\n",
            "('Kelantan', 571128.42)\n",
            "('Perlis', 375899.84)\n"
          ]
        }
      ]
    },
    {
      "cell_type": "markdown",
      "source": [
        "Top 10 city with most property"
      ],
      "metadata": {
        "id": "iXtSYNu6AT8o"
      }
    },
    {
      "cell_type": "code",
      "source": [
        "#Reopen the database if closed it before\n",
        "\n",
        "conn = sqlite3.connect(\"iproperty.db\")\n",
        "cursor = conn.cursor()\n",
        "\n",
        "query = '''\n",
        "SELECT \"Property Location (City)\", COUNT(*) AS PropertyCount\n",
        "FROM cleaned_data\n",
        "GROUP BY \"Property Location (City)\"\n",
        "ORDER BY PropertyCount DESC\n",
        "LIMIT 10;\n",
        "'''\n",
        "\n",
        "cursor.execute(query)\n",
        "results = cursor.fetchall()\n",
        "\n",
        "for row in results:\n",
        "    print(row)\n",
        "\n",
        "conn.close()"
      ],
      "metadata": {
        "colab": {
          "base_uri": "https://localhost:8080/"
        },
        "id": "2YH9Ursc9xnI",
        "outputId": "1d2e0272-2255-4002-de01-cfcdb965bd46"
      },
      "execution_count": null,
      "outputs": [
        {
          "output_type": "stream",
          "name": "stdout",
          "text": [
            "('Cheras', 3855)\n",
            "('Ampang', 3747)\n",
            "('Kepong', 2271)\n",
            "('Ulu Kelang', 2151)\n",
            "('Johor Bahru', 1957)\n",
            "('Skudai', 1954)\n",
            "('Iskandar Puteri (Nusajaya)', 1950)\n",
            "('Tebrau', 1942)\n",
            "('Ipoh', 1936)\n",
            "('Shah Alam', 1935)\n"
          ]
        }
      ]
    },
    {
      "cell_type": "code",
      "source": [],
      "metadata": {
        "id": "u8crMu7DA5fs"
      },
      "execution_count": null,
      "outputs": []
    }
  ]
}