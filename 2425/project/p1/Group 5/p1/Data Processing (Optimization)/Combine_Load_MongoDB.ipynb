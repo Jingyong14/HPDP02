{
 "cells": [
  {
   "cell_type": "code",
   "execution_count": null,
   "id": "ba5cab40",
   "metadata": {},
   "outputs": [
    {
     "name": "stdout",
     "output_type": "stream",
     "text": [
      "Loaded 101730 documents into MongoDB.\n"
     ]
    }
   ],
   "source": [
    "import pandas as pd\n",
    "from pymongo import MongoClient\n",
    "\n",
    "# List of your pet-related CSV files in the specified order\n",
    "files = [\n",
    "    \"data/pets_shu.csv\",\n",
    "    \"data/pets_safwan.csv\",\n",
    "    \"data/pets_neo1.csv\",\n",
    "    \"data/pets_neo2.csv\",\n",
    "    \"data/pets_nava.csv\"\n",
    "]\n",
    "\n",
    "# MongoDB Atlas connection string\n",
    "mongo_uri = \"mongodb+srv://<username>:<password>@cluster0.mongodb.net/petlist_db?retryWrites=true&w=majority\"\n",
    "\n",
    "# MongoDB setup using Atlas connection\n",
    "client = MongoClient(mongo_uri)\n",
    "db = client[\"petlist_db\"]  # Switch to your petlist_db\n",
    "collection = db[\"raw_pets\"]  # Your target collection\n",
    "\n",
    "# Clear previous data in the collection\n",
    "collection.delete_many({})\n",
    "\n",
    "# Combine the data from all files into a single DataFrame\n",
    "dfs = [pd.read_csv(file) for file in files]\n",
    "combined_df = pd.concat(dfs, ignore_index=True)\n",
    "\n",
    "# Save the combined CSV for reference\n",
    "combined_csv_path = \"data/pets_combined.csv\"\n",
    "combined_df.to_csv(combined_csv_path, index=False)\n",
    "\n",
    "# Convert the DataFrame to a list of dictionaries (MongoDB format)\n",
    "records = combined_df.to_dict(orient=\"records\")\n",
    "\n",
    "# Insert the data into MongoDB\n",
    "collection.insert_many(records)\n",
    "\n",
    "# Output the count of documents inserted\n",
    "print(\"Loaded\", collection.count_documents({}), \"documents into MongoDB.\")"
   ]
  }
 ],
 "metadata": {
  "kernelspec": {
   "display_name": "hpdp-p1",
   "language": "python",
   "name": "python3"
  },
  "language_info": {
   "codemirror_mode": {
    "name": "ipython",
    "version": 3
   },
   "file_extension": ".py",
   "mimetype": "text/x-python",
   "name": "python",
   "nbconvert_exporter": "python",
   "pygments_lexer": "ipython3",
   "version": "3.12.3"
  }
 },
 "nbformat": 4,
 "nbformat_minor": 5
}
